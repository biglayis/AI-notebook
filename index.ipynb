{
 "cells": [
  {
   "cell_type": "markdown",
   "id": "f9de65d9",
   "metadata": {},
   "source": [
    "# 目录"
   ]
  },
  {
   "cell_type": "markdown",
   "id": "9c355cda",
   "metadata": {},
   "source": [
    "* [MachineLearning](MachineLearning)  \n",
    "    * [02.线性回归](MachineLearning/02.线性回归.ipynb)  \n",
    "    * [03.逻辑回归](MachineLearning/03.逻辑回归.ipynb)  \n",
    "    * [04.决策树](MachineLearning/04.决策树.ipynb) \n",
    "    * [05.朴素贝叶斯](MachineLearning/05.朴素贝叶斯.ipynb) \n",
    "    * [06.支持向量机SVM](MachineLearning/06.支持向量机SVM.ipynb) \n",
    "    * [07.聚类](MachineLearning/07.聚类.ipynb) \n",
    "    * [08.主成分分析PCA](MachineLearning/08.主成分分析PCA.ipynb) \n",
    "    * [09.集成学习](MachineLearning/09.集成学习.ipynb) \n",
    "* [DeepLearning](DeepLearning)"
   ]
  }
 ],
 "metadata": {
  "kernelspec": {
   "display_name": "Python 3 (ipykernel)",
   "language": "python",
   "name": "python3"
  },
  "language_info": {
   "codemirror_mode": {
    "name": "ipython",
    "version": 3
   },
   "file_extension": ".py",
   "mimetype": "text/x-python",
   "name": "python",
   "nbconvert_exporter": "python",
   "pygments_lexer": "ipython3",
   "version": "3.9.7"
  },
  "toc": {
   "base_numbering": 1,
   "nav_menu": {},
   "number_sections": true,
   "sideBar": true,
   "skip_h1_title": false,
   "title_cell": "Table of Contents",
   "title_sidebar": "Contents",
   "toc_cell": false,
   "toc_position": {},
   "toc_section_display": true,
   "toc_window_display": false
  }
 },
 "nbformat": 4,
 "nbformat_minor": 5
}
