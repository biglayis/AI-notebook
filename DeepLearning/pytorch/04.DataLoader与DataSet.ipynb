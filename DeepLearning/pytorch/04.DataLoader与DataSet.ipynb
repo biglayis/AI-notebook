{
 "cells": [
  {
   "cell_type": "markdown",
   "id": "3b1bc23f",
   "metadata": {},
   "source": [
    "# 引言"
   ]
  },
  {
   "cell_type": "markdown",
   "id": "18cfe6ca",
   "metadata": {},
   "source": [
    "前面讲过 PyTorch 的五大模块：数据、模型、损失函数、优化器和迭代训练。  \n",
    "\n",
    "数据模块又可以细分为 4 个部分：\n",
    "* 数据收集：样本和标签。\n",
    "* 数据划分：训练集、验证集和测试集\n",
    "* 数据读取：对应于PyTorch 的 DataLoader。其中 DataLoader 包括 Sampler 和 DataSet。Sampler 的功能是生成索引， DataSet 是根据生成的索引读取样本以及标签。\n",
    "* 数据预处理：对应于 PyTorch 的 transforms\n",
    "\n",
    "<img src=\"img/数据.png\" >"
   ]
  },
  {
   "cell_type": "markdown",
   "id": "23d76c9a",
   "metadata": {},
   "source": [
    "# DataLoader()\n",
    "`torch.utils.data.DataLoader(dataset, batch_size=1, shuffle=False, sampler=None, batch_sampler=None, num_workers=0, collate_fn=None, pin_memory=False, drop_last=False, timeout=0, worker_init_fn=None, multiprocessing_context=None)`  \n",
    "功能：构建可迭代的数据装载器  \n",
    "* dataset：Dataset 类，决定数据从哪里读取以及如何读取\n",
    "* batchsize：批大小\n",
    "* num_works：num_works: 是否多进程读取数据\n",
    "* sheuffle：每个 epoch 是否乱序\n",
    "* drop_last：当样本数不能被 batchsize 整除时，是否舍弃最后一批数据"
   ]
  },
  {
   "cell_type": "markdown",
   "id": "1e0cedf9",
   "metadata": {},
   "source": [
    "## Epoch, Iteration, Batchsize\n",
    "* Epoch: 所有训练样本都已经输入到模型中，称为一个 Epoch\n",
    "* Iteration: 一批样本输入到模型中，称为一个 Iteration\n",
    "* Batchsize: 批大小，决定一个 iteration 有多少样本，也决定了一个 Epoch 有多少个 Iteration  \n",
    "\n",
    "假设样本总数有 80，设置 Batchsize 为 8，则共有 $80 \\div 8=10$ 个 Iteration。这里 $1 Epoch = 10 Iteration$。  \n",
    "假设样本总数有 86，设置 Batchsize 为 8。如果`drop_last=True`则共有 10 个 Iteration；如果`drop_last=False`则共有 11 个 Iteration。"
   ]
  },
  {
   "cell_type": "markdown",
   "id": "e0f5d53f",
   "metadata": {},
   "source": [
    "# Dataset\n",
    "功能：Dataset 是抽象类，所有自定义的 Dataset 都需要继承该类，并且重写\\_\\_getitem()\\_\\_方法和\\_\\_len\\_\\_()方法 。  \n",
    "* \\_\\_getitem()\\_\\_方法的作用是接收一个索引，返回索引对应的样本和标签，这是我们自己需要实现的逻辑。\n",
    "* \\_\\_len\\_\\_()方法是返回所有样本的数量。  \n",
    "\n",
    "数据读取包含 3 个方面\n",
    "* 读取哪些数据：每个 Iteration 读取一个 Batchsize 大小的数据，每个 Iteration 应该读取哪些数据。\n",
    "* 从哪里读取数据：如何找到硬盘中的数据，应该在哪里设置文件路径参数\n",
    "* 如何读取数据：不同的文件需要使用不同的读取方法和库。"
   ]
  },
  {
   "cell_type": "markdown",
   "id": "b3e65f29",
   "metadata": {},
   "source": [
    "# 人民币二分类"
   ]
  },
  {
   "cell_type": "markdown",
   "id": "548973e4",
   "metadata": {},
   "source": [
    "实现 1 元人民币和 100 元人民币的图片二分类。"
   ]
  },
  {
   "cell_type": "markdown",
   "id": "95fa154d",
   "metadata": {},
   "source": [
    "## 将数据集划分为训练集，验证集，测试集"
   ]
  },
  {
   "cell_type": "code",
   "execution_count": 5,
   "id": "629cc768",
   "metadata": {},
   "outputs": [
    {
     "name": "stdout",
     "output_type": "stream",
     "text": [
      "Class:1, train:80, valid:10, test:10\n",
      "Class:100, train:80, valid:10, test:10\n"
     ]
    }
   ],
   "source": [
    "import os\n",
    "import random\n",
    "import shutil\n",
    "\n",
    "def makedir(new_dir):\n",
    "    if not os.path.exists(new_dir):\n",
    "        os.makedirs(new_dir)\n",
    "\n",
    "if __name__ == '__main__':\n",
    "\n",
    "    random.seed(1)\n",
    "    # 设置读取和保存路径 \n",
    "    dataset_dir = os.path.join(\"data\", \"RMB_data\")\n",
    "    split_dir = os.path.join(\"data\", \"rmb_split\")\n",
    "    train_dir = os.path.join(split_dir, \"train\")\n",
    "    valid_dir = os.path.join(split_dir, \"valid\")\n",
    "    test_dir = os.path.join(split_dir, \"test\")\n",
    "    # 划分比例\n",
    "    train_pct = 0.8\n",
    "    valid_pct = 0.1\n",
    "    test_pct = 0.1\n",
    "\n",
    "    for root, dirs, files in os.walk(dataset_dir):\n",
    "        for sub_dir in dirs:\n",
    "\n",
    "            imgs = os.listdir(os.path.join(root, sub_dir))\n",
    "            imgs = list(filter(lambda x: x.endswith('.jpg'), imgs))\n",
    "            random.shuffle(imgs)\n",
    "            img_count = len(imgs)\n",
    "\n",
    "            train_point = int(img_count * train_pct)\n",
    "            valid_point = int(img_count * (train_pct + valid_pct))\n",
    "\n",
    "            for i in range(img_count):\n",
    "                if i < train_point:\n",
    "                    out_dir = os.path.join(train_dir, sub_dir)\n",
    "                elif i < valid_point:\n",
    "                    out_dir = os.path.join(valid_dir, sub_dir)\n",
    "                else:\n",
    "                    out_dir = os.path.join(test_dir, sub_dir)\n",
    "\n",
    "                makedir(out_dir)\n",
    "\n",
    "                target_path = os.path.join(out_dir, imgs[i])\n",
    "                src_path = os.path.join(dataset_dir, sub_dir, imgs[i])\n",
    "\n",
    "                shutil.copy(src_path, target_path)\n",
    "\n",
    "            print('Class:{}, train:{}, valid:{}, test:{}'.format(sub_dir, train_point, valid_point-train_point,\n",
    "                                                                 img_count-valid_point))"
   ]
  },
  {
   "cell_type": "markdown",
   "id": "d645b9e4",
   "metadata": {},
   "source": [
    "## 人民币分类模型训练"
   ]
  },
  {
   "cell_type": "markdown",
   "id": "34024d89",
   "metadata": {},
   "source": [
    "定义`RMBDataset`类继承自`Dataset`类，并重写`__getitem__`方法和`__len__`方法。  \n",
    "\n",
    "编写一个`get_img_info()`方法，读取每一个图片的路径和对应的标签，组成一个元组，再把所有的元组作为 list 存放到`self.data_info`变量中，这里需要注意的是标签需要映射到 0 开始的整数: `rmb_label = {\"1\": 0, \"100\": 1}`。  \n",
    "\n",
    "然后在`Dataset`的初始化函数中调用`get_img_info()`方法。  \n",
    "\n",
    "在`__getitem__()`方法中根据`index`读取`self.data_info`中路径对应的数据，并在这里做 transform 操作，返回的是样本和标签。  \n",
    "\n",
    "在`__len__()`方法中返回`self.data_info`的长度，即为所有样本的数量。"
   ]
  },
  {
   "cell_type": "code",
   "execution_count": null,
   "id": "ee736fd7",
   "metadata": {},
   "outputs": [],
   "source": [
    "class RMBDataset(Dataset):\n",
    "    def __init__(self, data_dir, transform=None):\n",
    "        \"\"\"\n",
    "        rmb面额分类任务的Dataset\n",
    "        :param data_dir: str, 数据集所在路径\n",
    "        :param transform: torch.transform，数据预处理\n",
    "        \"\"\"\n",
    "        self.label_name = {\"1\": 0, \"100\": 1}\n",
    "        self.data_info = self.get_img_info(data_dir)  # data_info存储所有图片路径和标签，在DataLoader中通过index读取样本\n",
    "        self.transform = transform\n",
    "\n",
    "        \n",
    "    def __getitem__(self, index):\n",
    "        path_img, label = self.data_info[index]\n",
    "        img = Image.open(path_img).convert('RGB')     # 0~255\n",
    "        if self.transform is not None:\n",
    "            img = self.transform(img)   # 在这里做transform，转为tensor等等\n",
    "        return img, label\n",
    "\n",
    "    \n",
    "    def __len__(self):\n",
    "        return len(self.data_info)    # 返回样本数量\n",
    "\n",
    "    \n",
    "    @staticmethod\n",
    "    def get_img_info(data_dir):\n",
    "        data_info = list()\n",
    "        for root, dirs, _ in os.walk(data_dir):\n",
    "            # 遍历类别\n",
    "            for sub_dir in dirs:\n",
    "                img_names = os.listdir(os.path.join(root, sub_dir))\n",
    "                img_names = list(filter(lambda x: x.endswith('.jpg'), img_names))\n",
    "\n",
    "                # 遍历图片\n",
    "                for i in range(len(img_names)):\n",
    "                    img_name = img_names[i]\n",
    "                    path_img = os.path.join(root, sub_dir, img_name)\n",
    "                    label = rmb_label[sub_dir]\n",
    "                    data_info.append((path_img, int(label)))\n",
    "\n",
    "        return data_info"
   ]
  },
  {
   "cell_type": "markdown",
   "id": "bf2c3fc5",
   "metadata": {},
   "source": [
    "### 导入包并初始化参数"
   ]
  },
  {
   "cell_type": "code",
   "execution_count": null,
   "id": "935669da",
   "metadata": {},
   "outputs": [],
   "source": [
    "import os\n",
    "import random\n",
    "import numpy as np\n",
    "import torch\n",
    "import torch.nn as nn\n",
    "from torch.utils.data import DataLoader\n",
    "import torchvision.transforms as transforms\n",
    "import torch.optim as optim\n",
    "from matplotlib import pyplot as plt\n",
    "from model.lenet import LeNet"
   ]
  },
  {
   "cell_type": "code",
   "execution_count": null,
   "id": "ba605a30",
   "metadata": {},
   "outputs": [],
   "source": [
    "def set_seed(seed=1):\n",
    "    random.seed(seed)\n",
    "    np.random.seed(seed)\n",
    "    torch.manual_seed(seed)\n",
    "    torch.cuda.manual_seed(seed)\n",
    "\n",
    "set_seed()  # 设置随机种子\n",
    "rmb_label = {\"1\": 0, \"100\": 1}\n",
    "\n",
    "# 参数设置\n",
    "MAX_EPOCH = 10\n",
    "BATCH_SIZE = 16\n",
    "LR = 0.01\n",
    "log_interval = 10\n",
    "val_interval = 1"
   ]
  },
  {
   "cell_type": "markdown",
   "id": "62c961c2",
   "metadata": {},
   "source": [
    "### 数据"
   ]
  },
  {
   "cell_type": "markdown",
   "id": "f57bc24c",
   "metadata": {},
   "source": [
    "首先定义训练集、验证集、测试集的路径，定义训练集和测试集的transforms。然后构建训练集和验证集的`RMBDataset`对象，把对应的路径和transforms传进去。再构建`DataLoder`，设置 `batch_size`，其中训练集设置`shuffle=True`，表示每个 Epoch 都打乱样本。"
   ]
  },
  {
   "cell_type": "code",
   "execution_count": null,
   "id": "9693b120",
   "metadata": {},
   "outputs": [],
   "source": [
    "# 读取路径\n",
    "split_dir = os.path.join(\"data\", \"rmb_split\")\n",
    "train_dir = os.path.join(split_dir, \"train\")\n",
    "valid_dir = os.path.join(split_dir, \"valid\")\n",
    "\n",
    "norm_mean = [0.485, 0.456, 0.406]\n",
    "norm_std = [0.229, 0.224, 0.225]\n",
    "# 数据处理\n",
    "train_transform = transforms.Compose([\n",
    "    transforms.Resize((32, 32)),\n",
    "    transforms.RandomCrop(32, padding=4),\n",
    "    transforms.ToTensor(),\n",
    "    transforms.Normalize(norm_mean, norm_std),\n",
    "])\n",
    "\n",
    "valid_transform = transforms.Compose([\n",
    "    transforms.Resize((32, 32)),\n",
    "    transforms.ToTensor(),\n",
    "    transforms.Normalize(norm_mean, norm_std),\n",
    "])\n",
    "\n",
    "# 构建MyDataset实例\n",
    "train_data = RMBDataset(data_dir=train_dir, transform=train_transform)\n",
    "valid_data = RMBDataset(data_dir=valid_dir, transform=valid_transform)\n",
    "\n",
    "# 构建DataLoder\n",
    "train_loader = DataLoader(dataset=train_data, batch_size=BATCH_SIZE, shuffle=True)\n",
    "valid_loader = DataLoader(dataset=valid_data, batch_size=BATCH_SIZE)"
   ]
  },
  {
   "cell_type": "markdown",
   "id": "8879eb46",
   "metadata": {},
   "source": [
    "### 模型"
   ]
  },
  {
   "cell_type": "markdown",
   "id": "045d163a",
   "metadata": {},
   "source": [
    "构建模型，这里采用经典的 Lenet 图片分类网络。"
   ]
  },
  {
   "cell_type": "code",
   "execution_count": null,
   "id": "35dc65b2",
   "metadata": {},
   "outputs": [],
   "source": [
    "net = LeNet(classes=2)\n",
    "net.initialize_weights()"
   ]
  },
  {
   "cell_type": "markdown",
   "id": "d9bd0ba6",
   "metadata": {},
   "source": [
    "### 损失函数"
   ]
  },
  {
   "cell_type": "markdown",
   "id": "e4fa313a",
   "metadata": {},
   "source": [
    "设置损失函数，这里使用交叉熵损失函数。"
   ]
  },
  {
   "cell_type": "code",
   "execution_count": null,
   "id": "124b115f",
   "metadata": {},
   "outputs": [],
   "source": [
    "criterion = nn.CrossEntropyLoss()   "
   ]
  },
  {
   "cell_type": "markdown",
   "id": "dc0e4b9e",
   "metadata": {},
   "source": [
    "### 优化器"
   ]
  },
  {
   "cell_type": "markdown",
   "id": "ee352dbd",
   "metadata": {},
   "source": [
    "设置优化器。这里采用 SGD 优化器。"
   ]
  },
  {
   "cell_type": "code",
   "execution_count": null,
   "id": "3ae75666",
   "metadata": {},
   "outputs": [],
   "source": [
    "optimizer = optim.SGD(net.parameters(), lr=LR, momentum=0.9)                        # 选择优化器\n",
    "scheduler = torch.optim.lr_scheduler.StepLR(optimizer, step_size=10, gamma=0.1)     # 设置学习率下降策略"
   ]
  },
  {
   "cell_type": "markdown",
   "id": "7640b632",
   "metadata": {},
   "source": [
    "### 训练"
   ]
  },
  {
   "cell_type": "markdown",
   "id": "b7653637",
   "metadata": {},
   "source": [
    "迭代训练模型，在每一个 `epoch` 里面，需要遍历 `train_loader` 取出数据，每次取得数据是一个 `batchsize` 大小。   \n",
    "\n",
    "取出数据的步骤如下：  \n",
    "\n",
    "1：`for i, data in enumerate(train_loader)`，从`train_loader`中取出数据，每次取得数据是一个 `batchsize` 大小  \n",
    "\n",
    "2：调用DataLoader类的`__iter__`函数进行初始化，判断是多线程还是单线程，这里我们没有设置多进程，会执行_SingleProcessDataLoaderIter类的方法  \n",
    "\n",
    "3：调用_SingleProcessDataLoaderIter类的`__next__`函数  \n",
    "\n",
    "4：在`__next__`函数中调用`_next_data`函数来获取index和data。首先调用`_next_index`函数获取index  \n",
    "\n",
    "5：`_next_index`函数中调用的sampler类的`__iter__()`方法返回 `batch_size` 大小的随机 index 列表\n",
    "\n",
    "6：回到`_next_data`函数，调用`_dataset_fetcher.fetch(index)`函数获取data    \n",
    "\n",
    "7：在`_dataset_fetcher.fetch(index)`函数中调用_MapDatasetFetcher类中的`fetch()`函数\n",
    "\n",
    "8：`fetch()`函数调用了`self.dataset[idx]`，这个函数会调用RMBDataset类的`dataset.__getitem__()`方法获取具体的数据，所以`__getitem__()`方法是我们必须实现的。  \n",
    "\n",
    "9：此时我们拿到的data是一个 list，每个元素是一个 tunple，每个 tunple 包括样本和标签。所以最后要使用`self.collate_fn(data)`把 data 转换为两个元素的 list，第一个元素是样本的 batch 形式，形状为 [16, 3, 32, 32] (16 是 batch size，[3, 32, 32] 是图片像素)；第二个元素是标签的 batch 形式，形状为 [16]。\n",
    "\n",
    "10：回到`_next_data`函数，返回data数据 "
   ]
  },
  {
   "cell_type": "markdown",
   "id": "c2c1eda9",
   "metadata": {},
   "source": [
    "取得数据后又分为 4 步。第 1 步进行前向传播，第 2 步进行反向传播求导，第 3 步使用optimizer更新权重，第 4 步统计训练情况。  \n",
    "\n",
    "每一个 `epoch` 完成时都需要使用`scheduler`更新学习率，和计算验证集的准确率、loss。"
   ]
  },
  {
   "cell_type": "code",
   "execution_count": null,
   "id": "968f1b13",
   "metadata": {},
   "outputs": [],
   "source": [
    "train_curve = list()\n",
    "valid_curve = list()\n",
    "\n",
    "for epoch in range(MAX_EPOCH):\n",
    "\n",
    "    loss_mean = 0.\n",
    "    correct = 0.\n",
    "    total = 0.\n",
    "\n",
    "    net.train()\n",
    "    for i, data in enumerate(train_loader):\n",
    "\n",
    "        # forward\n",
    "        inputs, labels = data\n",
    "        outputs = net(inputs)\n",
    "\n",
    "        # backward\n",
    "        optimizer.zero_grad()\n",
    "        loss = criterion(outputs, labels)\n",
    "        loss.backward()\n",
    "\n",
    "        # update weights\n",
    "        optimizer.step()\n",
    "\n",
    "        # 统计分类情况\n",
    "        _, predicted = torch.max(outputs.data, 1)\n",
    "        total += labels.size(0)\n",
    "        correct += (predicted == labels).squeeze().sum().numpy()\n",
    "\n",
    "        # 打印训练信息\n",
    "        loss_mean += loss.item()\n",
    "        train_curve.append(loss.item())\n",
    "        if (i+1) % log_interval == 0:\n",
    "            loss_mean = loss_mean / log_interval\n",
    "            print(\"Training:Epoch[{:0>3}/{:0>3}] Iteration[{:0>3}/{:0>3}] Loss: {:.4f} Acc:{:.2%}\".format(\n",
    "                epoch, MAX_EPOCH, i+1, len(train_loader), loss_mean, correct / total))\n",
    "            loss_mean = 0.\n",
    "\n",
    "    scheduler.step()  # 更新学习率\n",
    "\n",
    "    # validate the model\n",
    "    if (epoch+1) % val_interval == 0:\n",
    "\n",
    "        correct_val = 0.\n",
    "        total_val = 0.\n",
    "        loss_val = 0.\n",
    "        net.eval()\n",
    "        with torch.no_grad():\n",
    "            for j, data in enumerate(valid_loader):\n",
    "                inputs, labels = data\n",
    "                outputs = net(inputs)\n",
    "                loss = criterion(outputs, labels)\n",
    "\n",
    "                _, predicted = torch.max(outputs.data, 1)\n",
    "                total_val += labels.size(0)\n",
    "                correct_val += (predicted == labels).squeeze().sum().numpy()\n",
    "\n",
    "                loss_val += loss.item()\n",
    "\n",
    "            loss_val_epoch = loss_val / len(valid_loader)\n",
    "            valid_curve.append(loss_val_epoch)\n",
    "            # valid_curve.append(loss.item())    # 20191022改，记录整个epoch样本的loss，注意要取平均\n",
    "            print(\"Valid:\\t Epoch[{:0>3}/{:0>3}] Iteration[{:0>3}/{:0>3}] Loss: {:.4f} Acc:{:.2%}\".format(\n",
    "                epoch, MAX_EPOCH, j+1, len(valid_loader), loss_val_epoch, correct_val / total_val))"
   ]
  },
  {
   "cell_type": "code",
   "execution_count": null,
   "id": "6e8c81b3",
   "metadata": {},
   "outputs": [],
   "source": [
    "train_x = range(len(train_curve))\n",
    "train_y = train_curve\n",
    "\n",
    "train_iters = len(train_loader)\n",
    "valid_x = np.arange(1, len(valid_curve)+1) * train_iters*val_interval # 由于valid中记录的是epochloss，需要对记录点进行转换到iterations\n",
    "valid_y = valid_curve\n",
    "\n",
    "plt.plot(train_x, train_y, label='Train')\n",
    "plt.plot(valid_x, valid_y, label='Valid')\n",
    "\n",
    "plt.legend(loc='upper right')\n",
    "plt.ylabel('loss value')\n",
    "plt.xlabel('Iteration')\n",
    "plt.show()"
   ]
  },
  {
   "cell_type": "code",
   "execution_count": 11,
   "id": "62dcfc94",
   "metadata": {},
   "outputs": [
    {
     "name": "stdout",
     "output_type": "stream",
     "text": [
      "Training:Epoch[000/010] Iteration[010/010] Loss: 0.6328 Acc:60.62%\n",
      "Valid:\t Epoch[000/010] Iteration[002/002] Loss: 0.4507 Acc:85.00%\n",
      "Training:Epoch[001/010] Iteration[010/010] Loss: 0.4355 Acc:82.50%\n",
      "Valid:\t Epoch[001/010] Iteration[002/002] Loss: 0.4029 Acc:95.00%\n",
      "Training:Epoch[002/010] Iteration[010/010] Loss: 0.2372 Acc:89.38%\n",
      "Valid:\t Epoch[002/010] Iteration[002/002] Loss: 0.0243 Acc:100.00%\n",
      "Training:Epoch[003/010] Iteration[010/010] Loss: 0.0197 Acc:100.00%\n",
      "Valid:\t Epoch[003/010] Iteration[002/002] Loss: 0.0005 Acc:100.00%\n",
      "Training:Epoch[004/010] Iteration[010/010] Loss: 0.0010 Acc:100.00%\n",
      "Valid:\t Epoch[004/010] Iteration[002/002] Loss: 0.0000 Acc:100.00%\n",
      "Training:Epoch[005/010] Iteration[010/010] Loss: 0.0028 Acc:100.00%\n",
      "Valid:\t Epoch[005/010] Iteration[002/002] Loss: 0.0000 Acc:100.00%\n",
      "Training:Epoch[006/010] Iteration[010/010] Loss: 0.0001 Acc:100.00%\n",
      "Valid:\t Epoch[006/010] Iteration[002/002] Loss: 0.0000 Acc:100.00%\n",
      "Training:Epoch[007/010] Iteration[010/010] Loss: 0.0003 Acc:100.00%\n",
      "Valid:\t Epoch[007/010] Iteration[002/002] Loss: 0.0000 Acc:100.00%\n",
      "Training:Epoch[008/010] Iteration[010/010] Loss: 0.0086 Acc:99.38%\n",
      "Valid:\t Epoch[008/010] Iteration[002/002] Loss: 0.0000 Acc:100.00%\n",
      "Training:Epoch[009/010] Iteration[010/010] Loss: 0.0116 Acc:99.38%\n",
      "Valid:\t Epoch[009/010] Iteration[002/002] Loss: 0.0001 Acc:100.00%\n"
     ]
    },
    {
     "data": {
      "image/png": "[encoded data removed]",
      "text/plain": [
       "<Figure size 640x480 with 1 Axes>"
      ]
     },
     "metadata": {},
     "output_type": "display_data"
    }
   ],
   "source": [
    "# ============================ inference ============================\n",
    "\n",
    "BASE_DIR = os.path.dirname(os.path.abspath('__file__'))\n",
    "test_dir = os.path.join(BASE_DIR, \"test_data\")\n",
    "\n",
    "test_data = RMBDataset(data_dir=test_dir, transform=valid_transform)\n",
    "valid_loader = DataLoader(dataset=test_data, batch_size=1)\n",
    "\n",
    "for i, data in enumerate(valid_loader):\n",
    "    # forward\n",
    "    inputs, labels = data\n",
    "    outputs = net(inputs)\n",
    "    _, predicted = torch.max(outputs.data, 1)\n",
    "\n",
    "    rmb = 1 if predicted.numpy()[0] == 0 else 100\n",
    "    print(\"模型获得{}元\".format(rmb))"
   ]
  },
  {
   "cell_type": "markdown",
   "id": "d4345d3a",
   "metadata": {},
   "source": [
    "# 总结：数据读取机制"
   ]
  },
  {
   "cell_type": "markdown",
   "id": "a9bcbd30",
   "metadata": {},
   "source": [
    "首先在 for 循环中遍历DataLoader。  \n",
    "\n",
    "然后根据是否采用多进程，决定使用单进程或者多进程的DataLoaderIter。  \n",
    "\n",
    "在DataLoaderIter里调用Sampler生成Index的 list。  \n",
    "\n",
    "再调用DatasetFetcher根据index获取数据。  \n",
    "\n",
    "在DatasetFetcher里会调用Dataset的__getitem__()方法获取真正的数据。这里获取的数据是一个 list，其中每个元素是 (img, label) 的元组。  \n",
    "\n",
    "再使用 collate_fn()函数整理成一个 list，里面包含两个元素，分别是 img 和 label 的tenser。\n",
    "\n",
    "<img src=\"img/PyTorch 数据读取流程图.png\">"
   ]
  }
 ],
 "metadata": {
  "kernelspec": {
   "display_name": "Python (Projects)",
   "language": "python",
   "name": "projects"
  },
  "language_info": {
   "codemirror_mode": {
    "name": "ipython",
    "version": 3
   },
   "file_extension": ".py",
   "mimetype": "text/x-python",
   "name": "python",
   "nbconvert_exporter": "python",
   "pygments_lexer": "ipython3",
   "version": "3.9.16"
  },
  "toc": {
   "base_numbering": 1,
   "nav_menu": {},
   "number_sections": true,
   "sideBar": true,
   "skip_h1_title": false,
   "title_cell": "Table of Contents",
   "title_sidebar": "Contents",
   "toc_cell": false,
   "toc_position": {},
   "toc_section_display": true,
   "toc_window_display": true
  }
 },
 "nbformat": 4,
 "nbformat_minor": 5
}
