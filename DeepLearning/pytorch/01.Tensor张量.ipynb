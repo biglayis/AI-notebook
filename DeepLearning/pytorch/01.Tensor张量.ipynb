{
 "cells": [
  {
   "cell_type": "markdown",
   "id": "9c4250d1",
   "metadata": {},
   "source": [
    "# 简介"
   ]
  },
  {
   "cell_type": "markdown",
   "id": "f4b05bd8",
   "metadata": {},
   "source": [
    "## 张量\n",
    "张量是一个多维数组，它是标量、向量、矩阵的高维拓展。  \n",
    "\n",
    "<img src=\"img/张量.png\" width=\"600\">"
   ]
  },
  {
   "cell_type": "markdown",
   "id": "64284953",
   "metadata": {},
   "source": [
    "## Variable\n",
    "`Variable`是`torch.autograd`中的数据类型，主要用于封装`Tensor`，进行自动求导  \n",
    "\n",
    "<img src=\"img/variable.png\" width=\"300\">  \n",
    "\n",
    "* data：被包装的Tensor\n",
    "* grad：data的梯度\n",
    "* grad_fn：创建Tensor的Function，是自动求导的关键\n",
    "* requires_grad：指示是否需要梯度\n",
    "* is_leaf：指示是否是叶子节点（张量）"
   ]
  },
  {
   "cell_type": "markdown",
   "id": "4a79f7a4",
   "metadata": {},
   "source": [
    "## Tensor\n",
    "PyTorch0.4.0版开始，Variable并入Tensor。  \n",
    "\n",
    "<img src=\"img/tensor.png\" width=\"400\">\n",
    "\n",
    "* dtype：张量的数据类型，如`torch.FloatTensor`，`torch.cuda.FloatTensor`\n",
    "* shape：张量的形状，如(64,3,224,224)\n",
    "* device：张量所在设备，GPU/CPU，是加速的关键"
   ]
  },
  {
   "cell_type": "markdown",
   "id": "15367c9d",
   "metadata": {},
   "source": [
    "# Tensor创建"
   ]
  },
  {
   "cell_type": "markdown",
   "id": "5d6e9791",
   "metadata": {},
   "source": [
    "## 直接创建"
   ]
  },
  {
   "cell_type": "markdown",
   "id": "dbf95d19",
   "metadata": {},
   "source": [
    "### torch.tensor()\n",
    "功能：从data创建tensor  \n",
    "参数：\n",
    "* data：数据，可以是list、numpy\n",
    "* dtype：数据类型，默认与data的一致\n",
    "* device：所在设备，cuda/cpu\n",
    "* required_grad：是否需要梯度\n",
    "* pin_memory：是否存于锁页内存"
   ]
  },
  {
   "cell_type": "code",
   "execution_count": 1,
   "id": "76498a1f",
   "metadata": {},
   "outputs": [],
   "source": [
    "import numpy as np\n",
    "import torch"
   ]
  },
  {
   "cell_type": "code",
   "execution_count": 2,
   "id": "e7f288ff",
   "metadata": {},
   "outputs": [
    {
     "name": "stdout",
     "output_type": "stream",
     "text": [
      "[[1. 1. 1.]\n",
      " [1. 1. 1.]\n",
      " [1. 1. 1.]]\n",
      "tensor([[1., 1., 1.],\n",
      "        [1., 1., 1.],\n",
      "        [1., 1., 1.]], device='cuda:0', dtype=torch.float64)\n"
     ]
    }
   ],
   "source": [
    "arr = np.ones((3,3))\n",
    "print(arr)\n",
    "# 将数据从cpu转移到gpu需要一定时间\n",
    "t = torch.tensor(arr,device='cuda')\n",
    "print(t)"
   ]
  },
  {
   "cell_type": "markdown",
   "id": "d88353cc",
   "metadata": {},
   "source": [
    "### torch.from_numpy(ndarray) \n",
    "功能：从numpy创建tensor  \n",
    "注意事项：从torch.from_numpy创建的tensor与原ndarray共享内存，当修改其中一个的数据，另外一个也将会被改动"
   ]
  },
  {
   "cell_type": "code",
   "execution_count": 3,
   "id": "fc95b87d",
   "metadata": {},
   "outputs": [
    {
     "name": "stdout",
     "output_type": "stream",
     "text": [
      "[[1 2 3]\n",
      " [4 5 6]]\n",
      "tensor([[1, 2, 3],\n",
      "        [4, 5, 6]], dtype=torch.int32)\n"
     ]
    }
   ],
   "source": [
    "arr = np.array([[1,2,3],[4,5,6]])\n",
    "print(arr)\n",
    "t = torch.from_numpy(arr)\n",
    "print(t)"
   ]
  },
  {
   "cell_type": "code",
   "execution_count": 4,
   "id": "0b5347b8",
   "metadata": {},
   "outputs": [
    {
     "name": "stdout",
     "output_type": "stream",
     "text": [
      "[[0 2 3]\n",
      " [4 5 6]]\n",
      "tensor([[0, 2, 3],\n",
      "        [4, 5, 6]], dtype=torch.int32)\n"
     ]
    }
   ],
   "source": [
    "# 修改arr的数据，t的数据也会改变\n",
    "arr[0,0] = 0\n",
    "print(arr)\n",
    "print(t)"
   ]
  },
  {
   "cell_type": "markdown",
   "id": "b5bba31d",
   "metadata": {},
   "source": [
    "## 依据数值创建"
   ]
  },
  {
   "cell_type": "markdown",
   "id": "38776ddc",
   "metadata": {},
   "source": [
    "### torch.zeros()\n",
    "功能：依size创建全0张量  \n",
    "参数：  \n",
    "* size：张量的形状，如(3,3)、(3,224,224)\n",
    "* out：输出的张量\n",
    "* layout：内存中布局形式，有`strided`，`sparse_coo`等\n",
    "* device：所在设备，gpu/cpu\n",
    "* required_grad：是否需要梯度"
   ]
  },
  {
   "cell_type": "code",
   "execution_count": 5,
   "id": "049f9fe3",
   "metadata": {},
   "outputs": [
    {
     "name": "stdout",
     "output_type": "stream",
     "text": [
      "tensor([[0, 0, 0],\n",
      "        [0, 0, 0],\n",
      "        [0, 0, 0]]) \n",
      " tensor([[0, 0, 0],\n",
      "        [0, 0, 0],\n",
      "        [0, 0, 0]])\n",
      "2262593454384 2262593454384 True\n"
     ]
    }
   ],
   "source": [
    "out_t = torch.tensor([1])\n",
    "t = torch.zeros((3,3),out=out_t)\n",
    "print(t,'\\n',out_t)\n",
    "# t和out_t共享内存\n",
    "print(id(t),id(out_t),id(t)==id(out_t))  "
   ]
  },
  {
   "cell_type": "markdown",
   "id": "68c15463",
   "metadata": {},
   "source": [
    "### torch.zeros_like() \n",
    "功能：依input形状创建全0张量  \n",
    "参数：  \n",
    "* input：创建与input同形状的全0张量\n",
    "* dtype：数据类型\n",
    "* layout：内存中布局形式"
   ]
  },
  {
   "cell_type": "markdown",
   "id": "78fcb2a4",
   "metadata": {},
   "source": [
    "### torch.ones()/torch.ones_like()\n",
    "功能：创建全1张量  \n",
    "参数：  \n",
    "* size：张量的形状，如(3,3)、(3,224,224)\n",
    "* dtype：数据类型\n",
    "* layout：内存中布局形式\n",
    "* device：所在设备，gpu/cpu\n",
    "* required_grad：是否需要梯度\n",
    "* input:创建与input同形状的全1张量"
   ]
  },
  {
   "cell_type": "markdown",
   "id": "3374cbda",
   "metadata": {},
   "source": [
    "### torch.full()/torch.full_like()\n",
    "功能：创建全为自定义数值张量  \n",
    "参数：  \n",
    "* size：张量的形状，如(3,3)、(3,224,224)\n",
    "* fill_value：张量的值\n",
    "* dtype：数据类型\n",
    "* layout：内存中布局形式\n",
    "* device：所在设备，gpu/cpu\n",
    "* required_grad：是否需要梯度\n",
    "* input:创建与input同形状的自定义数值张量"
   ]
  },
  {
   "cell_type": "code",
   "execution_count": 6,
   "id": "415ad300",
   "metadata": {},
   "outputs": [
    {
     "name": "stdout",
     "output_type": "stream",
     "text": [
      "tensor([[10, 10, 10],\n",
      "        [10, 10, 10],\n",
      "        [10, 10, 10]])\n"
     ]
    }
   ],
   "source": [
    "t = torch.full((3,3),10)\n",
    "print(t)"
   ]
  },
  {
   "cell_type": "markdown",
   "id": "ac89e5b0",
   "metadata": {},
   "source": [
    "### torch.arange()\n",
    "功能：创建等差的1维张量，数值区间为[start,end]  \n",
    "参数：  \n",
    "* start：数列起始值\n",
    "* end：数列结束值（取不到）\n",
    "* step：步长"
   ]
  },
  {
   "cell_type": "code",
   "execution_count": 7,
   "id": "b8d83e4d",
   "metadata": {},
   "outputs": [
    {
     "name": "stdout",
     "output_type": "stream",
     "text": [
      "tensor([2, 4, 6, 8])\n"
     ]
    }
   ],
   "source": [
    "t = torch.arange(2,10,2)\n",
    "print(t)"
   ]
  },
  {
   "cell_type": "markdown",
   "id": "9cd73b03",
   "metadata": {},
   "source": [
    "### torch.linspace()\n",
    "功能：创建均分的1维张量，数值区间为[start,end]  \n",
    "参数：  \n",
    "* start：数列起始值\n",
    "* end：数列结束值\n",
    "* step：步长"
   ]
  },
  {
   "cell_type": "code",
   "execution_count": 8,
   "id": "af490854",
   "metadata": {},
   "outputs": [
    {
     "name": "stdout",
     "output_type": "stream",
     "text": [
      "tensor([ 2.,  4.,  6.,  8., 10.])\n"
     ]
    }
   ],
   "source": [
    "t = torch.linspace(2,10,5)\n",
    "print(t)"
   ]
  },
  {
   "cell_type": "markdown",
   "id": "babb3d96",
   "metadata": {},
   "source": [
    "### torch.eye()\n",
    "功能：创建单位对角矩阵（2维张量），默认为方阵  \n",
    "参数：  \n",
    "* n：行数\n",
    "* m：列数"
   ]
  },
  {
   "cell_type": "code",
   "execution_count": 9,
   "id": "fe7a6444",
   "metadata": {},
   "outputs": [
    {
     "name": "stdout",
     "output_type": "stream",
     "text": [
      "tensor([[1., 0., 0.],\n",
      "        [0., 1., 0.],\n",
      "        [0., 0., 1.]])\n"
     ]
    }
   ],
   "source": [
    "t = torch.eye(3)\n",
    "print(t)"
   ]
  },
  {
   "cell_type": "code",
   "execution_count": 10,
   "id": "7ca83bf0",
   "metadata": {},
   "outputs": [
    {
     "name": "stdout",
     "output_type": "stream",
     "text": [
      "tensor([[1., 0.],\n",
      "        [0., 1.],\n",
      "        [0., 0.]])\n"
     ]
    }
   ],
   "source": [
    "t = torch.eye(n=3,m=2)\n",
    "print(t)"
   ]
  },
  {
   "cell_type": "markdown",
   "id": "6c08d536",
   "metadata": {},
   "source": [
    "## 依据概率创建"
   ]
  },
  {
   "cell_type": "markdown",
   "id": "910299c6",
   "metadata": {},
   "source": [
    "### torch.normal()\n",
    "功能：生成正态分布  \n",
    "参数：  \n",
    "* mean：均值\n",
    "* std：标准差\n",
    "\n",
    "四种模式\n",
    "    \n",
    "- 1. mean为标量，std为标量\n",
    "- 2. mean为标量，std为张量 \n",
    "- 3. mean为张量，std为标量\n",
    "- 4. mean为张量，std为张量"
   ]
  },
  {
   "cell_type": "code",
   "execution_count": 11,
   "id": "147a215e",
   "metadata": {},
   "outputs": [
    {
     "data": {
      "text/plain": [
       "tensor([0.1324, 1.6407, 1.3306, 6.0258])"
      ]
     },
     "execution_count": 11,
     "metadata": {},
     "output_type": "execute_result"
    }
   ],
   "source": [
    "# 均值和标准差都为张量\n",
    "mean = torch.arange(1,5,dtype=torch.float)\n",
    "std = torch.arange(1,5,dtype=torch.float)\n",
    "# 分别从N(1,1),N(2,4),N(3,9),N(4,16)的正态分布中随机采样得到\n",
    "torch.normal(mean,std)"
   ]
  },
  {
   "cell_type": "code",
   "execution_count": 12,
   "id": "3737c939",
   "metadata": {},
   "outputs": [
    {
     "data": {
      "text/plain": [
       "tensor([ 0.1033, -1.6006,  1.0646,  1.2337])"
      ]
     },
     "execution_count": 12,
     "metadata": {},
     "output_type": "execute_result"
    }
   ],
   "source": [
    "# 均值和标准差都为标量\n",
    "mean = 0\n",
    "std = 1\n",
    "# 从N(0,1)的正态分布中采样得到4个数据\n",
    "torch.normal(mean,std,size=(4,))"
   ]
  },
  {
   "cell_type": "code",
   "execution_count": 13,
   "id": "a5274a67",
   "metadata": {},
   "outputs": [
    {
     "data": {
      "text/plain": [
       "tensor([-0.1743,  1.5678,  3.8844,  3.5849])"
      ]
     },
     "execution_count": 13,
     "metadata": {},
     "output_type": "execute_result"
    }
   ],
   "source": [
    "# 均值为张量，标准差为标量\n",
    "mean = torch.arange(1,5,dtype=torch.float)\n",
    "std = 1\n",
    "# 分别从N(1,1),N(2,1),N(3,1),N(4,1)的正态分布中随机采样得到\n",
    "torch.normal(mean,std)"
   ]
  },
  {
   "cell_type": "code",
   "execution_count": 14,
   "id": "0816b16d",
   "metadata": {},
   "outputs": [
    {
     "data": {
      "text/plain": [
       "tensor([-1.5222, -1.8742,  0.0183,  5.7265])"
      ]
     },
     "execution_count": 14,
     "metadata": {},
     "output_type": "execute_result"
    }
   ],
   "source": [
    "# 均值为标量，标准差为张量\n",
    "mean = 0\n",
    "std = torch.arange(1,5,dtype=torch.float)\n",
    "# 分别从N(0,1),N(0,4),N(0,9),N(0,16)的正态分布中随机采样得到\n",
    "torch.normal(mean,std)"
   ]
  },
  {
   "cell_type": "markdown",
   "id": "b387f815",
   "metadata": {},
   "source": [
    "### torch.randn()/torch.randn_like()\n",
    "功能：生成标准正态分布  \n",
    "参数：  \n",
    "* size：张量的形状"
   ]
  },
  {
   "cell_type": "markdown",
   "id": "c14ba118",
   "metadata": {},
   "source": [
    "### torch.rand()/torch.rand_like()\n",
    "功能：生成均匀分布  \n",
    "参数：  \n",
    "* size：张量的形状"
   ]
  },
  {
   "cell_type": "markdown",
   "id": "61c2b98f",
   "metadata": {},
   "source": [
    "### torch.randint()/torch.randint_like()\n",
    "功能：生成整数均匀分布  \n",
    "参数：  \n",
    "* size：张量的形状"
   ]
  },
  {
   "cell_type": "markdown",
   "id": "eca8dd8c",
   "metadata": {},
   "source": [
    "### torch.randperm()\n",
    "功能：生成从0到n-1的随机排列  \n",
    "参数：  \n",
    "* n：张量的长度"
   ]
  },
  {
   "cell_type": "code",
   "execution_count": 15,
   "id": "e5b37fd2",
   "metadata": {},
   "outputs": [
    {
     "data": {
      "text/plain": [
       "tensor([2, 4, 3, 1, 0, 5])"
      ]
     },
     "execution_count": 15,
     "metadata": {},
     "output_type": "execute_result"
    }
   ],
   "source": [
    "torch.randperm(6)"
   ]
  },
  {
   "cell_type": "markdown",
   "id": "b393a3c7",
   "metadata": {},
   "source": [
    "### torch.bernoulli()\n",
    "功能：以input为概率，生成伯努利分布（0-1分布、二项分布）  \n",
    "参数：  \n",
    "* input：概率值"
   ]
  },
  {
   "cell_type": "code",
   "execution_count": 16,
   "id": "eaeaab21",
   "metadata": {},
   "outputs": [
    {
     "data": {
      "text/plain": [
       "tensor([0., 1.])"
      ]
     },
     "execution_count": 16,
     "metadata": {},
     "output_type": "execute_result"
    }
   ],
   "source": [
    "torch.bernoulli(torch.tensor([0.2,0.8]))"
   ]
  },
  {
   "cell_type": "markdown",
   "id": "50031716",
   "metadata": {},
   "source": [
    "# Tensor操作"
   ]
  },
  {
   "cell_type": "markdown",
   "id": "b9c29dc8",
   "metadata": {},
   "source": [
    "## 拼接"
   ]
  },
  {
   "cell_type": "markdown",
   "id": "8324c652",
   "metadata": {},
   "source": [
    "### torch.cat()\n",
    "功能：将张量按维度dim进行拼接   \n",
    "参数：  \n",
    "* tensors：张量序列\n",
    "* dim：要拼接的维度，0表示在第0维上拼接，1表示在第1维上拼接"
   ]
  },
  {
   "cell_type": "code",
   "execution_count": 17,
   "id": "937b759d",
   "metadata": {},
   "outputs": [
    {
     "data": {
      "text/plain": [
       "tensor([[1., 1., 1.],\n",
       "        [1., 1., 1.],\n",
       "        [1., 1., 1.],\n",
       "        [1., 1., 1.]])"
      ]
     },
     "execution_count": 17,
     "metadata": {},
     "output_type": "execute_result"
    }
   ],
   "source": [
    "t = torch.ones((2,3))\n",
    "torch.cat([t,t],0)"
   ]
  },
  {
   "cell_type": "code",
   "execution_count": 18,
   "id": "085223d9",
   "metadata": {},
   "outputs": [
    {
     "data": {
      "text/plain": [
       "tensor([[1., 1., 1., 1., 1., 1.],\n",
       "        [1., 1., 1., 1., 1., 1.]])"
      ]
     },
     "execution_count": 18,
     "metadata": {},
     "output_type": "execute_result"
    }
   ],
   "source": [
    "torch.cat([t,t],1)"
   ]
  },
  {
   "cell_type": "code",
   "execution_count": 19,
   "id": "4023df64",
   "metadata": {},
   "outputs": [
    {
     "data": {
      "text/plain": [
       "tensor([[1., 1., 1., 1., 1., 1., 1., 1., 1.],\n",
       "        [1., 1., 1., 1., 1., 1., 1., 1., 1.]])"
      ]
     },
     "execution_count": 19,
     "metadata": {},
     "output_type": "execute_result"
    }
   ],
   "source": [
    "torch.cat([t,t,t],1)"
   ]
  },
  {
   "cell_type": "markdown",
   "id": "61d526e8",
   "metadata": {},
   "source": [
    "### torch.stack()\n",
    "功能：在**新创建的维度**dim上进行拼接  \n",
    "参数：  \n",
    "* tensors：张量序列\n",
    "* dim：要拼接的维度"
   ]
  },
  {
   "cell_type": "code",
   "execution_count": 20,
   "id": "16f79014",
   "metadata": {},
   "outputs": [
    {
     "data": {
      "text/plain": [
       "tensor([[[2., 3., 4.],\n",
       "         [5., 6., 7.]],\n",
       "\n",
       "        [[1., 1., 1.],\n",
       "         [1., 1., 1.]]])"
      ]
     },
     "execution_count": 20,
     "metadata": {},
     "output_type": "execute_result"
    }
   ],
   "source": [
    "t1 = torch.tensor([[2,3,4],[5,6,7]])\n",
    "# 由于第0维已经存在，因此在第0维插入一个新的维度，变成2*2*3\n",
    "torch.stack([t1,t],0)"
   ]
  },
  {
   "cell_type": "code",
   "execution_count": 21,
   "id": "28163d65",
   "metadata": {
    "scrolled": true
   },
   "outputs": [
    {
     "data": {
      "text/plain": [
       "tensor([[[2., 1.],\n",
       "         [3., 1.],\n",
       "         [4., 1.]],\n",
       "\n",
       "        [[5., 1.],\n",
       "         [6., 1.],\n",
       "         [7., 1.]]])"
      ]
     },
     "execution_count": 21,
     "metadata": {},
     "output_type": "execute_result"
    }
   ],
   "source": [
    "# 由于第2维不存在，所以直接创建，变成2*3*2\n",
    "torch.stack([t1,t],2)"
   ]
  },
  {
   "cell_type": "markdown",
   "id": "9a7d2977",
   "metadata": {},
   "source": [
    "## 切分"
   ]
  },
  {
   "cell_type": "markdown",
   "id": "c6a0db58",
   "metadata": {},
   "source": [
    "### torch.chunk()\n",
    "功能：将张量按维度dim进行**平均切分**，若不能整除，最后一份张量小于其他张量  \n",
    "返回值：张量列表  \n",
    "参数：  \n",
    "* input：要切分的张量\n",
    "* chunks：要切分的分数\n",
    "* dim：要切分的维度"
   ]
  },
  {
   "cell_type": "code",
   "execution_count": 22,
   "id": "5d29f425",
   "metadata": {},
   "outputs": [
    {
     "data": {
      "text/plain": [
       "(tensor([[1., 1., 1.],\n",
       "         [1., 1., 1.]]),\n",
       " tensor([[1., 1., 1.],\n",
       "         [1., 1., 1.]]),\n",
       " tensor([[1., 1., 1.],\n",
       "         [1., 1., 1.]]),\n",
       " tensor([[1.],\n",
       "         [1.]]))"
      ]
     },
     "execution_count": 22,
     "metadata": {},
     "output_type": "execute_result"
    }
   ],
   "source": [
    "a = torch.ones((2,10))\n",
    "torch.chunk(a,dim=1,chunks=4)"
   ]
  },
  {
   "cell_type": "markdown",
   "id": "4d843e52",
   "metadata": {},
   "source": [
    "### torch.split()\n",
    "功能：将张量按维度dim进行切分  \n",
    "返回值：张量列表  \n",
    "参数：  \n",
    "* tensor：要切分的张量\n",
    "* split_size_or_sections：为int时，表示每一份的长度；为list时，按list元素切分\n",
    "* dim：要切分的维度"
   ]
  },
  {
   "cell_type": "code",
   "execution_count": 23,
   "id": "c3c768ce",
   "metadata": {},
   "outputs": [
    {
     "data": {
      "text/plain": [
       "(tensor([[1., 1., 1., 1.],\n",
       "         [1., 1., 1., 1.]]),\n",
       " tensor([[1., 1., 1., 1.],\n",
       "         [1., 1., 1., 1.]]),\n",
       " tensor([[1., 1.],\n",
       "         [1., 1.]]))"
      ]
     },
     "execution_count": 23,
     "metadata": {},
     "output_type": "execute_result"
    }
   ],
   "source": [
    "a = torch.ones((2,10))\n",
    "torch.split(a,split_size_or_sections=4,dim=1)"
   ]
  },
  {
   "cell_type": "code",
   "execution_count": 24,
   "id": "5f9b546f",
   "metadata": {},
   "outputs": [
    {
     "data": {
      "text/plain": [
       "(tensor([[1.],\n",
       "         [1.]]),\n",
       " tensor([[1., 1.],\n",
       "         [1., 1.]]),\n",
       " tensor([[1., 1., 1.],\n",
       "         [1., 1., 1.]]),\n",
       " tensor([[1., 1., 1., 1.],\n",
       "         [1., 1., 1., 1.]]))"
      ]
     },
     "execution_count": 24,
     "metadata": {},
     "output_type": "execute_result"
    }
   ],
   "source": [
    "torch.split(a,split_size_or_sections=[1,2,3,4],dim=1)"
   ]
  },
  {
   "cell_type": "markdown",
   "id": "e5a5a9a4",
   "metadata": {},
   "source": [
    "## 索引"
   ]
  },
  {
   "cell_type": "markdown",
   "id": "3ab6e794",
   "metadata": {},
   "source": [
    "### torch.index_select()\n",
    "功能：在维度dim上，按index索引数据  \n",
    "返回值：依index索引数据拼接的张量  \n",
    "参数：  \n",
    "* input：要索引的张量\n",
    "* dim：要索引的维度\n",
    "* index：要索引的数据的序号，torch.long类型"
   ]
  },
  {
   "cell_type": "code",
   "execution_count": 25,
   "id": "0290850a",
   "metadata": {},
   "outputs": [
    {
     "name": "stdout",
     "output_type": "stream",
     "text": [
      "tensor([[5, 3, 1],\n",
      "        [3, 8, 7],\n",
      "        [6, 7, 4]])\n"
     ]
    },
    {
     "data": {
      "text/plain": [
       "tensor([[5, 3, 1],\n",
       "        [6, 7, 4]])"
      ]
     },
     "execution_count": 25,
     "metadata": {},
     "output_type": "execute_result"
    }
   ],
   "source": [
    "t = torch.randint(0,9,size=(3,3))\n",
    "print(t)\n",
    "# 取出第0行和第2行\n",
    "idx = torch.tensor([0,2],dtype=torch.long)\n",
    "torch.index_select(t,index=idx,dim=0)"
   ]
  },
  {
   "cell_type": "markdown",
   "id": "f7499cfa",
   "metadata": {},
   "source": [
    "### torch.masked_select()\n",
    "功能：按mask中的True进行索引  \n",
    "返回值：一维张量  \n",
    "参数：  \n",
    "* input：要索引的张量\n",
    "* mask：与input同形状的布尔类型张量"
   ]
  },
  {
   "cell_type": "code",
   "execution_count": 26,
   "id": "f89e9f8c",
   "metadata": {},
   "outputs": [
    {
     "name": "stdout",
     "output_type": "stream",
     "text": [
      "tensor([[6, 3, 5],\n",
      "        [2, 5, 6],\n",
      "        [3, 4, 2]])\n",
      "tensor([[ True, False,  True],\n",
      "        [False,  True,  True],\n",
      "        [False, False, False]])\n"
     ]
    },
    {
     "data": {
      "text/plain": [
       "tensor([6, 5, 5, 6])"
      ]
     },
     "execution_count": 26,
     "metadata": {},
     "output_type": "execute_result"
    }
   ],
   "source": [
    "t = torch.randint(0,9,size=(3,3))\n",
    "print(t)\n",
    "mask = t.ge(5)   # 是否大于等于5\n",
    "print(mask)\n",
    "torch.masked_select(t,mask)"
   ]
  },
  {
   "cell_type": "markdown",
   "id": "15ccd552",
   "metadata": {},
   "source": [
    "## 变换"
   ]
  },
  {
   "cell_type": "markdown",
   "id": "80e40876",
   "metadata": {},
   "source": [
    "### torch.reshape()\n",
    "功能：变换张量的形状，当张量在内存中是连续时，新张量与input共享数据内存  \n",
    "参数：  \n",
    "* input：要变换的张量\n",
    "* shape：新张量的形状"
   ]
  },
  {
   "cell_type": "code",
   "execution_count": 27,
   "id": "6f5d1698",
   "metadata": {},
   "outputs": [
    {
     "name": "stdout",
     "output_type": "stream",
     "text": [
      "tensor([7, 0, 4, 5, 6, 3, 1, 2])\n",
      "tensor([[7, 0, 4, 5],\n",
      "        [6, 3, 1, 2]])\n",
      "2262215223152 2262215222992\n"
     ]
    }
   ],
   "source": [
    "t = torch.randperm(8)\n",
    "t_reshape = torch.reshape(t,(2,4))\n",
    "print(t)\n",
    "print(t_reshape)\n",
    "print(id(t),id(t_reshape))"
   ]
  },
  {
   "cell_type": "markdown",
   "id": "b8c3741e",
   "metadata": {},
   "source": [
    "### torch.transpose()\n",
    "功能：交换张量的两个维度  \n",
    "参数：  \n",
    "* input：要交换的张量\n",
    "* dim0：维度1\n",
    "* dim1：维度2"
   ]
  },
  {
   "cell_type": "code",
   "execution_count": 28,
   "id": "0e024cb5",
   "metadata": {},
   "outputs": [
    {
     "name": "stdout",
     "output_type": "stream",
     "text": [
      "torch.Size([2, 3, 4]) torch.Size([4, 3, 2])\n"
     ]
    }
   ],
   "source": [
    "t = torch.rand((2,3,4))\n",
    "t_transpose = torch.transpose(t,0,2)\n",
    "print(t.shape,t_transpose.shape)"
   ]
  },
  {
   "cell_type": "markdown",
   "id": "018959ff",
   "metadata": {},
   "source": [
    "### torch.t()\n",
    "功能：2维张量转置，对矩阵而言，等价于`torch.transpose(input,0,1)`"
   ]
  },
  {
   "cell_type": "markdown",
   "id": "95298fa3",
   "metadata": {},
   "source": [
    "### torch.squeeze()\n",
    "功能：压缩长度为1的维度（轴）\n",
    "参数：  \n",
    "* dim： 若为None，移除所有长度为1的轴；若指定维度，当且仅当该轴长度为1时，可以被移除；"
   ]
  },
  {
   "cell_type": "code",
   "execution_count": 29,
   "id": "7e22555b",
   "metadata": {},
   "outputs": [
    {
     "name": "stdout",
     "output_type": "stream",
     "text": [
      "torch.Size([1, 2, 3, 1])\n",
      "torch.Size([2, 3])\n",
      "torch.Size([2, 3, 1])\n",
      "torch.Size([1, 2, 3, 1])\n"
     ]
    }
   ],
   "source": [
    "t = torch.rand((1,2,3,1))\n",
    "print(t.shape)\n",
    "t_sq = torch.squeeze(t)\n",
    "print(t_sq.shape)\n",
    "t_0 = torch.squeeze(t,dim=0)\n",
    "print(t_0.shape)\n",
    "t_1 = torch.squeeze(t,dim=1)\n",
    "print(t_1.shape)"
   ]
  },
  {
   "cell_type": "markdown",
   "id": "aa44e7ca",
   "metadata": {},
   "source": [
    "### torch.unsqueeze()\n",
    "功能：依据dim扩展长度为1的维度  \n",
    "参数：  \n",
    "* dim：扩展的维度"
   ]
  },
  {
   "cell_type": "markdown",
   "id": "7be5976d",
   "metadata": {},
   "source": [
    "## 数学运算"
   ]
  },
  {
   "cell_type": "markdown",
   "id": "5b3395c5",
   "metadata": {},
   "source": [
    "### 加减乘除"
   ]
  },
  {
   "cell_type": "markdown",
   "id": "78f30047",
   "metadata": {},
   "source": [
    "* torch.add(input,alpha,other)：逐元素计算 $input+alpha*other$\n",
    "* torch.addcdiv(input,value=1,tensor1,tensor2,out=None)：$input+value*tensor1/tensor2$\n",
    "* torch.addcmul(input,value=1,tensor1,tensor2,out=None)：$input+value*tensor1*tensor2$\n",
    "* torch.sub()\n",
    "* torch.div()\n",
    "* torch.mul()"
   ]
  },
  {
   "cell_type": "markdown",
   "id": "8e9fc23c",
   "metadata": {},
   "source": [
    "### 对数、指数、幂函数"
   ]
  },
  {
   "cell_type": "markdown",
   "id": "f07eb886",
   "metadata": {},
   "source": [
    "* torch.log(input,out=None)\n",
    "* torch.log10(input,out=None)\n",
    "* torch.log2(input,out=None)\n",
    "* torch.exp(input,out=None)\n",
    "* torch.pow()"
   ]
  },
  {
   "cell_type": "markdown",
   "id": "b63154dc",
   "metadata": {},
   "source": [
    "### 三角函数"
   ]
  },
  {
   "cell_type": "markdown",
   "id": "1c7acf26",
   "metadata": {},
   "source": [
    "* torch.abs(input,out=None)\n",
    "* torch.acos(input,out=None)\n",
    "* torch.cosh(input,out=None)\n",
    "* torch.cos(input,out=None)\n",
    "* torch.asin(input,out=None)\n",
    "* torch.atan(input,out=None)\n",
    "* torch.atan2(input,other,out=None)"
   ]
  },
  {
   "cell_type": "markdown",
   "id": "a567639c",
   "metadata": {},
   "source": [
    "# 线性回归"
   ]
  },
  {
   "cell_type": "markdown",
   "id": "c7171121",
   "metadata": {},
   "source": [
    "[Visualizing gradient descent in action](https://nbviewer.jupyter.org/gist/joshfp/85d96f07aaa5f4d2c9eb47956ccdcc88/lesson2-sgd-in-action.ipynb)  "
   ]
  },
  {
   "cell_type": "code",
   "execution_count": 30,
   "id": "04d12569",
   "metadata": {
    "scrolled": true
   },
   "outputs": [
    {
     "data": {
      "image/png": "[encoded data removed]",
      "text/plain": [
       "<Figure size 640x480 with 1 Axes>"
      ]
     },
     "metadata": {},
     "output_type": "display_data"
    },
    {
     "data": {
      "image/png": "[encoded data removed]",
      "text/plain": [
       "<Figure size 640x480 with 1 Axes>"
      ]
     },
     "metadata": {},
     "output_type": "display_data"
    },
    {
     "data": {
      "image/png": "[encoded data removed]",
      "text/plain": [
       "<Figure size 640x480 with 1 Axes>"
      ]
     },
     "metadata": {},
     "output_type": "display_data"
    },
    {
     "data": {
      "image/png": "[encoded data removed]",
      "text/plain": [
       "<Figure size 640x480 with 1 Axes>"
      ]
     },
     "metadata": {},
     "output_type": "display_data"
    }
   ],
   "source": [
    "import torch\n",
    "import matplotlib.pyplot as plt\n",
    "torch.manual_seed(10)\n",
    "\n",
    "lr = 0.01  # 学习率\n",
    "best_loss = float(\"inf\")\n",
    "\n",
    "# 创建训练数据\n",
    "x = torch.rand(200, 1) * 10  # x data (tensor), shape=(20, 1)\n",
    "y = 6*x + (5 + torch.randn(200, 1))  # y data (tensor), shape=(20, 1)\n",
    "\n",
    "# 构建线性回归参数\n",
    "w = torch.randn((1), requires_grad=True)\n",
    "b = torch.zeros((1), requires_grad=True)\n",
    "\n",
    "for iteration in range(10000):\n",
    "\n",
    "    # 前向传播\n",
    "    wx = torch.mul(w, x)\n",
    "    y_pred = torch.add(wx, b)\n",
    "\n",
    "    # 计算 MSE loss\n",
    "    loss = (0.5 * (y - y_pred) ** 2).mean()\n",
    "\n",
    "    # 反向传播\n",
    "    loss.backward()\n",
    "    \n",
    "    current_loss = loss.item()\n",
    "    if current_loss < best_loss:\n",
    "        best_loss = current_loss\n",
    "        best_w = w\n",
    "        best_b = b\n",
    "        \n",
    "    # 绘图\n",
    "    if iteration%300 == 0:\n",
    "        if loss.data.numpy() < 3:\n",
    "            plt.scatter(x.data.numpy(), y.data.numpy())\n",
    "            plt.plot(x.data.numpy(), y_pred.data.numpy(), 'r-', lw=5)\n",
    "            plt.text(2, 20, 'Loss=%.4f' % loss.data.numpy(), fontdict={'size': 20, 'color':  'red'})\n",
    "            plt.xlim(1.5, 10)\n",
    "            plt.ylim(8, 40)\n",
    "            plt.title(\"Iteration: {}\\nw: {} b: {}\".format(iteration, w.data.numpy(), b.data.numpy()))\n",
    "            plt.pause(0.5)\n",
    "\n",
    "            if loss.data.numpy() < 0.55:\n",
    "                break\n",
    "            \n",
    "    # 更新参数\n",
    "    w.data.sub_(lr * w.grad)\n",
    "    b.data.sub_(lr * b.grad) \n",
    "    \n",
    "    # 梯度清零\n",
    "    w.grad.zero_()\n",
    "    b.grad.zero_()"
   ]
  },
  {
   "cell_type": "code",
   "execution_count": 31,
   "id": "a2548ec3",
   "metadata": {},
   "outputs": [
    {
     "data": {
      "text/plain": [
       "(0.5364829897880554,\n",
       " tensor([6.0225], requires_grad=True),\n",
       " tensor([4.7358], requires_grad=True))"
      ]
     },
     "execution_count": 31,
     "metadata": {},
     "output_type": "execute_result"
    }
   ],
   "source": [
    "best_loss, best_w, best_b"
   ]
  }
 ],
 "metadata": {
  "kernelspec": {
   "display_name": "Python (Projects)",
   "language": "python",
   "name": "projects"
  },
  "language_info": {
   "codemirror_mode": {
    "name": "ipython",
    "version": 3
   },
   "file_extension": ".py",
   "mimetype": "text/x-python",
   "name": "python",
   "nbconvert_exporter": "python",
   "pygments_lexer": "ipython3",
   "version": "3.9.16"
  },
  "toc": {
   "base_numbering": 1,
   "nav_menu": {},
   "number_sections": true,
   "sideBar": true,
   "skip_h1_title": false,
   "title_cell": "Table of Contents",
   "title_sidebar": "Contents",
   "toc_cell": false,
   "toc_position": {},
   "toc_section_display": true,
   "toc_window_display": true
  }
 },
 "nbformat": 4,
 "nbformat_minor": 5
}
