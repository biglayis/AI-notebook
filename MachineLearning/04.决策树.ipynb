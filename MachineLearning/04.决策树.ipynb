{
 "cells": [
  {
   "cell_type": "markdown",
   "id": "aba5fcb8",
   "metadata": {},
   "source": [
    "# 简介"
   ]
  },
  {
   "cell_type": "markdown",
   "id": "487ec316",
   "metadata": {},
   "source": [
    "## 熵\n",
    "表示随机变量的不确定性，定义如下：  \n",
    "\n",
    "$$H(p)=-\\sum_{i=1}^n p_ilogp_i$$\n",
    "\n",
    "假设 $n=2$，则 $p_1+p_2=1$，$H(p)=-plogp-(1-p)log(1-p)$，可画图如下："
   ]
  },
  {
   "cell_type": "code",
   "execution_count": 1,
   "id": "13b549a4",
   "metadata": {
    "hide_input": true
   },
   "outputs": [
    {
     "data": {
      "image/png": "[encoded data removed]",
      "text/plain": [
       "<Figure size 432x288 with 1 Axes>"
      ]
     },
     "metadata": {
      "needs_background": "light"
     },
     "output_type": "display_data"
    }
   ],
   "source": [
    "import matplotlib.pyplot as plt\n",
    "import numpy as np\n",
    "\n",
    "p = np.linspace(0.001,0.999,100)\n",
    "plt.plot(p,-p*np.log(p)-(1-p)*np.log(1-p))\n",
    "plt.show()"
   ]
  },
  {
   "cell_type": "markdown",
   "id": "142ccb3b",
   "metadata": {},
   "source": [
    "熵越大，随机变量的不确定性越大。  \n",
    "\n",
    "下面是一个决策树问题的例子：\n",
    "\n",
    "<img align=\"left\" src=\"img/决策树举例.png\" style=\"width:800px\">  "
   ]
  },
  {
   "cell_type": "markdown",
   "id": "a58eb4e1",
   "metadata": {},
   "source": [
    "计算这个数据集的熵：  \n",
    "\n",
    "$$\n",
    "\\begin{align}\n",
    "H(D)&=-\\sum_{k=1}^k \\frac{\\left\\vert C_k \\right\\vert}{\\left\\vert D \\right\\vert}log_2\\frac{\\left\\vert C_k \\right\\vert}{\\left\\vert D \\right\\vert} \\\\\\\n",
    "&=-(\\frac{6}{15}log_2\\frac{6}{15}+\\frac{9}{15}log_2\\frac{9}{15}) \\\\\\\n",
    "&=0.971\n",
    "\\end{align}\n",
    "$$\n",
    "\n",
    "$D$ 表示数据条数，$k$ 表示数据类别，$C_k$ 表示第 $k$ 个类别的数据条数。"
   ]
  },
  {
   "cell_type": "markdown",
   "id": "f565e67e",
   "metadata": {},
   "source": [
    "## 条件熵\n",
    "定义如下：  \n",
    "\n",
    "$$H(Y|X)=\\sum_{i=1}^n p_iH(Y|X=x_i)$$\n",
    "\n",
    "其中 $p_i=P(X=x_i)$\n",
    "\n",
    "$$H(D|A)=\\sum_{i=1}^n \\frac{\\left\\vert D_i \\right\\vert}{\\left\\vert D \\right\\vert}H(D_i)=-\\sum_{i=1}^n \\frac{\\left\\vert D_i \\right\\vert}{\\left\\vert D \\right\\vert}\\sum_{k=1}^K \\frac{\\left\\vert D_{ik} \\right\\vert}{\\left\\vert D_i \\right\\vert}log_2\\frac{\\left\\vert D_{ik} \\right\\vert}{\\left\\vert D_i \\right\\vert}$$\n",
    "\n",
    "对于上面的数据集，若 $A$ 是年龄，$D_i$ 表示 $A$ 可能的取值，即青年、中年、老年：  \n",
    "\n",
    "$$\n",
    "\\begin{align}\n",
    "H(D|A)&=\\frac{\\left\\vert D_1 \\right\\vert}{\\left\\vert D \\right\\vert}H(D_1)+\\frac{\\left\\vert D_2 \\right\\vert}{\\left\\vert D \\right\\vert}H(D_2)+\\frac{\\left\\vert D_3 \\right\\vert}{\\left\\vert D \\right\\vert}H(D_3) \\\\\\\n",
    "&=-\\frac{5}{15}(\\frac{3}{5}log_2\\frac{3}{5}+\\frac{2}{5}log_2\\frac{2}{5})-\\frac{5}{15}(\\frac{2}{5}log_2\\frac{2}{5}+\\frac{3}{5}log_2\\frac{3}{5})-\\frac{5}{15}(\\frac{1}{5}log_2\\frac{1}{5}+\\frac{4}{5}log_2\\frac{4}{5}) \\\\\\\n",
    "&=0.888\n",
    "\\end{align}\n",
    "$$"
   ]
  },
  {
   "cell_type": "markdown",
   "id": "0a382708",
   "metadata": {},
   "source": [
    "## 信息增益"
   ]
  },
  {
   "cell_type": "markdown",
   "id": "0c14570d",
   "metadata": {},
   "source": [
    "信息增益（也叫互信息，mutual information），定义如下：  \n",
    "\n",
    "$$g(D,A)=H(D)-H(D|A)$$\n",
    "\n",
    "其中 $D$ 是训练数据集，$A$ 是某个特征。  \n",
    "\n",
    "根据信息增益准则的特征选择方法是：  \n",
    "1. 对训练数据集（或子集） $D$，计算其每个特征的信息增益\n",
    "2. 比较它们的大小，选择信息增益最大的特征"
   ]
  },
  {
   "cell_type": "markdown",
   "id": "decf17a9",
   "metadata": {},
   "source": [
    "**信息增益算法**  \n",
    "1. 计算数据集 $D$ 的经验熵 $H(D)$   \n",
    "\n",
    "$$H(D)=-\\sum_{k=1}^k \\frac{\\left\\vert C_k \\right\\vert}{\\left\\vert D \\right\\vert}log_2\\frac{\\left\\vert C_k \\right\\vert}{\\left\\vert D \\right\\vert}$$\n",
    "\n",
    "2. 计算特征 $A$ 对数据集 $D$ 的经验条件熵 $H(D|A)$  \n",
    "\n",
    "$$H(D|A)=\\sum_{i=1}^n \\frac{\\left\\vert D_i \\right\\vert}{\\left\\vert D \\right\\vert}H(D_i)=-\\sum_{i=1}^n \\frac{\\left\\vert D_i \\right\\vert}{\\left\\vert D \\right\\vert}\\sum_{k=1}^K \\frac{\\left\\vert D_{ik} \\right\\vert}{\\left\\vert D_i \\right\\vert}log_2\\frac{\\left\\vert D_{ik} \\right\\vert}{\\left\\vert D_i \\right\\vert}$$\n",
    "\n",
    "3. 计算信息增益\n",
    "\n",
    "$$g(D,A)=H(D)-H(D|A)$$"
   ]
  },
  {
   "cell_type": "markdown",
   "id": "fadd073a",
   "metadata": {},
   "source": [
    "对于上面的数据集，令 $A_1,A_2,A_3,A_4$ 分别为年龄、有工作、有房子、信贷情况，计算得\n",
    "$g(D,A_1)=0.083,g(D,A_2)=0.324,g(D,A_3)=0.420,g(D,A_4)=0.363$  \n",
    "其中 $A_3$ 的信息增益最大，因此第一次按是否有房子来划分。"
   ]
  },
  {
   "cell_type": "markdown",
   "id": "5c4a5e0b",
   "metadata": {},
   "source": [
    "# ID3算法"
   ]
  },
  {
   "cell_type": "markdown",
   "id": "03602cd6",
   "metadata": {},
   "source": [
    "ID3算法：在决策树递归构建过程中，使用信息增益的方法进行特征选择  \n",
    "\n",
    "决策树生成过程：  \n",
    "1. 从根节点开始计算所有特征的信息增益，选择信息增益最大的特征作为节点特征  \n",
    "2. 再对子节点递归调用以上方法，构建决策树  \n",
    "3. 所有特征信息增益很小或没有特征可以选择时递归结束，得到一颗决策树"
   ]
  },
  {
   "cell_type": "markdown",
   "id": "3334a7ce",
   "metadata": {},
   "source": [
    "## 决策树代码实现"
   ]
  },
  {
   "cell_type": "code",
   "execution_count": 2,
   "id": "68b5f675",
   "metadata": {},
   "outputs": [],
   "source": [
    "import operator\n",
    "from math import log"
   ]
  },
  {
   "cell_type": "markdown",
   "id": "c4143780",
   "metadata": {},
   "source": [
    "<img src=\"img/01.png\" width=\"500\" align=\"left\"/>"
   ]
  },
  {
   "cell_type": "code",
   "execution_count": 3,
   "id": "b8b4014a",
   "metadata": {},
   "outputs": [],
   "source": [
    "def loaddata():\n",
    "    # 此处省略编码过程，青年-0，中年-1，老年-2，有工作-1，无工作-0，有房子-1，无房子-0，一般-0，好-1，非常好-2\n",
    "    dataSet = [[0, 0,0,0, 'no'],\n",
    "               [0, 0,0,1,'no'],\n",
    "               [0, 1,0,1, 'yes'],\n",
    "               [0, 1,1,0, 'yes'],\n",
    "               [0, 0,0,0, 'no'],\n",
    "               [1, 0,0,0, 'no'],\n",
    "               [1, 0,0,1, 'no'],\n",
    "               [1, 1,1,1, 'yes'],\n",
    "               [1, 0,1,2, 'yes'],\n",
    "               [1, 0,1,2, 'yes'],\n",
    "               [2, 0,1,2, 'yes'],\n",
    "               [2, 0,1,1, 'yes'],\n",
    "               [2, 1,0,1, 'yes'],\n",
    "               [2, 1,0,2, 'yes'],\n",
    "               [2, 0,0,0,'no']]\n",
    "    feature_name = ['age','job','house','credit']\n",
    "    return dataSet, feature_name"
   ]
  },
  {
   "cell_type": "markdown",
   "id": "394a12c1",
   "metadata": {},
   "source": [
    "**1.计算数据集的熵**"
   ]
  },
  {
   "cell_type": "markdown",
   "id": "c81367ae",
   "metadata": {},
   "source": [
    "$$H(D)=-\\sum_{k=1}^k \\frac{\\left\\vert C_k \\right\\vert}{\\left\\vert D \\right\\vert}log_2\\frac{\\left\\vert C_k \\right\\vert}{\\left\\vert D \\right\\vert}$$"
   ]
  },
  {
   "cell_type": "code",
   "execution_count": 4,
   "id": "a4799cdd",
   "metadata": {},
   "outputs": [],
   "source": [
    "def entropy(dataSet):\n",
    "    # 数据集条数\n",
    "    m = len(dataSet)\n",
    "    # 不同类别的计数\n",
    "    labelCounts = {}\n",
    "    # 循环数据集\n",
    "    for featVec in dataSet:\n",
    "        # 取标签\n",
    "        currentLabel = featVec[-1]\n",
    "        # 如果字典中不存在则为0，否则加1\n",
    "        if currentLabel not in labelCounts.keys():\n",
    "            labelCounts[currentLabel] = 0\n",
    "        labelCounts[currentLabel] += 1\n",
    "    # 保存最终的熵值\n",
    "    e = 0.0\n",
    "    # 根据公式计算熵\n",
    "    for key in labelCounts:\n",
    "        prob = float(labelCounts[key]/m)\n",
    "        e -= prob*log(prob,2)\n",
    "    return e"
   ]
  },
  {
   "cell_type": "code",
   "execution_count": 5,
   "id": "2034fdc6",
   "metadata": {},
   "outputs": [
    {
     "data": {
      "text/plain": [
       "0.9709505944546686"
      ]
     },
     "execution_count": 5,
     "metadata": {},
     "output_type": "execute_result"
    }
   ],
   "source": [
    "dataSet, feature_name = loaddata()\n",
    "entropy(dataSet)"
   ]
  },
  {
   "cell_type": "code",
   "execution_count": 6,
   "id": "565a0741",
   "metadata": {},
   "outputs": [
    {
     "data": {
      "text/plain": [
       "[[0, 0, 0, 0, 'no'],\n",
       " [0, 0, 0, 1, 'no'],\n",
       " [0, 1, 0, 1, 'yes'],\n",
       " [0, 1, 1, 0, 'yes'],\n",
       " [0, 0, 0, 0, 'no'],\n",
       " [1, 0, 0, 0, 'no'],\n",
       " [1, 0, 0, 1, 'no'],\n",
       " [1, 1, 1, 1, 'yes'],\n",
       " [1, 0, 1, 2, 'yes'],\n",
       " [1, 0, 1, 2, 'yes'],\n",
       " [2, 0, 1, 2, 'yes'],\n",
       " [2, 0, 1, 1, 'yes'],\n",
       " [2, 1, 0, 1, 'yes'],\n",
       " [2, 1, 0, 2, 'yes'],\n",
       " [2, 0, 0, 0, 'no']]"
      ]
     },
     "execution_count": 6,
     "metadata": {},
     "output_type": "execute_result"
    }
   ],
   "source": [
    "dataSet"
   ]
  },
  {
   "cell_type": "markdown",
   "id": "5196be40",
   "metadata": {},
   "source": [
    "**2.划分数据集**"
   ]
  },
  {
   "cell_type": "markdown",
   "id": "8e8c9908",
   "metadata": {},
   "source": [
    "按照第axis个特征划分数据集，取出值为value的数据。"
   ]
  },
  {
   "cell_type": "code",
   "execution_count": 7,
   "id": "a51301de",
   "metadata": {},
   "outputs": [],
   "source": [
    "def splitDataSet(dataSet,axis,value):\n",
    "    # 按轴和值划分好的数据集\n",
    "    retDataSet = []\n",
    "    # 循环数据集\n",
    "    for featVec in dataSet:\n",
    "        # 当前数据按轴取出的数据符合传入的value值\n",
    "        if featVec[axis] == value:\n",
    "            # 当前划分的这一列不要\n",
    "            reducedFeatVec = featVec.remove\n",
    "            reducedFeatVec = featVec[:axis]\n",
    "            reducedFeatVec.extend(featVec[axis+1:])\n",
    "            retDataSet.append(reducedFeatVec)\n",
    "            \n",
    "    return retDataSet"
   ]
  },
  {
   "cell_type": "code",
   "execution_count": 8,
   "id": "1baed0aa",
   "metadata": {},
   "outputs": [
    {
     "data": {
      "text/plain": [
       "[[0, 0, 0, 'no'],\n",
       " [0, 0, 1, 'no'],\n",
       " [0, 1, 1, 'yes'],\n",
       " [0, 0, 0, 'no'],\n",
       " [1, 0, 0, 'no'],\n",
       " [1, 0, 1, 'no'],\n",
       " [2, 1, 1, 'yes'],\n",
       " [2, 1, 2, 'yes'],\n",
       " [2, 0, 0, 'no']]"
      ]
     },
     "execution_count": 8,
     "metadata": {},
     "output_type": "execute_result"
    }
   ],
   "source": [
    "splitDataSet(dataSet,2,0)"
   ]
  },
  {
   "cell_type": "markdown",
   "id": "bc3051b5",
   "metadata": {},
   "source": [
    "**3.选择最好的特征**"
   ]
  },
  {
   "cell_type": "markdown",
   "id": "0193badb",
   "metadata": {},
   "source": [
    "1. 计算数据集 $D$ 的经验熵 $H(D)$   \n",
    "2. 计算特征 $A$ 对数据集 $D$ 的经验条件熵 $H(D|A)$  \n",
    "3. 计算信息增益"
   ]
  },
  {
   "cell_type": "code",
   "execution_count": 9,
   "id": "9b6e5363",
   "metadata": {},
   "outputs": [],
   "source": [
    "def chooseBestFeature(dataSet):\n",
    "    # 特征数\n",
    "    n = len(dataSet[0]) - 1\n",
    "    # 计算整个数据集的熵\n",
    "    h_d = entropy(dataSet)\n",
    "    bestInfoGain = 0.0\n",
    "    bestFeature = -1\n",
    "    # 遍历每个特征\n",
    "    for i in range(n):\n",
    "        # 获取当前特征的所有值\n",
    "        currentFeat = [example[i] for example in dataSet]\n",
    "        # 当前特征的可能取值\n",
    "        uniqueVals = set(currentFeat)\n",
    "        # 定义一临时变量保存当前的条件熵\n",
    "        h_da = 0.0\n",
    "        # 循环每一个可能的取值\n",
    "        for value in uniqueVals:\n",
    "            # 按该值进行数据集划分\n",
    "            subDataSet = splitDataSet(dataSet,i,value)\n",
    "            # 计算条件熵\n",
    "            prob = float(len(subDataSet)/len(dataSet))\n",
    "            h_da += prob * entropy(subDataSet)\n",
    "        # 计算信息增益\n",
    "        g_da = h_d - h_da\n",
    "        # 保存当前最大的信息增益及对应的特征\n",
    "        if g_da > bestInfoGain:\n",
    "            bestFeature = i\n",
    "            bestInfoGain = g_da\n",
    "    # 返回最优特征\n",
    "    return bestFeature"
   ]
  },
  {
   "cell_type": "code",
   "execution_count": 10,
   "id": "ad48177b",
   "metadata": {},
   "outputs": [
    {
     "data": {
      "text/plain": [
       "2"
      ]
     },
     "execution_count": 10,
     "metadata": {},
     "output_type": "execute_result"
    }
   ],
   "source": [
    "chooseBestFeature(dataSet)"
   ]
  },
  {
   "cell_type": "markdown",
   "id": "f99f2d20",
   "metadata": {},
   "source": [
    "**4.类别投票表决**"
   ]
  },
  {
   "cell_type": "markdown",
   "id": "955524de",
   "metadata": {},
   "source": [
    "当只剩下一个特征时，选择占比高的类别作为最终结果。"
   ]
  },
  {
   "cell_type": "code",
   "execution_count": 11,
   "id": "26daa016",
   "metadata": {},
   "outputs": [],
   "source": [
    "def classVote(classList):\n",
    "    # 定义一字典，记录每个标签对应的个数\n",
    "    labelCounts = {}\n",
    "    # 循环计数\n",
    "    for vote in classList:\n",
    "        if vote not in labelCounts.keys():\n",
    "            labelCounts[vote] = 0\n",
    "        labelCounts[vote] += 1\n",
    "    # 排序\n",
    "    print(\"labelCounts.items()=\",labelCounts.items())\n",
    "    sortedClassCount = sorted(labelCounts.items(),key=operator.itemgetter(1),reverse=True)\n",
    "    print(\"sortedClassCount:\",sortedClassCount)\n",
    "    return sortedClassCount[0][0]"
   ]
  },
  {
   "cell_type": "code",
   "execution_count": 12,
   "id": "5e8a8714",
   "metadata": {},
   "outputs": [
    {
     "name": "stdout",
     "output_type": "stream",
     "text": [
      "labelCounts.items()= dict_items([('yes', 3), ('no', 2)])\n",
      "sortedClassCount: [('yes', 3), ('no', 2)]\n"
     ]
    },
    {
     "data": {
      "text/plain": [
       "'yes'"
      ]
     },
     "execution_count": 12,
     "metadata": {},
     "output_type": "execute_result"
    }
   ],
   "source": [
    "classList = np.array(['yes','no','yes','no','yes'])\n",
    "classVote(classList)"
   ]
  },
  {
   "cell_type": "markdown",
   "id": "22dfb225",
   "metadata": {},
   "source": [
    "**5.递归训练一棵树**"
   ]
  },
  {
   "cell_type": "code",
   "execution_count": 13,
   "id": "a1040148",
   "metadata": {},
   "outputs": [],
   "source": [
    "def trainTree(dataSet,feature_name):\n",
    "    # 取出最后一列\n",
    "    classList = [example[-1] for example in dataSet]\n",
    "    # 停止条件\n",
    "    if classList.count(classList[0]) == len(classList):    # 所有类别都一致\n",
    "        return classList[0]     \n",
    "    if len(dataSet[0]) == 1:                               # 数据集中只剩下一个特征\n",
    "        return classVote(classList)    \n",
    "    \n",
    "    bestFeature = chooseBestFeature(dataSet)\n",
    "    bestFeatureName = feature_name[bestFeature]\n",
    "    myTree = {bestFeatureName:{}}\n",
    "    featVals = [example[bestFeature] for example in dataSet]\n",
    "    uniqueVals = set(featVals)\n",
    "    for value in uniqueVals:\n",
    "        sub_feature_name = feature_name[:bestFeature]\n",
    "        sub_feature_name.extend(feature_name[bestFeature+1:-1])\n",
    "        # 递归调用函数，直到停止\n",
    "        myTree[bestFeatureName][value] = trainTree(splitDataSet(dataSet,bestFeature,value),sub_feature_name)\n",
    "        \n",
    "    return myTree"
   ]
  },
  {
   "cell_type": "code",
   "execution_count": 14,
   "id": "c2b2ad45",
   "metadata": {},
   "outputs": [
    {
     "name": "stdout",
     "output_type": "stream",
     "text": [
      "{'house': {0: {'job': {0: 'no', 1: 'yes'}}, 1: 'yes'}}\n"
     ]
    }
   ],
   "source": [
    "myTree = trainTree(dataSet,feature_name)\n",
    "print(myTree)"
   ]
  },
  {
   "cell_type": "markdown",
   "id": "5b501467",
   "metadata": {},
   "source": [
    "**6.预测**"
   ]
  },
  {
   "cell_type": "code",
   "execution_count": 15,
   "id": "a5bb4e0b",
   "metadata": {},
   "outputs": [],
   "source": [
    "def predict(inputTree,feature_name,testVec):\n",
    "    print(\"inputTree.keys()=\",inputTree.keys())    \n",
    "    firstStr = list(inputTree.keys())[0]           # 取出顶点\n",
    "    print(\"firstStr=\",firstStr)\n",
    "    secondDict = inputTree[firstStr]               # 取出顶点下面的树\n",
    "    print(\"secondDict=\",secondDict)\n",
    "    featIndex = feature_name.index(firstStr)       # 取出顶点在特征中的索引值\n",
    "    print(\"featIndex=\",featIndex)\n",
    "    key = testVec[featIndex]                       # 取出预测数据中顶点特征的值\n",
    "    print(\"key=\",key)\n",
    "    # \n",
    "    valueOfFeat = secondDict[key]                  # 从顶点向下走一步\n",
    "    print(\"---------------------------------\")\n",
    "    if isinstance(valueOfFeat, dict):              # 判断是字典还是字符串，如果是字典，递归调用predict，如果是字符串，则为最终结果\n",
    "        classLabel = predict(valueOfFeat, feature_name, testVec)\n",
    "    else: classLabel = valueOfFeat\n",
    "    return classLabel"
   ]
  },
  {
   "cell_type": "code",
   "execution_count": 16,
   "id": "1e32f292",
   "metadata": {
    "scrolled": false
   },
   "outputs": [
    {
     "name": "stdout",
     "output_type": "stream",
     "text": [
      "inputTree.keys()= dict_keys(['house'])\n",
      "firstStr= house\n",
      "secondDict= {0: {'job': {0: 'no', 1: 'yes'}}, 1: 'yes'}\n",
      "featIndex= 2\n",
      "key= 0\n",
      "---------------------------------\n",
      "inputTree.keys()= dict_keys(['job'])\n",
      "firstStr= job\n",
      "secondDict= {0: 'no', 1: 'yes'}\n",
      "featIndex= 1\n",
      "key= 1\n",
      "---------------------------------\n",
      "yes\n"
     ]
    }
   ],
   "source": [
    "print(predict(myTree,feature_name,[1,1,0,1]))"
   ]
  },
  {
   "cell_type": "markdown",
   "id": "49ce451d",
   "metadata": {},
   "source": [
    "# C4.5算法"
   ]
  },
  {
   "cell_type": "markdown",
   "id": "5239f16a",
   "metadata": {},
   "source": [
    "C4.5是对ID3的改进，在树生成过程中，使用信息增益比来选择特征。  \n",
    "\n",
    "ID3计算信息增益公式：  \n",
    "\n",
    "$$g(D,A)=H(D)-H(D|A)$$\n",
    "\n",
    "C4.5计算信息增益公式：  \n",
    "\n",
    "$$g_R(D,A)=\\frac{g(D,A)}{H_A(D)}$$\n",
    "\n",
    "其中，\n",
    "\n",
    "$$H_A(D)=-\\sum_{i=1}^n \\frac{\\left\\vert D_i \\right\\vert}{\\left\\vert D \\right\\vert}log_2\\frac{\\left\\vert D_i \\right\\vert}{\\left\\vert D \\right\\vert}$$\n",
    "\n",
    "$n$ 是特征 $A$ 取值的个数  \n",
    "\n",
    "对于上面的数据集，若 $A$ 是信贷情况，则  \n",
    "\n",
    "$$H_A(D)=-(\\frac{5}{15}log_2\\frac{5}{15}+\\frac{6}{15}log_2\\frac{6}{15}+\\frac{4}{15}log_2\\frac{4}{15})$$"
   ]
  },
  {
   "cell_type": "markdown",
   "id": "aeaf6a1c",
   "metadata": {},
   "source": [
    "# 基尼指数生成决策树（CART算法）"
   ]
  },
  {
   "cell_type": "markdown",
   "id": "5eda55d1",
   "metadata": {},
   "source": [
    "CART算法：在树生成过程中，使用基尼指数选择最优特征。生成的是二叉树。  \n",
    "\n",
    "1. 设样本点属于第 $k$ 类的概率为 $p_k$，则 $Gini(p)=\\sum_{k=1}^K p_k(1-p_k)=1-\\sum_{k=1}^K p_k^2$  \n",
    "2. 给定样本集合 $D$，其基尼指数为：$Gini(D)=1-\\sum_{k=1}^K (\\frac{\\left\\vert C_k \\right\\vert}{\\left\\vert D \\right\\vert})^2$  \n",
    "3. 在特征 $A$ 的条件下，集合 $D$ 的基尼指数为：  \n",
    "\n",
    "$$Gini(D,A)=\\frac{\\left\\vert D_1 \\right\\vert}{\\left\\vert D \\right\\vert}Gini(D1)+\\frac{\\left\\vert D_2 \\right\\vert}{\\left\\vert D \\right\\vert}Gini(D2)$$\n",
    "\n",
    "若有多个类别，每一次将一个类别划为正类，其余类别划为负类。  \n",
    "\n",
    "基尼指数越大，样本的不确定性越大。选择**基尼指数最小**的特征为划分点。"
   ]
  },
  {
   "cell_type": "markdown",
   "id": "a8484bd9",
   "metadata": {},
   "source": [
    "用上面的数据集，根据基尼指数求最优特征：  \n",
    "令 $A_1,A_2,A_3,A_4$ 分别为年龄、有工作、有房子、信贷情况，令 $D_1=\\{A_1=青年\\}$，则 $D_2=\\{A_1=其他\\}$：  \n",
    "\n",
    "$Gini(D,A_1=1)=\\frac{5}{15}Gini(D_1)+\\frac{10}{15}Gini(D_2)=\\frac{5}{15}[1-((\\frac{2}{5})^2+(\\frac{3}{5})^2)]+\\frac{10}{15}[1-((\\frac{3}{10})^+(\\frac{7}{10})^2)]=0.44$  \n",
    "\n",
    "令 $D_1=\\{A_1=中年\\}$，则 $D_2=\\{A_1=其他\\}$：  \n",
    "$Gini(D,A_1=2)=0.48$  \n",
    "\n",
    "令 $D_1=\\{A_1=老年\\}$，则 $D_2=\\{A_1=其他\\}$：  \n",
    "$Gini(D,A_1=3)=0.44$  \n",
    "\n",
    "$Gini(D,A_2=1)=0.32$  \n",
    "\n",
    "$Gini(D,A_3=1)=0.27$  \n",
    "\n",
    "$Gini(D,A_4=1)=0.36$  \n",
    "\n",
    "$Gini(D,A_4=2)=0.47$  \n",
    "\n",
    "$Gini(D,A_4=3)=0.32$  \n",
    "\n",
    "因此选 $A_3$ 为最优特征，$A_3=1$ 为最优切分点。"
   ]
  },
  {
   "cell_type": "markdown",
   "id": "702d9cb4",
   "metadata": {},
   "source": [
    "# 决策树剪枝"
   ]
  },
  {
   "cell_type": "markdown",
   "id": "fb1e6d96",
   "metadata": {},
   "source": [
    "决策树剪枝是为了避免树的深度过深，导致过拟合。"
   ]
  },
  {
   "cell_type": "markdown",
   "id": "f528dfdd",
   "metadata": {},
   "source": [
    "以上面的数据集为例，从原始数据集中抽出三条数据作为验证集：\n",
    "\n",
    "<img align=\"left\" src=\"img/预剪枝.png\" width=\"450px\">"
   ]
  },
  {
   "cell_type": "markdown",
   "id": "b797ba75",
   "metadata": {},
   "source": [
    "* 预剪枝：每一次划分后，都用验证集代入，计算其精度，若精度提高了，则继续向下划分；若精度降低了，则退回上一层，从另一个节点开始划分。  \n",
    "* 后剪枝：在模型训练完成后，代入验证集，计算整棵树的精度，然后把最深的一个节点剪掉，如果精度提高，则继续向上，如果精度降低，则保留该节点，继续下一个节点。"
   ]
  },
  {
   "cell_type": "markdown",
   "id": "10266702",
   "metadata": {},
   "source": [
    "一般情况下，后剪枝的决策树欠拟合风险更小，泛化能力往往优于预剪枝的决策树，但是后剪枝是在生成整棵决策树后进行的，从下往上对非叶子节点进行考察，因此其训练开销比预剪枝的决策树更大。"
   ]
  },
  {
   "cell_type": "markdown",
   "id": "4ae45c73",
   "metadata": {},
   "source": [
    "# 决策树处理连续值与缺失值"
   ]
  },
  {
   "cell_type": "markdown",
   "id": "2e4ef064",
   "metadata": {},
   "source": [
    "## 处理连续值"
   ]
  },
  {
   "cell_type": "markdown",
   "id": "c3ff521b",
   "metadata": {},
   "source": [
    "下图中工资为连续值，我们无法对每个可能的取值计算信息增益，因此需要对其离散化处理。\n",
    "\n",
    "<img align=\"left\" src=\"img/决策树处理连续值.png\" width=\"450px\">"
   ]
  },
  {
   "cell_type": "markdown",
   "id": "4e76e3c3",
   "metadata": {},
   "source": [
    "我们可以采用二分法。将工资从小到大排序 $x_1,x_2,...,x_15$，先将 $x_1$ 置为0，其他置为1，计算当前的信息增益 $g_1$；再将小于等于 $x_2$ 的值置为0，其他置为1，计算当前的信息增益 $g_2$；依此类推，最后一次将小于等于 $x_14$ 的值置为0，$x_15$ 置为1，得到$g_14$。将信息增益最大的作为划分准则。"
   ]
  },
  {
   "cell_type": "markdown",
   "id": "ce9f52e6",
   "metadata": {},
   "source": [
    "## 处理缺失值"
   ]
  },
  {
   "cell_type": "markdown",
   "id": "6d293407",
   "metadata": {},
   "source": [
    "下图中标黄的为缺失值，最简单的办法是直接去掉有缺失值的数据，当数据量较大时，适合直接去掉，但是当数据量较小时，不适合采用此方案。\n",
    "\n",
    "<img align=\"left\" src=\"img/决策树处理缺失值.png\" width=\"450px\">"
   ]
  },
  {
   "cell_type": "markdown",
   "id": "2be798f3",
   "metadata": {},
   "source": [
    "当数据量较小时，我们先计算不包含缺失数据的熵和条件熵，计算信息增益，然后将信息增益乘以该特征中不含缺失数据与全部数据的比例，得到最终的信息增益。选择信息增益最大的特征作为划分，该特征中的缺失数据会进入所有子节点，在每个节点中的权重为当前特征值不含缺失值的数据与全部数据的比例"
   ]
  },
  {
   "cell_type": "markdown",
   "id": "bfed4d0d",
   "metadata": {},
   "source": [
    "# 多变量决策树"
   ]
  },
  {
   "cell_type": "markdown",
   "id": "af22d76c",
   "metadata": {},
   "source": [
    "<img align=\"left\" src=\"img/多变量决策树.png\" width=\"650px\">  "
   ]
  },
  {
   "cell_type": "markdown",
   "id": "4bc898d0",
   "metadata": {},
   "source": [
    "当决策边界过于复杂时，预测性能会比较低，我们可以将一些特征进行线性组合：  \n",
    "\n",
    "<img align=\"left\" src=\"img/多变量决策树2.png\" width=\"350px\">  "
   ]
  },
  {
   "cell_type": "markdown",
   "id": "dab3ae17",
   "metadata": {},
   "source": [
    "# sklearn实现决策树"
   ]
  },
  {
   "cell_type": "code",
   "execution_count": 17,
   "id": "6a525a73",
   "metadata": {},
   "outputs": [],
   "source": [
    "from sklearn import tree\n",
    "from sklearn.tree import export_graphviz\n",
    "import graphviz"
   ]
  },
  {
   "cell_type": "markdown",
   "id": "85484aee",
   "metadata": {},
   "source": [
    "Sklearn中实现的决策树都是二叉树\n",
    "\n",
    "DecisionTreeClassifier的常用参数含义：\n",
    "- criterion：‘gini’ or ‘entropy’ (default=”gini”)，前者是基尼系数，后者是信息熵。\n",
    "- max_depth：决策树最大深度。常用来解决过拟合。\n",
    "- min_impurity_decrease：这个值限制了决策树的增长，如果某节点的不纯度(基尼系数，信息增益)小于这个阈值，则该节点不再生成子节点。\n",
    "- min_samples_split：如果是 int，则取传入值本身作为最小样本数； 如果是 float，则用 ceil(min_samples_split * 样本数量) 的值作为最小样本数，即向上取整。\n",
    "- min_samples_leaf：如果是 int，则取传入值本身作为最小样本数； 如果是 float，则去 ceil(min_samples_leaf * 样本数量) 的值作为最小样本数，即向上取整。 这个值限制了叶子节点最少的样本数，如果某叶子节点数目小于样本数，则会和兄弟节点一起被剪枝。\n",
    "- max_leaf_nodes：最大叶子节点数。如果特征不多，可以不考虑这个值，但是如果特征分成多的话，可以加以限制，具体的值可以通过交叉验证得到。\n",
    "- min_impurity_split：决策树在创建分支时，信息增益（基尼系数）必须大于这个阀值，否则不分裂"
   ]
  },
  {
   "cell_type": "code",
   "execution_count": 18,
   "id": "059b617d",
   "metadata": {},
   "outputs": [
    {
     "name": "stdout",
     "output_type": "stream",
     "text": [
      "['yes']\n"
     ]
    }
   ],
   "source": [
    "myData,feature_name = loaddata()\n",
    "#取训练数据X\n",
    "X = np.array(myData)[:,0:-1]\n",
    "#取标签y\n",
    "y = np.array(myData)[:,-1].reshape(-1,1)\n",
    "#定义决策树\n",
    "myTree = tree.DecisionTreeClassifier()\n",
    "#fit数据\n",
    "myTree.fit(X,y)\n",
    "#预测[1,1,0,1]的分类\n",
    "print(myTree.predict([[1,1,0,1]]))"
   ]
  },
  {
   "cell_type": "code",
   "execution_count": 19,
   "id": "30defd92",
   "metadata": {},
   "outputs": [],
   "source": [
    "# 保存树结构\n",
    "export_graphviz(\n",
    "    myTree,\n",
    "    out_file=\"data/tree.dot\",\n",
    "    feature_names=feature_name,\n",
    "    class_names=['yes','no'],\n",
    "    rounded=True,\n",
    "    filled=True\n",
    ")"
   ]
  },
  {
   "cell_type": "code",
   "execution_count": 20,
   "id": "42df0752",
   "metadata": {},
   "outputs": [
    {
     "data": {
      "text/plain": [
       "'Source.gv.pdf'"
      ]
     },
     "execution_count": 20,
     "metadata": {},
     "output_type": "execute_result"
    }
   ],
   "source": [
    "# 打开树结构\n",
    "with open(\"data/tree.dot\") as f:\n",
    "    dot_grapth = f.read()\n",
    "dot = graphviz.Source(dot_grapth)\n",
    "dot.view()"
   ]
  },
  {
   "cell_type": "markdown",
   "id": "a471048c",
   "metadata": {},
   "source": [
    "# 案例：使用决策树进行个人信用风险评估"
   ]
  },
  {
   "cell_type": "markdown",
   "id": "c7897fca",
   "metadata": {},
   "source": [
    "## 数据源"
   ]
  },
  {
   "cell_type": "markdown",
   "id": "3fff4b71",
   "metadata": {},
   "source": [
    "使用UCI上的德国信用数据集。该数据集包含了1000个贷款信息，每一个贷款有20个自变量和一个类变量记录该笔贷款是否违约。\n",
    "我们将使用该数据集构建模型来预测贷款是否违约。"
   ]
  },
  {
   "cell_type": "code",
   "execution_count": 21,
   "id": "fc56702e",
   "metadata": {
    "scrolled": false
   },
   "outputs": [
    {
     "data": {
      "text/html": [
       "<div>\n",
       "<style scoped>\n",
       "    .dataframe tbody tr th:only-of-type {\n",
       "        vertical-align: middle;\n",
       "    }\n",
       "\n",
       "    .dataframe tbody tr th {\n",
       "        vertical-align: top;\n",
       "    }\n",
       "\n",
       "    .dataframe thead th {\n",
       "        text-align: right;\n",
       "    }\n",
       "</style>\n",
       "<table border=\"1\" class=\"dataframe\">\n",
       "  <thead>\n",
       "    <tr style=\"text-align: right;\">\n",
       "      <th></th>\n",
       "      <th>default</th>\n",
       "      <th>account_check_status</th>\n",
       "      <th>duration_in_month</th>\n",
       "      <th>credit_history</th>\n",
       "      <th>purpose</th>\n",
       "      <th>credit_amount</th>\n",
       "      <th>savings</th>\n",
       "      <th>present_emp_since</th>\n",
       "      <th>installment_as_income_perc</th>\n",
       "      <th>personal_status_sex</th>\n",
       "      <th>other_debtors</th>\n",
       "      <th>present_res_since</th>\n",
       "      <th>property</th>\n",
       "      <th>age</th>\n",
       "      <th>other_installment_plans</th>\n",
       "      <th>housing</th>\n",
       "      <th>credits_this_bank</th>\n",
       "      <th>job</th>\n",
       "      <th>people_under_maintenance</th>\n",
       "      <th>telephone</th>\n",
       "      <th>foreign_worker</th>\n",
       "    </tr>\n",
       "  </thead>\n",
       "  <tbody>\n",
       "    <tr>\n",
       "      <th>0</th>\n",
       "      <td>0</td>\n",
       "      <td>&lt; 0 DM</td>\n",
       "      <td>6</td>\n",
       "      <td>critical account/ other credits existing (not ...</td>\n",
       "      <td>domestic appliances</td>\n",
       "      <td>1169</td>\n",
       "      <td>unknown/ no savings account</td>\n",
       "      <td>.. &gt;= 7 years</td>\n",
       "      <td>4</td>\n",
       "      <td>male : single</td>\n",
       "      <td>none</td>\n",
       "      <td>4</td>\n",
       "      <td>real estate</td>\n",
       "      <td>67</td>\n",
       "      <td>none</td>\n",
       "      <td>own</td>\n",
       "      <td>2</td>\n",
       "      <td>skilled employee / official</td>\n",
       "      <td>1</td>\n",
       "      <td>yes, registered under the customers name</td>\n",
       "      <td>yes</td>\n",
       "    </tr>\n",
       "    <tr>\n",
       "      <th>1</th>\n",
       "      <td>1</td>\n",
       "      <td>0 &lt;= ... &lt; 200 DM</td>\n",
       "      <td>48</td>\n",
       "      <td>existing credits paid back duly till now</td>\n",
       "      <td>domestic appliances</td>\n",
       "      <td>5951</td>\n",
       "      <td>... &lt; 100 DM</td>\n",
       "      <td>1 &lt;= ... &lt; 4 years</td>\n",
       "      <td>2</td>\n",
       "      <td>female : divorced/separated/married</td>\n",
       "      <td>none</td>\n",
       "      <td>2</td>\n",
       "      <td>real estate</td>\n",
       "      <td>22</td>\n",
       "      <td>none</td>\n",
       "      <td>own</td>\n",
       "      <td>1</td>\n",
       "      <td>skilled employee / official</td>\n",
       "      <td>1</td>\n",
       "      <td>none</td>\n",
       "      <td>yes</td>\n",
       "    </tr>\n",
       "    <tr>\n",
       "      <th>2</th>\n",
       "      <td>0</td>\n",
       "      <td>no checking account</td>\n",
       "      <td>12</td>\n",
       "      <td>critical account/ other credits existing (not ...</td>\n",
       "      <td>(vacation - does not exist?)</td>\n",
       "      <td>2096</td>\n",
       "      <td>... &lt; 100 DM</td>\n",
       "      <td>4 &lt;= ... &lt; 7 years</td>\n",
       "      <td>2</td>\n",
       "      <td>male : single</td>\n",
       "      <td>none</td>\n",
       "      <td>3</td>\n",
       "      <td>real estate</td>\n",
       "      <td>49</td>\n",
       "      <td>none</td>\n",
       "      <td>own</td>\n",
       "      <td>1</td>\n",
       "      <td>unskilled - resident</td>\n",
       "      <td>2</td>\n",
       "      <td>none</td>\n",
       "      <td>yes</td>\n",
       "    </tr>\n",
       "    <tr>\n",
       "      <th>3</th>\n",
       "      <td>0</td>\n",
       "      <td>&lt; 0 DM</td>\n",
       "      <td>42</td>\n",
       "      <td>existing credits paid back duly till now</td>\n",
       "      <td>radio/television</td>\n",
       "      <td>7882</td>\n",
       "      <td>... &lt; 100 DM</td>\n",
       "      <td>4 &lt;= ... &lt; 7 years</td>\n",
       "      <td>2</td>\n",
       "      <td>male : single</td>\n",
       "      <td>guarantor</td>\n",
       "      <td>4</td>\n",
       "      <td>if not A121 : building society savings agreeme...</td>\n",
       "      <td>45</td>\n",
       "      <td>none</td>\n",
       "      <td>for free</td>\n",
       "      <td>1</td>\n",
       "      <td>skilled employee / official</td>\n",
       "      <td>2</td>\n",
       "      <td>none</td>\n",
       "      <td>yes</td>\n",
       "    </tr>\n",
       "    <tr>\n",
       "      <th>4</th>\n",
       "      <td>1</td>\n",
       "      <td>&lt; 0 DM</td>\n",
       "      <td>24</td>\n",
       "      <td>delay in paying off in the past</td>\n",
       "      <td>car (new)</td>\n",
       "      <td>4870</td>\n",
       "      <td>... &lt; 100 DM</td>\n",
       "      <td>1 &lt;= ... &lt; 4 years</td>\n",
       "      <td>3</td>\n",
       "      <td>male : single</td>\n",
       "      <td>none</td>\n",
       "      <td>4</td>\n",
       "      <td>unknown / no property</td>\n",
       "      <td>53</td>\n",
       "      <td>none</td>\n",
       "      <td>for free</td>\n",
       "      <td>2</td>\n",
       "      <td>skilled employee / official</td>\n",
       "      <td>2</td>\n",
       "      <td>none</td>\n",
       "      <td>yes</td>\n",
       "    </tr>\n",
       "  </tbody>\n",
       "</table>\n",
       "</div>"
      ],
      "text/plain": [
       "   default account_check_status  ...                                  telephone foreign_worker\n",
       "0        0               < 0 DM  ...  yes, registered under the customers name             yes\n",
       "1        1    0 <= ... < 200 DM  ...                                       none            yes\n",
       "2        0  no checking account  ...                                       none            yes\n",
       "3        0               < 0 DM  ...                                       none            yes\n",
       "4        1               < 0 DM  ...                                       none            yes\n",
       "\n",
       "[5 rows x 21 columns]"
      ]
     },
     "execution_count": 21,
     "metadata": {},
     "output_type": "execute_result"
    }
   ],
   "source": [
    "import numpy as np\n",
    "import pandas as pd\n",
    "import matplotlib.pyplot as plt\n",
    "\n",
    "credit = pd.read_csv(\"data/german_credit.csv\")\n",
    "credit.head()"
   ]
  },
  {
   "cell_type": "markdown",
   "id": "2ff7c778",
   "metadata": {},
   "source": [
    "## 数据探索和预处理"
   ]
  },
  {
   "cell_type": "markdown",
   "id": "3e5a1d95",
   "metadata": {},
   "source": [
    "该数据集包含1000个样本和21个变量。其中`default`表示信用好坏(0表示好，1表示坏)，其余为特征变量\n",
    "\n",
    "使用`value_counts()`函数对支票余额变量`account_check_status`和储蓄账户余额变量`savings`进行查看。"
   ]
  },
  {
   "cell_type": "code",
   "execution_count": 22,
   "id": "e949b951",
   "metadata": {},
   "outputs": [
    {
     "data": {
      "text/plain": [
       "no checking account                                   394\n",
       "< 0 DM                                                274\n",
       "0 <= ... < 200 DM                                     269\n",
       ">= 200 DM / salary assignments for at least 1 year     63\n",
       "Name: account_check_status, dtype: int64"
      ]
     },
     "execution_count": 22,
     "metadata": {},
     "output_type": "execute_result"
    }
   ],
   "source": [
    "credit.account_check_status.value_counts()"
   ]
  },
  {
   "cell_type": "code",
   "execution_count": 23,
   "id": "e1059504",
   "metadata": {},
   "outputs": [
    {
     "data": {
      "text/plain": [
       "... < 100 DM                   603\n",
       "unknown/ no savings account    183\n",
       "100 <= ... < 500 DM            103\n",
       "500 <= ... < 1000 DM            63\n",
       ".. >= 1000 DM                   48\n",
       "Name: savings, dtype: int64"
      ]
     },
     "execution_count": 23,
     "metadata": {},
     "output_type": "execute_result"
    }
   ],
   "source": [
    "credit.savings.value_counts()"
   ]
  },
  {
   "cell_type": "markdown",
   "id": "2eafab50",
   "metadata": {},
   "source": [
    "上述两个变量的单位都是德国马克（Deutsche Mark, DM）。 直观来看，支票余额和储蓄账户余额越大，贷款违约的可能性越小。\n",
    "\n",
    "该贷款数据集还有一些数值型变量，例如贷款期限（duration_in_month）和贷款申请额度（credit_amount）。  \n",
    "\n",
    "我们需要把字符变量转换为数字。"
   ]
  },
  {
   "cell_type": "code",
   "execution_count": 24,
   "id": "92f1b554",
   "metadata": {},
   "outputs": [
    {
     "name": "stdout",
     "output_type": "stream",
     "text": [
      "<class 'pandas.core.frame.DataFrame'>\n",
      "RangeIndex: 1000 entries, 0 to 999\n",
      "Data columns (total 21 columns):\n",
      " #   Column                      Non-Null Count  Dtype \n",
      "---  ------                      --------------  ----- \n",
      " 0   default                     1000 non-null   int64 \n",
      " 1   account_check_status        1000 non-null   object\n",
      " 2   duration_in_month           1000 non-null   int64 \n",
      " 3   credit_history              1000 non-null   object\n",
      " 4   purpose                     1000 non-null   object\n",
      " 5   credit_amount               1000 non-null   int64 \n",
      " 6   savings                     1000 non-null   object\n",
      " 7   present_emp_since           1000 non-null   object\n",
      " 8   installment_as_income_perc  1000 non-null   int64 \n",
      " 9   personal_status_sex         1000 non-null   object\n",
      " 10  other_debtors               1000 non-null   object\n",
      " 11  present_res_since           1000 non-null   int64 \n",
      " 12  property                    1000 non-null   object\n",
      " 13  age                         1000 non-null   int64 \n",
      " 14  other_installment_plans     1000 non-null   object\n",
      " 15  housing                     1000 non-null   object\n",
      " 16  credits_this_bank           1000 non-null   int64 \n",
      " 17  job                         1000 non-null   object\n",
      " 18  people_under_maintenance    1000 non-null   int64 \n",
      " 19  telephone                   1000 non-null   object\n",
      " 20  foreign_worker              1000 non-null   object\n",
      "dtypes: int64(8), object(13)\n",
      "memory usage: 164.2+ KB\n"
     ]
    }
   ],
   "source": [
    "# 查看哪些列是字符串类型\n",
    "credit.info()"
   ]
  },
  {
   "cell_type": "code",
   "execution_count": 25,
   "id": "f00d7ee4",
   "metadata": {},
   "outputs": [
    {
     "data": {
      "text/html": [
       "<div>\n",
       "<style scoped>\n",
       "    .dataframe tbody tr th:only-of-type {\n",
       "        vertical-align: middle;\n",
       "    }\n",
       "\n",
       "    .dataframe tbody tr th {\n",
       "        vertical-align: top;\n",
       "    }\n",
       "\n",
       "    .dataframe thead th {\n",
       "        text-align: right;\n",
       "    }\n",
       "</style>\n",
       "<table border=\"1\" class=\"dataframe\">\n",
       "  <thead>\n",
       "    <tr style=\"text-align: right;\">\n",
       "      <th></th>\n",
       "      <th>default</th>\n",
       "      <th>account_check_status</th>\n",
       "      <th>duration_in_month</th>\n",
       "      <th>credit_history</th>\n",
       "      <th>purpose</th>\n",
       "      <th>credit_amount</th>\n",
       "      <th>savings</th>\n",
       "      <th>present_emp_since</th>\n",
       "      <th>installment_as_income_perc</th>\n",
       "      <th>personal_status_sex</th>\n",
       "      <th>other_debtors</th>\n",
       "      <th>present_res_since</th>\n",
       "      <th>property</th>\n",
       "      <th>age</th>\n",
       "      <th>other_installment_plans</th>\n",
       "      <th>housing</th>\n",
       "      <th>credits_this_bank</th>\n",
       "      <th>job</th>\n",
       "      <th>people_under_maintenance</th>\n",
       "      <th>telephone</th>\n",
       "      <th>foreign_worker</th>\n",
       "    </tr>\n",
       "  </thead>\n",
       "  <tbody>\n",
       "    <tr>\n",
       "      <th>0</th>\n",
       "      <td>0</td>\n",
       "      <td>1</td>\n",
       "      <td>6</td>\n",
       "      <td>1</td>\n",
       "      <td>4</td>\n",
       "      <td>1169</td>\n",
       "      <td>4</td>\n",
       "      <td>0</td>\n",
       "      <td>4</td>\n",
       "      <td>3</td>\n",
       "      <td>2</td>\n",
       "      <td>4</td>\n",
       "      <td>2</td>\n",
       "      <td>67</td>\n",
       "      <td>1</td>\n",
       "      <td>1</td>\n",
       "      <td>2</td>\n",
       "      <td>1</td>\n",
       "      <td>1</td>\n",
       "      <td>1</td>\n",
       "      <td>1</td>\n",
       "    </tr>\n",
       "    <tr>\n",
       "      <th>1</th>\n",
       "      <td>1</td>\n",
       "      <td>0</td>\n",
       "      <td>48</td>\n",
       "      <td>3</td>\n",
       "      <td>4</td>\n",
       "      <td>5951</td>\n",
       "      <td>1</td>\n",
       "      <td>2</td>\n",
       "      <td>2</td>\n",
       "      <td>0</td>\n",
       "      <td>2</td>\n",
       "      <td>2</td>\n",
       "      <td>2</td>\n",
       "      <td>22</td>\n",
       "      <td>1</td>\n",
       "      <td>1</td>\n",
       "      <td>1</td>\n",
       "      <td>1</td>\n",
       "      <td>1</td>\n",
       "      <td>0</td>\n",
       "      <td>1</td>\n",
       "    </tr>\n",
       "    <tr>\n",
       "      <th>2</th>\n",
       "      <td>0</td>\n",
       "      <td>3</td>\n",
       "      <td>12</td>\n",
       "      <td>1</td>\n",
       "      <td>0</td>\n",
       "      <td>2096</td>\n",
       "      <td>1</td>\n",
       "      <td>3</td>\n",
       "      <td>2</td>\n",
       "      <td>3</td>\n",
       "      <td>2</td>\n",
       "      <td>3</td>\n",
       "      <td>2</td>\n",
       "      <td>49</td>\n",
       "      <td>1</td>\n",
       "      <td>1</td>\n",
       "      <td>1</td>\n",
       "      <td>3</td>\n",
       "      <td>2</td>\n",
       "      <td>0</td>\n",
       "      <td>1</td>\n",
       "    </tr>\n",
       "    <tr>\n",
       "      <th>3</th>\n",
       "      <td>0</td>\n",
       "      <td>1</td>\n",
       "      <td>42</td>\n",
       "      <td>3</td>\n",
       "      <td>7</td>\n",
       "      <td>7882</td>\n",
       "      <td>1</td>\n",
       "      <td>3</td>\n",
       "      <td>2</td>\n",
       "      <td>3</td>\n",
       "      <td>1</td>\n",
       "      <td>4</td>\n",
       "      <td>0</td>\n",
       "      <td>45</td>\n",
       "      <td>1</td>\n",
       "      <td>0</td>\n",
       "      <td>1</td>\n",
       "      <td>1</td>\n",
       "      <td>2</td>\n",
       "      <td>0</td>\n",
       "      <td>1</td>\n",
       "    </tr>\n",
       "    <tr>\n",
       "      <th>4</th>\n",
       "      <td>1</td>\n",
       "      <td>1</td>\n",
       "      <td>24</td>\n",
       "      <td>2</td>\n",
       "      <td>2</td>\n",
       "      <td>4870</td>\n",
       "      <td>1</td>\n",
       "      <td>2</td>\n",
       "      <td>3</td>\n",
       "      <td>3</td>\n",
       "      <td>2</td>\n",
       "      <td>4</td>\n",
       "      <td>3</td>\n",
       "      <td>53</td>\n",
       "      <td>1</td>\n",
       "      <td>0</td>\n",
       "      <td>2</td>\n",
       "      <td>1</td>\n",
       "      <td>2</td>\n",
       "      <td>0</td>\n",
       "      <td>1</td>\n",
       "    </tr>\n",
       "  </tbody>\n",
       "</table>\n",
       "</div>"
      ],
      "text/plain": [
       "   default  account_check_status  duration_in_month  ...  people_under_maintenance  telephone  foreign_worker\n",
       "0        0                     1                  6  ...                         1          1               1\n",
       "1        1                     0                 48  ...                         1          0               1\n",
       "2        0                     3                 12  ...                         2          0               1\n",
       "3        0                     1                 42  ...                         2          0               1\n",
       "4        1                     1                 24  ...                         2          0               1\n",
       "\n",
       "[5 rows x 21 columns]"
      ]
     },
     "execution_count": 25,
     "metadata": {},
     "output_type": "execute_result"
    }
   ],
   "source": [
    "from sklearn.preprocessing import LabelEncoder\n",
    "\n",
    "# 取所有字符串变量\n",
    "cols = ['account_check_status','credit_history','purpose','savings','present_emp_since','personal_status_sex','other_debtors','property',\n",
    "        'other_installment_plans','housing','job','telephone','foreign_worker']\n",
    "\n",
    "# 标签编码\n",
    "for col in cols:\n",
    "    scale = LabelEncoder()\n",
    "    scale.fit(credit[col])\n",
    "    credit[col] = scale.transform(credit[col])\n",
    "    \n",
    "credit.head()"
   ]
  },
  {
   "cell_type": "code",
   "execution_count": 26,
   "id": "28952d92",
   "metadata": {},
   "outputs": [
    {
     "name": "stdout",
     "output_type": "stream",
     "text": [
      "<class 'pandas.core.frame.DataFrame'>\n",
      "RangeIndex: 1000 entries, 0 to 999\n",
      "Data columns (total 21 columns):\n",
      " #   Column                      Non-Null Count  Dtype\n",
      "---  ------                      --------------  -----\n",
      " 0   default                     1000 non-null   int64\n",
      " 1   account_check_status        1000 non-null   int32\n",
      " 2   duration_in_month           1000 non-null   int64\n",
      " 3   credit_history              1000 non-null   int32\n",
      " 4   purpose                     1000 non-null   int32\n",
      " 5   credit_amount               1000 non-null   int64\n",
      " 6   savings                     1000 non-null   int32\n",
      " 7   present_emp_since           1000 non-null   int32\n",
      " 8   installment_as_income_perc  1000 non-null   int64\n",
      " 9   personal_status_sex         1000 non-null   int32\n",
      " 10  other_debtors               1000 non-null   int32\n",
      " 11  present_res_since           1000 non-null   int64\n",
      " 12  property                    1000 non-null   int32\n",
      " 13  age                         1000 non-null   int64\n",
      " 14  other_installment_plans     1000 non-null   int32\n",
      " 15  housing                     1000 non-null   int32\n",
      " 16  credits_this_bank           1000 non-null   int64\n",
      " 17  job                         1000 non-null   int32\n",
      " 18  people_under_maintenance    1000 non-null   int64\n",
      " 19  telephone                   1000 non-null   int32\n",
      " 20  foreign_worker              1000 non-null   int32\n",
      "dtypes: int32(13), int64(8)\n",
      "memory usage: 113.4 KB\n"
     ]
    }
   ],
   "source": [
    "credit.info()"
   ]
  },
  {
   "cell_type": "markdown",
   "id": "4c2b6559",
   "metadata": {},
   "source": [
    "## 划分训练集和测试集"
   ]
  },
  {
   "cell_type": "markdown",
   "id": "80e7479e",
   "metadata": {},
   "source": [
    "在正式建模之前，我们需要将数据集分为训练集和测试集两部分。其中训练集用来构建决策树模型，测试集用来评估模型性能。  \n",
    "我们将使用70%数据作为训练数据，30%作为测试数据。"
   ]
  },
  {
   "cell_type": "code",
   "execution_count": 31,
   "id": "670982df",
   "metadata": {},
   "outputs": [],
   "source": [
    "from sklearn import model_selection\n",
    "\n",
    "y = credit['default']\n",
    "X = credit.loc[:,'account_check_status':'foreign_worker']\n",
    "X_train,X_test,y_train,y_test = model_selection.train_test_split(X,y,test_size=0.3,random_state=1)"
   ]
  },
  {
   "cell_type": "code",
   "execution_count": 35,
   "id": "3a239219",
   "metadata": {},
   "outputs": [
    {
     "name": "stdout",
     "output_type": "stream",
     "text": [
      "0    0.694286\n",
      "1    0.305714\n",
      "Name: default, dtype: float64\n",
      "0    0.713333\n",
      "1    0.286667\n",
      "Name: default, dtype: float64\n"
     ]
    }
   ],
   "source": [
    "# 训练集和测试集中，违约贷款的比例\n",
    "print(y_train.value_counts()/len(y_train))\n",
    "print(y_test.value_counts()/len(y_test))"
   ]
  },
  {
   "cell_type": "markdown",
   "id": "2a95de0b",
   "metadata": {},
   "source": [
    "## 模型训练"
   ]
  },
  {
   "cell_type": "markdown",
   "id": "d2d292ee",
   "metadata": {},
   "source": [
    "我们将使用Scikit-learn中的DecisionTreeClassifier算法来训练决策树模型。  \n",
    "DecisionTreeClassifier算法位于sklearn.tree包，首先将其导入，然后调用`fit()`方法进行模型训练。"
   ]
  },
  {
   "cell_type": "code",
   "execution_count": 36,
   "id": "3c74b68d",
   "metadata": {},
   "outputs": [
    {
     "data": {
      "text/plain": [
       "DecisionTreeClassifier(min_samples_leaf=6, random_state=1)"
      ]
     },
     "execution_count": 36,
     "metadata": {},
     "output_type": "execute_result"
    }
   ],
   "source": [
    "from sklearn import tree\n",
    "from sklearn.tree import DecisionTreeClassifier\n",
    "\n",
    "model = DecisionTreeClassifier(min_samples_leaf= 6,random_state=1)\n",
    "model.fit(X_train,y_train)"
   ]
  },
  {
   "cell_type": "markdown",
   "id": "7ee6c707",
   "metadata": {},
   "source": [
    "## 模型性能评估"
   ]
  },
  {
   "cell_type": "code",
   "execution_count": 37,
   "id": "2cc070df",
   "metadata": {},
   "outputs": [],
   "source": [
    "y_test_hat = model.predict(X_test)"
   ]
  },
  {
   "cell_type": "code",
   "execution_count": 38,
   "id": "6f2e65f1",
   "metadata": {},
   "outputs": [
    {
     "name": "stdout",
     "output_type": "stream",
     "text": [
      "混淆矩阵：\n",
      "[[172  42]\n",
      " [ 47  39]]\n",
      "评估指标：\n",
      "              precision    recall  f1-score   support\n",
      "\n",
      "           0       0.79      0.80      0.79       214\n",
      "           1       0.48      0.45      0.47        86\n",
      "\n",
      "    accuracy                           0.70       300\n",
      "   macro avg       0.63      0.63      0.63       300\n",
      "weighted avg       0.70      0.70      0.70       300\n",
      "\n"
     ]
    }
   ],
   "source": [
    "from sklearn import metrics\n",
    "\n",
    "print(\"混淆矩阵：\")\n",
    "print(metrics.confusion_matrix(y_test,y_test_hat))\n",
    "print(\"评估指标：\")\n",
    "print(metrics.classification_report(y_test,y_test_hat))"
   ]
  },
  {
   "cell_type": "markdown",
   "id": "08bb9294",
   "metadata": {},
   "source": [
    "在300个贷款申请测试数据中，模型的预测正确率（Accuracy）为70%。 214个未违约贷款中，模型正确预测了83%(recall值)。 86个违约贷款中，模型正确预测出了40%(recall)。 下面，我们看看是否能够进一步改善模型的性能。"
   ]
  },
  {
   "cell_type": "markdown",
   "id": "e496e19a",
   "metadata": {},
   "source": [
    "## 模型性能提升"
   ]
  },
  {
   "cell_type": "markdown",
   "id": "f9b14abf",
   "metadata": {},
   "source": [
    "在实际应用中，模型的预测正确率不高，很难将其应用到实时的信贷评审过程。在本案例中，如果一个模型将所有的贷款都预测为“未违约”，此时模型的正确率将为72%，而该模型是一个完全无用的模型。  \n",
    "\n",
    "上节中我们建立的模型，正确率为70%，但是对于违约贷款的识别性能很差。我们可以通过创建一个代价矩阵定义模型犯不同错误时的代价。  \n",
    "\n",
    "假设我们认为一个贷款违约者给银行带来的损失是银行错过一个不违约的贷款带来损失的4倍，则未违约和违约的代价权重可以定义为："
   ]
  },
  {
   "cell_type": "code",
   "execution_count": 41,
   "id": "225bf09b",
   "metadata": {},
   "outputs": [
    {
     "name": "stdout",
     "output_type": "stream",
     "text": [
      "混淆矩阵：\n",
      "[[114 100]\n",
      " [ 19  67]]\n",
      "评估指标：\n",
      "              precision    recall  f1-score   support\n",
      "\n",
      "           0       0.86      0.53      0.66       214\n",
      "           1       0.40      0.78      0.53        86\n",
      "\n",
      "    accuracy                           0.60       300\n",
      "   macro avg       0.63      0.66      0.59       300\n",
      "weighted avg       0.73      0.60      0.62       300\n",
      "\n"
     ]
    }
   ],
   "source": [
    "weight = {0:1,1:4}     # 未违约-0，违约-1\n",
    "model = DecisionTreeClassifier(max_depth=6,class_weight=weight)\n",
    "model.fit(X_train,y_train)\n",
    "y_hat = model.predict(X_test)\n",
    "\n",
    "print(\"混淆矩阵：\")\n",
    "print(metrics.confusion_matrix(y_test,y_hat))\n",
    "print(\"评估指标：\")\n",
    "print(metrics.classification_report(y_test,y_hat))"
   ]
  },
  {
   "cell_type": "markdown",
   "id": "c98b4c4b",
   "metadata": {},
   "source": [
    "可见，模型的整体正确率下降为60%，但是此时的模型能将86个违约贷款中的74个正确识别，识别率为78%(recall值)。"
   ]
  }
 ],
 "metadata": {
  "kernelspec": {
   "display_name": "Python 3 (ipykernel)",
   "language": "python",
   "name": "python3"
  },
  "language_info": {
   "codemirror_mode": {
    "name": "ipython",
    "version": 3
   },
   "file_extension": ".py",
   "mimetype": "text/x-python",
   "name": "python",
   "nbconvert_exporter": "python",
   "pygments_lexer": "ipython3",
   "version": "3.9.7"
  },
  "toc": {
   "base_numbering": 1,
   "nav_menu": {},
   "number_sections": true,
   "sideBar": true,
   "skip_h1_title": false,
   "title_cell": "Table of Contents",
   "title_sidebar": "Contents",
   "toc_cell": false,
   "toc_position": {
    "height": "calc(100% - 180px)",
    "left": "10px",
    "top": "150px",
    "width": "307.2px"
   },
   "toc_section_display": true,
   "toc_window_display": true
  }
 },
 "nbformat": 4,
 "nbformat_minor": 5
}
