{
 "cells": [
  {
   "cell_type": "markdown",
   "id": "b3b8a665",
   "metadata": {},
   "source": [
    "# 简介"
   ]
  },
  {
   "cell_type": "markdown",
   "id": "bff21bf6",
   "metadata": {},
   "source": [
    "PCA是一种统计方法，通过正交变换将一组可能存在相关性的变量转换为一组线性不相关的变量，转换后的这组变量叫主成分。  \n",
    "\n",
    "应用领域：  \n",
    "* 降维\n",
    "* 高维数据集的探索与可视化  \n",
    "* 数据压缩  \n",
    "* 数据预处理"
   ]
  },
  {
   "cell_type": "markdown",
   "id": "98dcc54f",
   "metadata": {},
   "source": [
    "PCA算法本质就是找一些投影方向，使得数据在这些投影方向上的方差最大。   \n",
    "下面左图的投影方差更大。\n",
    "\n",
    "<img src=\"img/PCA1.png\" align=\"left\" width=\"300\">\n",
    "<img src=\"img/PCA2.png\" align='right' width=\"300\">"
   ]
  },
  {
   "cell_type": "markdown",
   "id": "5e5b99ea",
   "metadata": {},
   "source": [
    "# 基于协方差矩阵的特征值分解算法"
   ]
  },
  {
   "cell_type": "markdown",
   "id": "65494a0d",
   "metadata": {},
   "source": [
    "## 算法"
   ]
  },
  {
   "cell_type": "markdown",
   "id": "5d443c6a",
   "metadata": {},
   "source": [
    "1. 均值归一化。计算各个特征均值，然后令 $x_j=x_j-\\mu_j$。如果特征在不同数量级上，还需要将其除以标准差，即 $x_j=\\frac{x_j-\\mu_j}{\\sigma_j}$  \n",
    "2. 计算协方差矩阵 $Cov(X,X)=\\Sigma=\\frac{1}{m-1}\\sum_{i=1}^m X^T\\cdot X$  \n",
    "3. 计算协方差矩阵 $\\Sigma$ 的特征向量 $u^{(i)}$  \n",
    "`eigenvalues,eigenvectors = np.linalg.eig(sigma)`\n",
    "4. 取 $u$ 的前 $k$ 维，得到 $n\\times k$ 的矩阵，用 $U_{reduce}$ 表示，则降维后的数据 $z^{(i)}$\n",
    "$$z^{(i)}=U^T_{reduce}\\times x^{(i)} \\\\\n",
    "Z=X\\times U_{reduce}$$"
   ]
  },
  {
   "cell_type": "markdown",
   "id": "a0d82c73",
   "metadata": {},
   "source": [
    "## 代码实现"
   ]
  },
  {
   "cell_type": "code",
   "execution_count": 1,
   "id": "c4e242c1",
   "metadata": {},
   "outputs": [],
   "source": [
    "import numpy as np\n",
    "import matplotlib.pyplot as plt\n",
    "import matplotlib as mpl"
   ]
  },
  {
   "cell_type": "code",
   "execution_count": 2,
   "id": "4aa8886b",
   "metadata": {},
   "outputs": [],
   "source": [
    "def loaddata(path):\n",
    "    data = np.loadtxt(path,delimiter=',')\n",
    "    return data"
   ]
  },
  {
   "cell_type": "code",
   "execution_count": 3,
   "id": "2c08fa56",
   "metadata": {},
   "outputs": [
    {
     "data": {
      "image/png": "[encoded data removed]",
      "text/plain": [
       "<Figure size 432x288 with 1 Axes>"
      ]
     },
     "metadata": {
      "needs_background": "light"
     },
     "output_type": "display_data"
    }
   ],
   "source": [
    "X = loaddata(\"data/pca_data.csv\")\n",
    "plt.scatter(X[:,0],X[:,1])\n",
    "plt.show()"
   ]
  },
  {
   "cell_type": "code",
   "execution_count": 4,
   "id": "a7967572",
   "metadata": {},
   "outputs": [],
   "source": [
    "# 特征归一化\n",
    "def featureNormalize(X):\n",
    "    mu = np.mean(X,axis=0).reshape(1,-1)\n",
    "    sigma = np.std(X,axis=0,ddof=1).reshape(1,-1)\n",
    "    X = (X-mu)/sigma\n",
    "    return X,mu,sigma"
   ]
  },
  {
   "cell_type": "code",
   "execution_count": 5,
   "id": "36e32bdf",
   "metadata": {},
   "outputs": [],
   "source": [
    "def pca(X,K):\n",
    "    m = X.shape[0]\n",
    "    sigma = X.T@X/(m-1)\n",
    "\n",
    "    #返回的特征向量要是排序后的\n",
    "    eigenvalues,eigenvectors = np.linalg.eig(sigma)\n",
    "    index = np.argsort(-eigenvalues)          # 依照特征值进行从大到小排序\n",
    "    eigenvectors = eigenvectors[:,index]      #特征向量对应到特征值的顺序\n",
    "    u_reduce = eigenvectors[:,0:K]\n",
    "    \n",
    "    return X@u_reduce,eigenvectors"
   ]
  },
  {
   "cell_type": "code",
   "execution_count": 6,
   "id": "4a290e98",
   "metadata": {
    "scrolled": true
   },
   "outputs": [
    {
     "name": "stdout",
     "output_type": "stream",
     "text": [
      "[[ 1.48127391]\n",
      " [-0.91291229]\n",
      " [ 1.21208656]\n",
      " [ 1.62734009]\n",
      " [ 1.26042409]\n",
      " [-0.96700223]\n",
      " [ 1.25605967]\n",
      " [-2.31794969]\n",
      " [-0.02968998]\n",
      " [-0.77386123]\n",
      " [-0.62532902]\n",
      " [-0.54724542]\n",
      " [-0.08878025]\n",
      " [-0.520569  ]\n",
      " [ 1.548434  ]\n",
      " [-1.89684585]\n",
      " [-0.87788459]\n",
      " [ 0.94646472]\n",
      " [-2.30653955]\n",
      " [-0.4731351 ]\n",
      " [-2.19518524]\n",
      " [ 0.38509662]\n",
      " [-1.76688508]\n",
      " [ 0.0512347 ]\n",
      " [ 1.64838858]\n",
      " [ 0.50302869]\n",
      " [-1.2246766 ]\n",
      " [-1.16020771]\n",
      " [ 0.83375215]\n",
      " [-0.00686207]\n",
      " [-0.22565101]\n",
      " [-1.49788781]\n",
      " [ 1.3252858 ]\n",
      " [-0.58656923]\n",
      " [ 0.67225099]\n",
      " [-1.33938187]\n",
      " [ 1.67053477]\n",
      " [-1.37836539]\n",
      " [ 2.53419743]\n",
      " [-0.27570789]\n",
      " [-0.96695982]\n",
      " [ 0.8792732 ]\n",
      " [ 1.28362916]\n",
      " [-0.97972108]\n",
      " [ 1.79450473]\n",
      " [-0.26923019]\n",
      " [ 3.16088618]\n",
      " [ 1.20080033]\n",
      " [ 0.36423084]\n",
      " [-1.42814204]]\n"
     ]
    }
   ],
   "source": [
    "X,mu,sigma = featureNormalize(X)\n",
    "Z,eigenvectors = pca(X,1)\n",
    "print(Z)"
   ]
  },
  {
   "cell_type": "code",
   "execution_count": 7,
   "id": "9308141c",
   "metadata": {},
   "outputs": [],
   "source": [
    "# 把降维后的数据还原成原来的数据\n",
    "def recoverData(Z,U,K):\n",
    "    U_reduce = U[:,0:K]\n",
    "    X_rec = Z@U_reduce.T\n",
    "    return X_rec"
   ]
  },
  {
   "cell_type": "code",
   "execution_count": 8,
   "id": "cb047995",
   "metadata": {},
   "outputs": [],
   "source": [
    "def plotData(X_orgin,X_rec):\n",
    "    plt.scatter(X_orgin[:,0],X_orgin[:,1])\n",
    "    plt.scatter(X_rec[:, 0], X_rec[:, 1],c='red')\n",
    "    plt.show()"
   ]
  },
  {
   "cell_type": "code",
   "execution_count": 9,
   "id": "4fc612f3",
   "metadata": {},
   "outputs": [
    {
     "data": {
      "image/png": "[encoded data removed]",
      "text/plain": [
       "<Figure size 432x288 with 1 Axes>"
      ]
     },
     "metadata": {
      "needs_background": "light"
     },
     "output_type": "display_data"
    }
   ],
   "source": [
    "X_rec = recoverData(Z,eigenvectors,1)\n",
    "plotData(X,X_rec)"
   ]
  },
  {
   "cell_type": "markdown",
   "id": "9e311aba",
   "metadata": {},
   "source": [
    "# 基于数据矩阵的奇异值分解算法"
   ]
  },
  {
   "cell_type": "markdown",
   "id": "2a4fdd20",
   "metadata": {},
   "source": [
    "## 算法"
   ]
  },
  {
   "cell_type": "markdown",
   "id": "21089276",
   "metadata": {},
   "source": [
    "1. 均值归一化。计算各个特征均值，然后令 $x_j=x_j-\\mu_j$。如果特征在不同数量级上，还需要将其除以标准差，即 $x_j=\\frac{x_j-\\mu_j}{\\sigma_j}$  \n",
    "2. 对数据矩阵进行SVD分解：`u,s,v^T=np.linalg.svd(X,full_matrices=0)`  \n",
    "    * $X_{m\\times n}=U_{m\\times m}\\Sigma_{m\\times n}V^T_{n\\times n}$  \n",
    "    * $\\Sigma$ 除对角线以外的元素都为 $0$，对角线元素称为奇异值  \n",
    "    * $U^TU=I,V^TV=I$\n",
    "3. 取前 $r$ 个特征，$X_{m\\times n}\\approx U_{m\\times r}\\Sigma_{r\\times r}V^T_{r\\times n}$，则降维后的数据 $z^{(i)}$\n",
    "$$z^{(i)}=v\\times x^{(i)} \\\\\n",
    "Z=X\\times (v^T)^T$$"
   ]
  },
  {
   "cell_type": "markdown",
   "id": "0777de8e",
   "metadata": {},
   "source": [
    "## 代码实现"
   ]
  },
  {
   "cell_type": "code",
   "execution_count": 10,
   "id": "ecd4f8ec",
   "metadata": {},
   "outputs": [],
   "source": [
    "def pca(X,K):\n",
    "    u,s,vT = np.linalg.svd(X,full_matrices=0)\n",
    "    \n",
    "    return X@vT.T[:,0:K],u,s,vT"
   ]
  },
  {
   "cell_type": "code",
   "execution_count": 11,
   "id": "db08f92a",
   "metadata": {
    "scrolled": true
   },
   "outputs": [
    {
     "name": "stdout",
     "output_type": "stream",
     "text": [
      "[[-1.48127391]\n",
      " [ 0.91291229]\n",
      " [-1.21208656]\n",
      " [-1.62734009]\n",
      " [-1.26042409]\n",
      " [ 0.96700223]\n",
      " [-1.25605967]\n",
      " [ 2.31794969]\n",
      " [ 0.02968998]\n",
      " [ 0.77386123]\n",
      " [ 0.62532902]\n",
      " [ 0.54724542]\n",
      " [ 0.08878025]\n",
      " [ 0.520569  ]\n",
      " [-1.548434  ]\n",
      " [ 1.89684585]\n",
      " [ 0.87788459]\n",
      " [-0.94646472]\n",
      " [ 2.30653955]\n",
      " [ 0.4731351 ]\n",
      " [ 2.19518524]\n",
      " [-0.38509662]\n",
      " [ 1.76688508]\n",
      " [-0.0512347 ]\n",
      " [-1.64838858]\n",
      " [-0.50302869]\n",
      " [ 1.2246766 ]\n",
      " [ 1.16020771]\n",
      " [-0.83375215]\n",
      " [ 0.00686207]\n",
      " [ 0.22565101]\n",
      " [ 1.49788781]\n",
      " [-1.3252858 ]\n",
      " [ 0.58656923]\n",
      " [-0.67225099]\n",
      " [ 1.33938187]\n",
      " [-1.67053477]\n",
      " [ 1.37836539]\n",
      " [-2.53419743]\n",
      " [ 0.27570789]\n",
      " [ 0.96695982]\n",
      " [-0.8792732 ]\n",
      " [-1.28362916]\n",
      " [ 0.97972108]\n",
      " [-1.79450473]\n",
      " [ 0.26923019]\n",
      " [-3.16088618]\n",
      " [-1.20080033]\n",
      " [-0.36423084]\n",
      " [ 1.42814204]]\n"
     ]
    }
   ],
   "source": [
    "X,mu,sigma = featureNormalize(X)\n",
    "Z,u,s,vT = pca(X,1)\n",
    "print(Z)"
   ]
  },
  {
   "cell_type": "code",
   "execution_count": 12,
   "id": "56a2218a",
   "metadata": {},
   "outputs": [],
   "source": [
    "def recoverData(Z,vT,K):\n",
    "    V_reduce = vT[:,0:K]\n",
    "    X_rec = Z@V_reduce.T\n",
    "    return X_rec"
   ]
  },
  {
   "cell_type": "code",
   "execution_count": 13,
   "id": "83ac1dc4",
   "metadata": {},
   "outputs": [],
   "source": [
    "def plotData(X_orgin,X_rec):\n",
    "    plt.scatter(X_orgin[:,0],X_orgin[:,1])\n",
    "    plt.scatter(X_rec[:, 0], X_rec[:, 1],c='red')\n",
    "    plt.show()"
   ]
  },
  {
   "cell_type": "code",
   "execution_count": 14,
   "id": "0bad216e",
   "metadata": {},
   "outputs": [
    {
     "data": {
      "image/png": "[encoded data removed]",
      "text/plain": [
       "<Figure size 432x288 with 1 Axes>"
      ]
     },
     "metadata": {
      "needs_background": "light"
     },
     "output_type": "display_data"
    }
   ],
   "source": [
    "X_rec = recoverData(Z,vT,1)\n",
    "plotData(X,X_rec)"
   ]
  },
  {
   "cell_type": "markdown",
   "id": "8f5825a3",
   "metadata": {},
   "source": [
    "# sklearn实现PCA"
   ]
  },
  {
   "cell_type": "markdown",
   "id": "82eda83e",
   "metadata": {},
   "source": [
    "## 选取主成分个数"
   ]
  },
  {
   "cell_type": "markdown",
   "id": "0fa51a05",
   "metadata": {},
   "source": [
    "计算前 $k$ 个样本的累积贡献率：\n",
    "$$\\frac{\\sum_{i=1}^k S_{ii}}{\\sum_{i=1}^m S_{ii}}$$  \n",
    "$S_{ii}$ 是数据矩阵 $X$ 的非零特征值，特征值从大到小排序。累积贡献率越大越好，如等于 $0.99$，表示原数据 $99%$ 的信息都保留了下来。"
   ]
  },
  {
   "cell_type": "markdown",
   "id": "101723f2",
   "metadata": {},
   "source": [
    "## sklearn实现"
   ]
  },
  {
   "cell_type": "code",
   "execution_count": 15,
   "id": "54269a90",
   "metadata": {},
   "outputs": [],
   "source": [
    "import scipy.io\n",
    "from sklearn.decomposition import PCA"
   ]
  },
  {
   "cell_type": "code",
   "execution_count": 16,
   "id": "f7746d78",
   "metadata": {},
   "outputs": [
    {
     "data": {
      "text/plain": [
       "array([[ 1.49876595],\n",
       "       [-0.95839024],\n",
       "       [ 1.40325172],\n",
       "       [ 1.76421694],\n",
       "       [ 1.40760243],\n",
       "       [-0.87367998],\n",
       "       [ 1.27050164],\n",
       "       [-2.5506712 ],\n",
       "       [-0.01469839],\n",
       "       [-0.83694188],\n",
       "       [-0.70212917],\n",
       "       [-0.58711016],\n",
       "       [-0.12493311],\n",
       "       [-0.74690506],\n",
       "       [ 1.67629396],\n",
       "       [-2.10275704],\n",
       "       [-0.9594953 ],\n",
       "       [ 1.11633715],\n",
       "       [-2.37070273],\n",
       "       [-0.69001651],\n",
       "       [-2.39397485],\n",
       "       [ 0.44284714],\n",
       "       [-1.98340505],\n",
       "       [-0.01058959],\n",
       "       [ 1.83205377],\n",
       "       [ 0.62719172],\n",
       "       [-1.33171608],\n",
       "       [-1.4546727 ],\n",
       "       [ 1.01919098],\n",
       "       [ 0.01489202],\n",
       "       [-0.07212622],\n",
       "       [-1.78539513],\n",
       "       [ 1.41318051],\n",
       "       [-0.82644523],\n",
       "       [ 0.75167377],\n",
       "       [-1.40551081],\n",
       "       [ 1.82309802],\n",
       "       [-1.59458841],\n",
       "       [ 2.80783613],\n",
       "       [-0.32551527],\n",
       "       [-0.98578762],\n",
       "       [ 0.98465469],\n",
       "       [ 1.38952836],\n",
       "       [-1.03742062],\n",
       "       [ 1.87686597],\n",
       "       [-0.24535117],\n",
       "       [ 3.51800218],\n",
       "       [ 1.54860441],\n",
       "       [ 0.34412682],\n",
       "       [-1.55978675]])"
      ]
     },
     "execution_count": 16,
     "metadata": {},
     "output_type": "execute_result"
    }
   ],
   "source": [
    "X = loaddata(\"data/pca_data.csv\")\n",
    "model = PCA(n_components=1)         #定义PCA\n",
    "Z = model.fit_transform(X)          #生成降维后数据\n",
    "Z"
   ]
  },
  {
   "cell_type": "code",
   "execution_count": 17,
   "id": "b8aa45b3",
   "metadata": {},
   "outputs": [
    {
     "name": "stdout",
     "output_type": "stream",
     "text": [
      "主成分个数= 1\n",
      "贡献比= [0.87062385]\n",
      "特征的方差= [2.10987818]\n"
     ]
    }
   ],
   "source": [
    "print(\"主成分个数=\",model.n_components)\n",
    "print(\"贡献比=\",model.explained_variance_ratio_)\n",
    "print(\"特征的方差=\",model.explained_variance_)"
   ]
  },
  {
   "cell_type": "code",
   "execution_count": 18,
   "id": "e3da11ab",
   "metadata": {},
   "outputs": [
    {
     "data": {
      "image/png": "[encoded data removed]",
      "text/plain": [
       "<Figure size 432x288 with 1 Axes>"
      ]
     },
     "metadata": {
      "needs_background": "light"
     },
     "output_type": "display_data"
    }
   ],
   "source": [
    "X_rec = model.inverse_transform(Z)    #还原数据\n",
    "plotData(X,X_rec)"
   ]
  },
  {
   "cell_type": "markdown",
   "id": "58f08cb7",
   "metadata": {},
   "source": [
    "# 案例：照片压缩"
   ]
  },
  {
   "cell_type": "code",
   "execution_count": 19,
   "id": "3c5a13e9",
   "metadata": {},
   "outputs": [],
   "source": [
    "import numpy as np\n",
    "import matplotlib.pyplot as plt\n",
    "import matplotlib.image as mpimg\n",
    "from sklearn.decomposition import PCA\n",
    "from sklearn.preprocessing import StandardScaler"
   ]
  },
  {
   "cell_type": "markdown",
   "id": "8e314482",
   "metadata": {},
   "source": [
    "## 读取数据"
   ]
  },
  {
   "cell_type": "markdown",
   "id": "0e65dfa3",
   "metadata": {},
   "source": [
    "**读取照片**"
   ]
  },
  {
   "cell_type": "code",
   "execution_count": 20,
   "id": "041a0fe6",
   "metadata": {},
   "outputs": [],
   "source": [
    "img = mpimg.imread(\"data/jjq.jpg\")"
   ]
  },
  {
   "cell_type": "markdown",
   "id": "dfc0b40e",
   "metadata": {},
   "source": [
    "**显示照片**"
   ]
  },
  {
   "cell_type": "code",
   "execution_count": 21,
   "id": "6b28ede8",
   "metadata": {},
   "outputs": [
    {
     "data": {
      "image/png": "[encoded data removed]",
      "text/plain": [
       "<Figure size 432x288 with 1 Axes>"
      ]
     },
     "metadata": {
      "needs_background": "light"
     },
     "output_type": "display_data"
    }
   ],
   "source": [
    "plt.imshow(img)\n",
    "plt.show()"
   ]
  },
  {
   "cell_type": "markdown",
   "id": "1a995f55",
   "metadata": {},
   "source": [
    "**查看照片维度**"
   ]
  },
  {
   "cell_type": "code",
   "execution_count": 22,
   "id": "dc2c74f5",
   "metadata": {},
   "outputs": [
    {
     "data": {
      "text/plain": [
       "(800, 600, 3)"
      ]
     },
     "execution_count": 22,
     "metadata": {},
     "output_type": "execute_result"
    }
   ],
   "source": [
    "img.shape    # 800*600,rgb3个通道"
   ]
  },
  {
   "cell_type": "markdown",
   "id": "cc03118d",
   "metadata": {},
   "source": [
    "## 数据预处理"
   ]
  },
  {
   "cell_type": "markdown",
   "id": "77390166",
   "metadata": {},
   "source": [
    "**把照片变成一个二维数组**"
   ]
  },
  {
   "cell_type": "code",
   "execution_count": 23,
   "id": "e2af56d3",
   "metadata": {},
   "outputs": [
    {
     "data": {
      "text/plain": [
       "array([[ 66, 142, 218, ...,  66, 142, 218],\n",
       "       [ 66, 142, 218, ...,  66, 142, 218],\n",
       "       [ 66, 142, 218, ...,  66, 142, 218],\n",
       "       ...,\n",
       "       [ 98,  97, 113, ...,  89,  86, 107],\n",
       "       [ 92,  89, 108, ...,  36,  34,  45],\n",
       "       [ 60,  59,  73, ...,  30,  29,  34]], dtype=uint8)"
      ]
     },
     "execution_count": 23,
     "metadata": {},
     "output_type": "execute_result"
    }
   ],
   "source": [
    "X = img.reshape(1200,1200)\n",
    "X"
   ]
  },
  {
   "cell_type": "markdown",
   "id": "a1af2d8f",
   "metadata": {},
   "source": [
    "**数据标准化**"
   ]
  },
  {
   "cell_type": "code",
   "execution_count": 24,
   "id": "2632189d",
   "metadata": {},
   "outputs": [
    {
     "data": {
      "text/plain": [
       "array([[-0.65158734,  0.26402337,  0.94608856, ..., -0.64756895,\n",
       "         0.28112662,  0.96089318],\n",
       "       [-0.65158734,  0.26402337,  0.94608856, ..., -0.64756895,\n",
       "         0.28112662,  0.96089318],\n",
       "       [-0.65158734,  0.26402337,  0.94608856, ..., -0.64756895,\n",
       "         0.28112662,  0.96089318],\n",
       "       ...,\n",
       "       [-0.2076543 , -0.58135238, -0.50179511, ..., -0.33043172,\n",
       "        -0.75318539, -0.55720635],\n",
       "       [-0.29089175, -0.73164141, -0.57074196, ..., -1.0612262 ,\n",
       "        -1.71361797, -1.40515384],\n",
       "       [-0.73482479, -1.29522524, -1.05336985, ..., -1.14395766,\n",
       "        -1.80596725, -1.55559613]])"
      ]
     },
     "execution_count": 24,
     "metadata": {},
     "output_type": "execute_result"
    }
   ],
   "source": [
    "X = StandardScaler().fit_transform(X)\n",
    "X"
   ]
  },
  {
   "cell_type": "markdown",
   "id": "a155a571",
   "metadata": {},
   "source": [
    "**使用PCA降维**"
   ]
  },
  {
   "cell_type": "code",
   "execution_count": 25,
   "id": "3df5a7e5",
   "metadata": {},
   "outputs": [
    {
     "name": "stdout",
     "output_type": "stream",
     "text": [
      "(1200, 50)\n"
     ]
    }
   ],
   "source": [
    "model = PCA(n_components=50)\n",
    "Z = model.fit_transform(X)\n",
    "print(Z.shape)"
   ]
  },
  {
   "cell_type": "code",
   "execution_count": 26,
   "id": "ad409c75",
   "metadata": {},
   "outputs": [
    {
     "name": "stdout",
     "output_type": "stream",
     "text": [
      "贡献比= 0.9837090615966596\n"
     ]
    }
   ],
   "source": [
    "print(\"贡献比=\",np.sum(model.explained_variance_ratio_))"
   ]
  },
  {
   "cell_type": "markdown",
   "id": "fac3bdad",
   "metadata": {},
   "source": [
    "**数据还原**"
   ]
  },
  {
   "cell_type": "code",
   "execution_count": 27,
   "id": "4f00d64e",
   "metadata": {},
   "outputs": [],
   "source": [
    "X_rec = model.inverse_transform(Z)\n",
    "X_rec = X_rec.reshape(800,600,3)"
   ]
  },
  {
   "cell_type": "markdown",
   "id": "80b80cb3",
   "metadata": {},
   "source": [
    "**显示还原后的照片**"
   ]
  },
  {
   "cell_type": "code",
   "execution_count": 28,
   "id": "69a2ba57",
   "metadata": {},
   "outputs": [
    {
     "name": "stderr",
     "output_type": "stream",
     "text": [
      "Clipping input data to the valid range for imshow with RGB data ([0..1] for floats or [0..255] for integers).\n"
     ]
    },
    {
     "data": {
      "image/png": "[encoded data removed]",
      "text/plain": [
       "<Figure size 432x288 with 1 Axes>"
      ]
     },
     "metadata": {
      "needs_background": "light"
     },
     "output_type": "display_data"
    }
   ],
   "source": [
    "plt.imshow(X_rec)\n",
    "plt.show()"
   ]
  }
 ],
 "metadata": {
  "kernelspec": {
   "display_name": "Python 3 (ipykernel)",
   "language": "python",
   "name": "python3"
  },
  "language_info": {
   "codemirror_mode": {
    "name": "ipython",
    "version": 3
   },
   "file_extension": ".py",
   "mimetype": "text/x-python",
   "name": "python",
   "nbconvert_exporter": "python",
   "pygments_lexer": "ipython3",
   "version": "3.9.7"
  },
  "toc": {
   "base_numbering": 1,
   "nav_menu": {},
   "number_sections": true,
   "sideBar": true,
   "skip_h1_title": false,
   "title_cell": "Table of Contents",
   "title_sidebar": "Contents",
   "toc_cell": false,
   "toc_position": {},
   "toc_section_display": true,
   "toc_window_display": true
  }
 },
 "nbformat": 4,
 "nbformat_minor": 5
}
