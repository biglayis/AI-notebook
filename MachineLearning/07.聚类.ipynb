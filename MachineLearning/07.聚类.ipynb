{
 "cells": [
  {
   "cell_type": "markdown",
   "id": "085dfb23",
   "metadata": {},
   "source": [
    "# K-means"
   ]
  },
  {
   "cell_type": "markdown",
   "id": "bf5d3e5a",
   "metadata": {},
   "source": [
    "聚类是一种无监督学习算法，用于把无分类的数据分为K类。  \n",
    "应用领域：客户群体分类，社交网络等"
   ]
  },
  {
   "cell_type": "markdown",
   "id": "6347a845",
   "metadata": {},
   "source": [
    "## 原理"
   ]
  },
  {
   "cell_type": "markdown",
   "id": "a603bfb1",
   "metadata": {},
   "source": [
    "K-means算法的原理是先选取k个初始质心，对每个样本点，计算其到各个质心的距离，选择距离最近的质心，将样本点的类别标为该质心所对应的cluster，再重新计算k个cluster对应的中心点，重复以上步骤，直到中心点不再发生变化。"
   ]
  },
  {
   "cell_type": "markdown",
   "id": "3cd60fd5",
   "metadata": {},
   "source": [
    "## 距离计算方法"
   ]
  },
  {
   "cell_type": "markdown",
   "id": "f23ac4f0",
   "metadata": {},
   "source": [
    "1. Minkowski（闵氏距离）  \n",
    "$$d(x,y)=(\\sum_{i=1}^n {| x_i-y_i |}^p)^{\\frac{1}{p}}$$\n",
    "> $p=2$ 时为欧氏距离  \n",
    "\n",
    "2. cosine similarity（余弦相似度，即向量的夹角）\n",
    "$$s(x,y)=cos(\\theta)=\\frac{x^Ty}{|x|\\cdot |y|}=\\frac{\\sum_{i=1}^n x_iy_i}{\\sqrt{\\sum_{i=1}^n x_i^2}\\sqrt{\\sum_{i=1}^n y_i^2}}$$\n",
    "> 相似度越高，距离越小；相似度越低，距离越大\n",
    "\n",
    "3. Pearson coefficient（皮尔逊相关系数）\n",
    "$$p(x,y)=\\frac{cov(x,y)}{\\sigma_x\\sigma_y}=\\frac{\\sum_{i=1}^n (x_i-\\mu_x)(y_i-\\mu_y)}{\\sqrt{\\sum_{i=1}^n (x_i-\\mu_x)^2}\\sqrt{\\sum_{i=1}^n (y_i-\\mu_y)^2}}$$"
   ]
  },
  {
   "cell_type": "markdown",
   "id": "51222c95",
   "metadata": {},
   "source": [
    "## 代码实现"
   ]
  },
  {
   "cell_type": "code",
   "execution_count": 1,
   "id": "6046d5aa",
   "metadata": {},
   "outputs": [],
   "source": [
    "import numpy as np\n",
    "import matplotlib.pyplot as plt\n",
    "import matplotlib as mpl\n",
    "import scipy.io"
   ]
  },
  {
   "cell_type": "code",
   "execution_count": 2,
   "id": "7a677f18",
   "metadata": {},
   "outputs": [],
   "source": [
    "def loaddata(path):\n",
    "    data = np.loadtxt(path,delimiter=',')\n",
    "    return data"
   ]
  },
  {
   "cell_type": "code",
   "execution_count": 3,
   "id": "aca7e597",
   "metadata": {},
   "outputs": [
    {
     "data": {
      "text/plain": [
       "<matplotlib.collections.PathCollection at 0x114034295e0>"
      ]
     },
     "execution_count": 3,
     "metadata": {},
     "output_type": "execute_result"
    },
    {
     "data": {
      "image/png": "[encoded data removed]",
      "text/plain": [
       "<Figure size 432x288 with 1 Axes>"
      ]
     },
     "metadata": {
      "needs_background": "light"
     },
     "output_type": "display_data"
    }
   ],
   "source": [
    "X = loaddata(\"data/cluster_data.csv\")\n",
    "plt.scatter(X[:,0],X[:,1],s=20)"
   ]
  },
  {
   "cell_type": "markdown",
   "id": "f79ac0c9",
   "metadata": {},
   "source": [
    "**1.随机初始化质心**  \n",
    "\n",
    "实际是从数据点中随机选k个作为质心，如果不从数据点中选，而是随机初始也可以，只是没有前者的收敛性好。"
   ]
  },
  {
   "cell_type": "code",
   "execution_count": 4,
   "id": "9a81f767",
   "metadata": {},
   "outputs": [],
   "source": [
    "def kMeansInitCentroids(X,k):\n",
    "    # 数据点中随机选k个作为质心\n",
    "    index = np.random.randint(0,len(X),k)     # 选择点的索引\n",
    "    return X[index]"
   ]
  },
  {
   "cell_type": "markdown",
   "id": "691f47a5",
   "metadata": {},
   "source": [
    "**2.计算数据点到质心的距离，并判断该数据点属于哪个质心**"
   ]
  },
  {
   "cell_type": "code",
   "execution_count": 5,
   "id": "b1f578bc",
   "metadata": {},
   "outputs": [],
   "source": [
    "def findClosestCentroids(X,centroids):\n",
    "    #idx中数据表明对应X的数据是属于哪一个质心的\n",
    "    idx = np.zeros(len(X)).reshape( X.shape[0],-1)\n",
    "    for i in range(len(X)):\n",
    "        minDistance = float('inf')     #初始无限大\n",
    "        index = 0\n",
    "        for k in range(len(centroids)):\n",
    "            #距离计算，使用欧氏距离\n",
    "            distance = np.sum(np.power(X[i]-centroids[k],2))\n",
    "            if(distance<minDistance):\n",
    "                minDistance = distance\n",
    "                index = k\n",
    "        idx[i]=index\n",
    "    return idx    "
   ]
  },
  {
   "cell_type": "markdown",
   "id": "225970cd",
   "metadata": {},
   "source": [
    "**3.重新计算每个类别的质心**  \n",
    "\n",
    "计算方法：每个维度的坐标分别计算平均值"
   ]
  },
  {
   "cell_type": "code",
   "execution_count": 6,
   "id": "a06f3e7d",
   "metadata": {},
   "outputs": [],
   "source": [
    "def computeCentroids(X,idx):\n",
    "    k = set(np.ravel(idx).tolist())  # 找到所有聚类中心索引\n",
    "    k = list(k)\n",
    "    centroids = np.ndarray((len(k),X.shape[1]))    # 存储新的聚类中心的坐标\n",
    "    for i in range(len(k)):\n",
    "        #选择数据X中类别为k[i]的数据\n",
    "        data = X[np.where(idx==k[i])[0]]\n",
    "        #重新计算聚类中心,按列求平均\n",
    "        centroids[i] = np.average(data,axis=0)\n",
    "    return centroids"
   ]
  },
  {
   "cell_type": "markdown",
   "id": "618e0997",
   "metadata": {},
   "source": [
    "**4.把所有的方法组合起来形成k-means算法**"
   ]
  },
  {
   "cell_type": "code",
   "execution_count": 7,
   "id": "ac02df42",
   "metadata": {},
   "outputs": [],
   "source": [
    "def k_means(X,k,max_iters):\n",
    "    #初始化聚类中心\n",
    "    initial_centroids = kMeansInitCentroids(X,k)\n",
    "    #迭代\n",
    "    for i in range(max_iters):\n",
    "        if i==0:\n",
    "            centroids = initial_centroids\n",
    "        #计算样本到质心的距离，并返回每个样本所属的质心\n",
    "        idx = findClosestCentroids(X,centroids)\n",
    "        #重新计算聚类中心\n",
    "        centroids = computeCentroids(X,idx)\n",
    "    return idx,centroids"
   ]
  },
  {
   "cell_type": "code",
   "execution_count": 8,
   "id": "eabac5e0",
   "metadata": {},
   "outputs": [
    {
     "name": "stdout",
     "output_type": "stream",
     "text": [
      "[[2.]\n",
      " [0.]\n",
      " [0.]\n",
      " [2.]\n",
      " [2.]\n",
      " [2.]\n",
      " [2.]\n",
      " [2.]\n",
      " [2.]\n",
      " [2.]\n",
      " [2.]\n",
      " [2.]\n",
      " [2.]\n",
      " [2.]\n",
      " [2.]\n",
      " [2.]\n",
      " [2.]\n",
      " [2.]\n",
      " [2.]\n",
      " [2.]\n",
      " [2.]\n",
      " [2.]\n",
      " [2.]\n",
      " [2.]\n",
      " [2.]\n",
      " [2.]\n",
      " [2.]\n",
      " [2.]\n",
      " [2.]\n",
      " [2.]\n",
      " [2.]\n",
      " [2.]\n",
      " [2.]\n",
      " [2.]\n",
      " [2.]\n",
      " [2.]\n",
      " [2.]\n",
      " [2.]\n",
      " [2.]\n",
      " [2.]\n",
      " [2.]\n",
      " [2.]\n",
      " [2.]\n",
      " [2.]\n",
      " [2.]\n",
      " [2.]\n",
      " [2.]\n",
      " [2.]\n",
      " [2.]\n",
      " [2.]\n",
      " [2.]\n",
      " [2.]\n",
      " [2.]\n",
      " [2.]\n",
      " [2.]\n",
      " [2.]\n",
      " [2.]\n",
      " [2.]\n",
      " [2.]\n",
      " [2.]\n",
      " [2.]\n",
      " [2.]\n",
      " [2.]\n",
      " [2.]\n",
      " [2.]\n",
      " [2.]\n",
      " [2.]\n",
      " [2.]\n",
      " [2.]\n",
      " [2.]\n",
      " [2.]\n",
      " [2.]\n",
      " [2.]\n",
      " [2.]\n",
      " [2.]\n",
      " [2.]\n",
      " [2.]\n",
      " [2.]\n",
      " [2.]\n",
      " [2.]\n",
      " [2.]\n",
      " [2.]\n",
      " [2.]\n",
      " [2.]\n",
      " [0.]\n",
      " [2.]\n",
      " [2.]\n",
      " [2.]\n",
      " [2.]\n",
      " [2.]\n",
      " [2.]\n",
      " [2.]\n",
      " [2.]\n",
      " [2.]\n",
      " [2.]\n",
      " [2.]\n",
      " [2.]\n",
      " [2.]\n",
      " [2.]\n",
      " [2.]\n",
      " [1.]\n",
      " [1.]\n",
      " [1.]\n",
      " [1.]\n",
      " [1.]\n",
      " [1.]\n",
      " [1.]\n",
      " [1.]\n",
      " [1.]\n",
      " [1.]\n",
      " [1.]\n",
      " [1.]\n",
      " [1.]\n",
      " [1.]\n",
      " [1.]\n",
      " [1.]\n",
      " [1.]\n",
      " [1.]\n",
      " [1.]\n",
      " [1.]\n",
      " [1.]\n",
      " [1.]\n",
      " [1.]\n",
      " [1.]\n",
      " [1.]\n",
      " [1.]\n",
      " [1.]\n",
      " [1.]\n",
      " [1.]\n",
      " [1.]\n",
      " [1.]\n",
      " [1.]\n",
      " [1.]\n",
      " [1.]\n",
      " [1.]\n",
      " [1.]\n",
      " [1.]\n",
      " [1.]\n",
      " [1.]\n",
      " [1.]\n",
      " [1.]\n",
      " [1.]\n",
      " [1.]\n",
      " [1.]\n",
      " [1.]\n",
      " [1.]\n",
      " [1.]\n",
      " [1.]\n",
      " [1.]\n",
      " [1.]\n",
      " [1.]\n",
      " [1.]\n",
      " [1.]\n",
      " [1.]\n",
      " [1.]\n",
      " [1.]\n",
      " [1.]\n",
      " [1.]\n",
      " [1.]\n",
      " [1.]\n",
      " [1.]\n",
      " [1.]\n",
      " [1.]\n",
      " [1.]\n",
      " [1.]\n",
      " [1.]\n",
      " [1.]\n",
      " [1.]\n",
      " [1.]\n",
      " [1.]\n",
      " [1.]\n",
      " [1.]\n",
      " [1.]\n",
      " [1.]\n",
      " [1.]\n",
      " [1.]\n",
      " [1.]\n",
      " [1.]\n",
      " [1.]\n",
      " [1.]\n",
      " [1.]\n",
      " [1.]\n",
      " [1.]\n",
      " [1.]\n",
      " [1.]\n",
      " [1.]\n",
      " [1.]\n",
      " [1.]\n",
      " [1.]\n",
      " [1.]\n",
      " [1.]\n",
      " [1.]\n",
      " [1.]\n",
      " [1.]\n",
      " [1.]\n",
      " [1.]\n",
      " [1.]\n",
      " [1.]\n",
      " [1.]\n",
      " [1.]\n",
      " [0.]\n",
      " [0.]\n",
      " [0.]\n",
      " [0.]\n",
      " [0.]\n",
      " [0.]\n",
      " [0.]\n",
      " [0.]\n",
      " [0.]\n",
      " [0.]\n",
      " [0.]\n",
      " [0.]\n",
      " [0.]\n",
      " [0.]\n",
      " [0.]\n",
      " [0.]\n",
      " [0.]\n",
      " [0.]\n",
      " [0.]\n",
      " [0.]\n",
      " [0.]\n",
      " [0.]\n",
      " [0.]\n",
      " [0.]\n",
      " [0.]\n",
      " [0.]\n",
      " [0.]\n",
      " [0.]\n",
      " [0.]\n",
      " [0.]\n",
      " [0.]\n",
      " [0.]\n",
      " [0.]\n",
      " [0.]\n",
      " [0.]\n",
      " [0.]\n",
      " [0.]\n",
      " [0.]\n",
      " [0.]\n",
      " [1.]\n",
      " [0.]\n",
      " [0.]\n",
      " [0.]\n",
      " [0.]\n",
      " [0.]\n",
      " [0.]\n",
      " [0.]\n",
      " [0.]\n",
      " [0.]\n",
      " [0.]\n",
      " [0.]\n",
      " [0.]\n",
      " [0.]\n",
      " [0.]\n",
      " [0.]\n",
      " [0.]\n",
      " [0.]\n",
      " [0.]\n",
      " [0.]\n",
      " [0.]\n",
      " [0.]\n",
      " [0.]\n",
      " [0.]\n",
      " [0.]\n",
      " [0.]\n",
      " [1.]\n",
      " [0.]\n",
      " [0.]\n",
      " [0.]\n",
      " [0.]\n",
      " [0.]\n",
      " [0.]\n",
      " [0.]\n",
      " [0.]\n",
      " [0.]\n",
      " [0.]\n",
      " [0.]\n",
      " [0.]\n",
      " [0.]\n",
      " [0.]\n",
      " [0.]\n",
      " [0.]\n",
      " [0.]\n",
      " [0.]\n",
      " [0.]\n",
      " [0.]\n",
      " [0.]\n",
      " [0.]\n",
      " [0.]\n",
      " [0.]\n",
      " [0.]\n",
      " [0.]\n",
      " [0.]\n",
      " [0.]\n",
      " [0.]\n",
      " [0.]\n",
      " [0.]\n",
      " [0.]\n",
      " [0.]\n",
      " [2.]]\n",
      "[[6.03366736 3.00052511]\n",
      " [3.04367119 1.01541041]\n",
      " [1.95399466 5.02557006]]\n"
     ]
    }
   ],
   "source": [
    "idx,centroids = k_means(X,3,8)\n",
    "print(idx)\n",
    "print(centroids)"
   ]
  },
  {
   "cell_type": "markdown",
   "id": "c8974195",
   "metadata": {},
   "source": [
    "**5.画图**"
   ]
  },
  {
   "cell_type": "code",
   "execution_count": 9,
   "id": "a4c8ea28",
   "metadata": {},
   "outputs": [
    {
     "data": {
      "image/png": "[encoded data removed]",
      "text/plain": [
       "<Figure size 432x288 with 1 Axes>"
      ]
     },
     "metadata": {
      "needs_background": "light"
     },
     "output_type": "display_data"
    }
   ],
   "source": [
    "cm_dark = mpl.colors.ListedColormap(['g', 'r', 'b'])\n",
    "plt.scatter(X[:, 0], X[:, 1], c=np.ravel(idx), cmap=cm_dark, s=20)\n",
    "plt.scatter(centroids[:, 0], centroids[:, 1], c=np.arange(len(centroids)), cmap=cm_dark, marker='*', s=500)\n",
    "plt.show()"
   ]
  },
  {
   "cell_type": "markdown",
   "id": "134778bc",
   "metadata": {},
   "source": [
    "## sklearn实现K-means"
   ]
  },
  {
   "cell_type": "code",
   "execution_count": 10,
   "id": "60079815",
   "metadata": {},
   "outputs": [
    {
     "name": "stdout",
     "output_type": "stream",
     "text": [
      "聚类中心: [[3.04367119 1.01541041]\n",
      " [1.95399466 5.02557006]\n",
      " [6.03366736 3.00052511]]\n",
      "每个样本所属的簇: [1 2 2 1 1 1 1 1 1 1 1 1 1 1 1 1 1 1 1 1 1 1 1 1 1 1 1 1 1 1 1 1 1 1 1 1 1\n",
      " 1 1 1 1 1 1 1 1 1 1 1 1 1 1 1 1 1 1 1 1 1 1 1 1 1 1 1 1 1 1 1 1 1 1 1 1 1\n",
      " 1 1 1 1 1 1 1 1 1 1 2 1 1 1 1 1 1 1 1 1 1 1 1 1 1 1 0 0 0 0 0 0 0 0 0 0 0\n",
      " 0 0 0 0 0 0 0 0 0 0 0 0 0 0 0 0 0 0 0 0 0 0 0 0 0 0 0 0 0 0 0 0 0 0 0 0 0\n",
      " 0 0 0 0 0 0 0 0 0 0 0 0 0 0 0 0 0 0 0 0 0 0 0 0 0 0 0 0 0 0 0 0 0 0 0 0 0\n",
      " 0 0 0 0 0 0 0 0 0 0 0 0 0 0 0 2 2 2 2 2 2 2 2 2 2 2 2 2 2 2 2 2 2 2 2 2 2\n",
      " 2 2 2 2 2 2 2 2 2 2 2 2 2 2 2 2 2 0 2 2 2 2 2 2 2 2 2 2 2 2 2 2 2 2 2 2 2\n",
      " 2 2 2 2 2 2 0 2 2 2 2 2 2 2 2 2 2 2 2 2 2 2 2 2 2 2 2 2 2 2 2 2 2 2 2 2 2\n",
      " 2 2 2 1]\n"
     ]
    }
   ],
   "source": [
    "from sklearn.cluster import KMeans\n",
    "\n",
    "model = KMeans(n_clusters=3,max_iter=10)\n",
    "model.fit(X)\n",
    "print('聚类中心:',model.cluster_centers_)\n",
    "print('每个样本所属的簇:',model.labels_)"
   ]
  },
  {
   "cell_type": "code",
   "execution_count": 11,
   "id": "68368d0d",
   "metadata": {},
   "outputs": [
    {
     "data": {
      "text/plain": [
       "<matplotlib.collections.PathCollection at 0x11405de21f0>"
      ]
     },
     "execution_count": 11,
     "metadata": {},
     "output_type": "execute_result"
    },
    {
     "data": {
      "image/png": "[encoded data removed]",
      "text/plain": [
       "<Figure size 432x288 with 1 Axes>"
      ]
     },
     "metadata": {
      "needs_background": "light"
     },
     "output_type": "display_data"
    }
   ],
   "source": [
    "cm_dark = mpl.colors.ListedColormap(['g', 'r','b'])\n",
    "plt.scatter(X[:, 0], X[:, 1], c=model.labels_, cmap=cm_dark, s=20)\n",
    "plt.scatter(model.cluster_centers_[:, 0], model.cluster_centers_[:, 1], c=np.arange(len(model.cluster_centers_)), cmap=cm_dark, marker='*', s=500)"
   ]
  },
  {
   "cell_type": "markdown",
   "id": "4cda161a",
   "metadata": {},
   "source": [
    "# 层次聚类"
   ]
  },
  {
   "cell_type": "markdown",
   "id": "3111d1f6",
   "metadata": {},
   "source": [
    "## 原理"
   ]
  },
  {
   "cell_type": "markdown",
   "id": "38240dec",
   "metadata": {},
   "source": [
    "1. 聚合或自下而上聚类  \n",
    "2. 分裂或自上而下聚类"
   ]
  },
  {
   "cell_type": "markdown",
   "id": "6af5b35a",
   "metadata": {},
   "source": [
    "**AGNES（Agglomerative Nesting）：凝聚层次聚类**  \n",
    "1. 构造 $m$ 个类，每个类包含一个样本\n",
    "2. 计算类与类之间的距离 $d_{ij}$，记做矩阵 $D=[d_{ij}]_{m\\times m}$  \n",
    "3. 合并间距最小的两个类\n",
    "4. 若达到聚类数 $k$ 则退出  \n",
    "5. 重新计算类之间的距离 $d_{ij}$，重复步骤3"
   ]
  },
  {
   "cell_type": "markdown",
   "id": "3738ef9f",
   "metadata": {},
   "source": [
    "## 距离计算方法"
   ]
  },
  {
   "cell_type": "markdown",
   "id": "89aea6a4",
   "metadata": {},
   "source": [
    "1. 最小距离\n",
    "2. 最大距离\n",
    "3. 中心距离\n",
    "4. 平均距离  \n",
    "\n",
    "<img src=\"img/类间距离.png\" width=\"450px\">"
   ]
  },
  {
   "cell_type": "markdown",
   "id": "947c7897",
   "metadata": {},
   "source": [
    "## sklearn实现层次聚类"
   ]
  },
  {
   "cell_type": "code",
   "execution_count": 12,
   "id": "7b2e3712",
   "metadata": {},
   "outputs": [],
   "source": [
    "from sklearn.cluster import AgglomerativeClustering"
   ]
  },
  {
   "cell_type": "markdown",
   "id": "24afd8fb",
   "metadata": {},
   "source": [
    "**linkage可取值：**\n",
    "- ward： 最小方差\n",
    "- complete 最大距离\n",
    "- average 平均距离\n",
    "- single 最小距离"
   ]
  },
  {
   "cell_type": "code",
   "execution_count": 13,
   "id": "369fd478",
   "metadata": {},
   "outputs": [
    {
     "name": "stdout",
     "output_type": "stream",
     "text": [
      "每个样本所属的簇: [1 0 0 1 1 1 1 1 1 1 1 1 1 1 1 1 0 1 1 1 1 1 1 1 1 1 1 1 1 1 1 1 1 1 1 1 1\n",
      " 1 1 1 1 1 1 1 1 1 1 0 1 1 1 1 1 1 1 1 1 1 1 1 1 1 1 1 1 1 1 1 1 1 1 1 1 1\n",
      " 1 1 1 1 1 1 1 1 1 1 0 1 1 1 1 1 1 1 1 1 1 0 1 1 1 1 2 2 2 2 2 2 2 2 2 2 2\n",
      " 2 2 2 2 2 2 2 2 2 2 2 2 2 2 2 2 2 2 2 2 2 2 2 2 2 2 2 2 2 2 2 2 2 2 2 2 2\n",
      " 2 2 2 2 2 2 2 2 2 2 2 2 2 2 2 2 2 2 2 2 2 2 2 2 2 2 2 2 2 2 2 2 2 2 2 2 2\n",
      " 2 2 2 2 2 2 2 2 2 2 2 2 2 2 2 0 0 0 0 0 0 0 0 0 0 0 0 0 0 0 0 0 0 0 0 0 0\n",
      " 0 0 0 0 0 0 0 0 0 0 0 0 0 0 0 0 0 0 0 0 0 0 0 0 0 0 0 0 0 0 0 0 0 0 0 0 0\n",
      " 0 0 0 0 0 0 0 0 0 0 0 0 0 0 0 0 0 0 0 0 0 0 0 0 0 0 0 0 0 0 0 0 0 0 0 0 0\n",
      " 0 0 0 1]\n"
     ]
    }
   ],
   "source": [
    "model = AgglomerativeClustering(n_clusters=3,affinity='euclidean',linkage='complete')   # affinity表示距离的计算方法，euclidean为欧氏距离\n",
    "model.fit(X)\n",
    "print('每个样本所属的簇:',model.labels_)"
   ]
  },
  {
   "cell_type": "code",
   "execution_count": 14,
   "id": "760e04b1",
   "metadata": {},
   "outputs": [
    {
     "data": {
      "image/png": "[encoded data removed]",
      "text/plain": [
       "<Figure size 432x288 with 1 Axes>"
      ]
     },
     "metadata": {
      "needs_background": "light"
     },
     "output_type": "display_data"
    }
   ],
   "source": [
    "cm_dark = mpl.colors.ListedColormap(['g', 'r','b'])\n",
    "plt.scatter(X[:, 0], X[:, 1], c=model.labels_, cmap=cm_dark, s=20)\n",
    "plt.show()"
   ]
  },
  {
   "cell_type": "markdown",
   "id": "d20398f0",
   "metadata": {},
   "source": [
    "# 密度聚类"
   ]
  },
  {
   "cell_type": "markdown",
   "id": "5009773b",
   "metadata": {},
   "source": [
    "## 原理"
   ]
  },
  {
   "cell_type": "markdown",
   "id": "f63658fc",
   "metadata": {},
   "source": [
    "DBSCAN是一种著名的密度聚类方法，给定参数  \n",
    "\n",
    "1. $\\epsilon$ 邻域：$\\epsilon$ 为邻域的半径\n",
    "2. 核心对象：若 $x_i$ 邻域中的点的个数大于等于 $minPts$，则 $x_i$ 为核心对象\n",
    "3. 密度直达：若 $x_j$ 在 $x_i$ 的邻域中且 $x_i$ 是核心对象，则称 $x_j$ 是可以由 $x_i$ 密度直达的\n",
    "4. 密度可达：若 $x_j$ 由 $x_i$ 密度直达，$x_k$ 由 $x_j$ 密度直达，则称 $x_k$ 由 $x_i$ 密度可达\n",
    "\n",
    "以下图为例，若 $minPts=3$，则 $x_1,x_2$ 等都是核心对象，$x_2$ 由 $x_1$ 密度直达，$x_3$ 由 $x_1$ 密度可达\n",
    "<img src=\"img/密度聚类.png\" width=\"400px\">  "
   ]
  },
  {
   "cell_type": "markdown",
   "id": "e10f1af3",
   "metadata": {},
   "source": [
    "**密度聚类算法过程**  \n",
    "1. 首先设置 $(\\epsilon,Minpts)$ 参数  \n",
    "2. 确定核心对象，假设为 $\\Omega=\\{x^{(3)},x^{(5)},x^{(6)},x^{(8)},x^{(9)},x^{(13)},x^{(14)},x^{(18)},x^{(19)},x^{(24)},x^{(25)},x^{(28)},x^{(29)}\\}$  \n",
    "3. 从 $\\Omega$ 中随机选取一个核心对象作为种子（假设为 $x^{(8)}$），找出由它密度可达的所有样本，构成一个聚类簇，假设第一个聚类簇为 $C_1=\\{x^{(6)},x^{(7)},x^{(8)},x^{(10)},x^{(12)},x^{(18)},x^{(19)},x^{(20)},x^{(23)}\\}$  \n",
    "4. 从 $\\Omega$ 中取出 $C_1$ 中包含的核心对象后，$\\Omega=\\{x^{(3)},x^{(5)},x^{(9)},x^{(13)},x^{(14)},x^{(24)},x^{(25)},x^{(28)},x^{(29)}\\}$ 重复步骤3直到 $\\Omega$ 为空"
   ]
  },
  {
   "cell_type": "markdown",
   "id": "0d62d262",
   "metadata": {},
   "source": [
    "## sklearn实现密度聚类"
   ]
  },
  {
   "cell_type": "code",
   "execution_count": 15,
   "id": "1d448ed5",
   "metadata": {},
   "outputs": [],
   "source": [
    "from sklearn.cluster import DBSCAN"
   ]
  },
  {
   "cell_type": "code",
   "execution_count": 16,
   "id": "d44be89a",
   "metadata": {},
   "outputs": [
    {
     "name": "stdout",
     "output_type": "stream",
     "text": [
      "每个样本所属的簇: [ 0 -1  1  0  0  0  0  0  0  0  0  0  0  0  0  0 -1  0  0  0  0  0  0  0\n",
      "  0  0  0  0  0  0  0  0  0  0  0  0  0  0  0  0  0  0  0  0  0  0  0 -1\n",
      "  0  0  0  0  0  0  0  0  0  0  0  0  0  0  0  0  0  0  0 -1  0  0  0  0\n",
      "  0  0  0  0  0  0  0  0  0  0  0  0 -1  0  0  0  0  0  0  0  0  0  0 -1\n",
      "  0  0  0  0  2  2  2  2  2  2  2  2  2  2  2  2  2  2  2  2  2  2  2  2\n",
      "  2  2  2  2  2  2  2  2  2  2  2  2  2  2  2  2  2  2  2  2  2  2  2  2\n",
      "  2  2  2  2  2  2  2  2  2  2  2  2  2  2  2  2  2  2  2  2  2  2  2  2\n",
      "  2  2  2  2  2  2  2  2  2  2  2  2  2  2  2  2  2  2  2  2  2  2  2  2\n",
      "  2  2  2  2 -1  2 -1  2  1  1  1  1  1  1  1  1  1  1  1  1  1  1  1  1\n",
      "  1  1  1  1  1  1  1  1  1  1  1  1  1  1  1  1  1  1  1  1  1  1  1  1\n",
      "  1  1  1  1  1  1  1  1  1  1  1  1  1  1  1  1  1  1  1  1  1  1  1  1\n",
      "  1 -1 -1  1  1  1  1  1  1  1  1  1  1  1  1 -1  1  1  1  1  1  1  1  1\n",
      "  1  1  1  1  1  1  1  1  1  1  1  0]\n"
     ]
    }
   ],
   "source": [
    "model = DBSCAN(eps=0.5,min_samples=5,metric='euclidean')\n",
    "model.fit(X)\n",
    "print('每个样本所属的簇:',model.labels_)"
   ]
  },
  {
   "cell_type": "markdown",
   "id": "97d74dfb",
   "metadata": {},
   "source": [
    "-1类表示不在任何类中，称为离群点"
   ]
  },
  {
   "cell_type": "code",
   "execution_count": 17,
   "id": "9acd7568",
   "metadata": {},
   "outputs": [
    {
     "data": {
      "image/png": "[encoded data removed]",
      "text/plain": [
       "<Figure size 432x288 with 1 Axes>"
      ]
     },
     "metadata": {
      "needs_background": "light"
     },
     "output_type": "display_data"
    }
   ],
   "source": [
    "cm_dark = mpl.colors.ListedColormap(['g','r','b','c'])\n",
    "plt.scatter(X[:, 0], X[:, 1], c=model.labels_, cmap=cm_dark, s=20)\n",
    "plt.show()"
   ]
  },
  {
   "cell_type": "markdown",
   "id": "ed782289",
   "metadata": {},
   "source": [
    "# 高斯混合模型"
   ]
  },
  {
   "cell_type": "markdown",
   "id": "a22eb51b",
   "metadata": {},
   "source": [
    "## 原理"
   ]
  },
  {
   "cell_type": "markdown",
   "id": "e3ed8c33",
   "metadata": {},
   "source": [
    "<img src=\"img/高斯混合模型.png\" width=\"800px\">  \n",
    "\n",
    "在上图中，图2是用一个高斯模型拟合所有数据，通过等高线可以看出，数据不符合高斯分布；图3是分别用两个高斯模型拟合，可以看到这两部分数据都是符合高斯分布的，这两部分数据占全部数据的比例分别为 $\\pi_1,\\pi_2$，因此我们可以将这两个模型混合，得到高斯混合模型。  \n",
    "\n",
    "若有 $k$ 个高斯模型，$u_k,{\\sum}_k$ 为第 $k$ 个高斯模型的均值向量和协方差矩阵，则高斯混合模型为：\n",
    "\n",
    "$$p(x)=\\sum_{k=1}^K p(k)p(x|k)=\\sum_{k=1}^K \\pi_kN(x|u_k,{\\sum}_k)$$"
   ]
  },
  {
   "cell_type": "markdown",
   "id": "6929dbd1",
   "metadata": {},
   "source": [
    "## 参数估计"
   ]
  },
  {
   "cell_type": "markdown",
   "id": "bca15978",
   "metadata": {},
   "source": [
    "第 $i$ 个样本属于第 $k$ 个类别的概率：\n",
    "\n",
    "$$\\gamma(i,k)=\\frac{\\pi_kf(x_i|\\mu_k,{\\sum}_k)}{\\sum_{j=1}^K \\pi_jf(x_i|\\mu_i,{\\sum}_j)}$$  \n",
    "\n",
    "$$\\begin{cases}\n",
    "N_k=\\sum_{i=1}^N \\gamma(i,k) \\\\\n",
    "\\mu_k=\\frac{1}{N_k}\\sum_{i=1}^N \\gamma(i,k)x_i \\\\\n",
    "{\\sum}_k=\\frac{1}{N_k}\\sum_{i=1}^N \\gamma(i,k)(x_i-\\mu_k)(x_i-\\mu_k)^T \\\\\n",
    "\\pi_k=\\frac{N_k}{N}=\\frac{1}{N}\\sum_{i=1}^N \\gamma(i,k)\n",
    "\\end{cases}$$"
   ]
  },
  {
   "cell_type": "markdown",
   "id": "055ec84d",
   "metadata": {},
   "source": [
    "## 代码实现"
   ]
  },
  {
   "cell_type": "code",
   "execution_count": 18,
   "id": "cfc5b666",
   "metadata": {},
   "outputs": [],
   "source": [
    "# 生成均值为1.71，标准差为0.056的男生身高数据\n",
    "np.random.seed(0)\n",
    "\n",
    "mu_m = 1.71\n",
    "sigma_m = 0.056\n",
    "num_m = 10000\n",
    "rand_data_m = np.random.normal(mu_m,sigma_m,num_m)\n",
    "y_m = np.ones(num_m)\n",
    "\n",
    "# 生成均值为1.58，标准差为0.051的女生身高数据\n",
    "np.random.seed(0)\n",
    "\n",
    "mu_w = 1.58\n",
    "sigma_w = 0.051\n",
    "num_w = 10000\n",
    "rand_data_w = np.random.normal(mu_w,sigma_w,num_w)\n",
    "y_w = np.ones(num_w)"
   ]
  },
  {
   "cell_type": "code",
   "execution_count": 19,
   "id": "6484b2d2",
   "metadata": {},
   "outputs": [
    {
     "name": "stdout",
     "output_type": "stream",
     "text": [
      "[[1.80878693]\n",
      " [1.7324088 ]\n",
      " [1.76480933]\n",
      " ...\n",
      " [1.60636048]\n",
      " [1.57832104]\n",
      " [1.64620368]]\n",
      "[1. 1. 1. ... 1. 1. 1.]\n"
     ]
    }
   ],
   "source": [
    "# 把男生数据和女生数据合在一起\n",
    "data = np.append(rand_data_m,rand_data_w)\n",
    "data = data.reshape(-1,1)\n",
    "y = np.append(y_m,y_w)\n",
    "print(data)\n",
    "print(y)"
   ]
  },
  {
   "cell_type": "code",
   "execution_count": 20,
   "id": "fff08c40",
   "metadata": {},
   "outputs": [
    {
     "name": "stdout",
     "output_type": "stream",
     "text": [
      "类别概率:\t 0.48738843896965456\n",
      "均值:\t [1.57749046] [1.70726384]\n",
      "方差:\n",
      " [[0.00244834]] \n",
      "\n",
      " [[0.00315184]] \n",
      "\n"
     ]
    }
   ],
   "source": [
    "from scipy.stats import multivariate_normal\n",
    "\n",
    "num_iter = 1000\n",
    "n,d = data.shape\n",
    "#初始化参数\n",
    "mu1 = data[np.random.randint(0,n,1)][0,0]\n",
    "mu2 = data[np.random.randint(0,n,1)][0,0]\n",
    "sigma1 = np.identity(d)\n",
    "sigma2 = np.identity(d)\n",
    "pi = 0.5   # 男生比例为pi，女生比例为1-pi\n",
    "\n",
    "for i in range(num_iter):\n",
    "    #计算gamma\n",
    "    #1.定义两个正态分布\n",
    "    norm1 = multivariate_normal(mu1,sigma1)\n",
    "    norm2 = multivariate_normal(mu2,sigma2)\n",
    "    #2.代入数据计算\n",
    "    tau1 = pi*norm1.pdf(data)\n",
    "    tau2 = (1-pi)*norm2.pdf(data)\n",
    "    gamma1 = tau1/(tau1+tau2)    \n",
    "    gamma2 = tau2/(tau1+tau2)\n",
    "    n1 = np.sum(gamma1)\n",
    "    n2 = np.sum(gamma2)\n",
    "    \n",
    "    #计算mu1\n",
    "    mu1 = np.dot(gamma1,data)/n1\n",
    "    #计算mu2\n",
    "    mu2 = np.dot(gamma2,data)/n2\n",
    "    #计算sigma1\n",
    "    sigma1 = np.dot(gamma1 * (data - mu1).T, data - mu1) / n1\n",
    "    #计算sigmal2\n",
    "    sigma2 = np.dot(gamma2 * (data - mu2).T, data - mu2) / n2\n",
    "    #计算pi\n",
    "    pi = n1/n\n",
    "\n",
    "print(u'类别概率:\\t', pi)\n",
    "print(u'均值:\\t', mu1, mu2)\n",
    "print(u'方差:\\n', sigma1, '\\n\\n', sigma2, '\\n')"
   ]
  },
  {
   "cell_type": "markdown",
   "id": "a0185808",
   "metadata": {},
   "source": [
    "## sklearn实现高斯混合模型"
   ]
  },
  {
   "cell_type": "code",
   "execution_count": 21,
   "id": "9886151f",
   "metadata": {},
   "outputs": [],
   "source": [
    "np.random.seed(0)\n",
    "\n",
    "mu_m = 1.71  #期望为\n",
    "sigma_m = 0.056  #标准差为\n",
    "num_m = 10000  #个数为10000\n",
    "rand_data_m = np.random.normal(mu_m, sigma_m, num_m)\n",
    "y_m = np.ones(num_m)\n",
    "\n",
    "np.random.seed(0)\n",
    "\n",
    "mu_w = 1.58  #期望为\n",
    "sigma_w = 0.051  #标准差为\n",
    "num_w = 10000  #个数为10000\n",
    "rand_data_w = np.random.normal(mu_w, sigma_w, num_w)\n",
    "y_w = np.zeros(num_m)\n",
    "\n",
    "data = np.append(rand_data_m,rand_data_w)\n",
    "data = data.reshape(-1,1)\n",
    "y = np.append(y_m,y_w)"
   ]
  },
  {
   "cell_type": "code",
   "execution_count": 22,
   "id": "2dc6ea9b",
   "metadata": {},
   "outputs": [
    {
     "name": "stdout",
     "output_type": "stream",
     "text": [
      "类别概率:\t 0.4996845463290564\n",
      "均值:\n",
      " [[1.57895467]\n",
      " [1.70899088]] \n",
      "\n",
      "方差:\n",
      " [[[0.00251674]]\n",
      "\n",
      " [[0.00306335]]] \n",
      "\n"
     ]
    }
   ],
   "source": [
    "from sklearn.mixture import GaussianMixture\n",
    "\n",
    "g = GaussianMixture(n_components=2, covariance_type='full', tol=1e-6, max_iter=1000)\n",
    "g.fit(data)\n",
    "print(u'类别概率:\\t', g.weights_[0])\n",
    "print(u'均值:\\n', g.means_, '\\n')\n",
    "print(u'方差:\\n', g.covariances_, '\\n')"
   ]
  },
  {
   "cell_type": "code",
   "execution_count": 23,
   "id": "a30c724d",
   "metadata": {},
   "outputs": [
    {
     "name": "stdout",
     "output_type": "stream",
     "text": [
      "0.8891\n"
     ]
    }
   ],
   "source": [
    "from sklearn.metrics import accuracy_score\n",
    "\n",
    "y_hat = g.predict(data)\n",
    "print(accuracy_score(y,y_hat))"
   ]
  },
  {
   "cell_type": "markdown",
   "id": "1f9965e9",
   "metadata": {},
   "source": [
    "# 案例：对亚洲足球队进行聚类分析"
   ]
  },
  {
   "cell_type": "code",
   "execution_count": 24,
   "id": "68920684",
   "metadata": {},
   "outputs": [],
   "source": [
    "import numpy as np\n",
    "import pandas as pd \n",
    "from sklearn.cluster import KMeans\n",
    "from sklearn.preprocessing import StandardScaler"
   ]
  },
  {
   "cell_type": "code",
   "execution_count": 25,
   "id": "eeb87621",
   "metadata": {},
   "outputs": [
    {
     "data": {
      "text/html": [
       "<div>\n",
       "<style scoped>\n",
       "    .dataframe tbody tr th:only-of-type {\n",
       "        vertical-align: middle;\n",
       "    }\n",
       "\n",
       "    .dataframe tbody tr th {\n",
       "        vertical-align: top;\n",
       "    }\n",
       "\n",
       "    .dataframe thead th {\n",
       "        text-align: right;\n",
       "    }\n",
       "</style>\n",
       "<table border=\"1\" class=\"dataframe\">\n",
       "  <thead>\n",
       "    <tr style=\"text-align: right;\">\n",
       "      <th></th>\n",
       "      <th>2019国际排名</th>\n",
       "      <th>2018世界杯</th>\n",
       "      <th>2015亚洲杯</th>\n",
       "    </tr>\n",
       "    <tr>\n",
       "      <th>国家</th>\n",
       "      <th></th>\n",
       "      <th></th>\n",
       "      <th></th>\n",
       "    </tr>\n",
       "  </thead>\n",
       "  <tbody>\n",
       "    <tr>\n",
       "      <th>中国</th>\n",
       "      <td>73</td>\n",
       "      <td>40</td>\n",
       "      <td>7</td>\n",
       "    </tr>\n",
       "    <tr>\n",
       "      <th>日本</th>\n",
       "      <td>60</td>\n",
       "      <td>15</td>\n",
       "      <td>5</td>\n",
       "    </tr>\n",
       "    <tr>\n",
       "      <th>韩国</th>\n",
       "      <td>61</td>\n",
       "      <td>19</td>\n",
       "      <td>2</td>\n",
       "    </tr>\n",
       "    <tr>\n",
       "      <th>伊朗</th>\n",
       "      <td>34</td>\n",
       "      <td>18</td>\n",
       "      <td>6</td>\n",
       "    </tr>\n",
       "    <tr>\n",
       "      <th>沙特</th>\n",
       "      <td>67</td>\n",
       "      <td>26</td>\n",
       "      <td>10</td>\n",
       "    </tr>\n",
       "  </tbody>\n",
       "</table>\n",
       "</div>"
      ],
      "text/plain": [
       "    2019国际排名  2018世界杯  2015亚洲杯\n",
       "国家                            \n",
       "中国        73       40        7\n",
       "日本        60       15        5\n",
       "韩国        61       19        2\n",
       "伊朗        34       18        6\n",
       "沙特        67       26       10"
      ]
     },
     "execution_count": 25,
     "metadata": {},
     "output_type": "execute_result"
    }
   ],
   "source": [
    "df = pd.read_csv(\"data/football_team_data.csv\",index_col='国家')\n",
    "df.head()"
   ]
  },
  {
   "cell_type": "code",
   "execution_count": 26,
   "id": "e7dc1392",
   "metadata": {},
   "outputs": [
    {
     "data": {
      "text/plain": [
       "array([[ 73,  40,   7],\n",
       "       [ 60,  15,   5],\n",
       "       [ 61,  19,   2],\n",
       "       [ 34,  18,   6],\n",
       "       [ 67,  26,  10],\n",
       "       [ 91,  40,   4],\n",
       "       [101,  40,  13],\n",
       "       [ 81,  40,   6],\n",
       "       [ 88,  40,   8],\n",
       "       [122,  40,  17],\n",
       "       [102,  50,  17],\n",
       "       [ 87,  50,  12],\n",
       "       [116,  50,  11],\n",
       "       [110,  50,  14],\n",
       "       [164,  50,  17],\n",
       "       [ 40,  30,   1],\n",
       "       [ 76,  40,  17],\n",
       "       [118,  50,   9],\n",
       "       [160,  50,  15],\n",
       "       [ 96,  50,  16]], dtype=int64)"
      ]
     },
     "execution_count": 26,
     "metadata": {},
     "output_type": "execute_result"
    }
   ],
   "source": [
    "X = df.values\n",
    "X"
   ]
  },
  {
   "cell_type": "code",
   "execution_count": 27,
   "id": "56d12980",
   "metadata": {},
   "outputs": [
    {
     "data": {
      "text/plain": [
       "array([[-0.5842676 ,  0.05223517, -0.64677721],\n",
       "       [-0.97679881, -2.12423024, -1.03291285],\n",
       "       [-0.9466041 , -1.77599577, -1.61211632],\n",
       "       [-1.76186121, -1.86305439, -0.83984503],\n",
       "       [-0.76543585, -1.16658546, -0.06757374],\n",
       "       [-0.04076286,  0.05223517, -1.22598067],\n",
       "       [ 0.26118422,  0.05223517,  0.51162973],\n",
       "       [-0.34270994,  0.05223517, -0.83984503],\n",
       "       [-0.13134698,  0.05223517, -0.45370938],\n",
       "       [ 0.89527309,  0.05223517,  1.28390102],\n",
       "       [ 0.29137893,  0.92282133,  1.28390102],\n",
       "       [-0.16154169,  0.92282133,  0.31856191],\n",
       "       [ 0.71410485,  0.92282133,  0.12549408],\n",
       "       [ 0.5329366 ,  0.92282133,  0.70469755],\n",
       "       [ 2.16345083,  0.92282133,  1.28390102],\n",
       "       [-1.58069297, -0.81835099, -1.80518414],\n",
       "       [-0.49368348,  0.05223517,  1.28390102],\n",
       "       [ 0.77449426,  0.92282133, -0.26064156],\n",
       "       [ 2.042672  ,  0.92282133,  0.89776537],\n",
       "       [ 0.11021068,  0.92282133,  1.0908332 ]])"
      ]
     },
     "execution_count": 27,
     "metadata": {},
     "output_type": "execute_result"
    }
   ],
   "source": [
    "# 归一化\n",
    "scaler = StandardScaler()\n",
    "X = scaler.fit_transform(X)\n",
    "X"
   ]
  },
  {
   "cell_type": "code",
   "execution_count": 28,
   "id": "c130db3e",
   "metadata": {},
   "outputs": [
    {
     "data": {
      "text/html": [
       "<div>\n",
       "<style scoped>\n",
       "    .dataframe tbody tr th:only-of-type {\n",
       "        vertical-align: middle;\n",
       "    }\n",
       "\n",
       "    .dataframe tbody tr th {\n",
       "        vertical-align: top;\n",
       "    }\n",
       "\n",
       "    .dataframe thead th {\n",
       "        text-align: right;\n",
       "    }\n",
       "</style>\n",
       "<table border=\"1\" class=\"dataframe\">\n",
       "  <thead>\n",
       "    <tr style=\"text-align: right;\">\n",
       "      <th></th>\n",
       "      <th>2019国际排名</th>\n",
       "      <th>2018世界杯</th>\n",
       "      <th>2015亚洲杯</th>\n",
       "      <th>聚类结果</th>\n",
       "    </tr>\n",
       "    <tr>\n",
       "      <th>国家</th>\n",
       "      <th></th>\n",
       "      <th></th>\n",
       "      <th></th>\n",
       "      <th></th>\n",
       "    </tr>\n",
       "  </thead>\n",
       "  <tbody>\n",
       "    <tr>\n",
       "      <th>中国</th>\n",
       "      <td>73</td>\n",
       "      <td>40</td>\n",
       "      <td>7</td>\n",
       "      <td>2</td>\n",
       "    </tr>\n",
       "    <tr>\n",
       "      <th>日本</th>\n",
       "      <td>60</td>\n",
       "      <td>15</td>\n",
       "      <td>5</td>\n",
       "      <td>0</td>\n",
       "    </tr>\n",
       "    <tr>\n",
       "      <th>韩国</th>\n",
       "      <td>61</td>\n",
       "      <td>19</td>\n",
       "      <td>2</td>\n",
       "      <td>0</td>\n",
       "    </tr>\n",
       "    <tr>\n",
       "      <th>伊朗</th>\n",
       "      <td>34</td>\n",
       "      <td>18</td>\n",
       "      <td>6</td>\n",
       "      <td>0</td>\n",
       "    </tr>\n",
       "    <tr>\n",
       "      <th>沙特</th>\n",
       "      <td>67</td>\n",
       "      <td>26</td>\n",
       "      <td>10</td>\n",
       "      <td>0</td>\n",
       "    </tr>\n",
       "    <tr>\n",
       "      <th>伊拉克</th>\n",
       "      <td>91</td>\n",
       "      <td>40</td>\n",
       "      <td>4</td>\n",
       "      <td>2</td>\n",
       "    </tr>\n",
       "    <tr>\n",
       "      <th>卡塔尔</th>\n",
       "      <td>101</td>\n",
       "      <td>40</td>\n",
       "      <td>13</td>\n",
       "      <td>1</td>\n",
       "    </tr>\n",
       "    <tr>\n",
       "      <th>阿联酋</th>\n",
       "      <td>81</td>\n",
       "      <td>40</td>\n",
       "      <td>6</td>\n",
       "      <td>2</td>\n",
       "    </tr>\n",
       "    <tr>\n",
       "      <th>乌兹别克斯坦</th>\n",
       "      <td>88</td>\n",
       "      <td>40</td>\n",
       "      <td>8</td>\n",
       "      <td>2</td>\n",
       "    </tr>\n",
       "    <tr>\n",
       "      <th>泰国</th>\n",
       "      <td>122</td>\n",
       "      <td>40</td>\n",
       "      <td>17</td>\n",
       "      <td>1</td>\n",
       "    </tr>\n",
       "    <tr>\n",
       "      <th>越南</th>\n",
       "      <td>102</td>\n",
       "      <td>50</td>\n",
       "      <td>17</td>\n",
       "      <td>1</td>\n",
       "    </tr>\n",
       "    <tr>\n",
       "      <th>阿曼</th>\n",
       "      <td>87</td>\n",
       "      <td>50</td>\n",
       "      <td>12</td>\n",
       "      <td>1</td>\n",
       "    </tr>\n",
       "    <tr>\n",
       "      <th>巴林</th>\n",
       "      <td>116</td>\n",
       "      <td>50</td>\n",
       "      <td>11</td>\n",
       "      <td>1</td>\n",
       "    </tr>\n",
       "    <tr>\n",
       "      <th>朝鲜</th>\n",
       "      <td>110</td>\n",
       "      <td>50</td>\n",
       "      <td>14</td>\n",
       "      <td>1</td>\n",
       "    </tr>\n",
       "    <tr>\n",
       "      <th>印尼</th>\n",
       "      <td>164</td>\n",
       "      <td>50</td>\n",
       "      <td>17</td>\n",
       "      <td>1</td>\n",
       "    </tr>\n",
       "    <tr>\n",
       "      <th>澳洲</th>\n",
       "      <td>40</td>\n",
       "      <td>30</td>\n",
       "      <td>1</td>\n",
       "      <td>0</td>\n",
       "    </tr>\n",
       "    <tr>\n",
       "      <th>叙利亚</th>\n",
       "      <td>76</td>\n",
       "      <td>40</td>\n",
       "      <td>17</td>\n",
       "      <td>1</td>\n",
       "    </tr>\n",
       "    <tr>\n",
       "      <th>约旦</th>\n",
       "      <td>118</td>\n",
       "      <td>50</td>\n",
       "      <td>9</td>\n",
       "      <td>1</td>\n",
       "    </tr>\n",
       "    <tr>\n",
       "      <th>科威特</th>\n",
       "      <td>160</td>\n",
       "      <td>50</td>\n",
       "      <td>15</td>\n",
       "      <td>1</td>\n",
       "    </tr>\n",
       "    <tr>\n",
       "      <th>巴勒斯坦</th>\n",
       "      <td>96</td>\n",
       "      <td>50</td>\n",
       "      <td>16</td>\n",
       "      <td>1</td>\n",
       "    </tr>\n",
       "  </tbody>\n",
       "</table>\n",
       "</div>"
      ],
      "text/plain": [
       "        2019国际排名  2018世界杯  2015亚洲杯  聚类结果\n",
       "国家                                      \n",
       "中国            73       40        7     2\n",
       "日本            60       15        5     0\n",
       "韩国            61       19        2     0\n",
       "伊朗            34       18        6     0\n",
       "沙特            67       26       10     0\n",
       "伊拉克           91       40        4     2\n",
       "卡塔尔          101       40       13     1\n",
       "阿联酋           81       40        6     2\n",
       "乌兹别克斯坦        88       40        8     2\n",
       "泰国           122       40       17     1\n",
       "越南           102       50       17     1\n",
       "阿曼            87       50       12     1\n",
       "巴林           116       50       11     1\n",
       "朝鲜           110       50       14     1\n",
       "印尼           164       50       17     1\n",
       "澳洲            40       30        1     0\n",
       "叙利亚           76       40       17     1\n",
       "约旦           118       50        9     1\n",
       "科威特          160       50       15     1\n",
       "巴勒斯坦          96       50       16     1"
      ]
     },
     "execution_count": 28,
     "metadata": {},
     "output_type": "execute_result"
    }
   ],
   "source": [
    "model = KMeans(n_clusters=3,max_iter=10)\n",
    "model.fit(X)\n",
    "df[\"聚类结果\"] = model.labels_\n",
    "df"
   ]
  }
 ],
 "metadata": {
  "kernelspec": {
   "display_name": "Python 3 (ipykernel)",
   "language": "python",
   "name": "python3"
  },
  "language_info": {
   "codemirror_mode": {
    "name": "ipython",
    "version": 3
   },
   "file_extension": ".py",
   "mimetype": "text/x-python",
   "name": "python",
   "nbconvert_exporter": "python",
   "pygments_lexer": "ipython3",
   "version": "3.9.7"
  },
  "toc": {
   "base_numbering": 1,
   "nav_menu": {},
   "number_sections": true,
   "sideBar": true,
   "skip_h1_title": false,
   "title_cell": "Table of Contents",
   "title_sidebar": "Contents",
   "toc_cell": false,
   "toc_position": {},
   "toc_section_display": true,
   "toc_window_display": true
  }
 },
 "nbformat": 4,
 "nbformat_minor": 5
}
