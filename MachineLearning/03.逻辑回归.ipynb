{
 "cells": [
  {
   "cell_type": "markdown",
   "id": "fad43422",
   "metadata": {},
   "source": [
    "# 简介"
   ]
  },
  {
   "cell_type": "markdown",
   "id": "9e105e0d",
   "metadata": {},
   "source": [
    "* 解决的是二分类问题\n",
    "* 类别分别用0和1表示"
   ]
  },
  {
   "cell_type": "markdown",
   "id": "6ffcd7b9",
   "metadata": {},
   "source": [
    "## 假设函数"
   ]
  },
  {
   "cell_type": "markdown",
   "id": "588e70b6",
   "metadata": {},
   "source": [
    "sigmoid函数：  \n",
    "\n",
    "$$g(z)=\\frac{1}{1+e^{-z}}$$"
   ]
  },
  {
   "cell_type": "code",
   "execution_count": 1,
   "id": "dddf2871",
   "metadata": {
    "hide_input": true,
    "scrolled": true
   },
   "outputs": [
    {
     "data": {
      "image/png": "[encoded data removed]",
      "text/plain": [
       "<Figure size 432x288 with 1 Axes>"
      ]
     },
     "metadata": {
      "needs_background": "light"
     },
     "output_type": "display_data"
    }
   ],
   "source": [
    "import matplotlib.pyplot as plt\n",
    "import numpy as np\n",
    "\n",
    "x = np.arange(-5,5,0.1)\n",
    "plt.figure(figsize=(6,4))\n",
    "plt.plot(x,1/(1+(np.e)**(-x)))\n",
    "plt.axis([-5,5,0,1])\n",
    "plt.xticks(ticks=list(range(-5,6)))\n",
    "plt.show()"
   ]
  },
  {
   "cell_type": "markdown",
   "id": "7c12ea98",
   "metadata": {},
   "source": [
    "其中：  \n",
    "\n",
    "$$z=\\theta_0x_0+\\theta_1x_1+...+\\theta_nx_n$$\n",
    "\n",
    "假设函数：  \n",
    "\n",
    "$$\\hat y=h_\\theta(x)=g(\\theta^Tx)=\\frac{1}{1+e^{-\\theta^Tx}}$$"
   ]
  },
  {
   "cell_type": "markdown",
   "id": "5c53131e",
   "metadata": {},
   "source": [
    "## 损失函数"
   ]
  },
  {
   "cell_type": "markdown",
   "id": "ccc7c9e9",
   "metadata": {},
   "source": [
    "$$L(\\hat y,y)=-ylog\\hat y-(1-y)log(1-\\hat y)$$\n",
    "\n",
    "$y=1$ 时，$L(\\hat y,y)=-ylog\\hat y$，要使损失最小，则 $\\hat y$ 越大越好，而 $\\hat y$ 取值在 $[0,1]$ 之间，因此 $\\hat y$ 要尽量接近 1  \n",
    "$y=0$ 时，$L(\\hat y,y)=-log(1-\\hat y)$，要使损失最小，则 $1-\\hat y$ 越大越好，即 $\\hat y$ 越小越好，因此 $\\hat y$ 要尽量接近 0  "
   ]
  },
  {
   "cell_type": "markdown",
   "id": "7f2cffd3",
   "metadata": {},
   "source": [
    "## 成本函数（代价函数）"
   ]
  },
  {
   "cell_type": "markdown",
   "id": "12677cb6",
   "metadata": {},
   "source": [
    "$$\n",
    "\\begin{align}\n",
    "J(\\theta)&=\\frac{1}{m}\\sum_{i=1}^m L({\\hat y}^{(i)},y^{(i)}) \\\\\\\n",
    "&=\\frac{1}{m}\\sum_{i=1}^m [-y^{(i)}log{\\hat y}^{(i)}-(1-y^{(i)})log(1-{\\hat y}^{(i)})] \\\\\\\n",
    "&=\\frac{1}{m}\\sum_{i=1}^m [-y^{(i)}log\\frac{1}{1+e^{-\\theta^Tx^{(i)}}}-(1-y^{(i)})log(1-\\frac{1}{1+e^{-\\theta^Tx^{(i)}}})]\n",
    "\\end{align}\n",
    "$$"
   ]
  },
  {
   "cell_type": "markdown",
   "id": "fb4af443",
   "metadata": {},
   "source": [
    "# 逻辑回归求解"
   ]
  },
  {
   "cell_type": "markdown",
   "id": "4e976ef8",
   "metadata": {},
   "source": [
    "通过梯度下降法对代价函数求偏导（以下 $log$ 可看作 $ln$）：  \n",
    "\n",
    "$$\n",
    "\\begin{align}\n",
    "\\frac{\\partial}{\\partial\\theta_j}J(\\theta)&=\\frac{\\partial}{\\partial\\theta_j}\\frac{1}{m}\\sum_{i=1}^m [-y^{(i)}log\\frac{1}{1+e^{-\\theta^Tx^{(i)}}}-(1-y^{(i)})log(1-\\frac{1}{1+e^{-\\theta^Tx^{(i)}}})] \\\\\\\n",
    "&=\\frac{\\partial}{\\partial\\theta_j}\\frac{1}{m}\\sum_{i=1}^m [y^{(i)}log(1+e^{-\\theta^Tx^{(i)}})+(1-y^{(i)})log(1+e^{\\theta^Tx^{(i)}})] \\\\\\\n",
    "&=\\frac{1}{m}\\sum_{i=1}^m [y^{(i)}\\frac{-x_j^{(i)}e^{-\\theta^Tx^{(i)}}}{1+e^{-\\theta^Tx^{(i)}}}+(1-y^{(i)})\\frac{x_j^{(i)}e^{\\theta^Tx^{(i)}}}{1+e^{\\theta^Tx^{(i)}}}] \\\\\\\n",
    "&=\\frac{1}{m}\\sum_{i=1}^m [y^{(i)}\\frac{-x_j^{(i)}}{1+e^{\\theta^Tx^{(i)}}}+(1-y^{(i)})\\frac{x_j^{(i)}e^{\\theta^Tx^{(i)}}}{1+e^{\\theta^Tx^{(i)}}}] \\\\\\\n",
    "&=\\frac{1}{m}\\sum_{i=1}^m [\\frac{-x_j^{(i)}y^{(i)}+x_j^{(i)}e^{\\theta^Tx^{(i)}}-y^{(i)}x_j^{(i)}e^{\\theta^Tx^{(i)}}}{1+e^{\\theta^Tx^{(i)}}}] \\\\\\\n",
    "&=\\frac{1}{m}\\sum_{i=1}^m [\\frac{-y^{(i)}(1+e^{\\theta^Tx^{(i)}})+e^{\\theta^Tx^{(i)}}}{1+e^{\\theta^Tx^{(i)}}}x_j^{(i)}] \\\\\\\n",
    "&=\\frac{1}{m}\\sum_{i=1}^m [(-y^{(i)}+\\frac{e^{\\theta^Tx^{(i)}}}{1+e^{\\theta^Tx^{(i)}}})x_j^{(i)}] \\\\\\\n",
    "&=\\frac{1}{m}\\sum_{i=1}^m [(-y^{(i)}+\\frac{1}{1+e^{-\\theta^Tx^{(i)}}})x_j^{(i)}] \\\\\\\n",
    "&=\\frac{1}{m}\\sum_{i=1}^m [(h_\\theta(x^{(i)})-y^{(i)})x_j^{(i)}]\n",
    "\\end{align}\n",
    "$$\n",
    "\n",
    "迭代公式：\n",
    "\n",
    "$$\\theta_j:=\\theta_j-\\alpha\\frac{1}{m}\\sum_{i=1}^m [(h_\\theta(x^{(i)})-y^{(i)})x_j^{(i)}]$$\n",
    "\n",
    "其中：\n",
    "\n",
    "$$h_\\theta(x)=\\frac{1}{1+e^{-\\theta^Tx}}$$"
   ]
  },
  {
   "cell_type": "markdown",
   "id": "78a898f2",
   "metadata": {},
   "source": [
    "# 逻辑回归代码实现"
   ]
  },
  {
   "cell_type": "code",
   "execution_count": 2,
   "id": "ce45450b",
   "metadata": {},
   "outputs": [],
   "source": [
    "import numpy as np\n",
    "import matplotlib.pyplot as plt\n",
    "import matplotlib as mpl\n",
    "from sklearn.metrics import accuracy_score"
   ]
  },
  {
   "cell_type": "markdown",
   "id": "b36b30f9",
   "metadata": {},
   "source": [
    "**1. 加载数据的函数**"
   ]
  },
  {
   "cell_type": "code",
   "execution_count": 3,
   "id": "2d4d2d52",
   "metadata": {},
   "outputs": [],
   "source": [
    "def loaddata(path):\n",
    "    data = np.loadtxt(path,delimiter=',')\n",
    "    n = data.shape[1] - 1     # 特征数\n",
    "    X = data[:,0:n]\n",
    "    y = data[:,-1].reshape(-1,1)\n",
    "    return X,y"
   ]
  },
  {
   "cell_type": "markdown",
   "id": "6f6c90fd",
   "metadata": {},
   "source": [
    "**2.画散点图**"
   ]
  },
  {
   "cell_type": "code",
   "execution_count": 4,
   "id": "e94691a7",
   "metadata": {},
   "outputs": [],
   "source": [
    "def plot(X,y):\n",
    "    pos = np.where(y[:,0]==1)\n",
    "    neg = np.where(y[:,0]==0)\n",
    "    plt.scatter(X[pos,0],X[pos,1],marker='x')\n",
    "    plt.scatter(X[neg,0],X[neg,1],marker='o')\n",
    "    plt.xlabel(\"x1\")\n",
    "    plt.ylabel(\"x2\")\n",
    "    plt.show()"
   ]
  },
  {
   "cell_type": "code",
   "execution_count": 5,
   "id": "c22b7ab5",
   "metadata": {},
   "outputs": [
    {
     "data": {
      "image/png": "[encoded data removed]",
      "text/plain": [
       "<Figure size 432x288 with 1 Axes>"
      ]
     },
     "metadata": {
      "needs_background": "light"
     },
     "output_type": "display_data"
    }
   ],
   "source": [
    "X,y = loaddata(\"data/data3.txt\")\n",
    "plot(X,y)"
   ]
  },
  {
   "cell_type": "markdown",
   "id": "559bd8c8",
   "metadata": {},
   "source": [
    "**3.实现sigmoid函数**"
   ]
  },
  {
   "cell_type": "markdown",
   "id": "f254ba9d",
   "metadata": {},
   "source": [
    "$$g(z)=\\frac{1}{1+e^{-z}}$$"
   ]
  },
  {
   "cell_type": "code",
   "execution_count": 6,
   "id": "2f2e8775",
   "metadata": {},
   "outputs": [],
   "source": [
    "def sigmoid(z):\n",
    "    return 1/(1+np.exp(-z))"
   ]
  },
  {
   "cell_type": "code",
   "execution_count": 7,
   "id": "93b7154b",
   "metadata": {},
   "outputs": [
    {
     "data": {
      "text/plain": [
       "0.9525741268224334"
      ]
     },
     "execution_count": 7,
     "metadata": {},
     "output_type": "execute_result"
    }
   ],
   "source": [
    "sigmoid(3)"
   ]
  },
  {
   "cell_type": "code",
   "execution_count": 8,
   "id": "1f5eab7b",
   "metadata": {},
   "outputs": [
    {
     "data": {
      "text/plain": [
       "array([9.52574127e-01, 9.82013790e-01, 3.35350130e-04])"
      ]
     },
     "execution_count": 8,
     "metadata": {},
     "output_type": "execute_result"
    }
   ],
   "source": [
    "sigmoid(np.array([3,4,-8]))"
   ]
  },
  {
   "cell_type": "markdown",
   "id": "e09d232d",
   "metadata": {},
   "source": [
    "**4.实现假设函数**"
   ]
  },
  {
   "cell_type": "markdown",
   "id": "f30be58b",
   "metadata": {},
   "source": [
    "$$\\hat y=h_\\theta(x)=g(\\theta^Tx)=\\frac{1}{1+e^{-\\theta^Tx}}$$"
   ]
  },
  {
   "cell_type": "code",
   "execution_count": 9,
   "id": "d26dc027",
   "metadata": {},
   "outputs": [],
   "source": [
    "def hypothesis(X,theta):\n",
    "    return sigmoid(np.dot(X,theta))"
   ]
  },
  {
   "cell_type": "markdown",
   "id": "d059bc1f",
   "metadata": {},
   "source": [
    "**5.代价函数**"
   ]
  },
  {
   "cell_type": "markdown",
   "id": "12a96e73",
   "metadata": {},
   "source": [
    "$$\n",
    "\\begin{align}\n",
    "J(\\theta)&=\\frac{1}{m}\\sum_{i=1}^m L({\\hat y}^{(i)},y^{(i)}) \\\\\\\n",
    "&=\\frac{1}{m}\\sum_{i=1}^m [-y^{(i)}log{\\hat y}^{(i)}-(1-y^{(i)})log(1-{\\hat y}^{(i)})] \n",
    "\\end{align}\n",
    "$$"
   ]
  },
  {
   "cell_type": "code",
   "execution_count": 10,
   "id": "28fb902c",
   "metadata": {},
   "outputs": [],
   "source": [
    "def computeCost(X,y,theta):\n",
    "    m = X.shape[0]\n",
    "    y_hat = hypothesis(X,theta)\n",
    "    c = -y*np.log(y_hat)-(1-y)*np.log(1-y_hat)\n",
    "    return np.sum(c) / m"
   ]
  },
  {
   "cell_type": "markdown",
   "id": "ba293f26",
   "metadata": {},
   "source": [
    "**6.梯度下降法求解**"
   ]
  },
  {
   "cell_type": "markdown",
   "id": "d6073ae9",
   "metadata": {},
   "source": [
    "$$\\theta_j:=\\theta_j-\\alpha\\frac{1}{m}\\sum_{i=1}^m [(h_\\theta(x^{(i)})-y^{(i)})x_j^{(i)}]$$"
   ]
  },
  {
   "cell_type": "code",
   "execution_count": 11,
   "id": "55fd7457",
   "metadata": {},
   "outputs": [],
   "source": [
    "def gradientDescent(X,y,theta,iteration,alpha):\n",
    "    X = np.insert(X,0,values=1,axis=1)\n",
    "    m,n = X.shape\n",
    "    \n",
    "    for i in range(iteration):\n",
    "        for j in range(n):\n",
    "            theta[j] = theta[j] - alpha/m*np.sum((hypothesis(X,theta)-y)*X[:,j].reshape(-1,1))\n",
    "        if i%10000 == 0:\n",
    "            print(\"第{0}次迭代，当前损失为：{1}，theta={2}\".format(i,computeCost(X,y,theta),theta))\n",
    "    \n",
    "    return theta"
   ]
  },
  {
   "cell_type": "markdown",
   "id": "fff0e020",
   "metadata": {},
   "source": [
    "**7.预测函数**"
   ]
  },
  {
   "cell_type": "code",
   "execution_count": 12,
   "id": "1de13586",
   "metadata": {},
   "outputs": [],
   "source": [
    "n = X.shape[1]\n",
    "theta = np.zeros(n+1).reshape(-1,1)\n",
    "iterations = 250000\n",
    "alpha = 0.008"
   ]
  },
  {
   "cell_type": "code",
   "execution_count": 13,
   "id": "f3f2649b",
   "metadata": {
    "scrolled": true
   },
   "outputs": [
    {
     "name": "stdout",
     "output_type": "stream",
     "text": [
      "第0次迭代，当前损失为：3.4898192542187316，theta=[[ 0.0008    ]\n",
      " [ 0.0959687 ]\n",
      " [-0.17080118]]\n",
      "第10000次迭代，当前损失为：3.633794596164655，theta=[[-6.0072283 ]\n",
      " [ 0.050662  ]\n",
      " [ 0.22802046]]\n",
      "第20000次迭代，当前损失为：1.6421156695148182，theta=[[-11.04817588]\n",
      " [ -0.09665535]\n",
      " [  0.30417947]]\n",
      "第30000次迭代，当前损失为：1.4051177473049952，theta=[[-14.64580889]\n",
      " [  0.33905718]\n",
      " [ -0.09182453]]\n",
      "第40000次迭代，当前损失为：1.1284288395235624，theta=[[-17.65627776]\n",
      " [  0.02789143]\n",
      " [  0.31864018]]\n",
      "第50000次迭代，当前损失为：0.9221874390429973，theta=[[-1.96095214e+01]\n",
      " [ 2.78099355e-01]\n",
      " [ 7.52595875e-03]]\n",
      "第60000次迭代，当前损失为：0.6668312927145998，theta=[[-20.98450998]\n",
      " [  0.08872738]\n",
      " [  0.29042701]]\n",
      "第70000次迭代，当前损失为：0.5397692839824905，theta=[[-22.0116349 ]\n",
      " [  0.17110523]\n",
      " [  0.23684449]]\n",
      "第80000次迭代，当前损失为：0.47798593027345926，theta=[[-22.85406545]\n",
      " [  0.10150192]\n",
      " [  0.26789884]]\n",
      "第90000次迭代，当前损失为：0.3857789652295521，theta=[[-23.52871631]\n",
      " [  0.18088181]\n",
      " [  0.23778719]]\n",
      "第100000次迭代，当前损失为：0.33992108594315495，theta=[[-24.06932143]\n",
      " [  0.1833052 ]\n",
      " [  0.23863557]]\n",
      "第110000次迭代，当前损失为：0.35010989198696474，theta=[[-24.49556703]\n",
      " [  0.2676624 ]\n",
      " [  0.12869878]]\n",
      "第120000次迭代，当前损失为：0.3231728946482656，theta=[[-24.82770761]\n",
      " [  0.25623888]\n",
      " [  0.13760732]]\n",
      "第130000次迭代，当前损失为：0.2774322638143614，theta=[[-25.08203973]\n",
      " [  0.16128906]\n",
      " [  0.25032701]]\n",
      "第140000次迭代，当前损失为：0.251199317011942，theta=[[-25.27055496]\n",
      " [  0.202391  ]\n",
      " [  0.22674699]]\n",
      "第150000次迭代，当前损失为：0.2415806458263704，theta=[[-25.40956873]\n",
      " [  0.18523859]\n",
      " [  0.23836269]]\n",
      "第160000次迭代，当前损失为：0.23128791953448224，theta=[[-25.50914522]\n",
      " [  0.19134865]\n",
      " [  0.23303829]]\n",
      "第170000次迭代，当前损失为：0.22490858412162912，theta=[[-25.57933089]\n",
      " [  0.19028381]\n",
      " [  0.23173448]]\n",
      "第180000次迭代，当前损失为：0.22064458782159618，theta=[[-25.62729742]\n",
      " [  0.22297099]\n",
      " [  0.20378052]]\n",
      "第190000次迭代，当前损失为：0.21528641045011893，theta=[[-25.66060452]\n",
      " [  0.21183528]\n",
      " [  0.19444869]]\n",
      "第200000次迭代，当前损失为：0.2123612218845144，theta=[[-25.68300682]\n",
      " [  0.19663504]\n",
      " [  0.21377662]]\n",
      "第210000次迭代，当前损失为：0.21081476581730588，theta=[[-25.69760438]\n",
      " [  0.20870264]\n",
      " [  0.21525546]]\n",
      "第220000次迭代，当前损失为：0.21019020680798967，theta=[[-25.70775854]\n",
      " [  0.19645322]\n",
      " [  0.21972216]]\n",
      "第230000次迭代，当前损失为：0.2094019452695109，theta=[[-25.7139493 ]\n",
      " [  0.22245758]\n",
      " [  0.19909143]]\n",
      "第240000次迭代，当前损失为：0.20882376625864127，theta=[[-25.71838918]\n",
      " [  0.22210263]\n",
      " [  0.19291801]]\n"
     ]
    },
    {
     "data": {
      "text/plain": [
       "array([[-25.7214775 ],\n",
       "       [  0.21158791],\n",
       "       [  0.19917776]])"
      ]
     },
     "execution_count": 13,
     "metadata": {},
     "output_type": "execute_result"
    }
   ],
   "source": [
    "theta = gradientDescent(X,y,theta,iterations,alpha)\n",
    "theta"
   ]
  },
  {
   "cell_type": "code",
   "execution_count": 14,
   "id": "b2cfdeb1",
   "metadata": {},
   "outputs": [],
   "source": [
    "def predict(X):\n",
    "    X = np.insert(X,0,values=1,axis=1)\n",
    "    h = hypothesis(X,theta)\n",
    "    #根据概率值决定最终的分类,>=0.5为1类，<0.5为0类\n",
    "    h[h>=0.5] = 1\n",
    "    h[h<0.5] = 0\n",
    "    \n",
    "    return h"
   ]
  },
  {
   "cell_type": "code",
   "execution_count": 15,
   "id": "60ef5469",
   "metadata": {
    "scrolled": true
   },
   "outputs": [
    {
     "data": {
      "text/plain": [
       "array([[0.],\n",
       "       [0.],\n",
       "       [0.],\n",
       "       [1.],\n",
       "       [1.],\n",
       "       [0.],\n",
       "       [1.],\n",
       "       [0.],\n",
       "       [1.],\n",
       "       [1.],\n",
       "       [1.],\n",
       "       [0.],\n",
       "       [1.],\n",
       "       [1.],\n",
       "       [0.],\n",
       "       [1.],\n",
       "       [0.],\n",
       "       [0.],\n",
       "       [1.],\n",
       "       [1.],\n",
       "       [0.],\n",
       "       [1.],\n",
       "       [0.],\n",
       "       [0.],\n",
       "       [1.],\n",
       "       [1.],\n",
       "       [1.],\n",
       "       [1.],\n",
       "       [0.],\n",
       "       [0.],\n",
       "       [1.],\n",
       "       [1.],\n",
       "       [0.],\n",
       "       [0.],\n",
       "       [0.],\n",
       "       [0.],\n",
       "       [1.],\n",
       "       [1.],\n",
       "       [0.],\n",
       "       [0.],\n",
       "       [1.],\n",
       "       [0.],\n",
       "       [1.],\n",
       "       [0.],\n",
       "       [0.],\n",
       "       [0.],\n",
       "       [1.],\n",
       "       [1.],\n",
       "       [1.],\n",
       "       [1.],\n",
       "       [1.],\n",
       "       [1.],\n",
       "       [1.],\n",
       "       [0.],\n",
       "       [0.],\n",
       "       [0.],\n",
       "       [1.],\n",
       "       [1.],\n",
       "       [1.],\n",
       "       [1.],\n",
       "       [1.],\n",
       "       [0.],\n",
       "       [0.],\n",
       "       [0.],\n",
       "       [0.],\n",
       "       [0.],\n",
       "       [1.],\n",
       "       [0.],\n",
       "       [1.],\n",
       "       [1.],\n",
       "       [0.],\n",
       "       [1.],\n",
       "       [1.],\n",
       "       [1.],\n",
       "       [1.],\n",
       "       [1.],\n",
       "       [1.],\n",
       "       [1.],\n",
       "       [0.],\n",
       "       [1.],\n",
       "       [1.],\n",
       "       [1.],\n",
       "       [1.],\n",
       "       [0.],\n",
       "       [1.],\n",
       "       [1.],\n",
       "       [0.],\n",
       "       [1.],\n",
       "       [1.],\n",
       "       [0.],\n",
       "       [1.],\n",
       "       [1.],\n",
       "       [0.],\n",
       "       [1.],\n",
       "       [1.],\n",
       "       [1.],\n",
       "       [1.],\n",
       "       [1.],\n",
       "       [0.],\n",
       "       [1.]])"
      ]
     },
     "execution_count": 15,
     "metadata": {},
     "output_type": "execute_result"
    }
   ],
   "source": [
    "p = predict(X)\n",
    "p"
   ]
  },
  {
   "cell_type": "code",
   "execution_count": 16,
   "id": "87f93ce8",
   "metadata": {},
   "outputs": [
    {
     "data": {
      "text/plain": [
       "0.9"
      ]
     },
     "execution_count": 16,
     "metadata": {},
     "output_type": "execute_result"
    }
   ],
   "source": [
    "accuracy_score(p,y)"
   ]
  },
  {
   "cell_type": "markdown",
   "id": "32410c99",
   "metadata": {},
   "source": [
    "**8.画决策边界**"
   ]
  },
  {
   "cell_type": "code",
   "execution_count": 17,
   "id": "fe68ca92",
   "metadata": {},
   "outputs": [],
   "source": [
    "def plotDescisionBoundary(X,y,theta):\n",
    "    cm_dark = mpl.colors.ListedColormap(['g','r'])\n",
    "    plt.xlabel('x1')\n",
    "    plt.ylabel('x2')\n",
    "    plt.scatter(X[:,0],X[:,1],c=np.array(y).squeeze(),cmap=cm_dark,s=30)\n",
    "    \n",
    "    #化分类决策面 theta0+theta1*x1+theta2*x2 = 0\n",
    "    x1 = np.arange(min(X[:,0]),max(X[:,0]),0.1)\n",
    "    x2 = -(theta[0]+theta[1]*x1)/theta[2]\n",
    "    plt.plot(x1,x2)\n",
    "    plt.show()"
   ]
  },
  {
   "cell_type": "code",
   "execution_count": 18,
   "id": "491c9a6d",
   "metadata": {},
   "outputs": [
    {
     "data": {
      "image/png": "[encoded data removed]",
      "text/plain": [
       "<Figure size 432x288 with 1 Axes>"
      ]
     },
     "metadata": {
      "needs_background": "light"
     },
     "output_type": "display_data"
    }
   ],
   "source": [
    "plotDescisionBoundary(X,y,theta)"
   ]
  },
  {
   "cell_type": "markdown",
   "id": "2b183310",
   "metadata": {},
   "source": [
    "# 逻辑回归的正则化"
   ]
  },
  {
   "cell_type": "markdown",
   "id": "d88d160b",
   "metadata": {},
   "source": [
    "加入2范式来解决过拟合问题，$2m$ 是为了消去求导后的 $2$：  \n",
    "\n",
    "$$J(\\theta)=\\frac{1}{m}\\sum_{i=1}^m [-y^{(i)}log\\frac{1}{1+e^{-\\theta^Tx^{(i)}}}-(1-y^{(i)})log(1-\\frac{1}{1+e^{-\\theta^Tx^{(i)}}})]+\\frac{\\lambda}{2m}{\\left \\| \\theta \\right \\|}_2^2$$\n",
    "\n",
    "迭代公式：  \n",
    "\n",
    "$$\\theta_j:=\\theta_j-\\frac{\\alpha}{m}(\\sum_{i=1}^m [(h_\\theta(x^{(i)})-y^{(i)})x_j^{(i)}]+\\lambda\\theta_j)$$"
   ]
  },
  {
   "cell_type": "markdown",
   "id": "b2be585a",
   "metadata": {},
   "source": [
    "**代价函数**"
   ]
  },
  {
   "cell_type": "code",
   "execution_count": 19,
   "id": "dcba5759",
   "metadata": {},
   "outputs": [],
   "source": [
    "def computeCost(X,y,theta,lamda):\n",
    "    m = X.shape[0]\n",
    "    y_hat = hypothesis(X,theta)\n",
    "    c = -y*np.log(y_hat)-(1-y)*np.log(1-y_hat)\n",
    "    return np.sum(c) / m + lamda / (2*m) * np.sum(np.power(theta,2))"
   ]
  },
  {
   "cell_type": "markdown",
   "id": "7b58ea68",
   "metadata": {},
   "source": [
    "**梯度下降法求解**"
   ]
  },
  {
   "cell_type": "code",
   "execution_count": 22,
   "id": "f8a224f7",
   "metadata": {},
   "outputs": [],
   "source": [
    "def gradientDescent(X,y,theta,iteration,alpha,lamda):\n",
    "    X = np.insert(X,0,values=1,axis=1)\n",
    "    m,n = X.shape\n",
    "    \n",
    "    for i in range(iteration):\n",
    "        for j in range(n):\n",
    "            theta[j] = theta[j] - alpha/m*(np.sum((hypothesis(X,theta)-y)*X[:,j].reshape(-1,1))+lamda*theta[j])\n",
    "        if i%10000 == 0:\n",
    "            print(\"第{0}次迭代，当前损失为：{1}，theta={2}\".format(i,computeCost(X,y,theta,lamda),theta))\n",
    "    \n",
    "    return theta"
   ]
  },
  {
   "cell_type": "code",
   "execution_count": 23,
   "id": "81d574f0",
   "metadata": {
    "scrolled": true
   },
   "outputs": [
    {
     "name": "stdout",
     "output_type": "stream",
     "text": [
      "第0次迭代，当前损失为：3.4898211734024334，theta=[[ 0.0008    ]\n",
      " [ 0.0959687 ]\n",
      " [-0.17080118]]\n",
      "第10000次迭代，当前损失为：1.742800591795805，theta=[[-5.97396642]\n",
      " [ 0.03494948]\n",
      " [ 0.00734691]]\n",
      "第20000次迭代，当前损失为：1.6350296421727863，theta=[[-10.99045142]\n",
      " [ -0.0957601 ]\n",
      " [  0.25509445]]\n",
      "第30000次迭代，当前损失为：1.2755309233391，theta=[[-14.47603256]\n",
      " [  0.24101975]\n",
      " [  0.08375873]]\n",
      "第40000次迭代，当前损失为：0.9171076789517963，theta=[[-17.43209425]\n",
      " [  0.26455879]\n",
      " [  0.08760486]]\n",
      "第50000次迭代，当前损失为：0.7870734058134988，theta=[[-19.33019256]\n",
      " [  0.1848856 ]\n",
      " [  0.1962559 ]]\n",
      "第60000次迭代，当前损失为：0.7678570762112327，theta=[[-20.65128186]\n",
      " [  0.3170618 ]\n",
      " [  0.04350708]]\n",
      "第70000次迭代，当前损失为：0.5480573979988327，theta=[[-21.59058274]\n",
      " [  0.09375762]\n",
      " [  0.23119576]]\n",
      "第80000次迭代，当前损失为：0.5252331725834901，theta=[[-22.35637706]\n",
      " [  0.11682465]\n",
      " [  0.27621063]]\n",
      "第90000次迭代，当前损失为：0.5338996369673558，theta=[[-22.96485411]\n",
      " [  0.28047518]\n",
      " [  0.08323508]]\n",
      "第100000次迭代，当前损失为：0.4656598627829162，theta=[[-23.45384231]\n",
      " [  0.11660825]\n",
      " [  0.27483063]]\n",
      "第110000次迭代，当前损失为：0.38610073479527657，theta=[[-23.8389841 ]\n",
      " [  0.21008919]\n",
      " [  0.21305452]]\n",
      "第120000次迭代，当前损失为：0.4191934240021029，theta=[[-24.1433255 ]\n",
      " [  0.27666663]\n",
      " [  0.14013568]]\n",
      "第130000次迭代，当前损失为：0.3575964833997531，theta=[[-24.38411957]\n",
      " [  0.14302413]\n",
      " [  0.24194373]]\n",
      "第140000次迭代，当前损失为：0.34627927629320376，theta=[[-24.56753515]\n",
      " [  0.22300429]\n",
      " [  0.20671332]]\n",
      "第150000次迭代，当前损失为：0.3660485164508709，theta=[[-24.70994973]\n",
      " [  0.23088081]\n",
      " [  0.14543833]]\n",
      "第160000次迭代，当前损失为：0.3241458479086377，theta=[[-24.81913813]\n",
      " [  0.16087509]\n",
      " [  0.22485146]]\n",
      "第170000次迭代，当前损失为：0.32714208967507863，theta=[[-24.89958227]\n",
      " [  0.24000659]\n",
      " [  0.19020067]]\n",
      "第180000次迭代，当前损失为：0.3054592163407034，theta=[[-24.96184358]\n",
      " [  0.19746902]\n",
      " [  0.23072786]]\n",
      "第190000次迭代，当前损失为：0.31820272966878566，theta=[[-25.00741744]\n",
      " [  0.2375324 ]\n",
      " [  0.19329859]]\n",
      "第200000次迭代，当前损失为：0.3273561243941825，theta=[[-25.04162387]\n",
      " [  0.25808419]\n",
      " [  0.16673773]]\n",
      "第210000次迭代，当前损失为：0.3101333515604361，theta=[[-25.06871986]\n",
      " [  0.16083039]\n",
      " [  0.25064563]]\n",
      "第220000次迭代，当前损失为：0.3234168745113324，theta=[[-25.08625778]\n",
      " [  0.25905906]\n",
      " [  0.16374   ]]\n",
      "第230000次迭代，当前损失为：0.30495215144877946，theta=[[-25.10169164]\n",
      " [  0.16646131]\n",
      " [  0.25053326]]\n",
      "第240000次迭代，当前损失为：0.30516257920744394，theta=[[-25.11216047]\n",
      " [  0.16454622]\n",
      " [  0.25041135]]\n"
     ]
    },
    {
     "data": {
      "text/plain": [
       "array([[-25.11944059],\n",
       "       [  0.21193097],\n",
       "       [  0.17255222]])"
      ]
     },
     "execution_count": 23,
     "metadata": {},
     "output_type": "execute_result"
    }
   ],
   "source": [
    "n = X.shape[1]\n",
    "theta = np.zeros(n+1).reshape(-1,1)\n",
    "iterations = 250000\n",
    "alpha = 0.008\n",
    "lamda = 0.01\n",
    "theta = gradientDescent(X,y,theta,iterations,alpha,lamda)\n",
    "theta"
   ]
  },
  {
   "cell_type": "code",
   "execution_count": 24,
   "id": "e6960d97",
   "metadata": {},
   "outputs": [
    {
     "data": {
      "image/png": "[encoded data removed]",
      "text/plain": [
       "<Figure size 432x288 with 1 Axes>"
      ]
     },
     "metadata": {
      "needs_background": "light"
     },
     "output_type": "display_data"
    }
   ],
   "source": [
    "plotDescisionBoundary(X,y,theta)"
   ]
  },
  {
   "cell_type": "code",
   "execution_count": 25,
   "id": "2be48273",
   "metadata": {},
   "outputs": [
    {
     "data": {
      "text/plain": [
       "0.88"
      ]
     },
     "execution_count": 25,
     "metadata": {},
     "output_type": "execute_result"
    }
   ],
   "source": [
    "p = predict(X)\n",
    "accuracy_score(p,y)"
   ]
  },
  {
   "cell_type": "markdown",
   "id": "3ccb9aa5",
   "metadata": {},
   "source": [
    "# 逻辑回归实现多分类"
   ]
  },
  {
   "cell_type": "markdown",
   "id": "8a851cc5",
   "metadata": {},
   "source": [
    "**1.One over Rest(OvR)**  \n",
    "\n",
    "$\\max h_\\theta^k(x)$\n",
    "\n",
    "每次将一个类的样本作为正例，所有其他类的样本作为反例来训练，$K$ 个类别将有 $K$ 个分类器。在预测时，若仅有一个分类器预测为正类，其他分类器都预测为反类，则那一个正类为最终分类结果；若有多个分类器预测为正类，则选择概率最大的类别作为分类结果。  \n",
    "\n",
    "缺点：数据可能不均匀，导致训练集有偏，对结果会造成影响"
   ]
  },
  {
   "cell_type": "markdown",
   "id": "4464c869",
   "metadata": {},
   "source": [
    "**2.One over One(OvO)**  \n",
    "\n",
    "所有类别两两配对，$K$ 个类别将有 $k(k-1)/2$ 个分类器，把被预测得最多的类别作为最终分类结果。  \n",
    "\n",
    "缺点：训练开销大  \n",
    "\n",
    "优点：相对OvR准确率高"
   ]
  },
  {
   "cell_type": "markdown",
   "id": "a8e19fab",
   "metadata": {},
   "source": [
    "**3.Multi over Multi(MvM)**  \n",
    "\n",
    "编码：对 $N$ 个类别做 $M$ 次划分，每次划分将一部分类别划为正类，其余负类（$M$ 个分类器）。  \n",
    "\n",
    "解码：$M$ 个分类器预测标记组成一个编码，将此预测编码与各自类别的编码进行比较，返回其中距离最小的类。  \n",
    "\n",
    "OvO 是 MvM 的一个特例。  "
   ]
  },
  {
   "cell_type": "markdown",
   "id": "a407e186",
   "metadata": {},
   "source": [
    "# 使用Sklearn实现逻辑回归"
   ]
  },
  {
   "cell_type": "code",
   "execution_count": 26,
   "id": "6bf4134b",
   "metadata": {},
   "outputs": [],
   "source": [
    "import numpy as np\n",
    "import matplotlib.pyplot as plt\n",
    "import matplotlib as mpl\n",
    "from sklearn import linear_model\n",
    "from sklearn.metrics import accuracy_score"
   ]
  },
  {
   "cell_type": "markdown",
   "id": "21b59a69",
   "metadata": {},
   "source": [
    "常用参数含义：\n",
    "  - C：正则化参数 $\\lambda$ 的倒数，C越大，惩罚越小，易过拟合，泛化能力差。C越小，惩罚越大，不易过拟合，泛化能力好。\n",
    "  - multi_class:   \n",
    "      - 默认值auto，表示会根据数据的分类情况和其他参数来确定模型要处理的分类问题的类型；\n",
    "      - ovr，表示分类问题是二分类，或让模型使用\"一对多\"的形式来处理多分类问题；\n",
    "      - multinomial，表示处理多分类问题MvM，这种输入在参数solver是'liblinear'时不可用。  \n",
    "  - max_iter: 迭代次数\n",
    "  - solver：求解器\n",
    "      - liblinear：默认值，坐标下降法，二分类专用\n",
    "      - lbfgs：拟牛顿法的一种，利用损失函数二阶导数矩阵（海森矩阵）来迭代优化损失函数  \n",
    "      - newton-cg：牛顿法的一种，利用损失函数二阶导数矩阵（海森矩阵）来迭代优化损失函数\n",
    "      - sag：随机平均梯度下降，每次迭代仅用一部分样本计算梯度\n",
    "      - saga：随机平均梯度下降的进化，稀疏多项逻辑回归的首选"
   ]
  },
  {
   "cell_type": "code",
   "execution_count": 27,
   "id": "9710e961",
   "metadata": {},
   "outputs": [
    {
     "name": "stderr",
     "output_type": "stream",
     "text": [
      "D:\\Anaconda3\\lib\\site-packages\\sklearn\\utils\\validation.py:63: DataConversionWarning: A column-vector y was passed when a 1d array was expected. Please change the shape of y to (n_samples, ), for example using ravel().\n",
      "  return f(*args, **kwargs)\n"
     ]
    },
    {
     "data": {
      "text/plain": [
       "LogisticRegression(C=50, max_iter=2000)"
      ]
     },
     "execution_count": 27,
     "metadata": {},
     "output_type": "execute_result"
    }
   ],
   "source": [
    "model = linear_model.LogisticRegression(C=50,max_iter=2000)\n",
    "model.fit(X,y)"
   ]
  },
  {
   "cell_type": "code",
   "execution_count": 28,
   "id": "1cec32a8",
   "metadata": {},
   "outputs": [
    {
     "name": "stdout",
     "output_type": "stream",
     "text": [
      "系数： [[0.20621451 0.20145397]]\n",
      "截距项： [-25.15918048]\n",
      "准确度： 0.89\n"
     ]
    }
   ],
   "source": [
    "print(\"系数：\",model.coef_)\n",
    "print(\"截距项：\",model.intercept_)\n",
    "y_hat = model.predict(X)\n",
    "print(\"准确度：\",accuracy_score(y,y_hat))"
   ]
  },
  {
   "cell_type": "code",
   "execution_count": 29,
   "id": "9f93780c",
   "metadata": {},
   "outputs": [
    {
     "data": {
      "image/png": "[encoded data removed]",
      "text/plain": [
       "<Figure size 432x288 with 1 Axes>"
      ]
     },
     "metadata": {
      "needs_background": "light"
     },
     "output_type": "display_data"
    }
   ],
   "source": [
    "theta = np.append(model.intercept_,model.coef_)\n",
    "plotDescisionBoundary(X,y,theta)"
   ]
  },
  {
   "cell_type": "markdown",
   "id": "bad93c39",
   "metadata": {},
   "source": [
    "# 案例：鸢尾花分类"
   ]
  },
  {
   "cell_type": "markdown",
   "id": "4558770b",
   "metadata": {},
   "source": [
    "## 获取数据"
   ]
  },
  {
   "cell_type": "markdown",
   "id": "8d2b87d4",
   "metadata": {},
   "source": [
    "特征：  \n",
    "sepal_length：花萼长度  \n",
    "sepal_width：花萼宽度  \n",
    "petal_length：花瓣长度  \n",
    "petal_width：花瓣宽度  \n",
    "\n",
    "标签：  \n",
    "0：setosa，山鸢尾  \n",
    "1：versicolor，变色鸢尾花  \n",
    "2：virginica，维吉尼亚鸢尾花"
   ]
  },
  {
   "cell_type": "code",
   "execution_count": 30,
   "id": "c9edbb9e",
   "metadata": {},
   "outputs": [],
   "source": [
    "from sklearn.datasets import load_iris"
   ]
  },
  {
   "cell_type": "code",
   "execution_count": 33,
   "id": "8c0aa5a1",
   "metadata": {},
   "outputs": [
    {
     "name": "stdout",
     "output_type": "stream",
     "text": [
      ".. _iris_dataset:\n",
      "\n",
      "Iris plants dataset\n",
      "--------------------\n",
      "\n",
      "**Data Set Characteristics:**\n",
      "\n",
      "    :Number of Instances: 150 (50 in each of three classes)\n",
      "    :Number of Attributes: 4 numeric, predictive attributes and the class\n",
      "    :Attribute Information:\n",
      "        - sepal length in cm\n",
      "        - sepal width in cm\n",
      "        - petal length in cm\n",
      "        - petal width in cm\n",
      "        - class:\n",
      "                - Iris-Setosa\n",
      "                - Iris-Versicolour\n",
      "                - Iris-Virginica\n",
      "                \n",
      "    :Summary Statistics:\n",
      "\n",
      "    ============== ==== ==== ======= ===== ====================\n",
      "                    Min  Max   Mean    SD   Class Correlation\n",
      "    ============== ==== ==== ======= ===== ====================\n",
      "    sepal length:   4.3  7.9   5.84   0.83    0.7826\n",
      "    sepal width:    2.0  4.4   3.05   0.43   -0.4194\n",
      "    petal length:   1.0  6.9   3.76   1.76    0.9490  (high!)\n",
      "    petal width:    0.1  2.5   1.20   0.76    0.9565  (high!)\n",
      "    ============== ==== ==== ======= ===== ====================\n",
      "\n",
      "    :Missing Attribute Values: None\n",
      "    :Class Distribution: 33.3% for each of 3 classes.\n",
      "    :Creator: R.A. Fisher\n",
      "    :Donor: Michael Marshall (MARSHALL%PLU@io.arc.nasa.gov)\n",
      "    :Date: July, 1988\n",
      "\n",
      "The famous Iris database, first used by Sir R.A. Fisher. The dataset is taken\n",
      "from Fisher's paper. Note that it's the same as in R, but not as in the UCI\n",
      "Machine Learning Repository, which has two wrong data points.\n",
      "\n",
      "This is perhaps the best known database to be found in the\n",
      "pattern recognition literature.  Fisher's paper is a classic in the field and\n",
      "is referenced frequently to this day.  (See Duda & Hart, for example.)  The\n",
      "data set contains 3 classes of 50 instances each, where each class refers to a\n",
      "type of iris plant.  One class is linearly separable from the other 2; the\n",
      "latter are NOT linearly separable from each other.\n",
      "\n",
      ".. topic:: References\n",
      "\n",
      "   - Fisher, R.A. \"The use of multiple measurements in taxonomic problems\"\n",
      "     Annual Eugenics, 7, Part II, 179-188 (1936); also in \"Contributions to\n",
      "     Mathematical Statistics\" (John Wiley, NY, 1950).\n",
      "   - Duda, R.O., & Hart, P.E. (1973) Pattern Classification and Scene Analysis.\n",
      "     (Q327.D83) John Wiley & Sons.  ISBN 0-471-22361-1.  See page 218.\n",
      "   - Dasarathy, B.V. (1980) \"Nosing Around the Neighborhood: A New System\n",
      "     Structure and Classification Rule for Recognition in Partially Exposed\n",
      "     Environments\".  IEEE Transactions on Pattern Analysis and Machine\n",
      "     Intelligence, Vol. PAMI-2, No. 1, 67-71.\n",
      "   - Gates, G.W. (1972) \"The Reduced Nearest Neighbor Rule\".  IEEE Transactions\n",
      "     on Information Theory, May 1972, 431-433.\n",
      "   - See also: 1988 MLC Proceedings, 54-64.  Cheeseman et al\"s AUTOCLASS II\n",
      "     conceptual clustering system finds 3 classes in the data.\n",
      "   - Many, many more ...\n"
     ]
    }
   ],
   "source": [
    "iris = load_iris()\n",
    "print(iris.DESCR)"
   ]
  },
  {
   "cell_type": "code",
   "execution_count": 34,
   "id": "f694bd63",
   "metadata": {},
   "outputs": [
    {
     "data": {
      "text/plain": [
       "{'data': array([[5.1, 3.5, 1.4, 0.2],\n",
       "        [4.9, 3. , 1.4, 0.2],\n",
       "        [4.7, 3.2, 1.3, 0.2],\n",
       "        [4.6, 3.1, 1.5, 0.2],\n",
       "        [5. , 3.6, 1.4, 0.2],\n",
       "        [5.4, 3.9, 1.7, 0.4],\n",
       "        [4.6, 3.4, 1.4, 0.3],\n",
       "        [5. , 3.4, 1.5, 0.2],\n",
       "        [4.4, 2.9, 1.4, 0.2],\n",
       "        [4.9, 3.1, 1.5, 0.1],\n",
       "        [5.4, 3.7, 1.5, 0.2],\n",
       "        [4.8, 3.4, 1.6, 0.2],\n",
       "        [4.8, 3. , 1.4, 0.1],\n",
       "        [4.3, 3. , 1.1, 0.1],\n",
       "        [5.8, 4. , 1.2, 0.2],\n",
       "        [5.7, 4.4, 1.5, 0.4],\n",
       "        [5.4, 3.9, 1.3, 0.4],\n",
       "        [5.1, 3.5, 1.4, 0.3],\n",
       "        [5.7, 3.8, 1.7, 0.3],\n",
       "        [5.1, 3.8, 1.5, 0.3],\n",
       "        [5.4, 3.4, 1.7, 0.2],\n",
       "        [5.1, 3.7, 1.5, 0.4],\n",
       "        [4.6, 3.6, 1. , 0.2],\n",
       "        [5.1, 3.3, 1.7, 0.5],\n",
       "        [4.8, 3.4, 1.9, 0.2],\n",
       "        [5. , 3. , 1.6, 0.2],\n",
       "        [5. , 3.4, 1.6, 0.4],\n",
       "        [5.2, 3.5, 1.5, 0.2],\n",
       "        [5.2, 3.4, 1.4, 0.2],\n",
       "        [4.7, 3.2, 1.6, 0.2],\n",
       "        [4.8, 3.1, 1.6, 0.2],\n",
       "        [5.4, 3.4, 1.5, 0.4],\n",
       "        [5.2, 4.1, 1.5, 0.1],\n",
       "        [5.5, 4.2, 1.4, 0.2],\n",
       "        [4.9, 3.1, 1.5, 0.2],\n",
       "        [5. , 3.2, 1.2, 0.2],\n",
       "        [5.5, 3.5, 1.3, 0.2],\n",
       "        [4.9, 3.6, 1.4, 0.1],\n",
       "        [4.4, 3. , 1.3, 0.2],\n",
       "        [5.1, 3.4, 1.5, 0.2],\n",
       "        [5. , 3.5, 1.3, 0.3],\n",
       "        [4.5, 2.3, 1.3, 0.3],\n",
       "        [4.4, 3.2, 1.3, 0.2],\n",
       "        [5. , 3.5, 1.6, 0.6],\n",
       "        [5.1, 3.8, 1.9, 0.4],\n",
       "        [4.8, 3. , 1.4, 0.3],\n",
       "        [5.1, 3.8, 1.6, 0.2],\n",
       "        [4.6, 3.2, 1.4, 0.2],\n",
       "        [5.3, 3.7, 1.5, 0.2],\n",
       "        [5. , 3.3, 1.4, 0.2],\n",
       "        [7. , 3.2, 4.7, 1.4],\n",
       "        [6.4, 3.2, 4.5, 1.5],\n",
       "        [6.9, 3.1, 4.9, 1.5],\n",
       "        [5.5, 2.3, 4. , 1.3],\n",
       "        [6.5, 2.8, 4.6, 1.5],\n",
       "        [5.7, 2.8, 4.5, 1.3],\n",
       "        [6.3, 3.3, 4.7, 1.6],\n",
       "        [4.9, 2.4, 3.3, 1. ],\n",
       "        [6.6, 2.9, 4.6, 1.3],\n",
       "        [5.2, 2.7, 3.9, 1.4],\n",
       "        [5. , 2. , 3.5, 1. ],\n",
       "        [5.9, 3. , 4.2, 1.5],\n",
       "        [6. , 2.2, 4. , 1. ],\n",
       "        [6.1, 2.9, 4.7, 1.4],\n",
       "        [5.6, 2.9, 3.6, 1.3],\n",
       "        [6.7, 3.1, 4.4, 1.4],\n",
       "        [5.6, 3. , 4.5, 1.5],\n",
       "        [5.8, 2.7, 4.1, 1. ],\n",
       "        [6.2, 2.2, 4.5, 1.5],\n",
       "        [5.6, 2.5, 3.9, 1.1],\n",
       "        [5.9, 3.2, 4.8, 1.8],\n",
       "        [6.1, 2.8, 4. , 1.3],\n",
       "        [6.3, 2.5, 4.9, 1.5],\n",
       "        [6.1, 2.8, 4.7, 1.2],\n",
       "        [6.4, 2.9, 4.3, 1.3],\n",
       "        [6.6, 3. , 4.4, 1.4],\n",
       "        [6.8, 2.8, 4.8, 1.4],\n",
       "        [6.7, 3. , 5. , 1.7],\n",
       "        [6. , 2.9, 4.5, 1.5],\n",
       "        [5.7, 2.6, 3.5, 1. ],\n",
       "        [5.5, 2.4, 3.8, 1.1],\n",
       "        [5.5, 2.4, 3.7, 1. ],\n",
       "        [5.8, 2.7, 3.9, 1.2],\n",
       "        [6. , 2.7, 5.1, 1.6],\n",
       "        [5.4, 3. , 4.5, 1.5],\n",
       "        [6. , 3.4, 4.5, 1.6],\n",
       "        [6.7, 3.1, 4.7, 1.5],\n",
       "        [6.3, 2.3, 4.4, 1.3],\n",
       "        [5.6, 3. , 4.1, 1.3],\n",
       "        [5.5, 2.5, 4. , 1.3],\n",
       "        [5.5, 2.6, 4.4, 1.2],\n",
       "        [6.1, 3. , 4.6, 1.4],\n",
       "        [5.8, 2.6, 4. , 1.2],\n",
       "        [5. , 2.3, 3.3, 1. ],\n",
       "        [5.6, 2.7, 4.2, 1.3],\n",
       "        [5.7, 3. , 4.2, 1.2],\n",
       "        [5.7, 2.9, 4.2, 1.3],\n",
       "        [6.2, 2.9, 4.3, 1.3],\n",
       "        [5.1, 2.5, 3. , 1.1],\n",
       "        [5.7, 2.8, 4.1, 1.3],\n",
       "        [6.3, 3.3, 6. , 2.5],\n",
       "        [5.8, 2.7, 5.1, 1.9],\n",
       "        [7.1, 3. , 5.9, 2.1],\n",
       "        [6.3, 2.9, 5.6, 1.8],\n",
       "        [6.5, 3. , 5.8, 2.2],\n",
       "        [7.6, 3. , 6.6, 2.1],\n",
       "        [4.9, 2.5, 4.5, 1.7],\n",
       "        [7.3, 2.9, 6.3, 1.8],\n",
       "        [6.7, 2.5, 5.8, 1.8],\n",
       "        [7.2, 3.6, 6.1, 2.5],\n",
       "        [6.5, 3.2, 5.1, 2. ],\n",
       "        [6.4, 2.7, 5.3, 1.9],\n",
       "        [6.8, 3. , 5.5, 2.1],\n",
       "        [5.7, 2.5, 5. , 2. ],\n",
       "        [5.8, 2.8, 5.1, 2.4],\n",
       "        [6.4, 3.2, 5.3, 2.3],\n",
       "        [6.5, 3. , 5.5, 1.8],\n",
       "        [7.7, 3.8, 6.7, 2.2],\n",
       "        [7.7, 2.6, 6.9, 2.3],\n",
       "        [6. , 2.2, 5. , 1.5],\n",
       "        [6.9, 3.2, 5.7, 2.3],\n",
       "        [5.6, 2.8, 4.9, 2. ],\n",
       "        [7.7, 2.8, 6.7, 2. ],\n",
       "        [6.3, 2.7, 4.9, 1.8],\n",
       "        [6.7, 3.3, 5.7, 2.1],\n",
       "        [7.2, 3.2, 6. , 1.8],\n",
       "        [6.2, 2.8, 4.8, 1.8],\n",
       "        [6.1, 3. , 4.9, 1.8],\n",
       "        [6.4, 2.8, 5.6, 2.1],\n",
       "        [7.2, 3. , 5.8, 1.6],\n",
       "        [7.4, 2.8, 6.1, 1.9],\n",
       "        [7.9, 3.8, 6.4, 2. ],\n",
       "        [6.4, 2.8, 5.6, 2.2],\n",
       "        [6.3, 2.8, 5.1, 1.5],\n",
       "        [6.1, 2.6, 5.6, 1.4],\n",
       "        [7.7, 3. , 6.1, 2.3],\n",
       "        [6.3, 3.4, 5.6, 2.4],\n",
       "        [6.4, 3.1, 5.5, 1.8],\n",
       "        [6. , 3. , 4.8, 1.8],\n",
       "        [6.9, 3.1, 5.4, 2.1],\n",
       "        [6.7, 3.1, 5.6, 2.4],\n",
       "        [6.9, 3.1, 5.1, 2.3],\n",
       "        [5.8, 2.7, 5.1, 1.9],\n",
       "        [6.8, 3.2, 5.9, 2.3],\n",
       "        [6.7, 3.3, 5.7, 2.5],\n",
       "        [6.7, 3. , 5.2, 2.3],\n",
       "        [6.3, 2.5, 5. , 1.9],\n",
       "        [6.5, 3. , 5.2, 2. ],\n",
       "        [6.2, 3.4, 5.4, 2.3],\n",
       "        [5.9, 3. , 5.1, 1.8]]),\n",
       " 'target': array([0, 0, 0, 0, 0, 0, 0, 0, 0, 0, 0, 0, 0, 0, 0, 0, 0, 0, 0, 0, 0, 0,\n",
       "        0, 0, 0, 0, 0, 0, 0, 0, 0, 0, 0, 0, 0, 0, 0, 0, 0, 0, 0, 0, 0, 0,\n",
       "        0, 0, 0, 0, 0, 0, 1, 1, 1, 1, 1, 1, 1, 1, 1, 1, 1, 1, 1, 1, 1, 1,\n",
       "        1, 1, 1, 1, 1, 1, 1, 1, 1, 1, 1, 1, 1, 1, 1, 1, 1, 1, 1, 1, 1, 1,\n",
       "        1, 1, 1, 1, 1, 1, 1, 1, 1, 1, 1, 1, 2, 2, 2, 2, 2, 2, 2, 2, 2, 2,\n",
       "        2, 2, 2, 2, 2, 2, 2, 2, 2, 2, 2, 2, 2, 2, 2, 2, 2, 2, 2, 2, 2, 2,\n",
       "        2, 2, 2, 2, 2, 2, 2, 2, 2, 2, 2, 2, 2, 2, 2, 2, 2, 2]),\n",
       " 'frame': None,\n",
       " 'target_names': array(['setosa', 'versicolor', 'virginica'], dtype='<U10'),\n",
       " 'DESCR': '.. _iris_dataset:\\n\\nIris plants dataset\\n--------------------\\n\\n**Data Set Characteristics:**\\n\\n    :Number of Instances: 150 (50 in each of three classes)\\n    :Number of Attributes: 4 numeric, predictive attributes and the class\\n    :Attribute Information:\\n        - sepal length in cm\\n        - sepal width in cm\\n        - petal length in cm\\n        - petal width in cm\\n        - class:\\n                - Iris-Setosa\\n                - Iris-Versicolour\\n                - Iris-Virginica\\n                \\n    :Summary Statistics:\\n\\n    ============== ==== ==== ======= ===== ====================\\n                    Min  Max   Mean    SD   Class Correlation\\n    ============== ==== ==== ======= ===== ====================\\n    sepal length:   4.3  7.9   5.84   0.83    0.7826\\n    sepal width:    2.0  4.4   3.05   0.43   -0.4194\\n    petal length:   1.0  6.9   3.76   1.76    0.9490  (high!)\\n    petal width:    0.1  2.5   1.20   0.76    0.9565  (high!)\\n    ============== ==== ==== ======= ===== ====================\\n\\n    :Missing Attribute Values: None\\n    :Class Distribution: 33.3% for each of 3 classes.\\n    :Creator: R.A. Fisher\\n    :Donor: Michael Marshall (MARSHALL%PLU@io.arc.nasa.gov)\\n    :Date: July, 1988\\n\\nThe famous Iris database, first used by Sir R.A. Fisher. The dataset is taken\\nfrom Fisher\\'s paper. Note that it\\'s the same as in R, but not as in the UCI\\nMachine Learning Repository, which has two wrong data points.\\n\\nThis is perhaps the best known database to be found in the\\npattern recognition literature.  Fisher\\'s paper is a classic in the field and\\nis referenced frequently to this day.  (See Duda & Hart, for example.)  The\\ndata set contains 3 classes of 50 instances each, where each class refers to a\\ntype of iris plant.  One class is linearly separable from the other 2; the\\nlatter are NOT linearly separable from each other.\\n\\n.. topic:: References\\n\\n   - Fisher, R.A. \"The use of multiple measurements in taxonomic problems\"\\n     Annual Eugenics, 7, Part II, 179-188 (1936); also in \"Contributions to\\n     Mathematical Statistics\" (John Wiley, NY, 1950).\\n   - Duda, R.O., & Hart, P.E. (1973) Pattern Classification and Scene Analysis.\\n     (Q327.D83) John Wiley & Sons.  ISBN 0-471-22361-1.  See page 218.\\n   - Dasarathy, B.V. (1980) \"Nosing Around the Neighborhood: A New System\\n     Structure and Classification Rule for Recognition in Partially Exposed\\n     Environments\".  IEEE Transactions on Pattern Analysis and Machine\\n     Intelligence, Vol. PAMI-2, No. 1, 67-71.\\n   - Gates, G.W. (1972) \"The Reduced Nearest Neighbor Rule\".  IEEE Transactions\\n     on Information Theory, May 1972, 431-433.\\n   - See also: 1988 MLC Proceedings, 54-64.  Cheeseman et al\"s AUTOCLASS II\\n     conceptual clustering system finds 3 classes in the data.\\n   - Many, many more ...',\n",
       " 'feature_names': ['sepal length (cm)',\n",
       "  'sepal width (cm)',\n",
       "  'petal length (cm)',\n",
       "  'petal width (cm)'],\n",
       " 'filename': 'D:\\\\Anaconda3\\\\lib\\\\site-packages\\\\sklearn\\\\datasets\\\\data\\\\iris.csv'}"
      ]
     },
     "execution_count": 34,
     "metadata": {},
     "output_type": "execute_result"
    }
   ],
   "source": [
    "iris    # 前50个是0，中间50个是1，后50个是2"
   ]
  },
  {
   "cell_type": "code",
   "execution_count": 35,
   "id": "017ec461",
   "metadata": {},
   "outputs": [],
   "source": [
    "X = iris.data\n",
    "y = iris.target"
   ]
  },
  {
   "cell_type": "markdown",
   "id": "9b0af20b",
   "metadata": {},
   "source": [
    "## 任取两个特征画图"
   ]
  },
  {
   "cell_type": "code",
   "execution_count": 36,
   "id": "5ceabe42",
   "metadata": {},
   "outputs": [
    {
     "data": {
      "image/png": "[encoded data removed]",
      "text/plain": [
       "<Figure size 432x288 with 1 Axes>"
      ]
     },
     "metadata": {
      "needs_background": "light"
     },
     "output_type": "display_data"
    }
   ],
   "source": [
    "feature1 = 1    # feature1和feature2取值范围[0,1,2,3]\n",
    "feature2 = 2\n",
    "\n",
    "plt.scatter(X[0:50,feature1],X[0:50,feature2],color='red',marker='o',label='setosa')\n",
    "plt.scatter(X[50:100,feature1],X[50:100,feature2],color='blue',marker='x',label='versicolor')\n",
    "plt.scatter(X[100:,feature1],X[100:,feature2],color='green',marker='+',label='virginica')\n",
    "plt.show()"
   ]
  },
  {
   "cell_type": "markdown",
   "id": "8fc523dd",
   "metadata": {},
   "source": [
    "## 训练模型"
   ]
  },
  {
   "cell_type": "code",
   "execution_count": 44,
   "id": "45b0483e",
   "metadata": {},
   "outputs": [
    {
     "name": "stderr",
     "output_type": "stream",
     "text": [
      "D:\\Anaconda3\\lib\\site-packages\\sklearn\\linear_model\\_logistic.py:763: ConvergenceWarning: lbfgs failed to converge (status=1):\n",
      "STOP: TOTAL NO. of ITERATIONS REACHED LIMIT.\n",
      "\n",
      "Increase the number of iterations (max_iter) or scale the data as shown in:\n",
      "    https://scikit-learn.org/stable/modules/preprocessing.html\n",
      "Please also refer to the documentation for alternative solver options:\n",
      "    https://scikit-learn.org/stable/modules/linear_model.html#logistic-regression\n",
      "  n_iter_i = _check_optimize_result(\n"
     ]
    },
    {
     "data": {
      "text/plain": [
       "LogisticRegression(C=100, multi_class='multinomial')"
      ]
     },
     "execution_count": 44,
     "metadata": {},
     "output_type": "execute_result"
    }
   ],
   "source": [
    "model = linear_model.LogisticRegression(C=100,multi_class='multinomial')\n",
    "model.fit(X,y)"
   ]
  },
  {
   "cell_type": "code",
   "execution_count": 45,
   "id": "9f2bd22b",
   "metadata": {
    "scrolled": true
   },
   "outputs": [
    {
     "name": "stdout",
     "output_type": "stream",
     "text": [
      "系数： [[-0.367145    3.3699799  -6.1440138  -3.9265341 ]\n",
      " [ 1.29751634  0.46886566 -0.55958886 -4.20752165]\n",
      " [-0.93037134 -3.83884556  6.70360266  8.13405576]]\n",
      "截距项： [ 19.47461719   5.3394384  -24.81405558]\n",
      "准确度： 0.9866666666666667\n"
     ]
    }
   ],
   "source": [
    "# 一共有3个类别，因此会产生3个分类器\n",
    "print(\"系数：\",model.coef_)\n",
    "print(\"截距项：\",model.intercept_)\n",
    "y_hat = model.predict(X)\n",
    "print(\"准确度：\",accuracy_score(y,y_hat))"
   ]
  },
  {
   "cell_type": "markdown",
   "id": "145d65a8",
   "metadata": {},
   "source": [
    "## 可视化分类结果"
   ]
  },
  {
   "cell_type": "markdown",
   "id": "162e860e",
   "metadata": {},
   "source": [
    "为了可视化分类结果，我们取2个特征进行训练。"
   ]
  },
  {
   "cell_type": "code",
   "execution_count": 46,
   "id": "516a5bf5",
   "metadata": {},
   "outputs": [
    {
     "data": {
      "text/plain": [
       "LogisticRegression(C=100, multi_class='multinomial')"
      ]
     },
     "execution_count": 46,
     "metadata": {},
     "output_type": "execute_result"
    }
   ],
   "source": [
    "feature1 = 2    # feature1和feature2取值范围[0,1,2,3]\n",
    "feature2 = 3\n",
    "\n",
    "X_2 = X[:,[feature1,feature2]]\n",
    "model2 = linear_model.LogisticRegression(C=100,multi_class='multinomial')\n",
    "model2.fit(X_2,y)"
   ]
  },
  {
   "cell_type": "code",
   "execution_count": 52,
   "id": "33d73b12",
   "metadata": {
    "scrolled": true
   },
   "outputs": [
    {
     "name": "stdout",
     "output_type": "stream",
     "text": [
      "[[0.5  0.52 0.54 ... 7.34 7.36 7.38]\n",
      " [0.5  0.52 0.54 ... 7.34 7.36 7.38]\n",
      " [0.5  0.52 0.54 ... 7.34 7.36 7.38]\n",
      " ...\n",
      " [0.5  0.52 0.54 ... 7.34 7.36 7.38]\n",
      " [0.5  0.52 0.54 ... 7.34 7.36 7.38]\n",
      " [0.5  0.52 0.54 ... 7.34 7.36 7.38]]\n",
      "[[-0.4  -0.4  -0.4  ... -0.4  -0.4  -0.4 ]\n",
      " [-0.38 -0.38 -0.38 ... -0.38 -0.38 -0.38]\n",
      " [-0.36 -0.36 -0.36 ... -0.36 -0.36 -0.36]\n",
      " ...\n",
      " [ 2.94  2.94  2.94 ...  2.94  2.94  2.94]\n",
      " [ 2.96  2.96  2.96 ...  2.96  2.96  2.96]\n",
      " [ 2.98  2.98  2.98 ...  2.98  2.98  2.98]]\n"
     ]
    }
   ],
   "source": [
    "#meshgrid函数生成两个网格矩阵\n",
    "interval = 0.02\n",
    "x_min,x_max = min(X[:,feature1]) - 0.5, max(X[:,feature1]) + 0.5\n",
    "y_min,y_max = min(X[:,feature2]) - 0.5, max(X[:,feature2]) + 0.5\n",
    "xx, yy = np.meshgrid(np.arange(x_min,x_max,interval),np.arange(y_min,y_max,interval))\n",
    "print(xx)\n",
    "print(yy)"
   ]
  },
  {
   "cell_type": "code",
   "execution_count": 55,
   "id": "81bef883",
   "metadata": {},
   "outputs": [
    {
     "data": {
      "text/plain": [
       "array([[ 0.5 , -0.4 ],\n",
       "       [ 0.52, -0.4 ],\n",
       "       [ 0.54, -0.4 ],\n",
       "       ...,\n",
       "       [ 7.34,  2.98],\n",
       "       [ 7.36,  2.98],\n",
       "       [ 7.38,  2.98]])"
      ]
     },
     "execution_count": 55,
     "metadata": {},
     "output_type": "execute_result"
    }
   ],
   "source": [
    "# 按列叠加两个矩阵\n",
    "xy = np.c_[xx.ravel(),yy.ravel()]\n",
    "xy"
   ]
  },
  {
   "cell_type": "code",
   "execution_count": 57,
   "id": "a2d370da",
   "metadata": {},
   "outputs": [
    {
     "data": {
      "text/plain": [
       "array([[0, 0, 0, ..., 1, 1, 1],\n",
       "       [0, 0, 0, ..., 1, 1, 1],\n",
       "       [0, 0, 0, ..., 1, 1, 1],\n",
       "       ...,\n",
       "       [0, 0, 0, ..., 2, 2, 2],\n",
       "       [0, 0, 0, ..., 2, 2, 2],\n",
       "       [0, 0, 0, ..., 2, 2, 2]])"
      ]
     },
     "execution_count": 57,
     "metadata": {},
     "output_type": "execute_result"
    }
   ],
   "source": [
    "z = model2.predict(xy).reshape(xx.shape)\n",
    "z"
   ]
  },
  {
   "cell_type": "code",
   "execution_count": 58,
   "id": "12f47a32",
   "metadata": {},
   "outputs": [
    {
     "name": "stderr",
     "output_type": "stream",
     "text": [
      "C:\\Users\\gaoyu\\AppData\\Local\\Temp/ipykernel_20440/3289454534.py:2: MatplotlibDeprecationWarning: shading='flat' when X and Y have the same dimensions as C is deprecated since 3.3.  Either specify the corners of the quadrilaterals with X and Y, or pass shading='auto', 'nearest' or 'gouraud', or set rcParams['pcolor.shading'].  This will become an error two minor releases later.\n",
      "  plt.pcolormesh(xx, yy, z, cmap=plt.cm.Paired)\n"
     ]
    },
    {
     "data": {
      "image/png": "[encoded data removed]",
      "text/plain": [
       "<Figure size 432x288 with 1 Axes>"
      ]
     },
     "metadata": {
      "needs_background": "light"
     },
     "output_type": "display_data"
    }
   ],
   "source": [
    "# 将点(xx,yy)和预测结果z一一映射，形成不同的颜色\n",
    "plt.pcolormesh(xx, yy, z, cmap=plt.cm.Paired)\n",
    "\n",
    "plt.scatter(X[0:50,feature1],X[0:50,feature2],color='red',marker='o',label='setosa')\n",
    "plt.scatter(X[50:100,feature1],X[50:100,feature2],color='blue',marker='x',label='versicolor')\n",
    "plt.scatter(X[100:,feature1],X[100:,feature2],color='green',marker='+',label='virginica')\n",
    "plt.show()"
   ]
  },
  {
   "cell_type": "markdown",
   "id": "ca06967e",
   "metadata": {},
   "source": [
    "# 案例：手写数字识别"
   ]
  },
  {
   "cell_type": "markdown",
   "id": "18ea6de0",
   "metadata": {},
   "source": [
    "图片的像素是28*28，黑白图片用二维数组存储  \n",
    "<img align=\"left\" src=\"img/数字.png\" style=\"width:250px\"><img align=\"left\" src=\"img/像素.png\" style=\"width:250px\">"
   ]
  },
  {
   "cell_type": "markdown",
   "id": "e58b9921",
   "metadata": {},
   "source": [
    "## 读取数据集"
   ]
  },
  {
   "cell_type": "code",
   "execution_count": 59,
   "id": "d9674796",
   "metadata": {},
   "outputs": [],
   "source": [
    "from tool.Read_Minist_Tool import *\n",
    "import joblib"
   ]
  },
  {
   "cell_type": "code",
   "execution_count": 61,
   "id": "983973a7",
   "metadata": {},
   "outputs": [
    {
     "name": "stdout",
     "output_type": "stream",
     "text": [
      "魔数:2051, 图片数量: 60000张, 图片大小: 28*28\n",
      "16\n",
      ">784B 16 784\n",
      "已解析 10000张\n",
      "7839232\n",
      "已解析 20000张\n",
      "15679232\n",
      "已解析 30000张\n",
      "23519232\n",
      "已解析 40000张\n",
      "31359232\n",
      "已解析 50000张\n",
      "39199232\n",
      "已解析 60000张\n",
      "47039232\n",
      "魔数:2049, 图片数量: 60000张\n",
      "已解析 10000张\n",
      "已解析 20000张\n",
      "已解析 30000张\n",
      "已解析 40000张\n",
      "已解析 50000张\n",
      "已解析 60000张\n",
      "魔数:2051, 图片数量: 10000张, 图片大小: 28*28\n",
      "16\n",
      ">784B 16 784\n",
      "已解析 10000张\n",
      "7839232\n",
      "魔数:2049, 图片数量: 10000张\n",
      "已解析 10000张\n"
     ]
    }
   ],
   "source": [
    "train_images = load_train_images()\n",
    "train_labels = load_train_labels()\n",
    "test_images = load_test_images()\n",
    "test_labels = load_test_labels()"
   ]
  },
  {
   "cell_type": "code",
   "execution_count": 62,
   "id": "85fef308",
   "metadata": {
    "scrolled": true
   },
   "outputs": [
    {
     "data": {
      "text/plain": [
       "(10000, 28, 28)"
      ]
     },
     "execution_count": 62,
     "metadata": {},
     "output_type": "execute_result"
    }
   ],
   "source": [
    "test_images.shape"
   ]
  },
  {
   "cell_type": "code",
   "execution_count": 64,
   "id": "6fb21765",
   "metadata": {},
   "outputs": [
    {
     "name": "stdout",
     "output_type": "stream",
     "text": [
      "5.0\n"
     ]
    },
    {
     "data": {
      "image/png": "[encoded data removed]",
      "text/plain": [
       "<Figure size 432x288 with 1 Axes>"
      ]
     },
     "metadata": {
      "needs_background": "light"
     },
     "output_type": "display_data"
    },
    {
     "name": "stdout",
     "output_type": "stream",
     "text": [
      "0.0\n"
     ]
    },
    {
     "data": {
      "image/png": "[encoded data removed]",
      "text/plain": [
       "<Figure size 432x288 with 1 Axes>"
      ]
     },
     "metadata": {
      "needs_background": "light"
     },
     "output_type": "display_data"
    },
    {
     "name": "stdout",
     "output_type": "stream",
     "text": [
      "4.0\n"
     ]
    },
    {
     "data": {
      "image/png": "[encoded data removed]",
      "text/plain": [
       "<Figure size 432x288 with 1 Axes>"
      ]
     },
     "metadata": {
      "needs_background": "light"
     },
     "output_type": "display_data"
    },
    {
     "name": "stdout",
     "output_type": "stream",
     "text": [
      "1.0\n"
     ]
    },
    {
     "data": {
      "image/png": "[encoded data removed]",
      "text/plain": [
       "<Figure size 432x288 with 1 Axes>"
      ]
     },
     "metadata": {
      "needs_background": "light"
     },
     "output_type": "display_data"
    },
    {
     "name": "stdout",
     "output_type": "stream",
     "text": [
      "9.0\n"
     ]
    },
    {
     "data": {
      "image/png": "[encoded data removed]",
      "text/plain": [
       "<Figure size 432x288 with 1 Axes>"
      ]
     },
     "metadata": {
      "needs_background": "light"
     },
     "output_type": "display_data"
    },
    {
     "name": "stdout",
     "output_type": "stream",
     "text": [
      "2.0\n"
     ]
    },
    {
     "data": {
      "image/png": "[encoded data removed]",
      "text/plain": [
       "<Figure size 432x288 with 1 Axes>"
      ]
     },
     "metadata": {
      "needs_background": "light"
     },
     "output_type": "display_data"
    },
    {
     "name": "stdout",
     "output_type": "stream",
     "text": [
      "1.0\n"
     ]
    },
    {
     "data": {
      "image/png": "[encoded data removed]",
      "text/plain": [
       "<Figure size 432x288 with 1 Axes>"
      ]
     },
     "metadata": {
      "needs_background": "light"
     },
     "output_type": "display_data"
    },
    {
     "name": "stdout",
     "output_type": "stream",
     "text": [
      "3.0\n"
     ]
    },
    {
     "data": {
      "image/png": "[encoded data removed]",
      "text/plain": [
       "<Figure size 432x288 with 1 Axes>"
      ]
     },
     "metadata": {
      "needs_background": "light"
     },
     "output_type": "display_data"
    },
    {
     "name": "stdout",
     "output_type": "stream",
     "text": [
      "1.0\n"
     ]
    },
    {
     "data": {
      "image/png": "[encoded data removed]",
      "text/plain": [
       "<Figure size 432x288 with 1 Axes>"
      ]
     },
     "metadata": {
      "needs_background": "light"
     },
     "output_type": "display_data"
    },
    {
     "name": "stdout",
     "output_type": "stream",
     "text": [
      "4.0\n"
     ]
    },
    {
     "data": {
      "image/png": "[encoded data removed]",
      "text/plain": [
       "<Figure size 432x288 with 1 Axes>"
      ]
     },
     "metadata": {
      "needs_background": "light"
     },
     "output_type": "display_data"
    }
   ],
   "source": [
    "# 查看前十个对象及其对应的标签\n",
    "for i in range(10):\n",
    "    print(train_labels[i])\n",
    "    plt.imshow(train_images[i],cmap='gray')\n",
    "    plt.show()"
   ]
  },
  {
   "cell_type": "markdown",
   "id": "a4442a13",
   "metadata": {},
   "source": [
    "## 数据预处理"
   ]
  },
  {
   "cell_type": "markdown",
   "id": "1971e4c3",
   "metadata": {},
   "source": [
    "**构建训练数据特征**"
   ]
  },
  {
   "cell_type": "code",
   "execution_count": 67,
   "id": "34dcb64c",
   "metadata": {},
   "outputs": [
    {
     "data": {
      "text/plain": [
       "(60000, 784)"
      ]
     },
     "execution_count": 67,
     "metadata": {},
     "output_type": "execute_result"
    }
   ],
   "source": [
    "#把X转换成60000行，28*28列的矩阵\n",
    "X = train_images.reshape(train_images.shape[0],-1)\n",
    "X.shape"
   ]
  },
  {
   "cell_type": "markdown",
   "id": "a496fa1d",
   "metadata": {},
   "source": [
    "**数据归一化**"
   ]
  },
  {
   "cell_type": "code",
   "execution_count": 68,
   "id": "1f8bca85",
   "metadata": {},
   "outputs": [],
   "source": [
    "X = X/255"
   ]
  },
  {
   "cell_type": "markdown",
   "id": "d43fdbe7",
   "metadata": {},
   "source": [
    "## 训练模型"
   ]
  },
  {
   "cell_type": "code",
   "execution_count": 69,
   "id": "ebdb6fd1",
   "metadata": {},
   "outputs": [
    {
     "name": "stderr",
     "output_type": "stream",
     "text": [
      "D:\\Anaconda3\\lib\\site-packages\\sklearn\\linear_model\\_logistic.py:763: ConvergenceWarning: lbfgs failed to converge (status=1):\n",
      "STOP: TOTAL NO. of ITERATIONS REACHED LIMIT.\n",
      "\n",
      "Increase the number of iterations (max_iter) or scale the data as shown in:\n",
      "    https://scikit-learn.org/stable/modules/preprocessing.html\n",
      "Please also refer to the documentation for alternative solver options:\n",
      "    https://scikit-learn.org/stable/modules/linear_model.html#logistic-regression\n",
      "  n_iter_i = _check_optimize_result(\n"
     ]
    },
    {
     "data": {
      "text/plain": [
       "LogisticRegression(C=50)"
      ]
     },
     "execution_count": 69,
     "metadata": {},
     "output_type": "execute_result"
    }
   ],
   "source": [
    "model3 = linear_model.LogisticRegression(C=50)\n",
    "model3.fit(X,train_labels)"
   ]
  },
  {
   "cell_type": "code",
   "execution_count": 70,
   "id": "73c7ff41",
   "metadata": {},
   "outputs": [
    {
     "name": "stdout",
     "output_type": "stream",
     "text": [
      "[[0. 0. 0. ... 0. 0. 0.]\n",
      " [0. 0. 0. ... 0. 0. 0.]\n",
      " [0. 0. 0. ... 0. 0. 0.]\n",
      " ...\n",
      " [0. 0. 0. ... 0. 0. 0.]\n",
      " [0. 0. 0. ... 0. 0. 0.]\n",
      " [0. 0. 0. ... 0. 0. 0.]]\n",
      "[-1.41537065  1.29660949  0.07179897 -0.59472232  0.2755262   1.97940768\n",
      " -0.52777439  1.56939901 -2.14294077 -0.51193321]\n"
     ]
    }
   ],
   "source": [
    "# 0-9共有十个类别，因此会生成十个模型\n",
    "print(model3.coef_)\n",
    "print(model3.intercept_)"
   ]
  },
  {
   "cell_type": "markdown",
   "id": "246f5d76",
   "metadata": {},
   "source": [
    "## 模型评价"
   ]
  },
  {
   "cell_type": "code",
   "execution_count": 73,
   "id": "632f3ac3",
   "metadata": {},
   "outputs": [
    {
     "name": "stdout",
     "output_type": "stream",
     "text": [
      "训练集精度： 0.9352666666666667\n",
      "测试集精度： 0.9255\n"
     ]
    }
   ],
   "source": [
    "y_train_hat = model3.predict(X)\n",
    "print(\"训练集精度：\",accuracy_score(y_train_hat,train_labels))\n",
    "X_test = test_images.reshape(test_images.shape[0],-1)\n",
    "X_test = X_test / 255\n",
    "y_test_hat = model3.predict(X_test)\n",
    "print(\"测试集精度：\",accuracy_score(y_test_hat,test_labels))"
   ]
  }
 ],
 "metadata": {
  "kernelspec": {
   "display_name": "Python 3 (ipykernel)",
   "language": "python",
   "name": "python3"
  },
  "language_info": {
   "codemirror_mode": {
    "name": "ipython",
    "version": 3
   },
   "file_extension": ".py",
   "mimetype": "text/x-python",
   "name": "python",
   "nbconvert_exporter": "python",
   "pygments_lexer": "ipython3",
   "version": "3.9.7"
  },
  "toc": {
   "base_numbering": 1,
   "nav_menu": {},
   "number_sections": true,
   "sideBar": true,
   "skip_h1_title": false,
   "title_cell": "Table of Contents",
   "title_sidebar": "Contents",
   "toc_cell": false,
   "toc_position": {
    "height": "calc(100% - 180px)",
    "left": "10px",
    "top": "150px",
    "width": "274.6px"
   },
   "toc_section_display": true,
   "toc_window_display": true
  }
 },
 "nbformat": 4,
 "nbformat_minor": 5
}
