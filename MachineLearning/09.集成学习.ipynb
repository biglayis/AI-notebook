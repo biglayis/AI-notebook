{
 "cells": [
  {
   "cell_type": "markdown",
   "id": "02cea307",
   "metadata": {},
   "source": [
    "# 简介"
   ]
  },
  {
   "cell_type": "markdown",
   "id": "7662624a",
   "metadata": {},
   "source": [
    "聚合一组预测器（比如分类器或回归器）的预测，得到的预测结果也比最好的单个预测器要好，这样的一组预测器，我们称为集成，这种技术也被称为集成学习，而一个集成学习的算法则被称为集成方法。  \n",
    "\n",
    "常用的集成学习方法：\n",
    "\n",
    "* Voting（投票）\n",
    "* Bagging  \n",
    "    * 随机森林\n",
    "* Boosting\n",
    "    * AdaBoost\n",
    "    * 提升树\n",
    "    * XGboost\n",
    "* stacking"
   ]
  },
  {
   "cell_type": "markdown",
   "id": "72424816",
   "metadata": {},
   "source": [
    "# Voting"
   ]
  },
  {
   "cell_type": "markdown",
   "id": "0a164a69",
   "metadata": {},
   "source": [
    "假设创建了一个包含1000个分类器的集成，每个分类器都只有51%的几率是正确的（几乎没比随机猜测强多少）。如果以大多数投票的类别作为预测结果，则准确率可达75%。如果有10000个分类器，则准确率可以高达97%。  \n",
    "\n",
    "但是，上述的前提是：所有的分类器都是完全独立的，彼此的错误毫不相关。显然这是不可能的，因为它们都是在相同的数据上训练的。它们很可能会犯相同的错误，所以也会有很多次大多数投给了错误的类别，导致集成的准确率有所降低。"
   ]
  },
  {
   "cell_type": "markdown",
   "id": "78822869",
   "metadata": {},
   "source": [
    "## 原理"
   ]
  },
  {
   "cell_type": "markdown",
   "id": "383a73e0",
   "metadata": {},
   "source": [
    "<img src=\"img/硬投票.png\" width=\"600\">"
   ]
  },
  {
   "cell_type": "markdown",
   "id": "47243147",
   "metadata": {},
   "source": [
    "* 硬投票分类器：直接以大多数投票的类别作为预测结果，称为硬投票法。\n",
    "* 软投票分类器：如果所有分类器都能够估算出类别的概率，那么可以将概率在所有单个分类器上平均，然后让给出平均概率最高的类别作为预测。\n",
    "* 通常来说，软投票法比硬投票法的表现更优，因为它给予那些高度自信的投票更高的权重。"
   ]
  },
  {
   "cell_type": "markdown",
   "id": "67d4b63d",
   "metadata": {},
   "source": [
    "## 代码实现"
   ]
  },
  {
   "cell_type": "code",
   "execution_count": 1,
   "id": "b2d0ae17",
   "metadata": {},
   "outputs": [],
   "source": [
    "import numpy as np\n",
    "import matplotlib.pyplot as plt\n",
    "\n",
    "from sklearn.ensemble import VotingClassifier\n",
    "\n",
    "from sklearn.linear_model import LogisticRegression\n",
    "from sklearn.tree import DecisionTreeClassifier\n",
    "from sklearn.svm import SVC\n",
    "\n",
    "from sklearn.metrics import accuracy_score\n",
    "from sklearn.datasets import make_moons\n",
    "from sklearn.model_selection import train_test_split"
   ]
  },
  {
   "cell_type": "markdown",
   "id": "b4b7bd60",
   "metadata": {},
   "source": [
    "**使用sklearn中的moon数据集**"
   ]
  },
  {
   "cell_type": "code",
   "execution_count": 2,
   "id": "4dedf8d8",
   "metadata": {},
   "outputs": [],
   "source": [
    "X,y = make_moons(n_samples=7000,noise=0.1)"
   ]
  },
  {
   "cell_type": "code",
   "execution_count": 3,
   "id": "af4a9950",
   "metadata": {},
   "outputs": [
    {
     "data": {
      "text/plain": [
       "<matplotlib.collections.PathCollection at 0x1f464591b50>"
      ]
     },
     "execution_count": 3,
     "metadata": {},
     "output_type": "execute_result"
    },
    {
     "data": {
      "image/png": "[encoded data removed]",
      "text/plain": [
       "<Figure size 432x288 with 1 Axes>"
      ]
     },
     "metadata": {
      "needs_background": "light"
     },
     "output_type": "display_data"
    }
   ],
   "source": [
    "plt.scatter(X[:,0],X[:,1])"
   ]
  },
  {
   "cell_type": "markdown",
   "id": "6a6f2172",
   "metadata": {},
   "source": [
    "**数据集分割**"
   ]
  },
  {
   "cell_type": "code",
   "execution_count": 4,
   "id": "8ceac4a5",
   "metadata": {},
   "outputs": [],
   "source": [
    "X_train,X_test,y_train,y_test = train_test_split(X,y,test_size=0.25,random_state=1)"
   ]
  },
  {
   "cell_type": "markdown",
   "id": "3048938a",
   "metadata": {},
   "source": [
    "**定义三个基分类器**  \n",
    "* 逻辑回归\n",
    "* 决策树\n",
    "* SVM"
   ]
  },
  {
   "cell_type": "code",
   "execution_count": 5,
   "id": "aff0b6d6",
   "metadata": {},
   "outputs": [],
   "source": [
    "lr = LogisticRegression()\n",
    "dt = DecisionTreeClassifier()\n",
    "svm = SVC()\n",
    "# 软投票分类器需要输出概率值\n",
    "# svm = SVC(probability=True)"
   ]
  },
  {
   "cell_type": "markdown",
   "id": "01743b70",
   "metadata": {},
   "source": [
    "**定义投票分类器**"
   ]
  },
  {
   "cell_type": "code",
   "execution_count": 6,
   "id": "e637145e",
   "metadata": {},
   "outputs": [],
   "source": [
    "voting = VotingClassifier(\n",
    "    estimators=[('lr',lr),('dt',dt),('svm',svm)],\n",
    "    voting='hard'   # hard-硬投票,soft-软投票\n",
    ")"
   ]
  },
  {
   "cell_type": "markdown",
   "id": "fa742bd7",
   "metadata": {},
   "source": [
    "**输出各个分类器的准确率**"
   ]
  },
  {
   "cell_type": "code",
   "execution_count": 7,
   "id": "7f456fe6",
   "metadata": {},
   "outputs": [
    {
     "name": "stdout",
     "output_type": "stream",
     "text": [
      "LogisticRegression = 0.8845714285714286\n",
      "DecisionTreeClassifier = 0.9988571428571429\n",
      "SVC = 0.9994285714285714\n",
      "VotingClassifier = 0.9994285714285714\n"
     ]
    }
   ],
   "source": [
    "for clf in (lr,dt,svm,voting):\n",
    "    clf.fit(X_train,y_train)\n",
    "    y_hat = clf.predict(X_test)\n",
    "    print(clf.__class__.__name__,'=',accuracy_score(y_test,y_hat))"
   ]
  },
  {
   "cell_type": "markdown",
   "id": "7a0d5a6b",
   "metadata": {},
   "source": [
    "# Bagging"
   ]
  },
  {
   "cell_type": "markdown",
   "id": "2534bff6",
   "metadata": {},
   "source": [
    "每个预测器使用的算法相同，但是在不同的训练集随机子集上进行训练。采样时如果将样本放回，这种方法叫作**bagging**（bootstrap aggregating，自举汇聚法）。采样时样本不放回，这种方法则叫作**pasting**。"
   ]
  },
  {
   "cell_type": "code",
   "execution_count": 8,
   "id": "3ece1dbc",
   "metadata": {},
   "outputs": [],
   "source": [
    "from sklearn.ensemble import BaggingClassifier\n",
    "from sklearn.datasets import load_iris"
   ]
  },
  {
   "cell_type": "code",
   "execution_count": 9,
   "id": "9c39f52e",
   "metadata": {},
   "outputs": [],
   "source": [
    "iris = load_iris()\n",
    "X = iris.data\n",
    "y = iris.target"
   ]
  },
  {
   "cell_type": "code",
   "execution_count": 10,
   "id": "a3bccb87",
   "metadata": {},
   "outputs": [],
   "source": [
    "bag_clf = BaggingClassifier(\n",
    "    SVC(),                 # 指定基分类器\n",
    "    n_estimators=500,      # 500个基分类器\n",
    "    bootstrap=True,        # bootstrap=True为bagging，bootstrap=False为pasting\n",
    "    max_samples=20         # max_samples设置为整数表示的就是采样的样本数，设置为浮点数表示的是max_samples*x.shape[0]\n",
    ")"
   ]
  },
  {
   "cell_type": "code",
   "execution_count": 11,
   "id": "7f60f76a",
   "metadata": {
    "scrolled": false
   },
   "outputs": [
    {
     "name": "stdout",
     "output_type": "stream",
     "text": [
      "BaggingClassifier = 0.9533333333333334\n"
     ]
    }
   ],
   "source": [
    "bag_clf.fit(X,y)\n",
    "y_hat = bag_clf.predict(X)\n",
    "print(bag_clf.__class__.__name__,'=',accuracy_score(y,y_hat))"
   ]
  },
  {
   "cell_type": "code",
   "execution_count": 12,
   "id": "831ac665",
   "metadata": {},
   "outputs": [],
   "source": [
    "bag_clf = BaggingClassifier(\n",
    "    SVC(),                 # 指定基分类器\n",
    "    n_estimators=500,      # 500个基分类器\n",
    "    bootstrap=True,        # bootstrap=True为bagging，bootstrap=False为pasting\n",
    "    max_samples=20,        # max_samples设置为整数表示的就是采样的样本数，设置为浮点数表示的是max_samples*x.shape[0]\n",
    "    oob_score=True         # 用从没抽到过的样本作为测试集\n",
    ")"
   ]
  },
  {
   "cell_type": "code",
   "execution_count": 13,
   "id": "3246e2a0",
   "metadata": {
    "scrolled": false
   },
   "outputs": [
    {
     "name": "stdout",
     "output_type": "stream",
     "text": [
      "0.9333333333333333\n"
     ]
    }
   ],
   "source": [
    "bag_clf.fit(X,y)\n",
    "print(bag_clf.oob_score_)"
   ]
  },
  {
   "cell_type": "markdown",
   "id": "8300ee5e",
   "metadata": {},
   "source": [
    "## 随机森林"
   ]
  },
  {
   "cell_type": "markdown",
   "id": "95708368",
   "metadata": {},
   "source": [
    "随机森林是决策树的集成，通常用bagging（有时也可能是pasting）方法训练。除了先构建一个BaggingClassifier然后将结果传输到DecisionTreeClassifier，\n",
    "还有一种方法就是使用RandomForestClassifier类。"
   ]
  },
  {
   "cell_type": "code",
   "execution_count": 14,
   "id": "511d1aec",
   "metadata": {},
   "outputs": [],
   "source": [
    "# 如果基分类器是决策树，那么就是随机森林\n",
    "bag_clf = BaggingClassifier(\n",
    "    DecisionTreeClassifier(),                 \n",
    "    n_estimators=500,      \n",
    "    bootstrap=True,        \n",
    "    max_samples=1.0\n",
    ")"
   ]
  },
  {
   "cell_type": "code",
   "execution_count": 15,
   "id": "63150c07",
   "metadata": {},
   "outputs": [
    {
     "name": "stdout",
     "output_type": "stream",
     "text": [
      "BaggingClassifier = 1.0\n"
     ]
    }
   ],
   "source": [
    "bag_clf.fit(X,y)\n",
    "y_hat = bag_clf.predict(X)\n",
    "print(bag_clf.__class__.__name__,'=',accuracy_score(y,y_hat))"
   ]
  },
  {
   "cell_type": "code",
   "execution_count": 16,
   "id": "ca59b258",
   "metadata": {},
   "outputs": [
    {
     "name": "stdout",
     "output_type": "stream",
     "text": [
      "RandomForestClassifier = 1.0\n"
     ]
    }
   ],
   "source": [
    "# Sklearn也提供了直接实现随机森林的API\n",
    "from sklearn.ensemble import RandomForestClassifier\n",
    "\n",
    "rnd_clf = RandomForestClassifier(n_estimators=500)\n",
    "rnd_clf.fit(X,y)\n",
    "y_hat = rnd_clf.predict(X)\n",
    "print(rnd_clf.__class__.__name__,'=',accuracy_score(y,y_hat))"
   ]
  },
  {
   "cell_type": "markdown",
   "id": "c98f00b4",
   "metadata": {},
   "source": [
    "# Boosting"
   ]
  },
  {
   "cell_type": "markdown",
   "id": "b5eba82f",
   "metadata": {},
   "source": [
    "可以将几个弱学习器结合成一个强学习器的集成方法。大多数提升法的总体思路是循环训练预测器，每一次都对其前序做出一些改正。\n",
    "* AdaBoost\n",
    "* GBDT\n",
    "* XGBoost"
   ]
  },
  {
   "cell_type": "markdown",
   "id": "1e7f5846",
   "metadata": {},
   "source": [
    "## AdaBoost"
   ]
  },
  {
   "cell_type": "markdown",
   "id": "ad780423",
   "metadata": {},
   "source": [
    "从弱学习算法出发，反复学习得到一系列弱分类器(又称基本分类器)，然后组合这些弱分类器构成一个强分类器。  \n",
    "\n",
    "要解决的两个问题：  \n",
    "1. 每一轮如何改变训练数据的权值或概率分布：提高那些被前一轮错误分类样本的权值，降低那些被正确分类样本的权值。\n",
    "2. 如何将弱分类器组合成一个强分类器：加大分类误差小的弱分类器权值，减小分类误差率大的弱分类器权值。"
   ]
  },
  {
   "cell_type": "markdown",
   "id": "edb29cab",
   "metadata": {},
   "source": [
    "### 算法步骤"
   ]
  },
  {
   "cell_type": "markdown",
   "id": "41c17d47",
   "metadata": {},
   "source": [
    "1. 初始化训练数据权值分布，$D_1=(w_{11},...,w_{1i},...,w_{1m}),w_{1i}=\\frac{1}{m}$\n",
    "2. 对于每一轮训练 $t=1,2,...,T$   \n",
    "    1. 使用具有权值分布 $D_t$ 的训练数据集进行学习，得到基本分类器 $G_t(X)$\n",
    "    2. 计算 $G_t(X)$ 在训练数据集上的分类误差率  \n",
    "    $$e_t=\\sum_{i=1}^mP(G_t(x^{(i)})\\ne y^{(i)})=\\sum_{i=1}^m w_{ti}I(G_t(x^{(i)})\\ne y^{(i)}))$$\n",
    "    3. 计算 $G_t(X)$ 的权重系数  \n",
    "    $$\\alpha_t=\\frac{1}{2}log\\frac{1-e_t}{e_t}$$\n",
    "    4. 更新训练数据集的权重分布  \n",
    "    $$D_{t+1}=(w_{t+1,1},...,w_{t+1,i},...,w_{t+1,m}) \\\\\n",
    "    w_{t+1,i}=\\frac{w_{ti}}{Z_t}\\exp{(-\\alpha_ty^{(i)}G_t(x^{(i)}))} \\\\\n",
    "    Z_t=\\sum_{i=1}^m w_{ti}\\exp{(-\\alpha_ty^{(i)}G_t(x^{(i)})}$$     \n",
    "3. 构建基本分类器的线性组合，得到最终分类器  \n",
    "$$ f(x)=\\sum_{t=1}^T \\alpha_tG_t(x)\\\\\n",
    "G(x)=sign(f(x))=sign(\\sum_{t=1}^T \\alpha_tG_t(x))$$"
   ]
  },
  {
   "cell_type": "markdown",
   "id": "0c45207f",
   "metadata": {},
   "source": [
    "### 举例"
   ]
  },
  {
   "cell_type": "markdown",
   "id": "b5398553",
   "metadata": {},
   "source": [
    "假设弱分类器由 $x<v$ 或 $x>v$ 产生，其阈值 $v$ 使该分类器在训练集上的分类误差率最低。  \n",
    "<img src=\"img/AdaBoost.png\" width=\"800\">\n",
    "\n",
    "初始化数据权值分布 $D_1=(w_{11},w_{12},w_{13},w_{14},w_{15},w_{16},w_{17},w_{18},w_{19},w_{110}),w_{1i}=0.1$  \n",
    "\n",
    "第一轮 $t=1$   \n",
    "1. 在权值 $D_1$ 的训练数据上，$v=2.5$ 时分类误差最低，此时   \n",
    "$$G_1(X)=\\begin{cases}\n",
    "1,&x<2.5 \\\\\n",
    "-1,&x>2.5\n",
    "\\end{cases}$$\n",
    "2. $G_1(X)$ 在训练数据集上的误差率  \n",
    "$$e_1=\\sum_{i=1}^m w_{1i}I(G_1(x^{(i)})\\ne y^{(i)}))=0.3$$\n",
    "3. 计算 $G_1(x)$ 的权重系数  \n",
    "$$\\alpha_1=\\frac{1}{2}log\\frac{1-e_1}{e_1}=0.4236$$\n",
    "4. 更新训练数据集的权重分布  \n",
    "$$w_{2,i}=\\frac{w_{1i}}{Z_1}\\exp{(-\\alpha_1y^{(i)}G_1(x^{(i)}))} \\\\\n",
    "D_{2}=(0.07143,0.07143,0.07143,0.07143,0.07143,0.07143,0.16667,0.16667,0.16667,0.07143) \\\\  \n",
    "f_1(x)=0.4236G_1(x)$$"
   ]
  },
  {
   "cell_type": "markdown",
   "id": "0f4646a2",
   "metadata": {},
   "source": [
    "<img src=\"img/AdaBoost2.png\" width=\"800\">  \n",
    "\n",
    "第二轮 $t=2$   \n",
    "1. 在权值 $D_2$ 的训练数据上，$v=8.5$ 时分类误差最低，此时   \n",
    "$$G_2(X)=\\begin{cases}\n",
    "1,&x<8.5 \\\\\n",
    "-1,&x>8.5\n",
    "\\end{cases}$$\n",
    "2. $G_2(X)$ 在训练数据集上的误差率  \n",
    "$$e_2=\\sum_{i=1}^m w_{2i}I(G_2(x^{(i)})\\ne y^{(i)}))=0.2143$$\n",
    "3. 计算 $G_2(x)$ 的权重系数  \n",
    "$$\\alpha_2=\\frac{1}{2}log\\frac{1-e_2}{e_2}=0.6496$$\n",
    "4. 更新训练数据集的权重分布  \n",
    "$$D_{3}=(0.0455,0.0455,0.0455,0.16667,0.16667,0.16667,0.106,0.106,0.106,0.0455) \\\\   \n",
    "f_2(x)=0.4236G_1(x)+0.6496G_2(x)$$"
   ]
  },
  {
   "cell_type": "markdown",
   "id": "a1e9d152",
   "metadata": {},
   "source": [
    "<img src=\"img/AdaBoost3.png\" width=\"800\">  \n",
    "\n",
    "第三轮 $t=3$   \n",
    "1. 在权值 $D_3$ 的训练数据上，$v=5.5$ 时分类误差最低，此时   \n",
    "$$G_3(X)=\\begin{cases}\n",
    "1,&x<5.5 \\\\\n",
    "-1,&x>5.5\n",
    "\\end{cases}$$\n",
    "2. $G_3(X)$ 在训练数据集上的误差率  \n",
    "$$e_3=\\sum_{i=1}^m w_{3i}I(G_3(x^{(i)})\\ne y^{(i)}))=0.1820$$\n",
    "3. 计算 $G_3(x)$ 的权重系数  \n",
    "$$\\alpha_3=\\frac{1}{2}log\\frac{1-e_3}{e_3}=0.7514$$\n",
    "4. 更新训练数据集的权重分布  \n",
    "$$D_{4}=(0.125,0.125,0.125,0.102,0.102,0.102,0.065,0.065,0.065,0.125) \\\\   \n",
    "f_3(x)=0.4236G_1(x)+0.6496G_2(x)+0.7514G_3(x)$$\n",
    "\n",
    "最终分类器为：  \n",
    "\n",
    "$$G(x)=sign(f_3(x))=sign(0.4236G_1(x)+0.6496G_2(x)+0.7514G_3(x))$$"
   ]
  },
  {
   "cell_type": "markdown",
   "id": "c1d36caf",
   "metadata": {},
   "source": [
    "### 代码实现"
   ]
  },
  {
   "cell_type": "code",
   "execution_count": 17,
   "id": "e3ad6aae",
   "metadata": {},
   "outputs": [],
   "source": [
    "from sklearn.ensemble import AdaBoostClassifier\n",
    "\n",
    "data = np.loadtxt(\"data/wine.data\",delimiter=',')\n",
    "X = data[:,1:]\n",
    "y = data[:,0]\n",
    "X_train,X_test,y_train,y_test = train_test_split(X,y,test_size=0.2,random_state=2)"
   ]
  },
  {
   "cell_type": "markdown",
   "id": "22b01fdb",
   "metadata": {},
   "source": [
    "**定义弱（基）分类器**"
   ]
  },
  {
   "cell_type": "code",
   "execution_count": 18,
   "id": "41dd18dc",
   "metadata": {},
   "outputs": [],
   "source": [
    "rf =  DecisionTreeClassifier()   # 使用决策树作为弱分类器"
   ]
  },
  {
   "cell_type": "markdown",
   "id": "7e998dcb",
   "metadata": {},
   "source": [
    "**定义AdaBoost分类器**"
   ]
  },
  {
   "cell_type": "code",
   "execution_count": 19,
   "id": "bb588ab4",
   "metadata": {},
   "outputs": [
    {
     "name": "stdout",
     "output_type": "stream",
     "text": [
      "train accuracy: 0.9444444444444444\n"
     ]
    },
    {
     "name": "stderr",
     "output_type": "stream",
     "text": [
      "D:\\Anaconda3\\lib\\site-packages\\sklearn\\ensemble\\_base.py:166: FutureWarning: `base_estimator` was renamed to `estimator` in version 1.2 and will be removed in 1.4.\n",
      "  warnings.warn(\n"
     ]
    }
   ],
   "source": [
    "model = AdaBoostClassifier(\n",
    "    base_estimator=rf,   # 弱分类器\n",
    "    n_estimators=50,     # 50个弱分类器\n",
    "    learning_rate=0.5    # 学习率\n",
    ")\n",
    "model.fit(X_train,y_train)\n",
    "y_hat = model.predict(X_test)\n",
    "print(\"train accuracy:\",accuracy_score(y_test,y_hat))"
   ]
  },
  {
   "cell_type": "markdown",
   "id": "b047f3da",
   "metadata": {},
   "source": [
    "## 提升树"
   ]
  },
  {
   "cell_type": "markdown",
   "id": "0d5f341e",
   "metadata": {},
   "source": [
    "**提升（Boosting）**与AdaBoost类似，梯度提升也是逐步在集成中添加预测器，每一个都对其前序做出改正。不同之处在于，它不是像AdaBoost那样在每个迭代中调整实例权重，而是让新的预测器针对前一个预测器的残差进行拟合。  \n",
    "\n",
    "**提升树**中每一棵树学的是之前所有树结论的残差，残差就是真实值和预测值得差值。  \n",
    "如A的真实年龄是18，第一棵树预测年龄是12岁，则残差值为6。接下来在第二颗树把A的年龄当成6岁去学习，如果第二颗树能把A分到6岁的叶子节点，那累加两棵树的结论就是A的真实年龄；如果第二棵树的结论是5岁，则A仍然存在1岁的残差，第三课树把A的年龄当成1岁，继续学。最后，所有树的累加值就是最终预测值。"
   ]
  },
  {
   "cell_type": "markdown",
   "id": "87254299",
   "metadata": {},
   "source": [
    "### 算法步骤"
   ]
  },
  {
   "cell_type": "markdown",
   "id": "cd107a69",
   "metadata": {},
   "source": [
    "1. 初始化 $f_0(x)=0$\n",
    "2. 对 $m=1,2,...,M$\n",
    "    1. 计算残差 $r_{mi}=y_i-f_{m-1}(x_i)$\n",
    "    2. 拟合残差 $r_{mi}$ 学习一个回归树 $T(x;\\Theta_m)$\n",
    "    3. 更新 $f_m(x)=f_{m-1}(x)+T(x;\\Theta_m)$\n",
    "3. 得到提升树\n",
    "$$f_M(x)=\\sum_{m=1}^M T(x;\\Theta_m)$$"
   ]
  },
  {
   "cell_type": "markdown",
   "id": "7c919f1f",
   "metadata": {},
   "source": [
    "### 代码实现"
   ]
  },
  {
   "cell_type": "code",
   "execution_count": 20,
   "id": "1592d6c9",
   "metadata": {},
   "outputs": [],
   "source": [
    "from sklearn.tree import DecisionTreeRegressor\n",
    "from sklearn.ensemble import GradientBoostingRegressor"
   ]
  },
  {
   "cell_type": "code",
   "execution_count": 21,
   "id": "80891978",
   "metadata": {},
   "outputs": [],
   "source": [
    "def loaddata():\n",
    "    data = np.loadtxt('data/data.txt',delimiter=',')\n",
    "    n = data.shape[1]-1 #特征数\n",
    "    X = data[:,0:n]\n",
    "    y = data[:,-1].reshape(-1,1)\n",
    "    return X,y"
   ]
  },
  {
   "cell_type": "code",
   "execution_count": 22,
   "id": "c2d5e77d",
   "metadata": {},
   "outputs": [
    {
     "data": {
      "text/plain": [
       "<matplotlib.collections.PathCollection at 0x1f464d597f0>"
      ]
     },
     "execution_count": 22,
     "metadata": {},
     "output_type": "execute_result"
    },
    {
     "data": {
      "image/png": "[encoded data removed]",
      "text/plain": [
       "<Figure size 432x288 with 1 Axes>"
      ]
     },
     "metadata": {
      "needs_background": "light"
     },
     "output_type": "display_data"
    }
   ],
   "source": [
    "X,y = loaddata()\n",
    "plt.scatter(X,y)"
   ]
  },
  {
   "cell_type": "markdown",
   "id": "5033a1b8",
   "metadata": {},
   "source": [
    "**定义第一棵树（最大深度设置为5）并进行训练**"
   ]
  },
  {
   "cell_type": "code",
   "execution_count": 23,
   "id": "2c83ef52",
   "metadata": {},
   "outputs": [
    {
     "data": {
      "text/html": [
       "<style>#sk-container-id-1 {color: black;background-color: white;}#sk-container-id-1 pre{padding: 0;}#sk-container-id-1 div.sk-toggleable {background-color: white;}#sk-container-id-1 label.sk-toggleable__label {cursor: pointer;display: block;width: 100%;margin-bottom: 0;padding: 0.3em;box-sizing: border-box;text-align: center;}#sk-container-id-1 label.sk-toggleable__label-arrow:before {content: \"▸\";float: left;margin-right: 0.25em;color: #696969;}#sk-container-id-1 label.sk-toggleable__label-arrow:hover:before {color: black;}#sk-container-id-1 div.sk-estimator:hover label.sk-toggleable__label-arrow:before {color: black;}#sk-container-id-1 div.sk-toggleable__content {max-height: 0;max-width: 0;overflow: hidden;text-align: left;background-color: #f0f8ff;}#sk-container-id-1 div.sk-toggleable__content pre {margin: 0.2em;color: black;border-radius: 0.25em;background-color: #f0f8ff;}#sk-container-id-1 input.sk-toggleable__control:checked~div.sk-toggleable__content {max-height: 200px;max-width: 100%;overflow: auto;}#sk-container-id-1 input.sk-toggleable__control:checked~label.sk-toggleable__label-arrow:before {content: \"▾\";}#sk-container-id-1 div.sk-estimator input.sk-toggleable__control:checked~label.sk-toggleable__label {background-color: #d4ebff;}#sk-container-id-1 div.sk-label input.sk-toggleable__control:checked~label.sk-toggleable__label {background-color: #d4ebff;}#sk-container-id-1 input.sk-hidden--visually {border: 0;clip: rect(1px 1px 1px 1px);clip: rect(1px, 1px, 1px, 1px);height: 1px;margin: -1px;overflow: hidden;padding: 0;position: absolute;width: 1px;}#sk-container-id-1 div.sk-estimator {font-family: monospace;background-color: #f0f8ff;border: 1px dotted black;border-radius: 0.25em;box-sizing: border-box;margin-bottom: 0.5em;}#sk-container-id-1 div.sk-estimator:hover {background-color: #d4ebff;}#sk-container-id-1 div.sk-parallel-item::after {content: \"\";width: 100%;border-bottom: 1px solid gray;flex-grow: 1;}#sk-container-id-1 div.sk-label:hover label.sk-toggleable__label {background-color: #d4ebff;}#sk-container-id-1 div.sk-serial::before {content: \"\";position: absolute;border-left: 1px solid gray;box-sizing: border-box;top: 0;bottom: 0;left: 50%;z-index: 0;}#sk-container-id-1 div.sk-serial {display: flex;flex-direction: column;align-items: center;background-color: white;padding-right: 0.2em;padding-left: 0.2em;position: relative;}#sk-container-id-1 div.sk-item {position: relative;z-index: 1;}#sk-container-id-1 div.sk-parallel {display: flex;align-items: stretch;justify-content: center;background-color: white;position: relative;}#sk-container-id-1 div.sk-item::before, #sk-container-id-1 div.sk-parallel-item::before {content: \"\";position: absolute;border-left: 1px solid gray;box-sizing: border-box;top: 0;bottom: 0;left: 50%;z-index: -1;}#sk-container-id-1 div.sk-parallel-item {display: flex;flex-direction: column;z-index: 1;position: relative;background-color: white;}#sk-container-id-1 div.sk-parallel-item:first-child::after {align-self: flex-end;width: 50%;}#sk-container-id-1 div.sk-parallel-item:last-child::after {align-self: flex-start;width: 50%;}#sk-container-id-1 div.sk-parallel-item:only-child::after {width: 0;}#sk-container-id-1 div.sk-dashed-wrapped {border: 1px dashed gray;margin: 0 0.4em 0.5em 0.4em;box-sizing: border-box;padding-bottom: 0.4em;background-color: white;}#sk-container-id-1 div.sk-label label {font-family: monospace;font-weight: bold;display: inline-block;line-height: 1.2em;}#sk-container-id-1 div.sk-label-container {text-align: center;}#sk-container-id-1 div.sk-container {/* jupyter's `normalize.less` sets `[hidden] { display: none; }` but bootstrap.min.css set `[hidden] { display: none !important; }` so we also need the `!important` here to be able to override the default hidden behavior on the sphinx rendered scikit-learn.org. See: https://github.com/scikit-learn/scikit-learn/issues/21755 */display: inline-block !important;position: relative;}#sk-container-id-1 div.sk-text-repr-fallback {display: none;}</style><div id=\"sk-container-id-1\" class=\"sk-top-container\"><div class=\"sk-text-repr-fallback\"><pre>DecisionTreeRegressor(max_depth=5)</pre><b>In a Jupyter environment, please rerun this cell to show the HTML representation or trust the notebook. <br />On GitHub, the HTML representation is unable to render, please try loading this page with nbviewer.org.</b></div><div class=\"sk-container\" hidden><div class=\"sk-item\"><div class=\"sk-estimator sk-toggleable\"><input class=\"sk-toggleable__control sk-hidden--visually\" id=\"sk-estimator-id-1\" type=\"checkbox\" checked><label for=\"sk-estimator-id-1\" class=\"sk-toggleable__label sk-toggleable__label-arrow\">DecisionTreeRegressor</label><div class=\"sk-toggleable__content\"><pre>DecisionTreeRegressor(max_depth=5)</pre></div></div></div></div></div>"
      ],
      "text/plain": [
       "DecisionTreeRegressor(max_depth=5)"
      ]
     },
     "execution_count": 23,
     "metadata": {},
     "output_type": "execute_result"
    }
   ],
   "source": [
    "tree_reg1 = DecisionTreeRegressor(max_depth=5)\n",
    "tree_reg1.fit(X,y)"
   ]
  },
  {
   "cell_type": "markdown",
   "id": "8257b34c",
   "metadata": {},
   "source": [
    "**计算残差，并把残差当做目标值训练第二棵树（最大深度设定为5）**"
   ]
  },
  {
   "cell_type": "code",
   "execution_count": 24,
   "id": "468a0edf",
   "metadata": {},
   "outputs": [
    {
     "data": {
      "text/html": [
       "<style>#sk-container-id-2 {color: black;background-color: white;}#sk-container-id-2 pre{padding: 0;}#sk-container-id-2 div.sk-toggleable {background-color: white;}#sk-container-id-2 label.sk-toggleable__label {cursor: pointer;display: block;width: 100%;margin-bottom: 0;padding: 0.3em;box-sizing: border-box;text-align: center;}#sk-container-id-2 label.sk-toggleable__label-arrow:before {content: \"▸\";float: left;margin-right: 0.25em;color: #696969;}#sk-container-id-2 label.sk-toggleable__label-arrow:hover:before {color: black;}#sk-container-id-2 div.sk-estimator:hover label.sk-toggleable__label-arrow:before {color: black;}#sk-container-id-2 div.sk-toggleable__content {max-height: 0;max-width: 0;overflow: hidden;text-align: left;background-color: #f0f8ff;}#sk-container-id-2 div.sk-toggleable__content pre {margin: 0.2em;color: black;border-radius: 0.25em;background-color: #f0f8ff;}#sk-container-id-2 input.sk-toggleable__control:checked~div.sk-toggleable__content {max-height: 200px;max-width: 100%;overflow: auto;}#sk-container-id-2 input.sk-toggleable__control:checked~label.sk-toggleable__label-arrow:before {content: \"▾\";}#sk-container-id-2 div.sk-estimator input.sk-toggleable__control:checked~label.sk-toggleable__label {background-color: #d4ebff;}#sk-container-id-2 div.sk-label input.sk-toggleable__control:checked~label.sk-toggleable__label {background-color: #d4ebff;}#sk-container-id-2 input.sk-hidden--visually {border: 0;clip: rect(1px 1px 1px 1px);clip: rect(1px, 1px, 1px, 1px);height: 1px;margin: -1px;overflow: hidden;padding: 0;position: absolute;width: 1px;}#sk-container-id-2 div.sk-estimator {font-family: monospace;background-color: #f0f8ff;border: 1px dotted black;border-radius: 0.25em;box-sizing: border-box;margin-bottom: 0.5em;}#sk-container-id-2 div.sk-estimator:hover {background-color: #d4ebff;}#sk-container-id-2 div.sk-parallel-item::after {content: \"\";width: 100%;border-bottom: 1px solid gray;flex-grow: 1;}#sk-container-id-2 div.sk-label:hover label.sk-toggleable__label {background-color: #d4ebff;}#sk-container-id-2 div.sk-serial::before {content: \"\";position: absolute;border-left: 1px solid gray;box-sizing: border-box;top: 0;bottom: 0;left: 50%;z-index: 0;}#sk-container-id-2 div.sk-serial {display: flex;flex-direction: column;align-items: center;background-color: white;padding-right: 0.2em;padding-left: 0.2em;position: relative;}#sk-container-id-2 div.sk-item {position: relative;z-index: 1;}#sk-container-id-2 div.sk-parallel {display: flex;align-items: stretch;justify-content: center;background-color: white;position: relative;}#sk-container-id-2 div.sk-item::before, #sk-container-id-2 div.sk-parallel-item::before {content: \"\";position: absolute;border-left: 1px solid gray;box-sizing: border-box;top: 0;bottom: 0;left: 50%;z-index: -1;}#sk-container-id-2 div.sk-parallel-item {display: flex;flex-direction: column;z-index: 1;position: relative;background-color: white;}#sk-container-id-2 div.sk-parallel-item:first-child::after {align-self: flex-end;width: 50%;}#sk-container-id-2 div.sk-parallel-item:last-child::after {align-self: flex-start;width: 50%;}#sk-container-id-2 div.sk-parallel-item:only-child::after {width: 0;}#sk-container-id-2 div.sk-dashed-wrapped {border: 1px dashed gray;margin: 0 0.4em 0.5em 0.4em;box-sizing: border-box;padding-bottom: 0.4em;background-color: white;}#sk-container-id-2 div.sk-label label {font-family: monospace;font-weight: bold;display: inline-block;line-height: 1.2em;}#sk-container-id-2 div.sk-label-container {text-align: center;}#sk-container-id-2 div.sk-container {/* jupyter's `normalize.less` sets `[hidden] { display: none; }` but bootstrap.min.css set `[hidden] { display: none !important; }` so we also need the `!important` here to be able to override the default hidden behavior on the sphinx rendered scikit-learn.org. See: https://github.com/scikit-learn/scikit-learn/issues/21755 */display: inline-block !important;position: relative;}#sk-container-id-2 div.sk-text-repr-fallback {display: none;}</style><div id=\"sk-container-id-2\" class=\"sk-top-container\"><div class=\"sk-text-repr-fallback\"><pre>DecisionTreeRegressor(max_depth=5)</pre><b>In a Jupyter environment, please rerun this cell to show the HTML representation or trust the notebook. <br />On GitHub, the HTML representation is unable to render, please try loading this page with nbviewer.org.</b></div><div class=\"sk-container\" hidden><div class=\"sk-item\"><div class=\"sk-estimator sk-toggleable\"><input class=\"sk-toggleable__control sk-hidden--visually\" id=\"sk-estimator-id-2\" type=\"checkbox\" checked><label for=\"sk-estimator-id-2\" class=\"sk-toggleable__label sk-toggleable__label-arrow\">DecisionTreeRegressor</label><div class=\"sk-toggleable__content\"><pre>DecisionTreeRegressor(max_depth=5)</pre></div></div></div></div></div>"
      ],
      "text/plain": [
       "DecisionTreeRegressor(max_depth=5)"
      ]
     },
     "execution_count": 24,
     "metadata": {},
     "output_type": "execute_result"
    }
   ],
   "source": [
    "y2 = y-tree_reg1.predict(X).reshape(-1,1)\n",
    "tree_reg2 = DecisionTreeRegressor(max_depth=5)\n",
    "tree_reg2.fit(X,y2)"
   ]
  },
  {
   "cell_type": "markdown",
   "id": "cef1923c",
   "metadata": {},
   "source": [
    "**继续计算残差，并把残差当做目标值训练第三棵树（最大深度设定为5）**"
   ]
  },
  {
   "cell_type": "code",
   "execution_count": 25,
   "id": "54747dab",
   "metadata": {},
   "outputs": [
    {
     "data": {
      "text/html": [
       "<style>#sk-container-id-3 {color: black;background-color: white;}#sk-container-id-3 pre{padding: 0;}#sk-container-id-3 div.sk-toggleable {background-color: white;}#sk-container-id-3 label.sk-toggleable__label {cursor: pointer;display: block;width: 100%;margin-bottom: 0;padding: 0.3em;box-sizing: border-box;text-align: center;}#sk-container-id-3 label.sk-toggleable__label-arrow:before {content: \"▸\";float: left;margin-right: 0.25em;color: #696969;}#sk-container-id-3 label.sk-toggleable__label-arrow:hover:before {color: black;}#sk-container-id-3 div.sk-estimator:hover label.sk-toggleable__label-arrow:before {color: black;}#sk-container-id-3 div.sk-toggleable__content {max-height: 0;max-width: 0;overflow: hidden;text-align: left;background-color: #f0f8ff;}#sk-container-id-3 div.sk-toggleable__content pre {margin: 0.2em;color: black;border-radius: 0.25em;background-color: #f0f8ff;}#sk-container-id-3 input.sk-toggleable__control:checked~div.sk-toggleable__content {max-height: 200px;max-width: 100%;overflow: auto;}#sk-container-id-3 input.sk-toggleable__control:checked~label.sk-toggleable__label-arrow:before {content: \"▾\";}#sk-container-id-3 div.sk-estimator input.sk-toggleable__control:checked~label.sk-toggleable__label {background-color: #d4ebff;}#sk-container-id-3 div.sk-label input.sk-toggleable__control:checked~label.sk-toggleable__label {background-color: #d4ebff;}#sk-container-id-3 input.sk-hidden--visually {border: 0;clip: rect(1px 1px 1px 1px);clip: rect(1px, 1px, 1px, 1px);height: 1px;margin: -1px;overflow: hidden;padding: 0;position: absolute;width: 1px;}#sk-container-id-3 div.sk-estimator {font-family: monospace;background-color: #f0f8ff;border: 1px dotted black;border-radius: 0.25em;box-sizing: border-box;margin-bottom: 0.5em;}#sk-container-id-3 div.sk-estimator:hover {background-color: #d4ebff;}#sk-container-id-3 div.sk-parallel-item::after {content: \"\";width: 100%;border-bottom: 1px solid gray;flex-grow: 1;}#sk-container-id-3 div.sk-label:hover label.sk-toggleable__label {background-color: #d4ebff;}#sk-container-id-3 div.sk-serial::before {content: \"\";position: absolute;border-left: 1px solid gray;box-sizing: border-box;top: 0;bottom: 0;left: 50%;z-index: 0;}#sk-container-id-3 div.sk-serial {display: flex;flex-direction: column;align-items: center;background-color: white;padding-right: 0.2em;padding-left: 0.2em;position: relative;}#sk-container-id-3 div.sk-item {position: relative;z-index: 1;}#sk-container-id-3 div.sk-parallel {display: flex;align-items: stretch;justify-content: center;background-color: white;position: relative;}#sk-container-id-3 div.sk-item::before, #sk-container-id-3 div.sk-parallel-item::before {content: \"\";position: absolute;border-left: 1px solid gray;box-sizing: border-box;top: 0;bottom: 0;left: 50%;z-index: -1;}#sk-container-id-3 div.sk-parallel-item {display: flex;flex-direction: column;z-index: 1;position: relative;background-color: white;}#sk-container-id-3 div.sk-parallel-item:first-child::after {align-self: flex-end;width: 50%;}#sk-container-id-3 div.sk-parallel-item:last-child::after {align-self: flex-start;width: 50%;}#sk-container-id-3 div.sk-parallel-item:only-child::after {width: 0;}#sk-container-id-3 div.sk-dashed-wrapped {border: 1px dashed gray;margin: 0 0.4em 0.5em 0.4em;box-sizing: border-box;padding-bottom: 0.4em;background-color: white;}#sk-container-id-3 div.sk-label label {font-family: monospace;font-weight: bold;display: inline-block;line-height: 1.2em;}#sk-container-id-3 div.sk-label-container {text-align: center;}#sk-container-id-3 div.sk-container {/* jupyter's `normalize.less` sets `[hidden] { display: none; }` but bootstrap.min.css set `[hidden] { display: none !important; }` so we also need the `!important` here to be able to override the default hidden behavior on the sphinx rendered scikit-learn.org. See: https://github.com/scikit-learn/scikit-learn/issues/21755 */display: inline-block !important;position: relative;}#sk-container-id-3 div.sk-text-repr-fallback {display: none;}</style><div id=\"sk-container-id-3\" class=\"sk-top-container\"><div class=\"sk-text-repr-fallback\"><pre>DecisionTreeRegressor(max_depth=5)</pre><b>In a Jupyter environment, please rerun this cell to show the HTML representation or trust the notebook. <br />On GitHub, the HTML representation is unable to render, please try loading this page with nbviewer.org.</b></div><div class=\"sk-container\" hidden><div class=\"sk-item\"><div class=\"sk-estimator sk-toggleable\"><input class=\"sk-toggleable__control sk-hidden--visually\" id=\"sk-estimator-id-3\" type=\"checkbox\" checked><label for=\"sk-estimator-id-3\" class=\"sk-toggleable__label sk-toggleable__label-arrow\">DecisionTreeRegressor</label><div class=\"sk-toggleable__content\"><pre>DecisionTreeRegressor(max_depth=5)</pre></div></div></div></div></div>"
      ],
      "text/plain": [
       "DecisionTreeRegressor(max_depth=5)"
      ]
     },
     "execution_count": 25,
     "metadata": {},
     "output_type": "execute_result"
    }
   ],
   "source": [
    "y3 = y2-tree_reg2.predict(X).reshape(-1,1)\n",
    "tree_reg3 = DecisionTreeRegressor(max_depth=5)\n",
    "tree_reg3.fit(X,y3)"
   ]
  },
  {
   "cell_type": "markdown",
   "id": "b74aa8e4",
   "metadata": {},
   "source": [
    "**取训练集前5条数据，并对前5条数据做预测**"
   ]
  },
  {
   "cell_type": "code",
   "execution_count": 26,
   "id": "fd43f81b",
   "metadata": {},
   "outputs": [
    {
     "name": "stdout",
     "output_type": "stream",
     "text": [
      "[17.61560196  9.15380196 12.831       4.57199973  6.68971688]\n"
     ]
    }
   ],
   "source": [
    "X_new = X[0:5,:]\n",
    "y_pred = tree_reg1.predict(X_new)+tree_reg2.predict(X_new)+tree_reg3.predict(X_new)\n",
    "print(y_pred)"
   ]
  },
  {
   "cell_type": "markdown",
   "id": "3e4b83e6",
   "metadata": {},
   "source": [
    "**直接使用sklearn提供的GradientBoostingRegressor**"
   ]
  },
  {
   "cell_type": "code",
   "execution_count": 27,
   "id": "e7dddc67",
   "metadata": {},
   "outputs": [
    {
     "name": "stdout",
     "output_type": "stream",
     "text": [
      "[17.61560196  9.15380196 12.831       4.57199973  6.68971688]\n"
     ]
    },
    {
     "name": "stderr",
     "output_type": "stream",
     "text": [
      "D:\\Anaconda3\\lib\\site-packages\\sklearn\\ensemble\\_gb.py:437: DataConversionWarning: A column-vector y was passed when a 1d array was expected. Please change the shape of y to (n_samples, ), for example using ravel().\n",
      "  y = column_or_1d(y, warn=True)\n"
     ]
    }
   ],
   "source": [
    "gbdt = GradientBoostingRegressor(\n",
    "    max_depth=5,\n",
    "    n_estimators=3,\n",
    "    learning_rate=1.0\n",
    ")\n",
    "gbdt.fit(X,y)\n",
    "print(gbdt.predict(X_new))"
   ]
  },
  {
   "cell_type": "markdown",
   "id": "fcf5d2fa",
   "metadata": {},
   "source": [
    "### GBDT梯度提升树"
   ]
  },
  {
   "cell_type": "markdown",
   "id": "91c96c65",
   "metadata": {},
   "source": [
    "GBDT：其关键是利用**损失函数的负梯度**作为提升树算法中要拟合的值。  \n",
    "\n",
    "对于平方损失拟合的就是残差值，对于非平方损失拟合的就是负梯度值。提升树是梯度提升树的一个特例，拟合的是平方损失时就是提升树。  \n",
    "\n",
    "上例中我们用的是平方损失：\n",
    "\n",
    "$$L(y,f_t(x))=\\frac{1}{2}(y-f_t(x))^2$$  \n",
    "\n",
    "其负梯度为：  \n",
    "\n",
    "$$-\\frac{\\partial L(y,f_t(x))}{\\partial f_t(x)}=y=f_t(x)$$  \n",
    "\n",
    "该负梯度就是我们之前给出的残差。"
   ]
  },
  {
   "cell_type": "markdown",
   "id": "6cd50d7a",
   "metadata": {},
   "source": [
    "## XGBoost"
   ]
  },
  {
   "cell_type": "markdown",
   "id": "3961ac03",
   "metadata": {},
   "source": [
    "<img src=\"img/xgboost.png\" width=\"500\">  \n",
    "\n",
    "* $q$ 表示树结构，即 $tree1,tree2$，它把每一个样本点x映射到某一个叶子节点\n",
    "* $T$ 是叶子节点的数量，对于 $tree1$ ，$T=3$；对于 $tree2$ ，$T=2$\n",
    "* $w$ 是叶子节点的权值，实际就是预测值\n",
    "* $f_k$ 表示第 $k$ 个树，该树的结构由 $q$ 表示，预测值由 $w$ 表示\n",
    "\n",
    "$$\\hat y_i =\\phi(x_i)=\\sum_{k=1}^K f_k(x_i),f_k \\in \\mathcal{F} \\\\\n",
    "\\mathcal F = \\{f(x)=w_{q(x)}\\}(q:\\mathbb R^m \\rightarrow T,w \\in \\mathbb R^T$$"
   ]
  },
  {
   "cell_type": "markdown",
   "id": "876ebc37",
   "metadata": {},
   "source": [
    "### 损失函数"
   ]
  },
  {
   "cell_type": "markdown",
   "id": "546be952",
   "metadata": {},
   "source": [
    "假设损失函数是平方损失，则初值可取所有样本的平均数  \n",
    "\n",
    "$$\\begin{align}\n",
    "&\\hat y_i^{(0)}=\\mu \\\\\n",
    "&\\hat y_i^{(1)}=f_1(x_i)=\\hat y_i^{(0)}+f_1(x_i) \\\\\n",
    "&\\hat y_i^{(2)}=f_1(x_i)+f_2(x_i)=\\hat y_i^{(1)}+f_2(x_i) \\\\\n",
    "&\\hat y_i^{(3)}=f_1(x_i)+f_2(x_i)+f_3(x_i)=\\hat y_i^{(2)}+f_3(x_i) \\\\\n",
    "&... \\\\\n",
    "&\\hat y_i^{(t)}=\\sum_{k=1}^K f_k(x_i)=\\hat y_i^{(k-1)}+f_k(x_i)\n",
    "\\end{align}$$\n",
    "\n",
    "因此，损失函数可写为：  \n",
    "\n",
    "$$J(f_t)=\\sum_{i=1}^n L(y_i,\\hat y_i^{(t-1)}+f_t(x_i))+\\Omega(f_t)+C$$"
   ]
  },
  {
   "cell_type": "markdown",
   "id": "28783c61",
   "metadata": {},
   "source": [
    "$\\Omega (f)$ 为正则项："
   ]
  },
  {
   "cell_type": "markdown",
   "id": "fc452236",
   "metadata": {},
   "source": [
    "$$\\Omega (f)=\\gamma T+\\frac{1}{2}\\lambda ||w||^2$$"
   ]
  },
  {
   "cell_type": "markdown",
   "id": "6ad3418a",
   "metadata": {},
   "source": [
    "对于 $tree1$，$\\Omega =\\gamma \\times 3+\\frac{1}{2}\\lambda\\times(2^2+0.1^2+(-1)^2)$"
   ]
  },
  {
   "cell_type": "markdown",
   "id": "94812042",
   "metadata": {},
   "source": [
    "### 求解"
   ]
  },
  {
   "cell_type": "markdown",
   "id": "3443498b",
   "metadata": {},
   "source": [
    "目标函数：  \n",
    "\n",
    "$$J(f_t)=\\sum_{i=1}^n L(y_i,\\hat y_i^{(t-1)}+f_t(x_i))+\\Omega(f_t)+C$$\n",
    "\n",
    "根据 $Taylor$ 公式：  \n",
    "\n",
    "$$f(x+\\Delta x)\\approx f(x)+f'(x)\\Delta x+\\frac{1}{2}f''(x)\\Delta x^2$$  \n",
    "\n",
    "把 $\\hat y_i^{(t-1)}$ 看作 $x$，$f_t(x_i)$ 看作 $\\Delta x$，令：  \n",
    "\n",
    "$$g_i=\\frac{\\partial L(y_i,\\hat y_i^{(t-1)})}{\\partial\\hat y_i^{(t-1)}} \\\\\n",
    "h_i=\\frac{\\partial^2L(y_i,\\hat y_i^{(t-1)})}{\\partial\\hat y_i^{(t-1)}}$$\n",
    "\n",
    "得：  \n",
    "\n",
    "$$\\begin{align}\n",
    "J(f_t)&\\approx\\sum_{i=1}^n [L(y_i,\\hat y_i^{(t-1)})+g_if_t(x_i)+\\frac{1}{2}h_if_t^2(x_i)]+\\Omega(f_t)+C \\\\\n",
    "&=\\sum_{i=1}^n [g_if_t(x_i)+\\frac{1}{2}h_if_t^2(x_i)]+\\Omega(f_t)+C \\\\\n",
    "&=\\sum_{i=1}^n [g_iw_{q(x_i)}+\\frac{1}{2}h_iw_{q(x_i)}^2]+\\gamma T+\\frac{1}{2}\\lambda \\sum_{j=1}^T w_j^2+C \\\\\n",
    "&=\\sum_{j=1}^T [(\\sum_{i \\in I_j} g_i)w_j+\\frac{1}{2}(\\sum_{i\\in I_j} h_i)w_j^2]+\\gamma T+\\frac{1}{2}\\lambda \\sum_{j=1}^T w_j^2+C \\\\\n",
    "&=\\sum_{j=1}^T [(\\sum_{i \\in I_j} g_i)w_j+\\frac{1}{2}(\\sum_{i\\in I_j} h_i+\\lambda)w_j^2]+\\gamma T+C \n",
    "\\end{align}$$"
   ]
  },
  {
   "cell_type": "markdown",
   "id": "107997e4",
   "metadata": {},
   "source": [
    "令：  \n",
    "\n",
    "$$G_j=\\sum_{i\\in I_j} g_i \\\\\n",
    "H_j=\\sum_{i\\in I_j} h_i$$\n",
    "\n",
    "因此：  \n",
    "\n",
    "$$J(f_t)=\\sum_{j=1}^T [G_jw_j+\\frac{1}{2}(H_j+\\lambda)w_j^2]+\\gamma T+C $$\n",
    "\n",
    "对 $w$ 求偏导：  \n",
    "\n",
    "$$\\frac{\\partial J(f_t)}{\\partial w_j}=G_j+(H_j+\\lambda)w_j=0\\Rightarrow w_j=-\\frac{G_j}{H_j+\\lambda}$$\n",
    "\n",
    "代回目标函数得：  \n",
    "\n",
    "$$J(f_t)=-\\frac{1}{2}\\sum_{j=1}^T \\frac{G_j^2}{H_j+\\lambda}+\\gamma\\cdot T$$"
   ]
  },
  {
   "cell_type": "markdown",
   "id": "4e73f02c",
   "metadata": {},
   "source": [
    "### 树结构生成 "
   ]
  },
  {
   "cell_type": "markdown",
   "id": "1443433f",
   "metadata": {},
   "source": [
    "<img src=\"img/树结构生成.png\" width=\"600\">"
   ]
  },
  {
   "cell_type": "markdown",
   "id": "d4c4550d",
   "metadata": {},
   "source": [
    "* 构造决策树的结构：枚举可行的分割点，选择增益最大的划分。增益=未划分的损失-划分后的损失  \n",
    "\n",
    "<img src=\"img/树结构生成2.png\" width=\"500\">"
   ]
  },
  {
   "cell_type": "markdown",
   "id": "26cc9f7f",
   "metadata": {},
   "source": [
    "### 代码实现"
   ]
  },
  {
   "cell_type": "code",
   "execution_count": 28,
   "id": "fd02a51e",
   "metadata": {},
   "outputs": [],
   "source": [
    "import xgboost as xgb"
   ]
  },
  {
   "cell_type": "markdown",
   "id": "cf99088f",
   "metadata": {},
   "source": [
    "#### 使用libsvm数据格式 \n",
    "\n",
    "XGBoost中数据形式可以是libsvm的，libsvm作用是对稀疏特征进行优化，看个例子：\n",
    "\n",
    "```\n",
    "1 101:1.2 102:0.03 \n",
    "0 1:2.1 10001:300 10002:400\n",
    "0 2:1.2 1212:21 7777:2\n",
    "```\n",
    "每行表示一个样本，每行开头`0，1`表示标签，而后面的则是`特征索引：1`，其他未表示都是0\n",
    "\n",
    "我们以判断蘑菇是否有毒为例子来做后续的训练。数据集来自：http://archive.ics.uci.edu/ml/machine-learning-databases/mushroom/ ，其中蘑菇有22个属性，将这些原始的特征加工后得到126维特征，并保存为libsvm格式，标签是表示蘑菇是否有毒。"
   ]
  },
  {
   "cell_type": "code",
   "execution_count": 29,
   "id": "3fff71c8",
   "metadata": {},
   "outputs": [],
   "source": [
    "data_train = xgb.DMatrix(\"data/agaricus.txt.train\")\n",
    "data_test = xgb.DMatrix(\"data/agaricus.txt.test\")"
   ]
  },
  {
   "cell_type": "markdown",
   "id": "e2490255",
   "metadata": {},
   "source": [
    "**设置参数**  \n",
    "\n",
    " - eta：可看成学习率learning_rate。典型值一般设置为：0.01-0.2\n",
    " - gamma：分裂节点时，损失函数减小值只有大于等于gamma才分裂，gamma值越大，算法越保守，越不容易过拟合，但性能就不一定能保证，需要平衡。\n",
    " - objective\n",
    "    - reg:linear：线性回归\n",
    "\n",
    "    - reg:logistic：逻辑回归\n",
    "\n",
    "    - binary:logistic 二分类的逻辑回归，返回预测的概率\n",
    "\n",
    "    - binary:logitraw：二分类逻辑回归，输出是逻辑为0/1的前一步的分数\n",
    "\n",
    "    - multi:softmax：用于Xgboost 做多分类问题，需要设置num_class（分类的个数）\n",
    "\n",
    "    - multi:softprob：和softmax一样，但是返回的是每个数据属于各个类别的概率。\n",
    "\n",
    "    - rank:pairwise：让Xgboost 做排名任务，通过最小化(Learn to rank的一种方法)\n",
    " - max_depth：决策树最大深度\n",
    " - verbosity：0 (silent), 1 (warning), 2 (info), 3 (debug)\n",
    " \n",
    " 更多参数参见：https://xgboost.readthedocs.io/en/latest/parameter.html"
   ]
  },
  {
   "cell_type": "code",
   "execution_count": 30,
   "id": "91c65e0e",
   "metadata": {},
   "outputs": [
    {
     "name": "stdout",
     "output_type": "stream",
     "text": [
      "[0]\teval-logloss:0.45317\ttrain-logloss:0.45224\n",
      "[1]\teval-logloss:0.32412\ttrain-logloss:0.32281\n",
      "[2]\teval-logloss:0.23740\ttrain-logloss:0.23637\n",
      "[3]\teval-logloss:0.16935\ttrain-logloss:0.16932\n",
      "[4]\teval-logloss:0.12352\ttrain-logloss:0.12386\n",
      "[5]\teval-logloss:0.09361\ttrain-logloss:0.09491\n"
     ]
    }
   ],
   "source": [
    "param = {'max_depth':3,'eta':0.3,'verbosity':1,'objective':'binary:logistic'}\n",
    "watchlist = [(data_test,'eval'),(data_train,'train')]\n",
    "n_round = 6         # 集成6棵树\n",
    "model = xgb.train(\n",
    "    param,\n",
    "    data_train,\n",
    "    num_boost_round=n_round,    # data_train中既包含X也包含y\n",
    "    evals=watchlist             # 查看测试集和训练集上的错误率\n",
    ")    "
   ]
  },
  {
   "cell_type": "markdown",
   "id": "1f2ac295",
   "metadata": {},
   "source": [
    "**计算准确率**"
   ]
  },
  {
   "cell_type": "code",
   "execution_count": 31,
   "id": "2bc69b00",
   "metadata": {},
   "outputs": [],
   "source": [
    "#预测概率\n",
    "y_hat = model.predict(data_test)\n",
    "#把概率转换为0,1分类\n",
    "y_pred = y_hat.copy()\n",
    "y_pred[y_pred>=0.5]=1\n",
    "y_pred[y_pred<0.5]=0\n",
    "#获取实际标签\n",
    "y = data_test.get_label() "
   ]
  },
  {
   "cell_type": "code",
   "execution_count": 32,
   "id": "a6b0d38a",
   "metadata": {},
   "outputs": [
    {
     "name": "stdout",
     "output_type": "stream",
     "text": [
      "accuracy_score= 1.0\n"
     ]
    }
   ],
   "source": [
    "from sklearn.metrics import accuracy_score\n",
    "\n",
    "print('accuracy_score=',accuracy_score(y,y_pred))"
   ]
  },
  {
   "cell_type": "markdown",
   "id": "26d61c03",
   "metadata": {},
   "source": [
    "**画图**"
   ]
  },
  {
   "cell_type": "code",
   "execution_count": 33,
   "id": "c9d5fed8",
   "metadata": {},
   "outputs": [
    {
     "data": {
      "image/svg+xml": [
       "<?xml version=\"1.0\" encoding=\"UTF-8\" standalone=\"no\"?>\n",
       "<!DOCTYPE svg PUBLIC \"-//W3C//DTD SVG 1.1//EN\"\n",
       " \"http://www.w3.org/Graphics/SVG/1.1/DTD/svg11.dtd\">\n",
       "<!-- Generated by graphviz version 7.1.0 (20230121.1956)\n",
       " -->\n",
       "<!-- Pages: 1 -->\n",
       "<svg width=\"1010pt\" height=\"305pt\"\n",
       " viewBox=\"0.00 0.00 1010.24 305.00\" xmlns=\"http://www.w3.org/2000/svg\" xmlns:xlink=\"http://www.w3.org/1999/xlink\">\n",
       "<g id=\"graph0\" class=\"graph\" transform=\"scale(1 1) rotate(0) translate(4 301)\">\n",
       "<polygon fill=\"white\" stroke=\"none\" points=\"-4,4 -4,-301 1006.24,-301 1006.24,4 -4,4\"/>\n",
       "<!-- 0 -->\n",
       "<g id=\"node1\" class=\"node\">\n",
       "<title>0</title>\n",
       "<ellipse fill=\"none\" stroke=\"black\" cx=\"613.84\" cy=\"-279\" rx=\"88.28\" ry=\"18\"/>\n",
       "<text text-anchor=\"middle\" x=\"613.84\" y=\"-275.3\" font-family=\"Times New Roman,serif\" font-size=\"14.00\">f29&lt;&#45;9.53674316e&#45;07</text>\n",
       "</g>\n",
       "<!-- 1 -->\n",
       "<g id=\"node2\" class=\"node\">\n",
       "<title>1</title>\n",
       "<ellipse fill=\"none\" stroke=\"black\" cx=\"455.84\" cy=\"-192\" rx=\"88.28\" ry=\"18\"/>\n",
       "<text text-anchor=\"middle\" x=\"455.84\" y=\"-188.3\" font-family=\"Times New Roman,serif\" font-size=\"14.00\">f56&lt;&#45;9.53674316e&#45;07</text>\n",
       "</g>\n",
       "<!-- 0&#45;&gt;1 -->\n",
       "<g id=\"edge1\" class=\"edge\">\n",
       "<title>0&#45;&gt;1</title>\n",
       "<path fill=\"none\" stroke=\"#0000ff\" d=\"M583.75,-261.81C558.9,-248.44 523.41,-229.35 496.11,-214.66\"/>\n",
       "<polygon fill=\"#0000ff\" stroke=\"#0000ff\" points=\"497.89,-211.64 487.42,-209.99 494.57,-217.81 497.89,-211.64\"/>\n",
       "<text text-anchor=\"middle\" x=\"579.34\" y=\"-231.8\" font-family=\"Times New Roman,serif\" font-size=\"14.00\">yes, missing</text>\n",
       "</g>\n",
       "<!-- 2 -->\n",
       "<g id=\"node3\" class=\"node\">\n",
       "<title>2</title>\n",
       "<ellipse fill=\"none\" stroke=\"black\" cx=\"744.84\" cy=\"-192\" rx=\"92.88\" ry=\"18\"/>\n",
       "<text text-anchor=\"middle\" x=\"744.84\" y=\"-188.3\" font-family=\"Times New Roman,serif\" font-size=\"14.00\">f109&lt;&#45;9.53674316e&#45;07</text>\n",
       "</g>\n",
       "<!-- 0&#45;&gt;2 -->\n",
       "<g id=\"edge2\" class=\"edge\">\n",
       "<title>0&#45;&gt;2</title>\n",
       "<path fill=\"none\" stroke=\"#ff0000\" d=\"M639.41,-261.41C659.52,-248.36 687.75,-230.05 709.93,-215.65\"/>\n",
       "<polygon fill=\"#ff0000\" stroke=\"#ff0000\" points=\"711.59,-218.75 718.07,-210.37 707.78,-212.88 711.59,-218.75\"/>\n",
       "<text text-anchor=\"middle\" x=\"695.34\" y=\"-231.8\" font-family=\"Times New Roman,serif\" font-size=\"14.00\">no</text>\n",
       "</g>\n",
       "<!-- 3 -->\n",
       "<g id=\"node4\" class=\"node\">\n",
       "<title>3</title>\n",
       "<ellipse fill=\"none\" stroke=\"black\" cx=\"232.84\" cy=\"-105\" rx=\"88.28\" ry=\"18\"/>\n",
       "<text text-anchor=\"middle\" x=\"232.84\" y=\"-101.3\" font-family=\"Times New Roman,serif\" font-size=\"14.00\">f60&lt;&#45;9.53674316e&#45;07</text>\n",
       "</g>\n",
       "<!-- 1&#45;&gt;3 -->\n",
       "<g id=\"edge3\" class=\"edge\">\n",
       "<title>1&#45;&gt;3</title>\n",
       "<path fill=\"none\" stroke=\"#0000ff\" d=\"M415.46,-175.61C378.55,-161.54 323.81,-140.67 283.89,-125.46\"/>\n",
       "<polygon fill=\"#0000ff\" stroke=\"#0000ff\" points=\"285.31,-122.25 274.72,-121.96 282.81,-128.79 285.31,-122.25\"/>\n",
       "<text text-anchor=\"middle\" x=\"392.34\" y=\"-144.8\" font-family=\"Times New Roman,serif\" font-size=\"14.00\">yes, missing</text>\n",
       "</g>\n",
       "<!-- 4 -->\n",
       "<g id=\"node5\" class=\"node\">\n",
       "<title>4</title>\n",
       "<ellipse fill=\"none\" stroke=\"black\" cx=\"455.84\" cy=\"-105\" rx=\"88.28\" ry=\"18\"/>\n",
       "<text text-anchor=\"middle\" x=\"455.84\" y=\"-101.3\" font-family=\"Times New Roman,serif\" font-size=\"14.00\">f21&lt;&#45;9.53674316e&#45;07</text>\n",
       "</g>\n",
       "<!-- 1&#45;&gt;4 -->\n",
       "<g id=\"edge4\" class=\"edge\">\n",
       "<title>1&#45;&gt;4</title>\n",
       "<path fill=\"none\" stroke=\"#ff0000\" d=\"M455.84,-173.8C455.84,-162.58 455.84,-147.67 455.84,-134.69\"/>\n",
       "<polygon fill=\"#ff0000\" stroke=\"#ff0000\" points=\"459.34,-134.98 455.84,-124.98 452.34,-134.98 459.34,-134.98\"/>\n",
       "<text text-anchor=\"middle\" x=\"463.34\" y=\"-144.8\" font-family=\"Times New Roman,serif\" font-size=\"14.00\">no</text>\n",
       "</g>\n",
       "<!-- 5 -->\n",
       "<g id=\"node10\" class=\"node\">\n",
       "<title>5</title>\n",
       "<ellipse fill=\"none\" stroke=\"black\" cx=\"744.84\" cy=\"-105\" rx=\"88.28\" ry=\"18\"/>\n",
       "<text text-anchor=\"middle\" x=\"744.84\" y=\"-101.3\" font-family=\"Times New Roman,serif\" font-size=\"14.00\">f67&lt;&#45;9.53674316e&#45;07</text>\n",
       "</g>\n",
       "<!-- 2&#45;&gt;5 -->\n",
       "<g id=\"edge9\" class=\"edge\">\n",
       "<title>2&#45;&gt;5</title>\n",
       "<path fill=\"none\" stroke=\"#0000ff\" d=\"M744.84,-173.8C744.84,-162.58 744.84,-147.67 744.84,-134.69\"/>\n",
       "<polygon fill=\"#0000ff\" stroke=\"#0000ff\" points=\"748.34,-134.98 744.84,-124.98 741.34,-134.98 748.34,-134.98\"/>\n",
       "<text text-anchor=\"middle\" x=\"779.34\" y=\"-144.8\" font-family=\"Times New Roman,serif\" font-size=\"14.00\">yes, missing</text>\n",
       "</g>\n",
       "<!-- 6 -->\n",
       "<g id=\"node11\" class=\"node\">\n",
       "<title>6</title>\n",
       "<ellipse fill=\"none\" stroke=\"black\" cx=\"926.84\" cy=\"-105\" rx=\"75.29\" ry=\"18\"/>\n",
       "<text text-anchor=\"middle\" x=\"926.84\" y=\"-101.3\" font-family=\"Times New Roman,serif\" font-size=\"14.00\">leaf=0.557894766</text>\n",
       "</g>\n",
       "<!-- 2&#45;&gt;6 -->\n",
       "<g id=\"edge10\" class=\"edge\">\n",
       "<title>2&#45;&gt;6</title>\n",
       "<path fill=\"none\" stroke=\"#ff0000\" d=\"M779.08,-175.01C808.59,-161.23 851.36,-141.25 883.3,-126.33\"/>\n",
       "<polygon fill=\"#ff0000\" stroke=\"#ff0000\" points=\"884.73,-129.53 892.31,-122.13 881.77,-123.19 884.73,-129.53\"/>\n",
       "<text text-anchor=\"middle\" x=\"854.34\" y=\"-144.8\" font-family=\"Times New Roman,serif\" font-size=\"14.00\">no</text>\n",
       "</g>\n",
       "<!-- 7 -->\n",
       "<g id=\"node6\" class=\"node\">\n",
       "<title>7</title>\n",
       "<ellipse fill=\"none\" stroke=\"black\" cx=\"70.84\" cy=\"-18\" rx=\"70.69\" ry=\"18\"/>\n",
       "<text text-anchor=\"middle\" x=\"70.84\" y=\"-14.3\" font-family=\"Times New Roman,serif\" font-size=\"14.00\">leaf=0.57052362</text>\n",
       "</g>\n",
       "<!-- 3&#45;&gt;7 -->\n",
       "<g id=\"edge5\" class=\"edge\">\n",
       "<title>3&#45;&gt;7</title>\n",
       "<path fill=\"none\" stroke=\"#0000ff\" d=\"M198.45,-88.07C186.18,-82.24 172.31,-75.48 159.84,-69 142.69,-60.08 123.99,-49.68 108.18,-40.69\"/>\n",
       "<polygon fill=\"#0000ff\" stroke=\"#0000ff\" points=\"109.99,-37.69 99.57,-35.76 106.51,-43.76 109.99,-37.69\"/>\n",
       "<text text-anchor=\"middle\" x=\"194.34\" y=\"-57.8\" font-family=\"Times New Roman,serif\" font-size=\"14.00\">yes, missing</text>\n",
       "</g>\n",
       "<!-- 8 -->\n",
       "<g id=\"node7\" class=\"node\">\n",
       "<title>8</title>\n",
       "<ellipse fill=\"none\" stroke=\"black\" cx=\"232.84\" cy=\"-18\" rx=\"73.39\" ry=\"18\"/>\n",
       "<text text-anchor=\"middle\" x=\"232.84\" y=\"-14.3\" font-family=\"Times New Roman,serif\" font-size=\"14.00\">leaf=&#45;0.58518523</text>\n",
       "</g>\n",
       "<!-- 3&#45;&gt;8 -->\n",
       "<g id=\"edge6\" class=\"edge\">\n",
       "<title>3&#45;&gt;8</title>\n",
       "<path fill=\"none\" stroke=\"#ff0000\" d=\"M232.84,-86.8C232.84,-75.58 232.84,-60.67 232.84,-47.69\"/>\n",
       "<polygon fill=\"#ff0000\" stroke=\"#ff0000\" points=\"236.34,-47.98 232.84,-37.98 229.34,-47.98 236.34,-47.98\"/>\n",
       "<text text-anchor=\"middle\" x=\"240.34\" y=\"-57.8\" font-family=\"Times New Roman,serif\" font-size=\"14.00\">no</text>\n",
       "</g>\n",
       "<!-- 9 -->\n",
       "<g id=\"node8\" class=\"node\">\n",
       "<title>9</title>\n",
       "<ellipse fill=\"none\" stroke=\"black\" cx=\"399.84\" cy=\"-18\" rx=\"75.29\" ry=\"18\"/>\n",
       "<text text-anchor=\"middle\" x=\"399.84\" y=\"-14.3\" font-family=\"Times New Roman,serif\" font-size=\"14.00\">leaf=0.533333361</text>\n",
       "</g>\n",
       "<!-- 4&#45;&gt;9 -->\n",
       "<g id=\"edge7\" class=\"edge\">\n",
       "<title>4&#45;&gt;9</title>\n",
       "<path fill=\"none\" stroke=\"#0000ff\" d=\"M444.51,-86.8C436.69,-74.93 426.15,-58.93 417.27,-45.45\"/>\n",
       "<polygon fill=\"#0000ff\" stroke=\"#0000ff\" points=\"420.42,-43.86 411.99,-37.44 414.57,-47.72 420.42,-43.86\"/>\n",
       "<text text-anchor=\"middle\" x=\"466.34\" y=\"-57.8\" font-family=\"Times New Roman,serif\" font-size=\"14.00\">yes, missing</text>\n",
       "</g>\n",
       "<!-- 10 -->\n",
       "<g id=\"node9\" class=\"node\">\n",
       "<title>10</title>\n",
       "<ellipse fill=\"none\" stroke=\"black\" cx=\"570.84\" cy=\"-18\" rx=\"77.99\" ry=\"18\"/>\n",
       "<text text-anchor=\"middle\" x=\"570.84\" y=\"-14.3\" font-family=\"Times New Roman,serif\" font-size=\"14.00\">leaf=&#45;0.594312787</text>\n",
       "</g>\n",
       "<!-- 4&#45;&gt;10 -->\n",
       "<g id=\"edge8\" class=\"edge\">\n",
       "<title>4&#45;&gt;10</title>\n",
       "<path fill=\"none\" stroke=\"#ff0000\" d=\"M479.37,-87.4C487.48,-81.62 496.59,-75.07 504.84,-69 516.51,-60.41 529.22,-50.84 540.35,-42.39\"/>\n",
       "<polygon fill=\"#ff0000\" stroke=\"#ff0000\" points=\"542.22,-45.36 548.06,-36.51 537.98,-39.79 542.22,-45.36\"/>\n",
       "<text text-anchor=\"middle\" x=\"533.34\" y=\"-57.8\" font-family=\"Times New Roman,serif\" font-size=\"14.00\">no</text>\n",
       "</g>\n",
       "<!-- 11 -->\n",
       "<g id=\"node12\" class=\"node\">\n",
       "<title>11</title>\n",
       "<ellipse fill=\"none\" stroke=\"black\" cx=\"744.84\" cy=\"-18\" rx=\"77.99\" ry=\"18\"/>\n",
       "<text text-anchor=\"middle\" x=\"744.84\" y=\"-14.3\" font-family=\"Times New Roman,serif\" font-size=\"14.00\">leaf=&#45;0.595593095</text>\n",
       "</g>\n",
       "<!-- 5&#45;&gt;11 -->\n",
       "<g id=\"edge11\" class=\"edge\">\n",
       "<title>5&#45;&gt;11</title>\n",
       "<path fill=\"none\" stroke=\"#0000ff\" d=\"M744.84,-86.8C744.84,-75.58 744.84,-60.67 744.84,-47.69\"/>\n",
       "<polygon fill=\"#0000ff\" stroke=\"#0000ff\" points=\"748.34,-47.98 744.84,-37.98 741.34,-47.98 748.34,-47.98\"/>\n",
       "<text text-anchor=\"middle\" x=\"779.34\" y=\"-57.8\" font-family=\"Times New Roman,serif\" font-size=\"14.00\">yes, missing</text>\n",
       "</g>\n",
       "<!-- 12 -->\n",
       "<g id=\"node13\" class=\"node\">\n",
       "<title>12</title>\n",
       "<ellipse fill=\"none\" stroke=\"black\" cx=\"915.84\" cy=\"-18\" rx=\"75.29\" ry=\"18\"/>\n",
       "<text text-anchor=\"middle\" x=\"915.84\" y=\"-14.3\" font-family=\"Times New Roman,serif\" font-size=\"14.00\">leaf=0.242553204</text>\n",
       "</g>\n",
       "<!-- 5&#45;&gt;12 -->\n",
       "<g id=\"edge12\" class=\"edge\">\n",
       "<title>5&#45;&gt;12</title>\n",
       "<path fill=\"none\" stroke=\"#ff0000\" d=\"M778.73,-87.97C791.07,-82.07 805.12,-75.29 817.84,-69 836.88,-59.58 857.86,-48.92 875.51,-39.86\"/>\n",
       "<polygon fill=\"#ff0000\" stroke=\"#ff0000\" points=\"876.84,-43.11 884.14,-35.43 873.64,-36.89 876.84,-43.11\"/>\n",
       "<text text-anchor=\"middle\" x=\"855.34\" y=\"-57.8\" font-family=\"Times New Roman,serif\" font-size=\"14.00\">no</text>\n",
       "</g>\n",
       "</g>\n",
       "</svg>\n"
      ],
      "text/plain": [
       "<graphviz.sources.Source at 0x1f465e46e80>"
      ]
     },
     "execution_count": 33,
     "metadata": {},
     "output_type": "execute_result"
    }
   ],
   "source": [
    "from matplotlib import pyplot\n",
    "import graphviz\n",
    "\n",
    "xgb.to_graphviz(model, num_trees=0 )"
   ]
  },
  {
   "cell_type": "markdown",
   "id": "ebeefe2b",
   "metadata": {},
   "source": [
    "#### 使用sklearn加载数组"
   ]
  },
  {
   "cell_type": "code",
   "execution_count": 34,
   "id": "1a0f0518",
   "metadata": {},
   "outputs": [],
   "source": [
    "from sklearn.datasets import load_svmlight_file\n",
    "\n",
    "X_train,y_train = load_svmlight_file(\"data/agaricus.txt.train\")\n",
    "X_test,y_test = load_svmlight_file(\"data/agaricus.txt.test\")"
   ]
  },
  {
   "cell_type": "code",
   "execution_count": 35,
   "id": "5c30a0d8",
   "metadata": {},
   "outputs": [
    {
     "data": {
      "text/plain": [
       "scipy.sparse.csr.csr_matrix"
      ]
     },
     "execution_count": 35,
     "metadata": {},
     "output_type": "execute_result"
    }
   ],
   "source": [
    "type(X_train)"
   ]
  },
  {
   "cell_type": "code",
   "execution_count": 36,
   "id": "11709208",
   "metadata": {},
   "outputs": [
    {
     "data": {
      "text/plain": [
       "array([[0., 0., 1., ..., 1., 0., 0.],\n",
       "       [0., 0., 1., ..., 0., 0., 0.],\n",
       "       [1., 0., 0., ..., 0., 0., 0.],\n",
       "       ...,\n",
       "       [0., 0., 1., ..., 0., 0., 0.],\n",
       "       [0., 0., 0., ..., 0., 0., 0.],\n",
       "       [0., 0., 1., ..., 0., 0., 0.]])"
      ]
     },
     "execution_count": 36,
     "metadata": {},
     "output_type": "execute_result"
    }
   ],
   "source": [
    "X_train.toarray()"
   ]
  },
  {
   "cell_type": "code",
   "execution_count": 37,
   "id": "012c2291",
   "metadata": {},
   "outputs": [
    {
     "data": {
      "text/plain": [
       "numpy.ndarray"
      ]
     },
     "execution_count": 37,
     "metadata": {},
     "output_type": "execute_result"
    }
   ],
   "source": [
    "type(y_train)"
   ]
  },
  {
   "cell_type": "markdown",
   "id": "01cb4e5d",
   "metadata": {},
   "source": [
    "**训练模型**"
   ]
  },
  {
   "cell_type": "code",
   "execution_count": 38,
   "id": "553ba098",
   "metadata": {},
   "outputs": [
    {
     "data": {
      "text/html": [
       "<style>#sk-container-id-4 {color: black;background-color: white;}#sk-container-id-4 pre{padding: 0;}#sk-container-id-4 div.sk-toggleable {background-color: white;}#sk-container-id-4 label.sk-toggleable__label {cursor: pointer;display: block;width: 100%;margin-bottom: 0;padding: 0.3em;box-sizing: border-box;text-align: center;}#sk-container-id-4 label.sk-toggleable__label-arrow:before {content: \"▸\";float: left;margin-right: 0.25em;color: #696969;}#sk-container-id-4 label.sk-toggleable__label-arrow:hover:before {color: black;}#sk-container-id-4 div.sk-estimator:hover label.sk-toggleable__label-arrow:before {color: black;}#sk-container-id-4 div.sk-toggleable__content {max-height: 0;max-width: 0;overflow: hidden;text-align: left;background-color: #f0f8ff;}#sk-container-id-4 div.sk-toggleable__content pre {margin: 0.2em;color: black;border-radius: 0.25em;background-color: #f0f8ff;}#sk-container-id-4 input.sk-toggleable__control:checked~div.sk-toggleable__content {max-height: 200px;max-width: 100%;overflow: auto;}#sk-container-id-4 input.sk-toggleable__control:checked~label.sk-toggleable__label-arrow:before {content: \"▾\";}#sk-container-id-4 div.sk-estimator input.sk-toggleable__control:checked~label.sk-toggleable__label {background-color: #d4ebff;}#sk-container-id-4 div.sk-label input.sk-toggleable__control:checked~label.sk-toggleable__label {background-color: #d4ebff;}#sk-container-id-4 input.sk-hidden--visually {border: 0;clip: rect(1px 1px 1px 1px);clip: rect(1px, 1px, 1px, 1px);height: 1px;margin: -1px;overflow: hidden;padding: 0;position: absolute;width: 1px;}#sk-container-id-4 div.sk-estimator {font-family: monospace;background-color: #f0f8ff;border: 1px dotted black;border-radius: 0.25em;box-sizing: border-box;margin-bottom: 0.5em;}#sk-container-id-4 div.sk-estimator:hover {background-color: #d4ebff;}#sk-container-id-4 div.sk-parallel-item::after {content: \"\";width: 100%;border-bottom: 1px solid gray;flex-grow: 1;}#sk-container-id-4 div.sk-label:hover label.sk-toggleable__label {background-color: #d4ebff;}#sk-container-id-4 div.sk-serial::before {content: \"\";position: absolute;border-left: 1px solid gray;box-sizing: border-box;top: 0;bottom: 0;left: 50%;z-index: 0;}#sk-container-id-4 div.sk-serial {display: flex;flex-direction: column;align-items: center;background-color: white;padding-right: 0.2em;padding-left: 0.2em;position: relative;}#sk-container-id-4 div.sk-item {position: relative;z-index: 1;}#sk-container-id-4 div.sk-parallel {display: flex;align-items: stretch;justify-content: center;background-color: white;position: relative;}#sk-container-id-4 div.sk-item::before, #sk-container-id-4 div.sk-parallel-item::before {content: \"\";position: absolute;border-left: 1px solid gray;box-sizing: border-box;top: 0;bottom: 0;left: 50%;z-index: -1;}#sk-container-id-4 div.sk-parallel-item {display: flex;flex-direction: column;z-index: 1;position: relative;background-color: white;}#sk-container-id-4 div.sk-parallel-item:first-child::after {align-self: flex-end;width: 50%;}#sk-container-id-4 div.sk-parallel-item:last-child::after {align-self: flex-start;width: 50%;}#sk-container-id-4 div.sk-parallel-item:only-child::after {width: 0;}#sk-container-id-4 div.sk-dashed-wrapped {border: 1px dashed gray;margin: 0 0.4em 0.5em 0.4em;box-sizing: border-box;padding-bottom: 0.4em;background-color: white;}#sk-container-id-4 div.sk-label label {font-family: monospace;font-weight: bold;display: inline-block;line-height: 1.2em;}#sk-container-id-4 div.sk-label-container {text-align: center;}#sk-container-id-4 div.sk-container {/* jupyter's `normalize.less` sets `[hidden] { display: none; }` but bootstrap.min.css set `[hidden] { display: none !important; }` so we also need the `!important` here to be able to override the default hidden behavior on the sphinx rendered scikit-learn.org. See: https://github.com/scikit-learn/scikit-learn/issues/21755 */display: inline-block !important;position: relative;}#sk-container-id-4 div.sk-text-repr-fallback {display: none;}</style><div id=\"sk-container-id-4\" class=\"sk-top-container\"><div class=\"sk-text-repr-fallback\"><pre>XGBClassifier(base_score=None, booster=None, callbacks=None,\n",
       "              colsample_bylevel=None, colsample_bynode=None,\n",
       "              colsample_bytree=None, early_stopping_rounds=None,\n",
       "              enable_categorical=False, eval_metric=None, feature_types=None,\n",
       "              gamma=None, gpu_id=None, grow_policy=None, importance_type=None,\n",
       "              interaction_constraints=None, learning_rate=0.3, max_bin=None,\n",
       "              max_cat_threshold=None, max_cat_to_onehot=None,\n",
       "              max_delta_step=None, max_depth=3, max_leaves=None,\n",
       "              min_child_weight=None, missing=nan, monotone_constraints=None,\n",
       "              n_estimators=6, n_jobs=None, num_parallel_tree=None,\n",
       "              predictor=None, random_state=None, ...)</pre><b>In a Jupyter environment, please rerun this cell to show the HTML representation or trust the notebook. <br />On GitHub, the HTML representation is unable to render, please try loading this page with nbviewer.org.</b></div><div class=\"sk-container\" hidden><div class=\"sk-item\"><div class=\"sk-estimator sk-toggleable\"><input class=\"sk-toggleable__control sk-hidden--visually\" id=\"sk-estimator-id-4\" type=\"checkbox\" checked><label for=\"sk-estimator-id-4\" class=\"sk-toggleable__label sk-toggleable__label-arrow\">XGBClassifier</label><div class=\"sk-toggleable__content\"><pre>XGBClassifier(base_score=None, booster=None, callbacks=None,\n",
       "              colsample_bylevel=None, colsample_bynode=None,\n",
       "              colsample_bytree=None, early_stopping_rounds=None,\n",
       "              enable_categorical=False, eval_metric=None, feature_types=None,\n",
       "              gamma=None, gpu_id=None, grow_policy=None, importance_type=None,\n",
       "              interaction_constraints=None, learning_rate=0.3, max_bin=None,\n",
       "              max_cat_threshold=None, max_cat_to_onehot=None,\n",
       "              max_delta_step=None, max_depth=3, max_leaves=None,\n",
       "              min_child_weight=None, missing=nan, monotone_constraints=None,\n",
       "              n_estimators=6, n_jobs=None, num_parallel_tree=None,\n",
       "              predictor=None, random_state=None, ...)</pre></div></div></div></div></div>"
      ],
      "text/plain": [
       "XGBClassifier(base_score=None, booster=None, callbacks=None,\n",
       "              colsample_bylevel=None, colsample_bynode=None,\n",
       "              colsample_bytree=None, early_stopping_rounds=None,\n",
       "              enable_categorical=False, eval_metric=None, feature_types=None,\n",
       "              gamma=None, gpu_id=None, grow_policy=None, importance_type=None,\n",
       "              interaction_constraints=None, learning_rate=0.3, max_bin=None,\n",
       "              max_cat_threshold=None, max_cat_to_onehot=None,\n",
       "              max_delta_step=None, max_depth=3, max_leaves=None,\n",
       "              min_child_weight=None, missing=nan, monotone_constraints=None,\n",
       "              n_estimators=6, n_jobs=None, num_parallel_tree=None,\n",
       "              predictor=None, random_state=None, ...)"
      ]
     },
     "execution_count": 38,
     "metadata": {},
     "output_type": "execute_result"
    }
   ],
   "source": [
    "model = xgb.XGBClassifier(\n",
    "    max_depth=3,\n",
    "    learning_rate=0.3,\n",
    "    n_estimators=6,\n",
    "    verbosity=1,\n",
    "    objective='binary:logistic'\n",
    ")\n",
    "model.fit(X_train,y_train)"
   ]
  },
  {
   "cell_type": "markdown",
   "id": "22f6ce71",
   "metadata": {},
   "source": [
    "**计算准确率**"
   ]
  },
  {
   "cell_type": "code",
   "execution_count": 39,
   "id": "5ecc4346",
   "metadata": {},
   "outputs": [
    {
     "name": "stdout",
     "output_type": "stream",
     "text": [
      "Train Accuary: 99.88%\n"
     ]
    }
   ],
   "source": [
    "train_pred = model.predict(X_train)   # 预测结果是0，1值\n",
    "train_acc = accuracy_score(y_train,train_pred)\n",
    "print (\"Train Accuary: %.2f%%\" % (train_acc * 100.0))"
   ]
  },
  {
   "cell_type": "code",
   "execution_count": 40,
   "id": "c277e4d0",
   "metadata": {},
   "outputs": [
    {
     "name": "stdout",
     "output_type": "stream",
     "text": [
      "Test Accuracy: 100.00%\n"
     ]
    }
   ],
   "source": [
    "test_pred = model.predict(X_test)\n",
    "test_acc = accuracy_score(y_test,test_pred)\n",
    "print(\"Test Accuracy: %.2f%%\" % (test_acc * 100.0))"
   ]
  },
  {
   "cell_type": "markdown",
   "id": "9814928b",
   "metadata": {},
   "source": [
    "#### GridSearchcv 搜索最优参数"
   ]
  },
  {
   "cell_type": "code",
   "execution_count": 43,
   "id": "ec58ebd4",
   "metadata": {},
   "outputs": [],
   "source": [
    "from sklearn.model_selection import GridSearchCV"
   ]
  },
  {
   "cell_type": "code",
   "execution_count": 44,
   "id": "99c7d13b",
   "metadata": {},
   "outputs": [
    {
     "data": {
      "text/html": [
       "<style>#sk-container-id-5 {color: black;background-color: white;}#sk-container-id-5 pre{padding: 0;}#sk-container-id-5 div.sk-toggleable {background-color: white;}#sk-container-id-5 label.sk-toggleable__label {cursor: pointer;display: block;width: 100%;margin-bottom: 0;padding: 0.3em;box-sizing: border-box;text-align: center;}#sk-container-id-5 label.sk-toggleable__label-arrow:before {content: \"▸\";float: left;margin-right: 0.25em;color: #696969;}#sk-container-id-5 label.sk-toggleable__label-arrow:hover:before {color: black;}#sk-container-id-5 div.sk-estimator:hover label.sk-toggleable__label-arrow:before {color: black;}#sk-container-id-5 div.sk-toggleable__content {max-height: 0;max-width: 0;overflow: hidden;text-align: left;background-color: #f0f8ff;}#sk-container-id-5 div.sk-toggleable__content pre {margin: 0.2em;color: black;border-radius: 0.25em;background-color: #f0f8ff;}#sk-container-id-5 input.sk-toggleable__control:checked~div.sk-toggleable__content {max-height: 200px;max-width: 100%;overflow: auto;}#sk-container-id-5 input.sk-toggleable__control:checked~label.sk-toggleable__label-arrow:before {content: \"▾\";}#sk-container-id-5 div.sk-estimator input.sk-toggleable__control:checked~label.sk-toggleable__label {background-color: #d4ebff;}#sk-container-id-5 div.sk-label input.sk-toggleable__control:checked~label.sk-toggleable__label {background-color: #d4ebff;}#sk-container-id-5 input.sk-hidden--visually {border: 0;clip: rect(1px 1px 1px 1px);clip: rect(1px, 1px, 1px, 1px);height: 1px;margin: -1px;overflow: hidden;padding: 0;position: absolute;width: 1px;}#sk-container-id-5 div.sk-estimator {font-family: monospace;background-color: #f0f8ff;border: 1px dotted black;border-radius: 0.25em;box-sizing: border-box;margin-bottom: 0.5em;}#sk-container-id-5 div.sk-estimator:hover {background-color: #d4ebff;}#sk-container-id-5 div.sk-parallel-item::after {content: \"\";width: 100%;border-bottom: 1px solid gray;flex-grow: 1;}#sk-container-id-5 div.sk-label:hover label.sk-toggleable__label {background-color: #d4ebff;}#sk-container-id-5 div.sk-serial::before {content: \"\";position: absolute;border-left: 1px solid gray;box-sizing: border-box;top: 0;bottom: 0;left: 50%;z-index: 0;}#sk-container-id-5 div.sk-serial {display: flex;flex-direction: column;align-items: center;background-color: white;padding-right: 0.2em;padding-left: 0.2em;position: relative;}#sk-container-id-5 div.sk-item {position: relative;z-index: 1;}#sk-container-id-5 div.sk-parallel {display: flex;align-items: stretch;justify-content: center;background-color: white;position: relative;}#sk-container-id-5 div.sk-item::before, #sk-container-id-5 div.sk-parallel-item::before {content: \"\";position: absolute;border-left: 1px solid gray;box-sizing: border-box;top: 0;bottom: 0;left: 50%;z-index: -1;}#sk-container-id-5 div.sk-parallel-item {display: flex;flex-direction: column;z-index: 1;position: relative;background-color: white;}#sk-container-id-5 div.sk-parallel-item:first-child::after {align-self: flex-end;width: 50%;}#sk-container-id-5 div.sk-parallel-item:last-child::after {align-self: flex-start;width: 50%;}#sk-container-id-5 div.sk-parallel-item:only-child::after {width: 0;}#sk-container-id-5 div.sk-dashed-wrapped {border: 1px dashed gray;margin: 0 0.4em 0.5em 0.4em;box-sizing: border-box;padding-bottom: 0.4em;background-color: white;}#sk-container-id-5 div.sk-label label {font-family: monospace;font-weight: bold;display: inline-block;line-height: 1.2em;}#sk-container-id-5 div.sk-label-container {text-align: center;}#sk-container-id-5 div.sk-container {/* jupyter's `normalize.less` sets `[hidden] { display: none; }` but bootstrap.min.css set `[hidden] { display: none !important; }` so we also need the `!important` here to be able to override the default hidden behavior on the sphinx rendered scikit-learn.org. See: https://github.com/scikit-learn/scikit-learn/issues/21755 */display: inline-block !important;position: relative;}#sk-container-id-5 div.sk-text-repr-fallback {display: none;}</style><div id=\"sk-container-id-5\" class=\"sk-top-container\"><div class=\"sk-text-repr-fallback\"><pre>GridSearchCV(cv=5,\n",
       "             estimator=XGBClassifier(base_score=None, booster=None,\n",
       "                                     callbacks=None, colsample_bylevel=None,\n",
       "                                     colsample_bynode=None,\n",
       "                                     colsample_bytree=None,\n",
       "                                     early_stopping_rounds=None,\n",
       "                                     enable_categorical=False, eval_metric=None,\n",
       "                                     feature_types=None, gamma=None,\n",
       "                                     gpu_id=None, grow_policy=None,\n",
       "                                     importance_type=None,\n",
       "                                     interaction_constraints=None,\n",
       "                                     learning_rate=0.1, max_bin=None,\n",
       "                                     max_cat_threshold=None,\n",
       "                                     max_cat_to_onehot=None,\n",
       "                                     max_delta_step=None, max_depth=None,\n",
       "                                     max_leaves=None, min_child_weight=None,\n",
       "                                     missing=nan, monotone_constraints=None,\n",
       "                                     n_estimators=100, n_jobs=None,\n",
       "                                     num_parallel_tree=None, predictor=None,\n",
       "                                     random_state=None, ...),\n",
       "             param_grid={&#x27;max_depth&#x27;: range(1, 10),\n",
       "                         &#x27;n_estimators&#x27;: range(1, 51)},\n",
       "             scoring=&#x27;accuracy&#x27;)</pre><b>In a Jupyter environment, please rerun this cell to show the HTML representation or trust the notebook. <br />On GitHub, the HTML representation is unable to render, please try loading this page with nbviewer.org.</b></div><div class=\"sk-container\" hidden><div class=\"sk-item sk-dashed-wrapped\"><div class=\"sk-label-container\"><div class=\"sk-label sk-toggleable\"><input class=\"sk-toggleable__control sk-hidden--visually\" id=\"sk-estimator-id-5\" type=\"checkbox\" ><label for=\"sk-estimator-id-5\" class=\"sk-toggleable__label sk-toggleable__label-arrow\">GridSearchCV</label><div class=\"sk-toggleable__content\"><pre>GridSearchCV(cv=5,\n",
       "             estimator=XGBClassifier(base_score=None, booster=None,\n",
       "                                     callbacks=None, colsample_bylevel=None,\n",
       "                                     colsample_bynode=None,\n",
       "                                     colsample_bytree=None,\n",
       "                                     early_stopping_rounds=None,\n",
       "                                     enable_categorical=False, eval_metric=None,\n",
       "                                     feature_types=None, gamma=None,\n",
       "                                     gpu_id=None, grow_policy=None,\n",
       "                                     importance_type=None,\n",
       "                                     interaction_constraints=None,\n",
       "                                     learning_rate=0.1, max_bin=None,\n",
       "                                     max_cat_threshold=None,\n",
       "                                     max_cat_to_onehot=None,\n",
       "                                     max_delta_step=None, max_depth=None,\n",
       "                                     max_leaves=None, min_child_weight=None,\n",
       "                                     missing=nan, monotone_constraints=None,\n",
       "                                     n_estimators=100, n_jobs=None,\n",
       "                                     num_parallel_tree=None, predictor=None,\n",
       "                                     random_state=None, ...),\n",
       "             param_grid={&#x27;max_depth&#x27;: range(1, 10),\n",
       "                         &#x27;n_estimators&#x27;: range(1, 51)},\n",
       "             scoring=&#x27;accuracy&#x27;)</pre></div></div></div><div class=\"sk-parallel\"><div class=\"sk-parallel-item\"><div class=\"sk-item\"><div class=\"sk-label-container\"><div class=\"sk-label sk-toggleable\"><input class=\"sk-toggleable__control sk-hidden--visually\" id=\"sk-estimator-id-6\" type=\"checkbox\" ><label for=\"sk-estimator-id-6\" class=\"sk-toggleable__label sk-toggleable__label-arrow\">estimator: XGBClassifier</label><div class=\"sk-toggleable__content\"><pre>XGBClassifier(base_score=None, booster=None, callbacks=None,\n",
       "              colsample_bylevel=None, colsample_bynode=None,\n",
       "              colsample_bytree=None, early_stopping_rounds=None,\n",
       "              enable_categorical=False, eval_metric=None, feature_types=None,\n",
       "              gamma=None, gpu_id=None, grow_policy=None, importance_type=None,\n",
       "              interaction_constraints=None, learning_rate=0.1, max_bin=None,\n",
       "              max_cat_threshold=None, max_cat_to_onehot=None,\n",
       "              max_delta_step=None, max_depth=None, max_leaves=None,\n",
       "              min_child_weight=None, missing=nan, monotone_constraints=None,\n",
       "              n_estimators=100, n_jobs=None, num_parallel_tree=None,\n",
       "              predictor=None, random_state=None, ...)</pre></div></div></div><div class=\"sk-serial\"><div class=\"sk-item\"><div class=\"sk-estimator sk-toggleable\"><input class=\"sk-toggleable__control sk-hidden--visually\" id=\"sk-estimator-id-7\" type=\"checkbox\" ><label for=\"sk-estimator-id-7\" class=\"sk-toggleable__label sk-toggleable__label-arrow\">XGBClassifier</label><div class=\"sk-toggleable__content\"><pre>XGBClassifier(base_score=None, booster=None, callbacks=None,\n",
       "              colsample_bylevel=None, colsample_bynode=None,\n",
       "              colsample_bytree=None, early_stopping_rounds=None,\n",
       "              enable_categorical=False, eval_metric=None, feature_types=None,\n",
       "              gamma=None, gpu_id=None, grow_policy=None, importance_type=None,\n",
       "              interaction_constraints=None, learning_rate=0.1, max_bin=None,\n",
       "              max_cat_threshold=None, max_cat_to_onehot=None,\n",
       "              max_delta_step=None, max_depth=None, max_leaves=None,\n",
       "              min_child_weight=None, missing=nan, monotone_constraints=None,\n",
       "              n_estimators=100, n_jobs=None, num_parallel_tree=None,\n",
       "              predictor=None, random_state=None, ...)</pre></div></div></div></div></div></div></div></div></div></div>"
      ],
      "text/plain": [
       "GridSearchCV(cv=5,\n",
       "             estimator=XGBClassifier(base_score=None, booster=None,\n",
       "                                     callbacks=None, colsample_bylevel=None,\n",
       "                                     colsample_bynode=None,\n",
       "                                     colsample_bytree=None,\n",
       "                                     early_stopping_rounds=None,\n",
       "                                     enable_categorical=False, eval_metric=None,\n",
       "                                     feature_types=None, gamma=None,\n",
       "                                     gpu_id=None, grow_policy=None,\n",
       "                                     importance_type=None,\n",
       "                                     interaction_constraints=None,\n",
       "                                     learning_rate=0.1, max_bin=None,\n",
       "                                     max_cat_threshold=None,\n",
       "                                     max_cat_to_onehot=None,\n",
       "                                     max_delta_step=None, max_depth=None,\n",
       "                                     max_leaves=None, min_child_weight=None,\n",
       "                                     missing=nan, monotone_constraints=None,\n",
       "                                     n_estimators=100, n_jobs=None,\n",
       "                                     num_parallel_tree=None, predictor=None,\n",
       "                                     random_state=None, ...),\n",
       "             param_grid={'max_depth': range(1, 10),\n",
       "                         'n_estimators': range(1, 51)},\n",
       "             scoring='accuracy')"
      ]
     },
     "execution_count": 44,
     "metadata": {},
     "output_type": "execute_result"
    }
   ],
   "source": [
    "model = xgb.XGBClassifier(learning_rate=0.1,verbosity=1,objective='binary:logistic')    # 不需要调的参数直接定义\n",
    "# 需要调的参数\n",
    "param_grid = {\n",
    "    'n_estimators':range(1,51,1),\n",
    "    'max_depth':range(1,10,1)\n",
    "}\n",
    "clf = GridSearchCV(model,param_grid,scoring=\"accuracy\",cv=5)   # 评价指标为精确度，5折交叉验证\n",
    "clf.fit(X_train,y_train)"
   ]
  },
  {
   "cell_type": "code",
   "execution_count": 45,
   "id": "be1bbb6b",
   "metadata": {},
   "outputs": [
    {
     "data": {
      "text/plain": [
       "({'max_depth': 2, 'n_estimators': 30}, 0.9841860859908541)"
      ]
     },
     "execution_count": 45,
     "metadata": {},
     "output_type": "execute_result"
    }
   ],
   "source": [
    "clf.best_params_, clf.best_score_"
   ]
  },
  {
   "cell_type": "markdown",
   "id": "e8dd94d6",
   "metadata": {},
   "source": [
    "#### early-stop"
   ]
  },
  {
   "cell_type": "markdown",
   "id": "6d9bf778",
   "metadata": {},
   "source": [
    "我们设置验证valid集，当我们迭代过程中发现在验证集上错误率增加，则提前停止迭代。"
   ]
  },
  {
   "cell_type": "code",
   "execution_count": 46,
   "id": "3bca0190",
   "metadata": {},
   "outputs": [],
   "source": [
    "from sklearn.model_selection import train_test_split"
   ]
  },
  {
   "cell_type": "code",
   "execution_count": 47,
   "id": "55dc8ecf",
   "metadata": {},
   "outputs": [],
   "source": [
    "X_train,X_validate,y_train,y_validate = train_test_split(X_train,y_train,test_size=0.3,random_state=2)"
   ]
  },
  {
   "cell_type": "code",
   "execution_count": 48,
   "id": "4c64a529",
   "metadata": {},
   "outputs": [
    {
     "name": "stdout",
     "output_type": "stream",
     "text": [
      "[0]\tvalidation_0-error:0.04759\n",
      "[1]\tvalidation_0-error:0.04350\n",
      "[2]\tvalidation_0-error:0.04759\n",
      "[3]\tvalidation_0-error:0.04350\n",
      "[4]\tvalidation_0-error:0.04350\n",
      "[5]\tvalidation_0-error:0.04350\n",
      "[6]\tvalidation_0-error:0.04350\n",
      "[7]\tvalidation_0-error:0.02508\n",
      "[8]\tvalidation_0-error:0.04350\n",
      "[9]\tvalidation_0-error:0.02508\n",
      "[10]\tvalidation_0-error:0.00563\n",
      "[11]\tvalidation_0-error:0.00563\n",
      "[12]\tvalidation_0-error:0.01024\n",
      "[13]\tvalidation_0-error:0.01535\n",
      "[14]\tvalidation_0-error:0.01535\n",
      "[15]\tvalidation_0-error:0.01535\n",
      "[16]\tvalidation_0-error:0.01535\n",
      "[17]\tvalidation_0-error:0.01535\n",
      "[18]\tvalidation_0-error:0.02661\n",
      "[19]\tvalidation_0-error:0.02303\n"
     ]
    },
    {
     "name": "stderr",
     "output_type": "stream",
     "text": [
      "D:\\Anaconda3\\lib\\site-packages\\xgboost\\sklearn.py:835: UserWarning: `eval_metric` in `fit` method is deprecated for better compatibility with scikit-learn, use `eval_metric` in constructor or`set_params` instead.\n",
      "  warnings.warn(\n",
      "D:\\Anaconda3\\lib\\site-packages\\xgboost\\sklearn.py:835: UserWarning: `early_stopping_rounds` in `fit` method is deprecated for better compatibility with scikit-learn, use `early_stopping_rounds` in constructor or`set_params` instead.\n",
      "  warnings.warn(\n"
     ]
    },
    {
     "data": {
      "text/html": [
       "<style>#sk-container-id-6 {color: black;background-color: white;}#sk-container-id-6 pre{padding: 0;}#sk-container-id-6 div.sk-toggleable {background-color: white;}#sk-container-id-6 label.sk-toggleable__label {cursor: pointer;display: block;width: 100%;margin-bottom: 0;padding: 0.3em;box-sizing: border-box;text-align: center;}#sk-container-id-6 label.sk-toggleable__label-arrow:before {content: \"▸\";float: left;margin-right: 0.25em;color: #696969;}#sk-container-id-6 label.sk-toggleable__label-arrow:hover:before {color: black;}#sk-container-id-6 div.sk-estimator:hover label.sk-toggleable__label-arrow:before {color: black;}#sk-container-id-6 div.sk-toggleable__content {max-height: 0;max-width: 0;overflow: hidden;text-align: left;background-color: #f0f8ff;}#sk-container-id-6 div.sk-toggleable__content pre {margin: 0.2em;color: black;border-radius: 0.25em;background-color: #f0f8ff;}#sk-container-id-6 input.sk-toggleable__control:checked~div.sk-toggleable__content {max-height: 200px;max-width: 100%;overflow: auto;}#sk-container-id-6 input.sk-toggleable__control:checked~label.sk-toggleable__label-arrow:before {content: \"▾\";}#sk-container-id-6 div.sk-estimator input.sk-toggleable__control:checked~label.sk-toggleable__label {background-color: #d4ebff;}#sk-container-id-6 div.sk-label input.sk-toggleable__control:checked~label.sk-toggleable__label {background-color: #d4ebff;}#sk-container-id-6 input.sk-hidden--visually {border: 0;clip: rect(1px 1px 1px 1px);clip: rect(1px, 1px, 1px, 1px);height: 1px;margin: -1px;overflow: hidden;padding: 0;position: absolute;width: 1px;}#sk-container-id-6 div.sk-estimator {font-family: monospace;background-color: #f0f8ff;border: 1px dotted black;border-radius: 0.25em;box-sizing: border-box;margin-bottom: 0.5em;}#sk-container-id-6 div.sk-estimator:hover {background-color: #d4ebff;}#sk-container-id-6 div.sk-parallel-item::after {content: \"\";width: 100%;border-bottom: 1px solid gray;flex-grow: 1;}#sk-container-id-6 div.sk-label:hover label.sk-toggleable__label {background-color: #d4ebff;}#sk-container-id-6 div.sk-serial::before {content: \"\";position: absolute;border-left: 1px solid gray;box-sizing: border-box;top: 0;bottom: 0;left: 50%;z-index: 0;}#sk-container-id-6 div.sk-serial {display: flex;flex-direction: column;align-items: center;background-color: white;padding-right: 0.2em;padding-left: 0.2em;position: relative;}#sk-container-id-6 div.sk-item {position: relative;z-index: 1;}#sk-container-id-6 div.sk-parallel {display: flex;align-items: stretch;justify-content: center;background-color: white;position: relative;}#sk-container-id-6 div.sk-item::before, #sk-container-id-6 div.sk-parallel-item::before {content: \"\";position: absolute;border-left: 1px solid gray;box-sizing: border-box;top: 0;bottom: 0;left: 50%;z-index: -1;}#sk-container-id-6 div.sk-parallel-item {display: flex;flex-direction: column;z-index: 1;position: relative;background-color: white;}#sk-container-id-6 div.sk-parallel-item:first-child::after {align-self: flex-end;width: 50%;}#sk-container-id-6 div.sk-parallel-item:last-child::after {align-self: flex-start;width: 50%;}#sk-container-id-6 div.sk-parallel-item:only-child::after {width: 0;}#sk-container-id-6 div.sk-dashed-wrapped {border: 1px dashed gray;margin: 0 0.4em 0.5em 0.4em;box-sizing: border-box;padding-bottom: 0.4em;background-color: white;}#sk-container-id-6 div.sk-label label {font-family: monospace;font-weight: bold;display: inline-block;line-height: 1.2em;}#sk-container-id-6 div.sk-label-container {text-align: center;}#sk-container-id-6 div.sk-container {/* jupyter's `normalize.less` sets `[hidden] { display: none; }` but bootstrap.min.css set `[hidden] { display: none !important; }` so we also need the `!important` here to be able to override the default hidden behavior on the sphinx rendered scikit-learn.org. See: https://github.com/scikit-learn/scikit-learn/issues/21755 */display: inline-block !important;position: relative;}#sk-container-id-6 div.sk-text-repr-fallback {display: none;}</style><div id=\"sk-container-id-6\" class=\"sk-top-container\"><div class=\"sk-text-repr-fallback\"><pre>XGBClassifier(base_score=None, booster=None, callbacks=None,\n",
       "              colsample_bylevel=None, colsample_bynode=None,\n",
       "              colsample_bytree=None, early_stopping_rounds=None,\n",
       "              enable_categorical=False, eval_metric=None, feature_types=None,\n",
       "              gamma=None, gpu_id=None, grow_policy=None, importance_type=None,\n",
       "              interaction_constraints=None, learning_rate=0.1, max_bin=None,\n",
       "              max_cat_threshold=None, max_cat_to_onehot=None,\n",
       "              max_delta_step=None, max_depth=2, max_leaves=None,\n",
       "              min_child_weight=None, missing=nan, monotone_constraints=None,\n",
       "              n_estimators=100, n_jobs=None, num_parallel_tree=None,\n",
       "              predictor=None, random_state=None, ...)</pre><b>In a Jupyter environment, please rerun this cell to show the HTML representation or trust the notebook. <br />On GitHub, the HTML representation is unable to render, please try loading this page with nbviewer.org.</b></div><div class=\"sk-container\" hidden><div class=\"sk-item\"><div class=\"sk-estimator sk-toggleable\"><input class=\"sk-toggleable__control sk-hidden--visually\" id=\"sk-estimator-id-8\" type=\"checkbox\" checked><label for=\"sk-estimator-id-8\" class=\"sk-toggleable__label sk-toggleable__label-arrow\">XGBClassifier</label><div class=\"sk-toggleable__content\"><pre>XGBClassifier(base_score=None, booster=None, callbacks=None,\n",
       "              colsample_bylevel=None, colsample_bynode=None,\n",
       "              colsample_bytree=None, early_stopping_rounds=None,\n",
       "              enable_categorical=False, eval_metric=None, feature_types=None,\n",
       "              gamma=None, gpu_id=None, grow_policy=None, importance_type=None,\n",
       "              interaction_constraints=None, learning_rate=0.1, max_bin=None,\n",
       "              max_cat_threshold=None, max_cat_to_onehot=None,\n",
       "              max_delta_step=None, max_depth=2, max_leaves=None,\n",
       "              min_child_weight=None, missing=nan, monotone_constraints=None,\n",
       "              n_estimators=100, n_jobs=None, num_parallel_tree=None,\n",
       "              predictor=None, random_state=None, ...)</pre></div></div></div></div></div>"
      ],
      "text/plain": [
       "XGBClassifier(base_score=None, booster=None, callbacks=None,\n",
       "              colsample_bylevel=None, colsample_bynode=None,\n",
       "              colsample_bytree=None, early_stopping_rounds=None,\n",
       "              enable_categorical=False, eval_metric=None, feature_types=None,\n",
       "              gamma=None, gpu_id=None, grow_policy=None, importance_type=None,\n",
       "              interaction_constraints=None, learning_rate=0.1, max_bin=None,\n",
       "              max_cat_threshold=None, max_cat_to_onehot=None,\n",
       "              max_delta_step=None, max_depth=2, max_leaves=None,\n",
       "              min_child_weight=None, missing=nan, monotone_constraints=None,\n",
       "              n_estimators=100, n_jobs=None, num_parallel_tree=None,\n",
       "              predictor=None, random_state=None, ...)"
      ]
     },
     "execution_count": 48,
     "metadata": {},
     "output_type": "execute_result"
    }
   ],
   "source": [
    "# 设置boosting迭代计算次数\n",
    "num_round = 100\n",
    "bst = xgb.XGBClassifier(max_depth=2,learning_rate=0.1,n_estimators=num_round,verbosity=1,objective='binary:logistic')\n",
    "eval_set = [(X_validate,y_validate)]   # 验证集\n",
    "# 度量指标为错误率，连续10轮错误率增加则停止\n",
    "bst.fit(X_train,y_train,early_stopping_rounds=10,eval_metric=\"error\",eval_set=eval_set,verbose=True)    "
   ]
  },
  {
   "cell_type": "code",
   "execution_count": 49,
   "id": "0d1cb319",
   "metadata": {},
   "outputs": [
    {
     "data": {
      "text/plain": [
       "{'validation_0': OrderedDict([('error',\n",
       "               [0.04759467758444217,\n",
       "                0.04350051177072672,\n",
       "                0.04759467758444217,\n",
       "                0.04350051177072672,\n",
       "                0.04350051177072672,\n",
       "                0.04350051177072672,\n",
       "                0.04350051177072672,\n",
       "                0.02507676560900717,\n",
       "                0.04350051177072672,\n",
       "                0.02507676560900717,\n",
       "                0.00562947799385875,\n",
       "                0.00562947799385875,\n",
       "                0.01023541453428864,\n",
       "                0.01535312180143296,\n",
       "                0.01535312180143296,\n",
       "                0.01535312180143296,\n",
       "                0.01535312180143296,\n",
       "                0.01535312180143296,\n",
       "                0.02661207778915046,\n",
       "                0.02302968270214944,\n",
       "                0.02302968270214944])])}"
      ]
     },
     "execution_count": 49,
     "metadata": {},
     "output_type": "execute_result"
    }
   ],
   "source": [
    "results = bst.evals_result()\n",
    "results"
   ]
  },
  {
   "cell_type": "code",
   "execution_count": 50,
   "id": "14236320",
   "metadata": {},
   "outputs": [
    {
     "data": {
      "image/png": "[encoded data removed]",
      "text/plain": [
       "<Figure size 432x288 with 1 Axes>"
      ]
     },
     "metadata": {
      "needs_background": "light"
     },
     "output_type": "display_data"
    }
   ],
   "source": [
    "epochs = len(results['validation_0']['error'])\n",
    "x_axis = range(0, epochs)\n",
    "\n",
    "# plot log loss\n",
    "plt.plot(x_axis, results['validation_0']['error'], label='Test')\n",
    "plt.ylabel('Error')\n",
    "plt.xlabel('Round')\n",
    "plt.title('XGBoost Early Stop')\n",
    "plt.show()"
   ]
  },
  {
   "cell_type": "markdown",
   "id": "de95757a",
   "metadata": {},
   "source": [
    "#### 学习曲线"
   ]
  },
  {
   "cell_type": "code",
   "execution_count": 51,
   "id": "bb4837d5",
   "metadata": {},
   "outputs": [
    {
     "name": "stdout",
     "output_type": "stream",
     "text": [
      "[0]\tvalidation_0-error:0.04606\tvalidation_0-logloss:0.61481\tvalidation_1-error:0.04759\tvalidation_1-logloss:0.61499\n",
      "[1]\tvalidation_0-error:0.04080\tvalidation_0-logloss:0.55010\tvalidation_1-error:0.04350\tvalidation_1-logloss:0.55056\n",
      "[2]\tvalidation_0-error:0.04606\tvalidation_0-logloss:0.49576\tvalidation_1-error:0.04759\tvalidation_1-logloss:0.49635\n",
      "[3]\tvalidation_0-error:0.04080\tvalidation_0-logloss:0.44943\tvalidation_1-error:0.04350\tvalidation_1-logloss:0.45021\n",
      "[4]\tvalidation_0-error:0.04080\tvalidation_0-logloss:0.40961\tvalidation_1-error:0.04350\tvalidation_1-logloss:0.41164\n",
      "[5]\tvalidation_0-error:0.04080\tvalidation_0-logloss:0.37398\tvalidation_1-error:0.04350\tvalidation_1-logloss:0.37501\n",
      "[6]\tvalidation_0-error:0.04080\tvalidation_0-logloss:0.34328\tvalidation_1-error:0.04350\tvalidation_1-logloss:0.34471\n",
      "[7]\tvalidation_0-error:0.02391\tvalidation_0-logloss:0.31609\tvalidation_1-error:0.02508\tvalidation_1-logloss:0.31817\n",
      "[8]\tvalidation_0-error:0.04080\tvalidation_0-logloss:0.29136\tvalidation_1-error:0.04350\tvalidation_1-logloss:0.29286\n",
      "[9]\tvalidation_0-error:0.02391\tvalidation_0-logloss:0.26978\tvalidation_1-error:0.02508\tvalidation_1-logloss:0.27182\n",
      "[10]\tvalidation_0-error:0.00614\tvalidation_0-logloss:0.25000\tvalidation_1-error:0.00563\tvalidation_1-logloss:0.25150\n",
      "[11]\tvalidation_0-error:0.00614\tvalidation_0-logloss:0.23243\tvalidation_1-error:0.00563\tvalidation_1-logloss:0.23384\n",
      "[12]\tvalidation_0-error:0.01206\tvalidation_0-logloss:0.21307\tvalidation_1-error:0.01024\tvalidation_1-logloss:0.21455\n",
      "[13]\tvalidation_0-error:0.01821\tvalidation_0-logloss:0.19619\tvalidation_1-error:0.01535\tvalidation_1-logloss:0.19775\n",
      "[14]\tvalidation_0-error:0.01821\tvalidation_0-logloss:0.18146\tvalidation_1-error:0.01535\tvalidation_1-logloss:0.18310\n",
      "[15]\tvalidation_0-error:0.01821\tvalidation_0-logloss:0.16858\tvalidation_1-error:0.01535\tvalidation_1-logloss:0.17032\n",
      "[16]\tvalidation_0-error:0.01821\tvalidation_0-logloss:0.15731\tvalidation_1-error:0.01535\tvalidation_1-logloss:0.15916\n",
      "[17]\tvalidation_0-error:0.01821\tvalidation_0-logloss:0.14745\tvalidation_1-error:0.01535\tvalidation_1-logloss:0.14941\n",
      "[18]\tvalidation_0-error:0.02501\tvalidation_0-logloss:0.13984\tvalidation_1-error:0.02661\tvalidation_1-logloss:0.14206\n",
      "[19]\tvalidation_0-error:0.02084\tvalidation_0-logloss:0.13181\tvalidation_1-error:0.02303\tvalidation_1-logloss:0.13415\n",
      "[20]\tvalidation_0-error:0.02084\tvalidation_0-logloss:0.12567\tvalidation_1-error:0.02303\tvalidation_1-logloss:0.12827\n",
      "[21]\tvalidation_0-error:0.02084\tvalidation_0-logloss:0.11909\tvalidation_1-error:0.02303\tvalidation_1-logloss:0.12182\n",
      "[22]\tvalidation_0-error:0.02084\tvalidation_0-logloss:0.11403\tvalidation_1-error:0.02303\tvalidation_1-logloss:0.11713\n",
      "[23]\tvalidation_0-error:0.02084\tvalidation_0-logloss:0.10948\tvalidation_1-error:0.02303\tvalidation_1-logloss:0.11282\n",
      "[24]\tvalidation_0-error:0.02084\tvalidation_0-logloss:0.10457\tvalidation_1-error:0.02303\tvalidation_1-logloss:0.10806\n",
      "[25]\tvalidation_0-error:0.02084\tvalidation_0-logloss:0.10026\tvalidation_1-error:0.02303\tvalidation_1-logloss:0.10390\n",
      "[26]\tvalidation_0-error:0.02084\tvalidation_0-logloss:0.09665\tvalidation_1-error:0.02303\tvalidation_1-logloss:0.10050\n",
      "[27]\tvalidation_0-error:0.02084\tvalidation_0-logloss:0.09310\tvalidation_1-error:0.02303\tvalidation_1-logloss:0.09711\n",
      "[28]\tvalidation_0-error:0.02084\tvalidation_0-logloss:0.08976\tvalidation_1-error:0.02303\tvalidation_1-logloss:0.09311\n",
      "[29]\tvalidation_0-error:0.02084\tvalidation_0-logloss:0.08670\tvalidation_1-error:0.02303\tvalidation_1-logloss:0.09020\n",
      "[30]\tvalidation_0-error:0.02084\tvalidation_0-logloss:0.08387\tvalidation_1-error:0.02303\tvalidation_1-logloss:0.08757\n",
      "[31]\tvalidation_0-error:0.02018\tvalidation_0-logloss:0.08078\tvalidation_1-error:0.02201\tvalidation_1-logloss:0.08489\n",
      "[32]\tvalidation_0-error:0.02018\tvalidation_0-logloss:0.07767\tvalidation_1-error:0.02201\tvalidation_1-logloss:0.08210\n",
      "[33]\tvalidation_0-error:0.02084\tvalidation_0-logloss:0.07466\tvalidation_1-error:0.02303\tvalidation_1-logloss:0.07915\n",
      "[34]\tvalidation_0-error:0.02084\tvalidation_0-logloss:0.07211\tvalidation_1-error:0.02303\tvalidation_1-logloss:0.07576\n",
      "[35]\tvalidation_0-error:0.01492\tvalidation_0-logloss:0.06942\tvalidation_1-error:0.01842\tvalidation_1-logloss:0.07311\n",
      "[36]\tvalidation_0-error:0.01492\tvalidation_0-logloss:0.06702\tvalidation_1-error:0.01842\tvalidation_1-logloss:0.07097\n",
      "[37]\tvalidation_0-error:0.00877\tvalidation_0-logloss:0.06469\tvalidation_1-error:0.01331\tvalidation_1-logloss:0.06868\n",
      "[38]\tvalidation_0-error:0.00877\tvalidation_0-logloss:0.06265\tvalidation_1-error:0.01331\tvalidation_1-logloss:0.06602\n",
      "[39]\tvalidation_0-error:0.00877\tvalidation_0-logloss:0.06057\tvalidation_1-error:0.01331\tvalidation_1-logloss:0.06396\n",
      "[40]\tvalidation_0-error:0.00877\tvalidation_0-logloss:0.05882\tvalidation_1-error:0.01331\tvalidation_1-logloss:0.06172\n",
      "[41]\tvalidation_0-error:0.00877\tvalidation_0-logloss:0.05686\tvalidation_1-error:0.01331\tvalidation_1-logloss:0.05994\n",
      "[42]\tvalidation_0-error:0.00877\tvalidation_0-logloss:0.05497\tvalidation_1-error:0.01331\tvalidation_1-logloss:0.05804\n",
      "[43]\tvalidation_0-error:0.00877\tvalidation_0-logloss:0.05329\tvalidation_1-error:0.01331\tvalidation_1-logloss:0.05637\n",
      "[44]\tvalidation_0-error:0.00197\tvalidation_0-logloss:0.05167\tvalidation_1-error:0.00205\tvalidation_1-logloss:0.05440\n",
      "[45]\tvalidation_0-error:0.00197\tvalidation_0-logloss:0.05003\tvalidation_1-error:0.00205\tvalidation_1-logloss:0.05291\n",
      "[46]\tvalidation_0-error:0.00197\tvalidation_0-logloss:0.04846\tvalidation_1-error:0.00205\tvalidation_1-logloss:0.05133\n",
      "[47]\tvalidation_0-error:0.00197\tvalidation_0-logloss:0.04707\tvalidation_1-error:0.00205\tvalidation_1-logloss:0.04950\n",
      "[48]\tvalidation_0-error:0.00197\tvalidation_0-logloss:0.04566\tvalidation_1-error:0.00205\tvalidation_1-logloss:0.04809\n",
      "[49]\tvalidation_0-error:0.00197\tvalidation_0-logloss:0.04435\tvalidation_1-error:0.00205\tvalidation_1-logloss:0.04691\n",
      "[50]\tvalidation_0-error:0.00197\tvalidation_0-logloss:0.04309\tvalidation_1-error:0.00205\tvalidation_1-logloss:0.04565\n",
      "[51]\tvalidation_0-error:0.00197\tvalidation_0-logloss:0.04187\tvalidation_1-error:0.00205\tvalidation_1-logloss:0.04410\n",
      "[52]\tvalidation_0-error:0.00197\tvalidation_0-logloss:0.04075\tvalidation_1-error:0.00205\tvalidation_1-logloss:0.04297\n",
      "[53]\tvalidation_0-error:0.00197\tvalidation_0-logloss:0.03963\tvalidation_1-error:0.00205\tvalidation_1-logloss:0.04163\n",
      "[54]\tvalidation_0-error:0.00197\tvalidation_0-logloss:0.03851\tvalidation_1-error:0.00205\tvalidation_1-logloss:0.04061\n",
      "[55]\tvalidation_0-error:0.00197\tvalidation_0-logloss:0.03743\tvalidation_1-error:0.00205\tvalidation_1-logloss:0.03953\n",
      "[56]\tvalidation_0-error:0.00197\tvalidation_0-logloss:0.03649\tvalidation_1-error:0.00205\tvalidation_1-logloss:0.03828\n",
      "[57]\tvalidation_0-error:0.00197\tvalidation_0-logloss:0.03553\tvalidation_1-error:0.00205\tvalidation_1-logloss:0.03733\n",
      "[58]\tvalidation_0-error:0.00197\tvalidation_0-logloss:0.03464\tvalidation_1-error:0.00205\tvalidation_1-logloss:0.03627\n",
      "[59]\tvalidation_0-error:0.00197\tvalidation_0-logloss:0.03373\tvalidation_1-error:0.00205\tvalidation_1-logloss:0.03544\n",
      "[60]\tvalidation_0-error:0.00197\tvalidation_0-logloss:0.03286\tvalidation_1-error:0.00205\tvalidation_1-logloss:0.03456\n",
      "[61]\tvalidation_0-error:0.00197\tvalidation_0-logloss:0.03168\tvalidation_1-error:0.00205\tvalidation_1-logloss:0.03321\n",
      "[62]\tvalidation_0-error:0.00197\tvalidation_0-logloss:0.03091\tvalidation_1-error:0.00205\tvalidation_1-logloss:0.03251\n",
      "[63]\tvalidation_0-error:0.00197\tvalidation_0-logloss:0.03017\tvalidation_1-error:0.00205\tvalidation_1-logloss:0.03176\n",
      "[64]\tvalidation_0-error:0.00197\tvalidation_0-logloss:0.02945\tvalidation_1-error:0.00205\tvalidation_1-logloss:0.03104\n",
      "[65]\tvalidation_0-error:0.00197\tvalidation_0-logloss:0.02875\tvalidation_1-error:0.00205\tvalidation_1-logloss:0.03016\n",
      "[66]\tvalidation_0-error:0.00197\tvalidation_0-logloss:0.02811\tvalidation_1-error:0.00205\tvalidation_1-logloss:0.02958\n",
      "[67]\tvalidation_0-error:0.00197\tvalidation_0-logloss:0.02749\tvalidation_1-error:0.00205\tvalidation_1-logloss:0.02901\n",
      "[68]\tvalidation_0-error:0.00197\tvalidation_0-logloss:0.02688\tvalidation_1-error:0.00205\tvalidation_1-logloss:0.02823\n",
      "[69]\tvalidation_0-error:0.00197\tvalidation_0-logloss:0.02627\tvalidation_1-error:0.00205\tvalidation_1-logloss:0.02767\n",
      "[70]\tvalidation_0-error:0.00197\tvalidation_0-logloss:0.02568\tvalidation_1-error:0.00205\tvalidation_1-logloss:0.02708\n"
     ]
    },
    {
     "name": "stdout",
     "output_type": "stream",
     "text": [
      "[71]\tvalidation_0-error:0.00197\tvalidation_0-logloss:0.02512\tvalidation_1-error:0.00205\tvalidation_1-logloss:0.02635\n",
      "[72]\tvalidation_0-error:0.00197\tvalidation_0-logloss:0.02458\tvalidation_1-error:0.00205\tvalidation_1-logloss:0.02582\n",
      "[73]\tvalidation_0-error:0.00197\tvalidation_0-logloss:0.02407\tvalidation_1-error:0.00205\tvalidation_1-logloss:0.02534\n",
      "[74]\tvalidation_0-error:0.00197\tvalidation_0-logloss:0.02356\tvalidation_1-error:0.00205\tvalidation_1-logloss:0.02466\n",
      "[75]\tvalidation_0-error:0.00197\tvalidation_0-logloss:0.02307\tvalidation_1-error:0.00205\tvalidation_1-logloss:0.02421\n",
      "[76]\tvalidation_0-error:0.00197\tvalidation_0-logloss:0.02259\tvalidation_1-error:0.00205\tvalidation_1-logloss:0.02373\n",
      "[77]\tvalidation_0-error:0.00197\tvalidation_0-logloss:0.02213\tvalidation_1-error:0.00205\tvalidation_1-logloss:0.02328\n",
      "[78]\tvalidation_0-error:0.00197\tvalidation_0-logloss:0.02167\tvalidation_1-error:0.00205\tvalidation_1-logloss:0.02270\n",
      "[79]\tvalidation_0-error:0.00197\tvalidation_0-logloss:0.02120\tvalidation_1-error:0.00205\tvalidation_1-logloss:0.02219\n",
      "[80]\tvalidation_0-error:0.00197\tvalidation_0-logloss:0.02079\tvalidation_1-error:0.00205\tvalidation_1-logloss:0.02181\n",
      "[81]\tvalidation_0-error:0.00197\tvalidation_0-logloss:0.02039\tvalidation_1-error:0.00205\tvalidation_1-logloss:0.02141\n",
      "[82]\tvalidation_0-error:0.00197\tvalidation_0-logloss:0.01997\tvalidation_1-error:0.00205\tvalidation_1-logloss:0.02087\n",
      "[83]\tvalidation_0-error:0.00197\tvalidation_0-logloss:0.01960\tvalidation_1-error:0.00205\tvalidation_1-logloss:0.02054\n",
      "[84]\tvalidation_0-error:0.00197\tvalidation_0-logloss:0.01924\tvalidation_1-error:0.00205\tvalidation_1-logloss:0.02018\n",
      "[85]\tvalidation_0-error:0.00197\tvalidation_0-logloss:0.01886\tvalidation_1-error:0.00205\tvalidation_1-logloss:0.01971\n",
      "[86]\tvalidation_0-error:0.00197\tvalidation_0-logloss:0.01851\tvalidation_1-error:0.00205\tvalidation_1-logloss:0.01938\n",
      "[87]\tvalidation_0-error:0.00197\tvalidation_0-logloss:0.01816\tvalidation_1-error:0.00205\tvalidation_1-logloss:0.01903\n",
      "[88]\tvalidation_0-error:0.00197\tvalidation_0-logloss:0.01783\tvalidation_1-error:0.00205\tvalidation_1-logloss:0.01861\n",
      "[89]\tvalidation_0-error:0.00197\tvalidation_0-logloss:0.01747\tvalidation_1-error:0.00205\tvalidation_1-logloss:0.01822\n",
      "[90]\tvalidation_0-error:0.00197\tvalidation_0-logloss:0.01716\tvalidation_1-error:0.00205\tvalidation_1-logloss:0.01794\n",
      "[91]\tvalidation_0-error:0.00197\tvalidation_0-logloss:0.01687\tvalidation_1-error:0.00205\tvalidation_1-logloss:0.01764\n",
      "[92]\tvalidation_0-error:0.00197\tvalidation_0-logloss:0.01655\tvalidation_1-error:0.00205\tvalidation_1-logloss:0.01724\n",
      "[93]\tvalidation_0-error:0.00197\tvalidation_0-logloss:0.01594\tvalidation_1-error:0.00205\tvalidation_1-logloss:0.01668\n",
      "[94]\tvalidation_0-error:0.00197\tvalidation_0-logloss:0.01567\tvalidation_1-error:0.00205\tvalidation_1-logloss:0.01643\n",
      "[95]\tvalidation_0-error:0.00197\tvalidation_0-logloss:0.01542\tvalidation_1-error:0.00205\tvalidation_1-logloss:0.01613\n",
      "[96]\tvalidation_0-error:0.00197\tvalidation_0-logloss:0.01514\tvalidation_1-error:0.00205\tvalidation_1-logloss:0.01579\n",
      "[97]\tvalidation_0-error:0.00197\tvalidation_0-logloss:0.01488\tvalidation_1-error:0.00205\tvalidation_1-logloss:0.01555\n",
      "[98]\tvalidation_0-error:0.00197\tvalidation_0-logloss:0.01461\tvalidation_1-error:0.00205\tvalidation_1-logloss:0.01526\n",
      "[99]\tvalidation_0-error:0.00132\tvalidation_0-logloss:0.01411\tvalidation_1-error:0.00102\tvalidation_1-logloss:0.01480\n"
     ]
    },
    {
     "data": {
      "text/html": [
       "<style>#sk-container-id-7 {color: black;background-color: white;}#sk-container-id-7 pre{padding: 0;}#sk-container-id-7 div.sk-toggleable {background-color: white;}#sk-container-id-7 label.sk-toggleable__label {cursor: pointer;display: block;width: 100%;margin-bottom: 0;padding: 0.3em;box-sizing: border-box;text-align: center;}#sk-container-id-7 label.sk-toggleable__label-arrow:before {content: \"▸\";float: left;margin-right: 0.25em;color: #696969;}#sk-container-id-7 label.sk-toggleable__label-arrow:hover:before {color: black;}#sk-container-id-7 div.sk-estimator:hover label.sk-toggleable__label-arrow:before {color: black;}#sk-container-id-7 div.sk-toggleable__content {max-height: 0;max-width: 0;overflow: hidden;text-align: left;background-color: #f0f8ff;}#sk-container-id-7 div.sk-toggleable__content pre {margin: 0.2em;color: black;border-radius: 0.25em;background-color: #f0f8ff;}#sk-container-id-7 input.sk-toggleable__control:checked~div.sk-toggleable__content {max-height: 200px;max-width: 100%;overflow: auto;}#sk-container-id-7 input.sk-toggleable__control:checked~label.sk-toggleable__label-arrow:before {content: \"▾\";}#sk-container-id-7 div.sk-estimator input.sk-toggleable__control:checked~label.sk-toggleable__label {background-color: #d4ebff;}#sk-container-id-7 div.sk-label input.sk-toggleable__control:checked~label.sk-toggleable__label {background-color: #d4ebff;}#sk-container-id-7 input.sk-hidden--visually {border: 0;clip: rect(1px 1px 1px 1px);clip: rect(1px, 1px, 1px, 1px);height: 1px;margin: -1px;overflow: hidden;padding: 0;position: absolute;width: 1px;}#sk-container-id-7 div.sk-estimator {font-family: monospace;background-color: #f0f8ff;border: 1px dotted black;border-radius: 0.25em;box-sizing: border-box;margin-bottom: 0.5em;}#sk-container-id-7 div.sk-estimator:hover {background-color: #d4ebff;}#sk-container-id-7 div.sk-parallel-item::after {content: \"\";width: 100%;border-bottom: 1px solid gray;flex-grow: 1;}#sk-container-id-7 div.sk-label:hover label.sk-toggleable__label {background-color: #d4ebff;}#sk-container-id-7 div.sk-serial::before {content: \"\";position: absolute;border-left: 1px solid gray;box-sizing: border-box;top: 0;bottom: 0;left: 50%;z-index: 0;}#sk-container-id-7 div.sk-serial {display: flex;flex-direction: column;align-items: center;background-color: white;padding-right: 0.2em;padding-left: 0.2em;position: relative;}#sk-container-id-7 div.sk-item {position: relative;z-index: 1;}#sk-container-id-7 div.sk-parallel {display: flex;align-items: stretch;justify-content: center;background-color: white;position: relative;}#sk-container-id-7 div.sk-item::before, #sk-container-id-7 div.sk-parallel-item::before {content: \"\";position: absolute;border-left: 1px solid gray;box-sizing: border-box;top: 0;bottom: 0;left: 50%;z-index: -1;}#sk-container-id-7 div.sk-parallel-item {display: flex;flex-direction: column;z-index: 1;position: relative;background-color: white;}#sk-container-id-7 div.sk-parallel-item:first-child::after {align-self: flex-end;width: 50%;}#sk-container-id-7 div.sk-parallel-item:last-child::after {align-self: flex-start;width: 50%;}#sk-container-id-7 div.sk-parallel-item:only-child::after {width: 0;}#sk-container-id-7 div.sk-dashed-wrapped {border: 1px dashed gray;margin: 0 0.4em 0.5em 0.4em;box-sizing: border-box;padding-bottom: 0.4em;background-color: white;}#sk-container-id-7 div.sk-label label {font-family: monospace;font-weight: bold;display: inline-block;line-height: 1.2em;}#sk-container-id-7 div.sk-label-container {text-align: center;}#sk-container-id-7 div.sk-container {/* jupyter's `normalize.less` sets `[hidden] { display: none; }` but bootstrap.min.css set `[hidden] { display: none !important; }` so we also need the `!important` here to be able to override the default hidden behavior on the sphinx rendered scikit-learn.org. See: https://github.com/scikit-learn/scikit-learn/issues/21755 */display: inline-block !important;position: relative;}#sk-container-id-7 div.sk-text-repr-fallback {display: none;}</style><div id=\"sk-container-id-7\" class=\"sk-top-container\"><div class=\"sk-text-repr-fallback\"><pre>XGBClassifier(base_score=None, booster=None, callbacks=None,\n",
       "              colsample_bylevel=None, colsample_bynode=None,\n",
       "              colsample_bytree=None, early_stopping_rounds=None,\n",
       "              enable_categorical=False, eval_metric=None, feature_types=None,\n",
       "              gamma=None, gpu_id=None, grow_policy=None, importance_type=None,\n",
       "              interaction_constraints=None, learning_rate=0.1, max_bin=None,\n",
       "              max_cat_threshold=None, max_cat_to_onehot=None,\n",
       "              max_delta_step=None, max_depth=2, max_leaves=None,\n",
       "              min_child_weight=None, missing=nan, monotone_constraints=None,\n",
       "              n_estimators=100, n_jobs=None, num_parallel_tree=None,\n",
       "              predictor=None, random_state=None, ...)</pre><b>In a Jupyter environment, please rerun this cell to show the HTML representation or trust the notebook. <br />On GitHub, the HTML representation is unable to render, please try loading this page with nbviewer.org.</b></div><div class=\"sk-container\" hidden><div class=\"sk-item\"><div class=\"sk-estimator sk-toggleable\"><input class=\"sk-toggleable__control sk-hidden--visually\" id=\"sk-estimator-id-9\" type=\"checkbox\" checked><label for=\"sk-estimator-id-9\" class=\"sk-toggleable__label sk-toggleable__label-arrow\">XGBClassifier</label><div class=\"sk-toggleable__content\"><pre>XGBClassifier(base_score=None, booster=None, callbacks=None,\n",
       "              colsample_bylevel=None, colsample_bynode=None,\n",
       "              colsample_bytree=None, early_stopping_rounds=None,\n",
       "              enable_categorical=False, eval_metric=None, feature_types=None,\n",
       "              gamma=None, gpu_id=None, grow_policy=None, importance_type=None,\n",
       "              interaction_constraints=None, learning_rate=0.1, max_bin=None,\n",
       "              max_cat_threshold=None, max_cat_to_onehot=None,\n",
       "              max_delta_step=None, max_depth=2, max_leaves=None,\n",
       "              min_child_weight=None, missing=nan, monotone_constraints=None,\n",
       "              n_estimators=100, n_jobs=None, num_parallel_tree=None,\n",
       "              predictor=None, random_state=None, ...)</pre></div></div></div></div></div>"
      ],
      "text/plain": [
       "XGBClassifier(base_score=None, booster=None, callbacks=None,\n",
       "              colsample_bylevel=None, colsample_bynode=None,\n",
       "              colsample_bytree=None, early_stopping_rounds=None,\n",
       "              enable_categorical=False, eval_metric=None, feature_types=None,\n",
       "              gamma=None, gpu_id=None, grow_policy=None, importance_type=None,\n",
       "              interaction_constraints=None, learning_rate=0.1, max_bin=None,\n",
       "              max_cat_threshold=None, max_cat_to_onehot=None,\n",
       "              max_delta_step=None, max_depth=2, max_leaves=None,\n",
       "              min_child_weight=None, missing=nan, monotone_constraints=None,\n",
       "              n_estimators=100, n_jobs=None, num_parallel_tree=None,\n",
       "              predictor=None, random_state=None, ...)"
      ]
     },
     "execution_count": 51,
     "metadata": {},
     "output_type": "execute_result"
    }
   ],
   "source": [
    "# 设置boosting迭代计算次数\n",
    "num_round = 100\n",
    "# 没有 eraly_stop\n",
    "bst = xgb.XGBClassifier(max_depth=2, learning_rate=0.1, n_estimators=num_round, verbosity=1, objective='binary:logistic')\n",
    "# 在训练集和验证集上进行评价 \n",
    "eval_set = [(X_train, y_train), (X_validate, y_validate)]\n",
    "bst.fit(X_train, y_train, eval_metric=[\"error\", \"logloss\"], eval_set=eval_set, verbose=True)    # 评价指标为错误率和损失"
   ]
  },
  {
   "cell_type": "code",
   "execution_count": 52,
   "id": "a24be519",
   "metadata": {},
   "outputs": [
    {
     "data": {
      "text/plain": [
       "{'validation_0': OrderedDict([('error',\n",
       "               [0.04606273305549462,\n",
       "                0.04079842070629524,\n",
       "                0.04606273305549462,\n",
       "                0.04079842070629524,\n",
       "                0.04079842070629524,\n",
       "                0.04079842070629524,\n",
       "                0.04079842070629524,\n",
       "                0.02390875191928054,\n",
       "                0.04079842070629524,\n",
       "                0.02390875191928054,\n",
       "                0.00614169774073262,\n",
       "                0.00614169774073262,\n",
       "                0.01206404913358193,\n",
       "                0.01820574687431454,\n",
       "                0.01820574687431454,\n",
       "                0.01820574687431454,\n",
       "                0.01820574687431454,\n",
       "                0.01820574687431454,\n",
       "                0.02500548365869708,\n",
       "                0.02083790304891424,\n",
       "                0.02083790304891424,\n",
       "                0.02083790304891424,\n",
       "                0.02083790304891424,\n",
       "                0.02083790304891424,\n",
       "                0.02083790304891424,\n",
       "                0.02083790304891424,\n",
       "                0.02083790304891424,\n",
       "                0.02083790304891424,\n",
       "                0.02083790304891424,\n",
       "                0.02083790304891424,\n",
       "                0.02083790304891424,\n",
       "                0.02017986400526431,\n",
       "                0.02017986400526431,\n",
       "                0.02083790304891424,\n",
       "                0.02083790304891424,\n",
       "                0.01491555165606493,\n",
       "                0.01491555165606493,\n",
       "                0.00877385391533231,\n",
       "                0.00877385391533231,\n",
       "                0.00877385391533231,\n",
       "                0.00877385391533231,\n",
       "                0.00877385391533231,\n",
       "                0.00877385391533231,\n",
       "                0.00877385391533231,\n",
       "                0.00197411713094977,\n",
       "                0.00197411713094977,\n",
       "                0.00197411713094977,\n",
       "                0.00197411713094977,\n",
       "                0.00197411713094977,\n",
       "                0.00197411713094977,\n",
       "                0.00197411713094977,\n",
       "                0.00197411713094977,\n",
       "                0.00197411713094977,\n",
       "                0.00197411713094977,\n",
       "                0.00197411713094977,\n",
       "                0.00197411713094977,\n",
       "                0.00197411713094977,\n",
       "                0.00197411713094977,\n",
       "                0.00197411713094977,\n",
       "                0.00197411713094977,\n",
       "                0.00197411713094977,\n",
       "                0.00197411713094977,\n",
       "                0.00197411713094977,\n",
       "                0.00197411713094977,\n",
       "                0.00197411713094977,\n",
       "                0.00197411713094977,\n",
       "                0.00197411713094977,\n",
       "                0.00197411713094977,\n",
       "                0.00197411713094977,\n",
       "                0.00197411713094977,\n",
       "                0.00197411713094977,\n",
       "                0.00197411713094977,\n",
       "                0.00197411713094977,\n",
       "                0.00197411713094977,\n",
       "                0.00197411713094977,\n",
       "                0.00197411713094977,\n",
       "                0.00197411713094977,\n",
       "                0.00197411713094977,\n",
       "                0.00197411713094977,\n",
       "                0.00197411713094977,\n",
       "                0.00197411713094977,\n",
       "                0.00197411713094977,\n",
       "                0.00197411713094977,\n",
       "                0.00197411713094977,\n",
       "                0.00197411713094977,\n",
       "                0.00197411713094977,\n",
       "                0.00197411713094977,\n",
       "                0.00197411713094977,\n",
       "                0.00197411713094977,\n",
       "                0.00197411713094977,\n",
       "                0.00197411713094977,\n",
       "                0.00197411713094977,\n",
       "                0.00197411713094977,\n",
       "                0.00197411713094977,\n",
       "                0.00197411713094977,\n",
       "                0.00197411713094977,\n",
       "                0.00197411713094977,\n",
       "                0.00197411713094977,\n",
       "                0.00197411713094977,\n",
       "                0.00131607808729985]),\n",
       "              ('logloss',\n",
       "               [0.6148092101398961,\n",
       "                0.5501024073925842,\n",
       "                0.49575586797088145,\n",
       "                0.44942598996990785,\n",
       "                0.40960779949535686,\n",
       "                0.3739754148326074,\n",
       "                0.34328099328270345,\n",
       "                0.31608651835658513,\n",
       "                0.2913620157261694,\n",
       "                0.2697813657651112,\n",
       "                0.250002244884938,\n",
       "                0.23242854417991576,\n",
       "                0.21306722972523254,\n",
       "                0.19618973561835723,\n",
       "                0.18145569515060925,\n",
       "                0.1685778703225969,\n",
       "                0.15731195304367096,\n",
       "                0.1474490734137943,\n",
       "                0.13984024969206799,\n",
       "                0.13180576164187974,\n",
       "                0.12566945445749367,\n",
       "                0.11908999799923772,\n",
       "                0.11403024719587201,\n",
       "                0.10947757197965209,\n",
       "                0.10456550398150617,\n",
       "                0.10026427284193604,\n",
       "                0.0966474485427736,\n",
       "                0.09310246089583271,\n",
       "                0.08975652148029893,\n",
       "                0.08670281328507672,\n",
       "                0.0838715816392635,\n",
       "                0.08077932042373093,\n",
       "                0.07766795304366295,\n",
       "                0.07465588323850397,\n",
       "                0.07210513221986149,\n",
       "                0.06941902887523109,\n",
       "                0.06702212887883749,\n",
       "                0.06469001696265483,\n",
       "                0.06264959203733454,\n",
       "                0.06056873334388273,\n",
       "                0.05882463859074287,\n",
       "                0.05685883527815695,\n",
       "                0.05496668221192431,\n",
       "                0.05329094865049061,\n",
       "                0.05167268669217609,\n",
       "                0.05003085672809618,\n",
       "                0.0484551148888285,\n",
       "                0.04707157492014982,\n",
       "                0.0456599533095397,\n",
       "                0.04435207342790665,\n",
       "                0.04309152149155909,\n",
       "                0.04187294039577017,\n",
       "                0.04074521403964818,\n",
       "                0.0396313512102129,\n",
       "                0.03850640787249282,\n",
       "                0.03742929288219023,\n",
       "                0.03648851809597873,\n",
       "                0.03553095665793228,\n",
       "                0.03463546689158503,\n",
       "                0.03372901552594768,\n",
       "                0.03285879228426702,\n",
       "                0.03168388897253609,\n",
       "                0.03091411872979978,\n",
       "                0.03017153449084452,\n",
       "                0.02945169524315611,\n",
       "                0.02874885581527334,\n",
       "                0.02810538008988449,\n",
       "                0.02749489034114626,\n",
       "                0.02688377232749009,\n",
       "                0.02627361342706191,\n",
       "                0.02568204525555213,\n",
       "                0.02511848808048866,\n",
       "                0.02457937091445159,\n",
       "                0.02406988762541551,\n",
       "                0.02355994391998668,\n",
       "                0.02306772319061294,\n",
       "                0.02259151719553046,\n",
       "                0.02213080107537982,\n",
       "                0.02166909489728164,\n",
       "                0.02120219450617623,\n",
       "                0.02078687230725251,\n",
       "                0.02038644575860158,\n",
       "                0.019968729798184,\n",
       "                0.01960065616694113,\n",
       "                0.01924074171125798,\n",
       "                0.01886362387164124,\n",
       "                0.0185060976779707,\n",
       "                0.01816005883407972,\n",
       "                0.01782713537285218,\n",
       "                0.0174652511023063,\n",
       "                0.01715978529070567,\n",
       "                0.01686671841481055,\n",
       "                0.01655243019611745,\n",
       "                0.01594233862702758,\n",
       "                0.01567373592722893,\n",
       "                0.01541509034731735,\n",
       "                0.01514175802956058,\n",
       "                0.01488316574833191,\n",
       "                0.01461203725268956,\n",
       "                0.01411324326700789])]),\n",
       " 'validation_1': OrderedDict([('error',\n",
       "               [0.04759467758444217,\n",
       "                0.04350051177072672,\n",
       "                0.04759467758444217,\n",
       "                0.04350051177072672,\n",
       "                0.04350051177072672,\n",
       "                0.04350051177072672,\n",
       "                0.04350051177072672,\n",
       "                0.02507676560900717,\n",
       "                0.04350051177072672,\n",
       "                0.02507676560900717,\n",
       "                0.00562947799385875,\n",
       "                0.00562947799385875,\n",
       "                0.01023541453428864,\n",
       "                0.01535312180143296,\n",
       "                0.01535312180143296,\n",
       "                0.01535312180143296,\n",
       "                0.01535312180143296,\n",
       "                0.01535312180143296,\n",
       "                0.02661207778915046,\n",
       "                0.02302968270214944,\n",
       "                0.02302968270214944,\n",
       "                0.02302968270214944,\n",
       "                0.02302968270214944,\n",
       "                0.02302968270214944,\n",
       "                0.02302968270214944,\n",
       "                0.02302968270214944,\n",
       "                0.02302968270214944,\n",
       "                0.02302968270214944,\n",
       "                0.02302968270214944,\n",
       "                0.02302968270214944,\n",
       "                0.02302968270214944,\n",
       "                0.02200614124872057,\n",
       "                0.02200614124872057,\n",
       "                0.02302968270214944,\n",
       "                0.02302968270214944,\n",
       "                0.01842374616171955,\n",
       "                0.01842374616171955,\n",
       "                0.01330603889457523,\n",
       "                0.01330603889457523,\n",
       "                0.01330603889457523,\n",
       "                0.01330603889457523,\n",
       "                0.01330603889457523,\n",
       "                0.01330603889457523,\n",
       "                0.01330603889457523,\n",
       "                0.00204708290685773,\n",
       "                0.00204708290685773,\n",
       "                0.00204708290685773,\n",
       "                0.00204708290685773,\n",
       "                0.00204708290685773,\n",
       "                0.00204708290685773,\n",
       "                0.00204708290685773,\n",
       "                0.00204708290685773,\n",
       "                0.00204708290685773,\n",
       "                0.00204708290685773,\n",
       "                0.00204708290685773,\n",
       "                0.00204708290685773,\n",
       "                0.00204708290685773,\n",
       "                0.00204708290685773,\n",
       "                0.00204708290685773,\n",
       "                0.00204708290685773,\n",
       "                0.00204708290685773,\n",
       "                0.00204708290685773,\n",
       "                0.00204708290685773,\n",
       "                0.00204708290685773,\n",
       "                0.00204708290685773,\n",
       "                0.00204708290685773,\n",
       "                0.00204708290685773,\n",
       "                0.00204708290685773,\n",
       "                0.00204708290685773,\n",
       "                0.00204708290685773,\n",
       "                0.00204708290685773,\n",
       "                0.00204708290685773,\n",
       "                0.00204708290685773,\n",
       "                0.00204708290685773,\n",
       "                0.00204708290685773,\n",
       "                0.00204708290685773,\n",
       "                0.00204708290685773,\n",
       "                0.00204708290685773,\n",
       "                0.00204708290685773,\n",
       "                0.00204708290685773,\n",
       "                0.00204708290685773,\n",
       "                0.00204708290685773,\n",
       "                0.00204708290685773,\n",
       "                0.00204708290685773,\n",
       "                0.00204708290685773,\n",
       "                0.00204708290685773,\n",
       "                0.00204708290685773,\n",
       "                0.00204708290685773,\n",
       "                0.00204708290685773,\n",
       "                0.00204708290685773,\n",
       "                0.00204708290685773,\n",
       "                0.00204708290685773,\n",
       "                0.00204708290685773,\n",
       "                0.00204708290685773,\n",
       "                0.00204708290685773,\n",
       "                0.00204708290685773,\n",
       "                0.00204708290685773,\n",
       "                0.00204708290685773,\n",
       "                0.00204708290685773,\n",
       "                0.00102354145342886]),\n",
       "              ('logloss',\n",
       "               [0.6149895030742047,\n",
       "                0.5505624257310264,\n",
       "                0.4963509608193576,\n",
       "                0.4502050393587979,\n",
       "                0.4116430581836154,\n",
       "                0.3750056871341707,\n",
       "                0.34471368071305714,\n",
       "                0.3181667165295006,\n",
       "                0.2928586531365662,\n",
       "                0.27182171504445063,\n",
       "                0.25149613675282945,\n",
       "                0.23384010724669957,\n",
       "                0.21454747942416427,\n",
       "                0.19774741687055986,\n",
       "                0.18310001325491385,\n",
       "                0.17031806274989245,\n",
       "                0.15915694784376858,\n",
       "                0.14940722174218027,\n",
       "                0.14206028070411394,\n",
       "                0.13415064115531003,\n",
       "                0.12826518006355883,\n",
       "                0.12182056106543102,\n",
       "                0.11712572190189922,\n",
       "                0.11282359795147284,\n",
       "                0.10805685808090922,\n",
       "                0.10390421674951926,\n",
       "                0.10049819448312693,\n",
       "                0.09710613481258114,\n",
       "                0.0931133262225891,\n",
       "                0.09019595790776437,\n",
       "                0.08757373901654107,\n",
       "                0.08489087025540573,\n",
       "                0.08210464584199804,\n",
       "                0.07915110781239755,\n",
       "                0.07575858900077573,\n",
       "                0.07310693528400229,\n",
       "                0.07096795620207991,\n",
       "                0.06867555845500244,\n",
       "                0.06602250105017908,\n",
       "                0.0639563466831203,\n",
       "                0.06172295647817249,\n",
       "                0.05993956470711418,\n",
       "                0.05804199059593931,\n",
       "                0.05636715419502775,\n",
       "                0.05439820462130506,\n",
       "                0.05290715804537081,\n",
       "                0.05133227243335077,\n",
       "                0.0495001734120003,\n",
       "                0.04809286238286289,\n",
       "                0.04691175747202364,\n",
       "                0.04565138311936551,\n",
       "                0.04409620289032098,\n",
       "                0.0429727997005981,\n",
       "                0.04163314558483637,\n",
       "                0.04060795826993753,\n",
       "                0.03953182158782934,\n",
       "                0.03828311012986334,\n",
       "                0.03733136607076641,\n",
       "                0.03626523732623331,\n",
       "                0.03543711686459205,\n",
       "                0.03456315715552261,\n",
       "                0.03320897975757798,\n",
       "                0.03250892982118026,\n",
       "                0.03176198249678971,\n",
       "                0.03104483219473208,\n",
       "                0.03016157161721821,\n",
       "                0.02958484673326856,\n",
       "                0.02900896517859206,\n",
       "                0.02822873509653911,\n",
       "                0.02767193953503312,\n",
       "                0.02707997598304502,\n",
       "                0.02635235895706339,\n",
       "                0.02582199541055202,\n",
       "                0.0253407751617428,\n",
       "                0.02466168688686933,\n",
       "                0.02421049940672216,\n",
       "                0.02373025651404895,\n",
       "                0.02327538558966866,\n",
       "                0.02269730126204497,\n",
       "                0.02219340937971609,\n",
       "                0.02181369877821206,\n",
       "                0.02141049378856582,\n",
       "                0.02087327403197744,\n",
       "                0.02053759927117145,\n",
       "                0.02018300019287549,\n",
       "                0.01971220909795383,\n",
       "                0.01937772208264006,\n",
       "                0.01902794441096952,\n",
       "                0.018611783253569,\n",
       "                0.01822107991420768,\n",
       "                0.0179407717853102,\n",
       "                0.01764391960651007,\n",
       "                0.01723844724601376,\n",
       "                0.01667572235555827,\n",
       "                0.01642832832750287,\n",
       "                0.01613037418062916,\n",
       "                0.01579150777283204,\n",
       "                0.01555210631471814,\n",
       "                0.01525867091514279,\n",
       "                0.01480194811977981])])}"
      ]
     },
     "execution_count": 52,
     "metadata": {},
     "output_type": "execute_result"
    }
   ],
   "source": [
    "results = bst.evals_result()\n",
    "results"
   ]
  },
  {
   "cell_type": "code",
   "execution_count": 53,
   "id": "43b3daa6",
   "metadata": {},
   "outputs": [
    {
     "data": {
      "image/png": "[encoded data removed]",
      "text/plain": [
       "<Figure size 432x288 with 1 Axes>"
      ]
     },
     "metadata": {
      "needs_background": "light"
     },
     "output_type": "display_data"
    },
    {
     "data": {
      "image/png": "[encoded data removed]",
      "text/plain": [
       "<Figure size 432x288 with 1 Axes>"
      ]
     },
     "metadata": {
      "needs_background": "light"
     },
     "output_type": "display_data"
    }
   ],
   "source": [
    "epochs = len(results['validation_0']['error'])\n",
    "x_axis = range(0, epochs)\n",
    "\n",
    "# plot log loss\n",
    "fig, ax = plt.subplots()\n",
    "ax.plot(x_axis, results['validation_0']['logloss'], label='Train')\n",
    "ax.plot(x_axis, results['validation_1']['logloss'], label='Test')\n",
    "ax.legend()\n",
    "plt.ylabel('Log Loss')\n",
    "plt.title('XGBoost Log Loss')\n",
    "plt.show()\n",
    "\n",
    "# plot classification error\n",
    "fig, ax = plt.subplots()\n",
    "ax.plot(x_axis, results['validation_0']['error'], label='Train')\n",
    "ax.plot(x_axis, results['validation_1']['error'], label='Test')\n",
    "ax.legend()\n",
    "plt.ylabel('Classification Error')\n",
    "plt.title('XGBoost Classification Error')\n",
    "plt.show()"
   ]
  },
  {
   "cell_type": "markdown",
   "id": "cca6f5ff",
   "metadata": {},
   "source": [
    "# 堆叠Stacking"
   ]
  },
  {
   "cell_type": "markdown",
   "id": "6cd35b83",
   "metadata": {},
   "source": [
    "## 原理"
   ]
  },
  {
   "cell_type": "markdown",
   "id": "4494690e",
   "metadata": {},
   "source": [
    "<img src=\"img/stacking.png\" width=\"900\">"
   ]
  },
  {
   "cell_type": "markdown",
   "id": "ee937dd8",
   "metadata": {},
   "source": [
    "## 代码实现"
   ]
  },
  {
   "cell_type": "code",
   "execution_count": 54,
   "id": "024546a6",
   "metadata": {},
   "outputs": [],
   "source": [
    "from sklearn.linear_model import LogisticRegression\n",
    "from sklearn.neighbors import KNeighborsClassifier\n",
    "from sklearn.naive_bayes import GaussianNB\n",
    "from sklearn.ensemble import RandomForestClassifier\n",
    "from mlxtend.classifier import StackingClassifier"
   ]
  },
  {
   "cell_type": "code",
   "execution_count": 55,
   "id": "faff9884",
   "metadata": {},
   "outputs": [],
   "source": [
    "data = np.loadtxt(\"data/wine.data\",delimiter=',')\n",
    "X = data[:,1:]\n",
    "y = data[:,0:1]\n",
    "X_train, X_test, y_train, y_test = train_test_split(X, y.ravel(), test_size=0.2, random_state=0)"
   ]
  },
  {
   "cell_type": "markdown",
   "id": "1c22944b",
   "metadata": {},
   "source": [
    "**定义基分类器**"
   ]
  },
  {
   "cell_type": "code",
   "execution_count": 56,
   "id": "d92718a8",
   "metadata": {},
   "outputs": [],
   "source": [
    "clf1 = KNeighborsClassifier(n_neighbors=5)\n",
    "clf2 = RandomForestClassifier(random_state=1)\n",
    "clf3 = GaussianNB()"
   ]
  },
  {
   "cell_type": "markdown",
   "id": "6aa86530",
   "metadata": {},
   "source": [
    "**定义最后用的逻辑回归分类器**"
   ]
  },
  {
   "cell_type": "code",
   "execution_count": 57,
   "id": "54ff0cb8",
   "metadata": {},
   "outputs": [],
   "source": [
    "lr = LogisticRegression()"
   ]
  },
  {
   "cell_type": "markdown",
   "id": "b3442bef",
   "metadata": {},
   "source": [
    "**定义堆叠集成**"
   ]
  },
  {
   "cell_type": "code",
   "execution_count": 58,
   "id": "d0e2bf87",
   "metadata": {},
   "outputs": [],
   "source": [
    "sclf = StackingClassifier(classifiers=[clf1,clf2,clf3],meta_classifier=lr,use_probas=True)    # 使用概率输出"
   ]
  },
  {
   "cell_type": "markdown",
   "id": "c0cb9441",
   "metadata": {},
   "source": [
    "**对每一个模型分别进行评价**"
   ]
  },
  {
   "cell_type": "code",
   "execution_count": 59,
   "id": "c1000cbf",
   "metadata": {},
   "outputs": [
    {
     "name": "stdout",
     "output_type": "stream",
     "text": [
      "KNeighborsClassifier ,test accuarcy: 0.8055555555555556\n",
      "RandomForestClassifier ,test accuarcy: 1.0\n",
      "GaussianNB ,test accuarcy: 0.9166666666666666\n",
      "StackingClassifier ,test accuarcy: 0.9722222222222222\n"
     ]
    }
   ],
   "source": [
    "for model in [clf1,clf2,clf3,sclf]:\n",
    "    model.fit(X_train,y_train)\n",
    "    y_test_hat = model.predict(X_test)\n",
    "    print(model.__class__.__name__,',test accuarcy:',accuracy_score(y_test,y_test_hat))"
   ]
  }
 ],
 "metadata": {
  "kernelspec": {
   "display_name": "Python 3 (ipykernel)",
   "language": "python",
   "name": "python3"
  },
  "language_info": {
   "codemirror_mode": {
    "name": "ipython",
    "version": 3
   },
   "file_extension": ".py",
   "mimetype": "text/x-python",
   "name": "python",
   "nbconvert_exporter": "python",
   "pygments_lexer": "ipython3",
   "version": "3.9.7"
  },
  "toc": {
   "base_numbering": 1,
   "nav_menu": {},
   "number_sections": true,
   "sideBar": true,
   "skip_h1_title": false,
   "title_cell": "Table of Contents",
   "title_sidebar": "Contents",
   "toc_cell": false,
   "toc_position": {},
   "toc_section_display": true,
   "toc_window_display": true
  }
 },
 "nbformat": 4,
 "nbformat_minor": 5
}
