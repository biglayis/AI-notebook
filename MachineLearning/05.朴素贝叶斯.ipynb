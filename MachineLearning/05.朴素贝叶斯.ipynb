{
 "cells": [
  {
   "cell_type": "markdown",
   "id": "923c49fe",
   "metadata": {},
   "source": [
    "# 简介"
   ]
  },
  {
   "cell_type": "markdown",
   "id": "7791330b",
   "metadata": {},
   "source": [
    "## 贝叶斯决策论"
   ]
  },
  {
   "cell_type": "markdown",
   "id": "f8cfa693",
   "metadata": {},
   "source": [
    "<img align=\"left\" src=\"img/贝叶斯决策论.png\" width=\"350px\">  "
   ]
  },
  {
   "cell_type": "markdown",
   "id": "b117226b",
   "metadata": {},
   "source": [
    "基本原理：  \n",
    "\n",
    "如果 $p_1(x_1,x_2)>p_0(x_1,x_2)$，那么类别为1；如果 $p_1(x_1,x_2)<p_0(x_1,x_2)$，那么类别为0；如果相等可设为1，也可设为0。  \n",
    "\n",
    "即：对每个样本 $x$，选择能使后验概率 $p(c|x)$ 最大的类别标记（$c$ 为类别）。"
   ]
  },
  {
   "cell_type": "markdown",
   "id": "cb2d4d81",
   "metadata": {},
   "source": [
    "## 贝叶斯决策模型"
   ]
  },
  {
   "cell_type": "markdown",
   "id": "778a402a",
   "metadata": {},
   "source": [
    "$$p(c|x)=p(x|c)p(c)$$  \n",
    "\n",
    "> 注：分母的 $p(x)$ 在每次计算中都一样，因此可以省略\n",
    "\n",
    "在实际问题中，数据量较大，无法算出所有 $p(x|c)$，因此我们计算它的极大似然估计。  \n",
    "设 $p(x|c)$ 由参数 $\\theta$ 确定，则 $p(x|c)$ 可以表示为 $p(x|\\theta_c)$，设 $D_c$ 表示训练集 $D$ 中 $c$ 类样本的集合，则  \n",
    "\n",
    "$$p(D_c|\\theta_c)=\\prod_{x\\in D_c}p(x|\\theta_c)$$"
   ]
  },
  {
   "cell_type": "markdown",
   "id": "6a992fae",
   "metadata": {},
   "source": [
    "两边取对数，极大化似然函数。设 $p(x|\\theta_c)$ 服从正态分布，我们可以对 $p(x|\\theta_c)$ 进行参数估计。若 $p(x|\\theta_c)$ 不服从正态分布，那么估计结果是有偏的，为了解决这个问题，提出了下面的朴素贝叶斯模型。"
   ]
  },
  {
   "cell_type": "markdown",
   "id": "1a24e57a",
   "metadata": {},
   "source": [
    "## 朴素贝叶斯模型"
   ]
  },
  {
   "cell_type": "markdown",
   "id": "b3ca6855",
   "metadata": {},
   "source": [
    "朴素贝叶斯模型采用了“属性条件独立性假设”，即所有属性间相互独立。  \n",
    "\n",
    "$$p(y_i|x)=\\frac{p(x|y_i)p(y_i)}{p(x)}=p(x_1|y_i)p(x_2|y_i)...p(x_n|y_i)p(y_i)$$"
   ]
  },
  {
   "cell_type": "markdown",
   "id": "546949ea",
   "metadata": {},
   "source": [
    "以下图数据为例，求 $x=(2,S)^T$ 的类标记 $Y$。  \n",
    "<img align=\"left\" src=\"img/朴素贝叶斯举例.png\" width=\"150px\">  \n",
    "\n",
    "\n",
    "\n",
    "\n",
    "$P(Y=1)=\\frac{9}{15},P(Y=-1)=\\frac{6}{15}$  \n",
    "\n",
    "$P(X_1=1|Y=1)=\\frac{2}{9},P(X_1=2|Y=1)=\\frac{3}{9},P(X_1=3|Y=1)=\\frac{4}{9}$  \n",
    "\n",
    "$P(X_2=S|Y=1)=\\frac{1}{9},P(X_2=M|Y=1)=\\frac{4}{9},P(X_2=L|Y=1)=\\frac{4}{9}$  \n",
    "\n",
    "$P(X_1=1|Y=-1)=\\frac{3}{6},P(X_1=2|Y=-1)=\\frac{2}{6},P(X_1=3|Y=-1)=\\frac{1}{6}$  \n",
    "\n",
    "$P(X_2=S|Y=-1)=\\frac{3}{6},P(X_2=M|Y=-1)=\\frac{2}{6},P(X_2=L|Y=-1)=\\frac{1}{6}$  \n",
    "\n",
    "对给定的 $x=(2,S)^T$ 计算：  \n",
    "\n",
    "$P(X_1=2|Y=1)P(X_2=S|Y=1)P(Y=1)=\\frac{9}{15}\\times\\frac{3}{9}\\times\\frac{1}{9}=\\frac{1}{45}$  \n",
    "\n",
    "$P(X_1=2|Y=-1)P(X_2=S|Y=-1)P(Y=-1)=\\frac{6}{15}\\times\\frac{2}{6}\\times\\frac{3}{6}=\\frac{1}{15}$  \n",
    "\n",
    "因此其类标记 $Y=-1$"
   ]
  },
  {
   "cell_type": "markdown",
   "id": "ba930cb4",
   "metadata": {},
   "source": [
    "# 朴素贝叶斯代码实现"
   ]
  },
  {
   "cell_type": "code",
   "execution_count": 1,
   "id": "5b244b6a",
   "metadata": {},
   "outputs": [],
   "source": [
    "import numpy as np\n",
    "\n",
    "def loaddata():\n",
    "    X = np.array([[1,'S'],[1,'M'],[1,'M'],[1,'S'],\n",
    "         [1, 'S'], [2, 'S'], [2, 'M'], [2, 'M'],\n",
    "         [2, 'L'], [2, 'L'], [3, 'L'], [3, 'M'],\n",
    "         [3, 'M'], [3, 'L'], [3, 'L']])\n",
    "    y = np.array([-1,-1,1,1,-1,-1,-1,1,1,1,1,1,1,1,-1])\n",
    "    return X, y"
   ]
  },
  {
   "cell_type": "markdown",
   "id": "6f5711df",
   "metadata": {},
   "source": [
    "**1.训练，计算各个概率值**\n",
    "\n",
    "$$p(y_i|x)=p(x_1|y_i)p(x_2|y_i)...p(x_n|y_i)p(y_i)$$  \n",
    "\n",
    "$P(Y=1)=\\frac{9}{15},P(Y=-1)=\\frac{6}{15}$  \n",
    "$P(X_1=1|Y=1)=\\frac{2}{9},P(X_1=2|Y=1)=\\frac{3}{9},P(X_1=3|Y=1)=\\frac{4}{9}$  \n",
    "$P(X_2=S|Y=1)=\\frac{1}{9},P(X_2=M|Y=1)=\\frac{4}{9},P(X_2=L|Y=1)=\\frac{4}{9}$  \n",
    "$P(X_1=1|Y=-1)=\\frac{3}{6},P(X_1=2|Y=-1)=\\frac{2}{6},P(X_1=3|Y=-1)=\\frac{1}{6}$  \n",
    "$P(X_2=S|Y=-1)=\\frac{3}{6},P(X_2=M|Y=-1)=\\frac{2}{6},P(X_2=L|Y=-1)=\\frac{1}{6}$  "
   ]
  },
  {
   "cell_type": "code",
   "execution_count": 2,
   "id": "7aaa64c9",
   "metadata": {},
   "outputs": [],
   "source": [
    "def Train(trainset,train_labels):\n",
    "    m = trainset.shape[0]       # 数据量\n",
    "    n = trainset.shape[1]       # 特征数\n",
    "    \n",
    "    # 先验概率，key是类别值，value是类别的概率值的分子，例如 P(Y=1)表示为{1:9},P(Y=-1)表示为{-1,6}\n",
    "    prior_prob = {}        \n",
    "    \n",
    "    # 条件概率，key：类别，特征，特征值，value是概率值的分子，例如 P(X1=1|Y=1)的key为1，0，1，value为2；P(X2=M|Y=-1)的key为-1，1，M，value为2\n",
    "    conditional_prob = {}     \n",
    "    \n",
    "    # 类别的可能取值\n",
    "    labels = set(train_labels)\n",
    "    \n",
    "    # 计算先验概率（此时没有除以总数量m）\n",
    "    for label in labels:\n",
    "        prior_prob[label] = len(train_labels[train_labels==label])\n",
    "    \n",
    "    # 计算条件概率\n",
    "    for i in range(m):\n",
    "        for j in range(n):\n",
    "            key = str(train_labels[i])+','+str(j)+','+str(trainset[i][j])\n",
    "            if key not in conditional_prob.keys():\n",
    "                conditional_prob[key] = 0\n",
    "            conditional_prob[key] += 1\n",
    "            \n",
    "    # 计算最终的条件概率\n",
    "    conditional_prob_final = {}       \n",
    "    for key in conditional_prob:\n",
    "        y = int(key.split(',')[0])\n",
    "        conditional_prob_final[key] = conditional_prob[key] / prior_prob[y]\n",
    "        \n",
    "    # 计算最终的先验概率\n",
    "    prior_prob_final = {}\n",
    "    for label in labels:\n",
    "        prior_prob_final[label] = prior_prob[label] / m\n",
    "        \n",
    "    return prior_prob_final,conditional_prob_final,labels"
   ]
  },
  {
   "cell_type": "code",
   "execution_count": 3,
   "id": "9fbd6715",
   "metadata": {},
   "outputs": [
    {
     "name": "stdout",
     "output_type": "stream",
     "text": [
      "prior_prob= {1: 0.6, -1: 0.4}\n",
      "conditional_prob= {'-1,0,1': 0.5, '-1,1,S': 0.5, '-1,1,M': 0.3333333333333333, '1,0,1': 0.2222222222222222, '1,1,M': 0.4444444444444444, '1,1,S': 0.1111111111111111, '-1,0,2': 0.3333333333333333, '1,0,2': 0.3333333333333333, '1,1,L': 0.4444444444444444, '1,0,3': 0.4444444444444444, '-1,0,3': 0.16666666666666666, '-1,1,L': 0.16666666666666666}\n"
     ]
    }
   ],
   "source": [
    "X,y = loaddata()\n",
    "prior_prob,conditional_prob,train_labels = Train(X,y)\n",
    "print(\"prior_prob=\",prior_prob)\n",
    "print(\"conditional_prob=\",conditional_prob)"
   ]
  },
  {
   "cell_type": "markdown",
   "id": "1d55ecc1",
   "metadata": {},
   "source": [
    "**2.预测**"
   ]
  },
  {
   "cell_type": "code",
   "execution_count": 4,
   "id": "7d24375d",
   "metadata": {},
   "outputs": [],
   "source": [
    "def predict(data):\n",
    "    result = {}\n",
    "    for label in train_labels:\n",
    "        y_hat = prior_prob[label]\n",
    "        for i in range(len(data)):\n",
    "            key = str(label)+','+str(i)+','+str(data[i])\n",
    "            y_hat *= conditional_prob[key]\n",
    "        result[label] = y_hat\n",
    "    print(result)\n",
    "    return sorted(result.items(),key=lambda x:x[1],reverse=True)[0][0]"
   ]
  },
  {
   "cell_type": "code",
   "execution_count": 5,
   "id": "01c030fb",
   "metadata": {},
   "outputs": [
    {
     "name": "stdout",
     "output_type": "stream",
     "text": [
      "{1: 0.02222222222222222, -1: 0.06666666666666667}\n",
      "y_hat= -1\n"
     ]
    }
   ],
   "source": [
    "y_hat = predict([2,'S'])\n",
    "print('y_hat=',y_hat)"
   ]
  },
  {
   "cell_type": "markdown",
   "id": "caeb5d27",
   "metadata": {},
   "source": [
    "# 拉普拉斯修正"
   ]
  },
  {
   "cell_type": "markdown",
   "id": "d62d1717",
   "metadata": {},
   "source": [
    "为防止某个条件概率为0，造成最终乘积为0的情况，修正方法如下：  \n",
    "\n",
    "$$p(y)=\\frac{\\left\\vert D_y \\right\\vert +1}{\\left\\vert D \\right\\vert +N},其中N为训练集D中可能的类别数$$\n",
    "\n",
    "$$p(x_i|y)=\\frac{\\left\\vert D_{y,x_i} \\right\\vert +1}{\\left\\vert D_y \\right\\vert +N_i},其中N_i表示第i个属性可能的取值数$$"
   ]
  },
  {
   "cell_type": "code",
   "execution_count": 6,
   "id": "e58419c5",
   "metadata": {},
   "outputs": [],
   "source": [
    "def laplaceTrain(trainset,train_labels):\n",
    "    m = trainset.shape[0]       # 数据量\n",
    "    n = trainset.shape[1]       # 特征数\n",
    "    \n",
    "    # 先验概率，key是类别值，value是类别的概率值的分子，例如 P(Y=1)表示为{1:9},P(Y=-1)表示为{-1,6}\n",
    "    prior_prob = {}        \n",
    "    \n",
    "    # 条件概率，key：类别，特征，特征值，value是概率值的分子，例如 P(X1=1|Y=1)的key为1，0，1，value为2；P(X2=M|Y=-1)的key为-1，1，M，value为2\n",
    "    conditional_prob = {}     \n",
    "    \n",
    "    # 类别的可能取值\n",
    "    labels = set(train_labels)\n",
    "    # 每个特征的取值个数\n",
    "    feature_counts = {}\n",
    "    for i in range(n):\n",
    "        feature_counts[i] = len(np.unique(trainset[:,i]))\n",
    "    \n",
    "    # 计算先验概率（此时没有除以总数量m）\n",
    "    for label in labels:\n",
    "        prior_prob[label] = len(train_labels[train_labels==label])+1       # 分子+1\n",
    "    \n",
    "    # 计算条件概率\n",
    "    for i in range(m):\n",
    "        for j in range(n):\n",
    "            key = str(train_labels[i])+','+str(j)+','+str(trainset[i][j])\n",
    "            if key not in conditional_prob.keys():\n",
    "                conditional_prob[key] = 1                                  # 分子+1\n",
    "            conditional_prob[key] += 1\n",
    "            \n",
    "    # 计算最终的条件概率\n",
    "    conditional_prob_final = {}       \n",
    "    for key in conditional_prob:\n",
    "        y = int(key.split(',')[0])\n",
    "        i = int(key.split(',')[1])\n",
    "        conditional_prob_final[key] = conditional_prob[key] / (prior_prob[y]+feature_counts[i])    # 分母+N\n",
    "        \n",
    "    # 计算最终的先验概率\n",
    "    prior_prob_final = {}\n",
    "    for label in labels:\n",
    "        prior_prob_final[label] = prior_prob[label] / (m+len(labels))     # 分母+N\n",
    "        \n",
    "    return prior_prob_final,conditional_prob_final,labels"
   ]
  },
  {
   "cell_type": "code",
   "execution_count": 7,
   "id": "9bf67444",
   "metadata": {},
   "outputs": [
    {
     "name": "stdout",
     "output_type": "stream",
     "text": [
      "laplace_prior_prob= {1: 0.5882352941176471, -1: 0.4117647058823529}\n",
      "laplace_conditional_prob= {'-1,0,1': 0.4, '-1,1,S': 0.4, '-1,1,M': 0.3, '1,0,1': 0.23076923076923078, '1,1,M': 0.38461538461538464, '1,1,S': 0.15384615384615385, '-1,0,2': 0.3, '1,0,2': 0.3076923076923077, '1,1,L': 0.38461538461538464, '1,0,3': 0.38461538461538464, '-1,0,3': 0.2, '-1,1,L': 0.2}\n"
     ]
    }
   ],
   "source": [
    "prior_prob,conditional_prob,train_labels = laplaceTrain(X,y)\n",
    "print(\"laplace_prior_prob=\",prior_prob)\n",
    "print(\"laplace_conditional_prob=\",conditional_prob)"
   ]
  },
  {
   "cell_type": "code",
   "execution_count": 8,
   "id": "7a8a4506",
   "metadata": {},
   "outputs": [
    {
     "name": "stdout",
     "output_type": "stream",
     "text": [
      "{1: 0.02784545770971111, -1: 0.04941176470588235}\n",
      "y_hat= -1\n"
     ]
    }
   ],
   "source": [
    "y_hat = predict([2,'S'])\n",
    "print('y_hat=',y_hat)"
   ]
  },
  {
   "cell_type": "markdown",
   "id": "cd8ad3e8",
   "metadata": {},
   "source": [
    "# 朴素贝叶斯处理连续型数据"
   ]
  },
  {
   "cell_type": "markdown",
   "id": "7ef10730",
   "metadata": {},
   "source": [
    "假定 $p(x_i|y)\\sim N(\\mu_{y,i},\\sigma^2_{y,i})$，其中 $\\mu_{y,i}$ 和 $\\sigma^2_{y,i}$ 分别是第 $y$ 类样本在第 $i$ 个属性上取值的均值和方差。  \n",
    "$$p(x_i|y)=\\frac{1}{\\sqrt{2\\pi}\\sigma_{y,i}}\\exp(-\\frac{(x_i-\\mu_{y,i})^2}{2\\sigma^2_{y,i}})$$\n",
    "\n",
    "<img align=\"left\" src=\"img/朴素贝叶斯连续型数据.png\" width=\"200px\">"
   ]
  },
  {
   "cell_type": "markdown",
   "id": "ac89c8f2",
   "metadata": {},
   "source": [
    "# Sklearn实现朴素贝叶斯"
   ]
  },
  {
   "cell_type": "code",
   "execution_count": 9,
   "id": "0dd2566f",
   "metadata": {},
   "outputs": [],
   "source": [
    "from sklearn import naive_bayes as nb\n",
    "from sklearn.preprocessing import LabelEncoder"
   ]
  },
  {
   "cell_type": "markdown",
   "id": "a4802326",
   "metadata": {},
   "source": [
    "需要把字符类型的特征转换为数字类型，即对字符类型进行编码"
   ]
  },
  {
   "cell_type": "code",
   "execution_count": 10,
   "id": "30091c8c",
   "metadata": {},
   "outputs": [
    {
     "data": {
      "text/plain": [
       "array([[1, 2],\n",
       "       [1, 1],\n",
       "       [1, 1],\n",
       "       [1, 2],\n",
       "       [1, 2],\n",
       "       [2, 2],\n",
       "       [2, 1],\n",
       "       [2, 1],\n",
       "       [2, 0],\n",
       "       [2, 0],\n",
       "       [3, 0],\n",
       "       [3, 1],\n",
       "       [3, 1],\n",
       "       [3, 0],\n",
       "       [3, 0]])"
      ]
     },
     "execution_count": 10,
     "metadata": {},
     "output_type": "execute_result"
    }
   ],
   "source": [
    "X[:,1] = LabelEncoder().fit_transform(X[:,1])\n",
    "X = X.astype(int)\n",
    "X"
   ]
  },
  {
   "cell_type": "markdown",
   "id": "18aa30a7",
   "metadata": {},
   "source": [
    "调用朴素贝叶斯模型并fit数据"
   ]
  },
  {
   "cell_type": "code",
   "execution_count": 11,
   "id": "767d0478",
   "metadata": {},
   "outputs": [
    {
     "data": {
      "text/plain": [
       "MultinomialNB()"
      ]
     },
     "execution_count": 11,
     "metadata": {},
     "output_type": "execute_result"
    }
   ],
   "source": [
    "model = nb.MultinomialNB()\n",
    "model.fit(X,y)"
   ]
  },
  {
   "cell_type": "markdown",
   "id": "a830475c",
   "metadata": {},
   "source": [
    "对[2,'S']进行预测，同样S要转换成2"
   ]
  },
  {
   "cell_type": "code",
   "execution_count": 12,
   "id": "8f6d270c",
   "metadata": {},
   "outputs": [
    {
     "name": "stdout",
     "output_type": "stream",
     "text": [
      "[-1]\n"
     ]
    }
   ],
   "source": [
    "print(model.predict([[2,2]]))"
   ]
  },
  {
   "cell_type": "markdown",
   "id": "6200530d",
   "metadata": {},
   "source": [
    "## 使用朴素贝叶斯对鸢尾花数据进行分类"
   ]
  },
  {
   "cell_type": "code",
   "execution_count": 13,
   "id": "b2631e75",
   "metadata": {},
   "outputs": [
    {
     "name": "stdout",
     "output_type": "stream",
     "text": [
      "0.9533333333333334\n"
     ]
    }
   ],
   "source": [
    "from sklearn.metrics import accuracy_score\n",
    "from sklearn.datasets import load_iris\n",
    "\n",
    "iris = load_iris()\n",
    "X = iris.data\n",
    "y = iris.target\n",
    "\n",
    "model.fit(X,y)\n",
    "\n",
    "y_hat = model.predict(X)\n",
    "print(accuracy_score(y_hat,y))"
   ]
  },
  {
   "cell_type": "markdown",
   "id": "dbbf8624",
   "metadata": {},
   "source": [
    "# 案例：垃圾邮件识别"
   ]
  },
  {
   "cell_type": "markdown",
   "id": "f4caa0ce",
   "metadata": {},
   "source": [
    "## 实现原理"
   ]
  },
  {
   "cell_type": "markdown",
   "id": "924dae1d",
   "metadata": {},
   "source": [
    "1. 对训练数据的处理：读取文件，分词。0表示非垃圾邮件，1表示垃圾邮件。  \n",
    "\n",
    "<img align=\"center\" src=\"img/垃圾邮件识别1.png\" width=\"450px\">  \n",
    "\n",
    "\n",
    "2. 获取词汇列表：取出所有邮件中不重复的单词并编码。第 i 行邮件出现的单词位置标为1。  \n",
    "\n",
    "<img align=\"center\" src=\"img/垃圾邮件识别2.png\" width=\"800px\">  \n",
    "\n",
    "\n",
    "3. 把训练数据转换为向量（以第一条为例）  \n",
    "\n",
    "<img align=\"center\" src=\"img/垃圾邮件识别3.png\" width=\"700px\">  \n",
    "\n",
    "\n",
    "4. 利用朴素贝叶斯求解"
   ]
  },
  {
   "cell_type": "markdown",
   "id": "e6ab22e0",
   "metadata": {},
   "source": [
    "## 代码实现"
   ]
  },
  {
   "cell_type": "code",
   "execution_count": 14,
   "id": "eec98f53",
   "metadata": {},
   "outputs": [],
   "source": [
    "import numpy as np\n",
    "import matplotlib.pyplot as plt\n",
    "import matplotlib as mpl\n",
    "from sklearn.metrics import accuracy_score\n",
    "from sklearn import naive_bayes as nb\n",
    "from sklearn.model_selection import train_test_split\n",
    "import scipy\n",
    "from scipy import io"
   ]
  },
  {
   "cell_type": "markdown",
   "id": "365128b0",
   "metadata": {},
   "source": [
    "**获取词汇列表**"
   ]
  },
  {
   "cell_type": "code",
   "execution_count": 15,
   "id": "9a1b2122",
   "metadata": {},
   "outputs": [],
   "source": [
    "def createVocabList(dataSet):\n",
    "    vocabSet = set([])\n",
    "    for document in dataSet:\n",
    "        # 词汇表和set(document)取并集\n",
    "        vocabSet = vocabSet | set(document)\n",
    "        \n",
    "    # 返回一个经过自然排序的词汇表\n",
    "    return sorted(list(vocabSet))"
   ]
  },
  {
   "cell_type": "code",
   "execution_count": 16,
   "id": "12670ebf",
   "metadata": {},
   "outputs": [
    {
     "name": "stdout",
     "output_type": "stream",
     "text": [
      "['he', 'i', 'love', 'you']\n"
     ]
    }
   ],
   "source": [
    "dataset = [['i','love','you'],\n",
    "           ['he','love','you']]\n",
    "vocablist = createVocabList(dataset)\n",
    "print(vocablist)"
   ]
  },
  {
   "cell_type": "markdown",
   "id": "d4d5d462",
   "metadata": {},
   "source": [
    "**词集模型（只要出现就标1）**"
   ]
  },
  {
   "cell_type": "code",
   "execution_count": 17,
   "id": "f59e2643",
   "metadata": {},
   "outputs": [],
   "source": [
    "def setOfWord2Vec(vocabList,inputSet):\n",
    "    # 初始化向量，其长度与词汇表长度一致\n",
    "    returnVec = [0]*len(vocabList)\n",
    "    for word in inputSet:\n",
    "        if word in vocabList:\n",
    "            returnVec[vocabList.index(word)] = 1\n",
    "    return returnVec"
   ]
  },
  {
   "cell_type": "code",
   "execution_count": 18,
   "id": "9e887887",
   "metadata": {},
   "outputs": [
    {
     "name": "stdout",
     "output_type": "stream",
     "text": [
      "[0, 0, 1, 1]\n"
     ]
    }
   ],
   "source": [
    "print(setOfWord2Vec(vocablist,['love','you','you']))"
   ]
  },
  {
   "cell_type": "markdown",
   "id": "e37a5b78",
   "metadata": {},
   "source": [
    "**词袋模型（出现几次就标几）**"
   ]
  },
  {
   "cell_type": "code",
   "execution_count": 19,
   "id": "3242d9a3",
   "metadata": {},
   "outputs": [],
   "source": [
    "def bagOfWord2Vec(vocabList,inputSet):\n",
    "    # 初始化向量，其长度与词汇表长度一致\n",
    "    returnVec = [0]*len(vocabList)\n",
    "    for word in inputSet:\n",
    "        if word in vocabList:\n",
    "            returnVec[vocabList.index(word)] += 1\n",
    "    return returnVec"
   ]
  },
  {
   "cell_type": "code",
   "execution_count": 20,
   "id": "efea5643",
   "metadata": {},
   "outputs": [
    {
     "name": "stdout",
     "output_type": "stream",
     "text": [
      "[0, 0, 1, 2]\n"
     ]
    }
   ],
   "source": [
    "print(bagOfWord2Vec(vocablist,['love','you','you']))"
   ]
  },
  {
   "cell_type": "markdown",
   "id": "407abc43",
   "metadata": {},
   "source": [
    "**对邮件内容的预处理（此处简单处理一下，实际情况复杂得多）**"
   ]
  },
  {
   "cell_type": "code",
   "execution_count": 21,
   "id": "0b47c031",
   "metadata": {},
   "outputs": [],
   "source": [
    "def textParse(bigStr):\n",
    "    import re\n",
    "    listOfTokens = re.split(r'\\W+',bigStr)\n",
    "    return [tok.lower() for tok in listOfTokens if len(tok)>2]"
   ]
  },
  {
   "cell_type": "code",
   "execution_count": 22,
   "id": "ea448190",
   "metadata": {},
   "outputs": [
    {
     "data": {
      "text/plain": [
       "['love', 'you']"
      ]
     },
     "execution_count": 22,
     "metadata": {},
     "output_type": "execute_result"
    }
   ],
   "source": [
    "textParse(\"I Love You\")"
   ]
  },
  {
   "cell_type": "markdown",
   "id": "78708f3e",
   "metadata": {},
   "source": [
    "**加载数据**"
   ]
  },
  {
   "cell_type": "code",
   "execution_count": 23,
   "id": "ec5ebcc7",
   "metadata": {},
   "outputs": [],
   "source": [
    "def loaddata(num):     # num为训练数据中的垃圾邮件数量\n",
    "    docList = []\n",
    "    classList = []\n",
    "\n",
    "    for i in range(1, num+1):\n",
    "        wordList = textParse(open('data/email/spam/%d.txt' % i).read())\n",
    "        docList.append(wordList)\n",
    "        classList.append(1)\n",
    "        \n",
    "        wordList = textParse(open('data/email/ham/%d.txt' % i).read())\n",
    "        docList.append(wordList)\n",
    "        classList.append(0)\n",
    "        \n",
    "    vocabList = createVocabList(docList)\n",
    "    \n",
    "    X = []\n",
    "    for docIndex in range(len(docList)):\n",
    "        X.append(bagOfWord2Vec(vocabList, docList[docIndex]))\n",
    "        # X.append(setOfWord2Vec(vocabList, docList[docIndex]))\n",
    "        \n",
    "    return X, classList, vocabList"
   ]
  },
  {
   "cell_type": "code",
   "execution_count": 24,
   "id": "d6f278a9",
   "metadata": {},
   "outputs": [],
   "source": [
    "X,y,vocablist = loaddata(25)"
   ]
  },
  {
   "cell_type": "code",
   "execution_count": 25,
   "id": "70d92964",
   "metadata": {},
   "outputs": [
    {
     "data": {
      "text/plain": [
       "694"
      ]
     },
     "execution_count": 25,
     "metadata": {},
     "output_type": "execute_result"
    }
   ],
   "source": [
    "len(vocablist)"
   ]
  },
  {
   "cell_type": "markdown",
   "id": "eae32e22",
   "metadata": {},
   "source": [
    "**利用朴素贝叶斯模型求解**"
   ]
  },
  {
   "cell_type": "code",
   "execution_count": 26,
   "id": "cb36e102",
   "metadata": {},
   "outputs": [
    {
     "data": {
      "text/plain": [
       "1.0"
      ]
     },
     "execution_count": 26,
     "metadata": {},
     "output_type": "execute_result"
    }
   ],
   "source": [
    "X_train,X_test,y_train,y_test = train_test_split(X,y,test_size=0.2,random_state=1)\n",
    "model = nb.MultinomialNB()\n",
    "model.fit(X_train,y_train)\n",
    "y_hat = model.predict(X_test)\n",
    "accuracy_score(y_test,y_hat)"
   ]
  }
 ],
 "metadata": {
  "kernelspec": {
   "display_name": "Python 3 (ipykernel)",
   "language": "python",
   "name": "python3"
  },
  "language_info": {
   "codemirror_mode": {
    "name": "ipython",
    "version": 3
   },
   "file_extension": ".py",
   "mimetype": "text/x-python",
   "name": "python",
   "nbconvert_exporter": "python",
   "pygments_lexer": "ipython3",
   "version": "3.9.7"
  },
  "toc": {
   "base_numbering": 1,
   "nav_menu": {},
   "number_sections": true,
   "sideBar": true,
   "skip_h1_title": false,
   "title_cell": "Table of Contents",
   "title_sidebar": "Contents",
   "toc_cell": false,
   "toc_position": {
    "height": "calc(100% - 180px)",
    "left": "10px",
    "top": "150px",
    "width": "307.2px"
   },
   "toc_section_display": true,
   "toc_window_display": true
  }
 },
 "nbformat": 4,
 "nbformat_minor": 5
}
